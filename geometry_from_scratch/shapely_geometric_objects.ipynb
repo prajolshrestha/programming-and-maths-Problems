{
  "nbformat": 4,
  "nbformat_minor": 0,
  "metadata": {
    "colab": {
      "provenance": [],
      "toc_visible": true,
      "authorship_tag": "ABX9TyOU0eiAvp9ICAPND22SKzXm"
    },
    "kernelspec": {
      "name": "python3",
      "display_name": "Python 3"
    },
    "language_info": {
      "name": "python"
    }
  },
  "cells": [
    {
      "cell_type": "code",
      "execution_count": 2,
      "metadata": {
        "id": "PPD0iS1sGoKC"
      },
      "outputs": [],
      "source": [
        "from shapely.geometry import Point, LineString, Polygon"
      ]
    },
    {
      "cell_type": "markdown",
      "source": [
        "# A.Point"
      ],
      "metadata": {
        "id": "h1gk2XaQG47u"
      }
    },
    {
      "cell_type": "markdown",
      "source": [
        "## Create Point geometric objects with coordinates\n"
      ],
      "metadata": {
        "id": "A2CG5Km1G80X"
      }
    },
    {
      "cell_type": "code",
      "source": [
        "point1 = Point(2.2, 4.2)\n",
        "point2 = Point(7.2, -25.1)\n",
        "point3 = Point(9.26, -2.456)\n",
        "point3D = Point(9.26, -2.456, 9.57)"
      ],
      "metadata": {
        "id": "Vukkff4eG2GJ"
      },
      "execution_count": 3,
      "outputs": []
    },
    {
      "cell_type": "markdown",
      "source": [
        "## visualize"
      ],
      "metadata": {
        "id": "v33f27BJHw1o"
      }
    },
    {
      "cell_type": "code",
      "source": [
        "# lets visualize a point\n",
        "point1, point2, point3D"
      ],
      "metadata": {
        "colab": {
          "base_uri": "https://localhost:8080/"
        },
        "id": "jOtlgPpmHS2H",
        "outputId": "fd6afa98-a161-4ca8-d483-0d88fb6c54dd"
      },
      "execution_count": 9,
      "outputs": [
        {
          "output_type": "execute_result",
          "data": {
            "text/plain": [
              "(<POINT (2.2 4.2)>, <POINT (7.2 -25.1)>, <POINT Z (9.26 -2.456 9.57)>)"
            ]
          },
          "metadata": {},
          "execution_count": 9
        }
      ]
    },
    {
      "cell_type": "code",
      "source": [
        "point1"
      ],
      "metadata": {
        "colab": {
          "base_uri": "https://localhost:8080/",
          "height": 121
        },
        "id": "UJyWXC0dHgIf",
        "outputId": "79d52192-86db-42ca-84a5-02dfd5c6b1da"
      },
      "execution_count": 10,
      "outputs": [
        {
          "output_type": "execute_result",
          "data": {
            "text/plain": [
              "<POINT (2.2 4.2)>"
            ],
            "image/svg+xml": "<svg xmlns=\"http://www.w3.org/2000/svg\" xmlns:xlink=\"http://www.w3.org/1999/xlink\" width=\"100.0\" height=\"100.0\" viewBox=\"1.2000000000000002 3.2 2.0 2.0\" preserveAspectRatio=\"xMinYMin meet\"><g transform=\"matrix(1,0,0,-1,0,8.4)\"><circle cx=\"2.2\" cy=\"4.2\" r=\"0.06\" stroke=\"#555555\" stroke-width=\"0.02\" fill=\"#66cc99\" opacity=\"0.6\" /></g></svg>"
          },
          "metadata": {},
          "execution_count": 10
        }
      ]
    },
    {
      "cell_type": "markdown",
      "source": [
        "## type()"
      ],
      "metadata": {
        "id": "NxXRaxoIHpYQ"
      }
    },
    {
      "cell_type": "code",
      "source": [
        "type(point1), type(point3D), point1.geom_type"
      ],
      "metadata": {
        "colab": {
          "base_uri": "https://localhost:8080/"
        },
        "id": "95yYtFX7Hh4A",
        "outputId": "33c53a36-90ba-4a51-abdc-3cc6b0b749b7"
      },
      "execution_count": 13,
      "outputs": [
        {
          "output_type": "execute_result",
          "data": {
            "text/plain": [
              "(shapely.geometry.point.Point, shapely.geometry.point.Point, 'Point')"
            ]
          },
          "metadata": {},
          "execution_count": 13
        }
      ]
    },
    {
      "cell_type": "markdown",
      "source": [
        "## point attributes and functions"
      ],
      "metadata": {
        "id": "-Vr7FQEcH0gZ"
      }
    },
    {
      "cell_type": "markdown",
      "source": [
        "### 1.Get the coordinates"
      ],
      "metadata": {
        "id": "Y729jRXQICgG"
      }
    },
    {
      "cell_type": "code",
      "source": [
        "point_coords = point1.coords\n",
        "point_coords"
      ],
      "metadata": {
        "colab": {
          "base_uri": "https://localhost:8080/"
        },
        "id": "-hEJhMyvHm-k",
        "outputId": "93160dd2-aae1-42bd-e260-fd4f764cd23c"
      },
      "execution_count": 15,
      "outputs": [
        {
          "output_type": "execute_result",
          "data": {
            "text/plain": [
              "<shapely.coords.CoordinateSequence at 0x7a550d18d990>"
            ]
          },
          "metadata": {},
          "execution_count": 15
        }
      ]
    },
    {
      "cell_type": "code",
      "source": [
        "type(point_coords)"
      ],
      "metadata": {
        "colab": {
          "base_uri": "https://localhost:8080/"
        },
        "id": "9V0oS6svIM7o",
        "outputId": "cd959b3c-5a40-49b8-e779-f1e27a99863d"
      },
      "execution_count": 16,
      "outputs": [
        {
          "output_type": "execute_result",
          "data": {
            "text/plain": [
              "shapely.coords.CoordinateSequence"
            ]
          },
          "metadata": {},
          "execution_count": 16
        }
      ]
    },
    {
      "cell_type": "markdown",
      "source": [
        "#### a. Get x and y coordinates"
      ],
      "metadata": {
        "id": "wQ2cdZiDIVvL"
      }
    },
    {
      "cell_type": "code",
      "source": [
        "xy = point_coords.xy\n",
        "xy, type(xy)"
      ],
      "metadata": {
        "colab": {
          "base_uri": "https://localhost:8080/"
        },
        "id": "-t2hSgYSIRHI",
        "outputId": "88de0a6d-1cfb-40d1-cb92-5fbdc27b9bac"
      },
      "execution_count": 21,
      "outputs": [
        {
          "output_type": "execute_result",
          "data": {
            "text/plain": [
              "((array('d', [2.2]), array('d', [4.2])), tuple)"
            ]
          },
          "metadata": {},
          "execution_count": 21
        }
      ]
    },
    {
      "cell_type": "markdown",
      "source": [
        "#### b. Get x coordinate only"
      ],
      "metadata": {
        "id": "iKrx-2sWIprr"
      }
    },
    {
      "cell_type": "code",
      "source": [
        "x = point1.x\n",
        "x"
      ],
      "metadata": {
        "colab": {
          "base_uri": "https://localhost:8080/"
        },
        "id": "lvwes6qFIu0a",
        "outputId": "1ab96e88-c2b4-40cf-ffeb-c1c541b14529"
      },
      "execution_count": 23,
      "outputs": [
        {
          "output_type": "execute_result",
          "data": {
            "text/plain": [
              "2.2"
            ]
          },
          "metadata": {},
          "execution_count": 23
        }
      ]
    },
    {
      "cell_type": "markdown",
      "source": [
        "#### c. Get y coordinate only"
      ],
      "metadata": {
        "id": "4YHS0mgtJB7_"
      }
    },
    {
      "cell_type": "code",
      "source": [
        "y = point1.y\n",
        "y"
      ],
      "metadata": {
        "colab": {
          "base_uri": "https://localhost:8080/"
        },
        "id": "0qqKAqw2JBNT",
        "outputId": "e4e48ee4-3606-44bf-d6ac-2a34f6eddad1"
      },
      "execution_count": 24,
      "outputs": [
        {
          "output_type": "execute_result",
          "data": {
            "text/plain": [
              "4.2"
            ]
          },
          "metadata": {},
          "execution_count": 24
        }
      ]
    },
    {
      "cell_type": "markdown",
      "source": [
        "### 2.Calculate distance betn two points"
      ],
      "metadata": {
        "id": "lPR7MuT8MF_P"
      }
    },
    {
      "cell_type": "code",
      "source": [
        "point_dist = point1.distance(point2)\n",
        "point_dist # in decimal degrees\n"
      ],
      "metadata": {
        "colab": {
          "base_uri": "https://localhost:8080/"
        },
        "id": "c5ge1Y34JMDd",
        "outputId": "53ae0789-bae1-47a5-bdce-2c962720b1a2"
      },
      "execution_count": 25,
      "outputs": [
        {
          "output_type": "execute_result",
          "data": {
            "text/plain": [
              "29.723559679150142"
            ]
          },
          "metadata": {},
          "execution_count": 25
        }
      ]
    },
    {
      "cell_type": "markdown",
      "source": [
        "# B.LineString"
      ],
      "metadata": {
        "id": "2ZU9gxgaMy62"
      }
    },
    {
      "cell_type": "markdown",
      "source": [
        "## Create LineString-objects"
      ],
      "metadata": {
        "id": "H8xkl1xqM-8g"
      }
    },
    {
      "cell_type": "markdown",
      "source": [
        "### 1.Using Point objects"
      ],
      "metadata": {
        "id": "CuhGY4y9NIHX"
      }
    },
    {
      "cell_type": "code",
      "source": [
        "line = LineString([point1, point2, point3])\n"
      ],
      "metadata": {
        "id": "u5UWEEyLM2Fe"
      },
      "execution_count": 27,
      "outputs": []
    },
    {
      "cell_type": "markdown",
      "source": [
        "### 2.Using Coordinate *tuples*"
      ],
      "metadata": {
        "id": "9zI3yvXANUyo"
      }
    },
    {
      "cell_type": "code",
      "source": [
        "line2 = LineString([(2.2, 4.2), (7.2, -25.1), (9.26, -2.456)])"
      ],
      "metadata": {
        "id": "mHYM4rLRNY9Y"
      },
      "execution_count": 28,
      "outputs": []
    },
    {
      "cell_type": "markdown",
      "source": [
        "## visualize line"
      ],
      "metadata": {
        "id": "241-9ILhNlq5"
      }
    },
    {
      "cell_type": "code",
      "source": [
        "line"
      ],
      "metadata": {
        "colab": {
          "base_uri": "https://localhost:8080/",
          "height": 121
        },
        "id": "Hy6Ro5NrNoCW",
        "outputId": "5c4398e1-82dc-47a4-cad6-32ba66c3ac59"
      },
      "execution_count": 29,
      "outputs": [
        {
          "output_type": "execute_result",
          "data": {
            "text/plain": [
              "<LINESTRING (2.2 4.2, 7.2 -25.1, 9.26 -2.456)>"
            ],
            "image/svg+xml": "<svg xmlns=\"http://www.w3.org/2000/svg\" xmlns:xlink=\"http://www.w3.org/1999/xlink\" width=\"100.0\" height=\"100.0\" viewBox=\"1.028 -26.272000000000002 9.404 31.644000000000002\" preserveAspectRatio=\"xMinYMin meet\"><g transform=\"matrix(1,0,0,-1,0,-20.900000000000002)\"><polyline fill=\"none\" stroke=\"#66cc99\" stroke-width=\"0.63288\" points=\"2.2,4.2 7.2,-25.1 9.26,-2.456\" opacity=\"0.8\" /></g></svg>"
          },
          "metadata": {},
          "execution_count": 29
        }
      ]
    },
    {
      "cell_type": "markdown",
      "source": [
        "## type()"
      ],
      "metadata": {
        "id": "DYhGBLC0NsEW"
      }
    },
    {
      "cell_type": "code",
      "source": [
        "type(line), type(line2), line.geom_type"
      ],
      "metadata": {
        "colab": {
          "base_uri": "https://localhost:8080/"
        },
        "id": "tzR_NeXqNqC8",
        "outputId": "b6ebeed0-473c-42dd-fcce-b41ccff1751f"
      },
      "execution_count": 31,
      "outputs": [
        {
          "output_type": "execute_result",
          "data": {
            "text/plain": [
              "(shapely.geometry.linestring.LineString,\n",
              " shapely.geometry.linestring.LineString,\n",
              " 'LineString')"
            ]
          },
          "metadata": {},
          "execution_count": 31
        }
      ]
    },
    {
      "cell_type": "markdown",
      "source": [
        "## attributes and functions"
      ],
      "metadata": {
        "id": "ILrhMtcLOASC"
      }
    },
    {
      "cell_type": "markdown",
      "source": [
        "### 1.Get coordinates"
      ],
      "metadata": {
        "id": "Kri1AJTVOItQ"
      }
    },
    {
      "cell_type": "code",
      "source": [
        "# Get x and y coordinats\n",
        "lxy = line.xy\n",
        "lxy, type(lxy)"
      ],
      "metadata": {
        "colab": {
          "base_uri": "https://localhost:8080/"
        },
        "id": "fMb4VV1CN-Yh",
        "outputId": "2edd3855-e73b-476b-fd8c-0ef7d88e54c6"
      },
      "execution_count": 33,
      "outputs": [
        {
          "output_type": "execute_result",
          "data": {
            "text/plain": [
              "((array('d', [2.2, 7.2, 9.26]), array('d', [4.2, -25.1, -2.456])), tuple)"
            ]
          },
          "metadata": {},
          "execution_count": 33
        }
      ]
    },
    {
      "cell_type": "code",
      "source": [
        "# Get x coordinates only\n",
        "x = line.xy[0]\n",
        "x_another_way = lxy[0]\n",
        "x, x_another_way"
      ],
      "metadata": {
        "colab": {
          "base_uri": "https://localhost:8080/"
        },
        "id": "S8yrZxDsOXSS",
        "outputId": "61f242d9-5ca8-4704-9a97-b667722a26dd"
      },
      "execution_count": 38,
      "outputs": [
        {
          "output_type": "execute_result",
          "data": {
            "text/plain": [
              "(array('d', [2.2, 7.2, 9.26]), array('d', [2.2, 7.2, 9.26]))"
            ]
          },
          "metadata": {},
          "execution_count": 38
        }
      ]
    },
    {
      "cell_type": "code",
      "source": [
        "# Get y coordinates only\n",
        "y = line.xy[1]\n",
        "y_another_way = lxy[1]\n",
        "y, y_another_way"
      ],
      "metadata": {
        "colab": {
          "base_uri": "https://localhost:8080/"
        },
        "id": "UFh71SMXOqmw",
        "outputId": "f1746063-1d71-4d65-b48e-c2a9b2c225c5"
      },
      "execution_count": 40,
      "outputs": [
        {
          "output_type": "execute_result",
          "data": {
            "text/plain": [
              "(array('d', [4.2, -25.1, -2.456]), array('d', [4.2, -25.1, -2.456]))"
            ]
          },
          "metadata": {},
          "execution_count": 40
        }
      ]
    },
    {
      "cell_type": "markdown",
      "source": [
        "### 2.Length of the line"
      ],
      "metadata": {
        "id": "NrPP9yzsO9e7"
      }
    },
    {
      "cell_type": "code",
      "source": [
        "l_length = line.length\n",
        "l_length"
      ],
      "metadata": {
        "colab": {
          "base_uri": "https://localhost:8080/"
        },
        "id": "R0AiiCoOPCvg",
        "outputId": "8af7dc82-a2ee-492d-9ad2-d8fcb70146a6"
      },
      "execution_count": 42,
      "outputs": [
        {
          "output_type": "execute_result",
          "data": {
            "text/plain": [
              "52.46106912939557"
            ]
          },
          "metadata": {},
          "execution_count": 42
        }
      ]
    },
    {
      "cell_type": "markdown",
      "source": [
        "### 3.Center of the line (centroid)"
      ],
      "metadata": {
        "id": "Zr7bDF3HPSIl"
      }
    },
    {
      "cell_type": "code",
      "source": [
        "l_center = line.centroid\n",
        "l_center, type(l_center) # It is a Point object"
      ],
      "metadata": {
        "colab": {
          "base_uri": "https://localhost:8080/"
        },
        "id": "37XWsFrGPXn_",
        "outputId": "9a59eb16-1ef1-4f2b-8a66-1dbfd7f5cea0"
      },
      "execution_count": 46,
      "outputs": [
        {
          "output_type": "execute_result",
          "data": {
            "text/plain": [
              "(<POINT (6.23 -11.892)>, shapely.geometry.point.Point)"
            ]
          },
          "metadata": {},
          "execution_count": 46
        }
      ]
    },
    {
      "cell_type": "markdown",
      "source": [
        "# C.Polygon\n",
        "\n"
      ],
      "metadata": {
        "id": "_V44LrfpPltz"
      }
    },
    {
      "cell_type": "markdown",
      "source": [
        "## create Polygon-objects"
      ],
      "metadata": {
        "id": "jHy71Bobdw3c"
      }
    },
    {
      "cell_type": "markdown",
      "source": [
        "### 1.Using coordinate tuples"
      ],
      "metadata": {
        "id": "l5rUKl6Ddw0v"
      }
    },
    {
      "cell_type": "code",
      "source": [
        "poly = Polygon([(2.2, 4.2), (7.2, -25.1), (9.26, -2.456)])\n"
      ],
      "metadata": {
        "id": "7mKH7JCSRmga"
      },
      "execution_count": 49,
      "outputs": []
    },
    {
      "cell_type": "markdown",
      "source": [
        "### 2.Using point objects"
      ],
      "metadata": {
        "id": "l0KxH2awem4K"
      }
    },
    {
      "cell_type": "code",
      "source": [
        "# pass list of lists to Polygon()\n",
        "poly2 = Polygon([[p.x, p.y] for p in [point1, point2, point3]])\n"
      ],
      "metadata": {
        "id": "39n8kwa9e5h0"
      },
      "execution_count": 55,
      "outputs": []
    },
    {
      "cell_type": "code",
      "source": [
        "poly, poly2 # Note: POLYGON ((<values in here>))"
      ],
      "metadata": {
        "colab": {
          "base_uri": "https://localhost:8080/"
        },
        "id": "TBloC1gOhMnq",
        "outputId": "1721bbaf-0605-473c-c7dc-c587a8fb2483"
      },
      "execution_count": 60,
      "outputs": [
        {
          "output_type": "execute_result",
          "data": {
            "text/plain": [
              "(<POLYGON ((2.2 4.2, 7.2 -25.1, 9.26 -2.456, 2.2 4.2))>,\n",
              " <POLYGON ((2.2 4.2, 7.2 -25.1, 9.26 -2.456, 2.2 4.2))>)"
            ]
          },
          "metadata": {},
          "execution_count": 60
        }
      ]
    },
    {
      "cell_type": "markdown",
      "source": [
        "### 3.Polygon with a hole"
      ],
      "metadata": {
        "id": "Fw3OqyMrhtqM"
      }
    },
    {
      "cell_type": "code",
      "source": [
        "# First we define our exterior\n",
        "world_exterior = [(-180, 90), (-180, -90), (180, -90), (180, 90)]\n",
        "\n",
        "# Let's create a single big hole where we leave ten decimal degrees at the boundaries of the world\n",
        "# Notice: there could be multiple holes, thus we need to provide a list of holes\n",
        "hole = [[(-170, 80), (-170, -80), (170, -80), (170, 80)]]"
      ],
      "metadata": {
        "id": "QUyHW3aOhwuP"
      },
      "execution_count": 61,
      "outputs": []
    },
    {
      "cell_type": "code",
      "source": [
        "# world without a hole\n",
        "world = Polygon(shell=world_exterior)\n",
        "\n",
        "# world with a hole\n",
        "world_has_a_hole = Polygon(shell=world_exterior, holes = hole)"
      ],
      "metadata": {
        "id": "N1A-fnORh7KH"
      },
      "execution_count": 64,
      "outputs": []
    },
    {
      "cell_type": "code",
      "source": [
        "world, world_has_a_hole"
      ],
      "metadata": {
        "colab": {
          "base_uri": "https://localhost:8080/"
        },
        "id": "-elfEl2liNfz",
        "outputId": "e9374e56-bd5a-4113-e06c-4c9029e0b364"
      },
      "execution_count": 65,
      "outputs": [
        {
          "output_type": "execute_result",
          "data": {
            "text/plain": [
              "(<POLYGON ((-180 90, -180 -90, 180 -90, 180 90, -180 90))>,\n",
              " <POLYGON ((-180 90, -180 -90, 180 -90, 180 90, -180 90), (-170 80, -170 -80,...>)"
            ]
          },
          "metadata": {},
          "execution_count": 65
        }
      ]
    },
    {
      "cell_type": "code",
      "source": [
        "world"
      ],
      "metadata": {
        "colab": {
          "base_uri": "https://localhost:8080/",
          "height": 230
        },
        "id": "NAyKRu0SiNdx",
        "outputId": "1c163ad6-eb31-4de6-ee82-538967cfdd93"
      },
      "execution_count": 66,
      "outputs": [
        {
          "output_type": "execute_result",
          "data": {
            "text/plain": [
              "<POLYGON ((-180 90, -180 -90, 180 -90, 180 90, -180 90))>"
            ],
            "image/svg+xml": "<svg xmlns=\"http://www.w3.org/2000/svg\" xmlns:xlink=\"http://www.w3.org/1999/xlink\" width=\"300\" height=\"208.8\" viewBox=\"-194.4 -104.4 388.8 208.8\" preserveAspectRatio=\"xMinYMin meet\"><g transform=\"matrix(1,0,0,-1,0,0.0)\"><path fill-rule=\"evenodd\" fill=\"#66cc99\" stroke=\"#555555\" stroke-width=\"2.592\" opacity=\"0.6\" d=\"M -180.0,90.0 L -180.0,-90.0 L 180.0,-90.0 L 180.0,90.0 L -180.0,90.0 z\" /></g></svg>"
          },
          "metadata": {},
          "execution_count": 66
        }
      ]
    },
    {
      "cell_type": "code",
      "source": [
        "world_has_a_hole"
      ],
      "metadata": {
        "colab": {
          "base_uri": "https://localhost:8080/",
          "height": 230
        },
        "id": "NyiYkR1giSQQ",
        "outputId": "d22a09de-c50c-4fc3-98d2-40c7bc006fce"
      },
      "execution_count": 67,
      "outputs": [
        {
          "output_type": "execute_result",
          "data": {
            "text/plain": [
              "<POLYGON ((-180 90, -180 -90, 180 -90, 180 90, -180 90), (-170 80, -170 -80,...>"
            ],
            "image/svg+xml": "<svg xmlns=\"http://www.w3.org/2000/svg\" xmlns:xlink=\"http://www.w3.org/1999/xlink\" width=\"300\" height=\"208.8\" viewBox=\"-194.4 -104.4 388.8 208.8\" preserveAspectRatio=\"xMinYMin meet\"><g transform=\"matrix(1,0,0,-1,0,0.0)\"><path fill-rule=\"evenodd\" fill=\"#66cc99\" stroke=\"#555555\" stroke-width=\"2.592\" opacity=\"0.6\" d=\"M -180.0,90.0 L -180.0,-90.0 L 180.0,-90.0 L 180.0,90.0 L -180.0,90.0 z M -170.0,80.0 L -170.0,-80.0 L 170.0,-80.0 L 170.0,80.0 L -170.0,80.0 z\" /></g></svg>"
          },
          "metadata": {},
          "execution_count": 67
        }
      ]
    },
    {
      "cell_type": "code",
      "source": [
        "type(world), type(world_has_a_hole)"
      ],
      "metadata": {
        "colab": {
          "base_uri": "https://localhost:8080/"
        },
        "id": "aGWL5I8EiVWz",
        "outputId": "ace2abae-f31c-4ae5-8825-2bfa4b118eba"
      },
      "execution_count": 68,
      "outputs": [
        {
          "output_type": "execute_result",
          "data": {
            "text/plain": [
              "(shapely.geometry.polygon.Polygon, shapely.geometry.polygon.Polygon)"
            ]
          },
          "metadata": {},
          "execution_count": 68
        }
      ]
    },
    {
      "cell_type": "markdown",
      "source": [
        "## visualize polygon"
      ],
      "metadata": {
        "id": "nN4pT6T7fYQ4"
      }
    },
    {
      "cell_type": "code",
      "source": [
        "poly"
      ],
      "metadata": {
        "colab": {
          "base_uri": "https://localhost:8080/",
          "height": 121
        },
        "id": "gUgbtMenfpsk",
        "outputId": "ad60de0d-8383-474e-f5c3-9a50e5de7613"
      },
      "execution_count": 56,
      "outputs": [
        {
          "output_type": "execute_result",
          "data": {
            "text/plain": [
              "<POLYGON ((2.2 4.2, 7.2 -25.1, 9.26 -2.456, 2.2 4.2))>"
            ],
            "image/svg+xml": "<svg xmlns=\"http://www.w3.org/2000/svg\" xmlns:xlink=\"http://www.w3.org/1999/xlink\" width=\"100.0\" height=\"100.0\" viewBox=\"1.028 -26.272000000000002 9.404 31.644000000000002\" preserveAspectRatio=\"xMinYMin meet\"><g transform=\"matrix(1,0,0,-1,0,-20.900000000000002)\"><path fill-rule=\"evenodd\" fill=\"#66cc99\" stroke=\"#555555\" stroke-width=\"0.63288\" opacity=\"0.6\" d=\"M 2.2,4.2 L 7.2,-25.1 L 9.26,-2.456 L 2.2,4.2 z\" /></g></svg>"
          },
          "metadata": {},
          "execution_count": 56
        }
      ]
    },
    {
      "cell_type": "code",
      "source": [
        "poly2"
      ],
      "metadata": {
        "colab": {
          "base_uri": "https://localhost:8080/",
          "height": 121
        },
        "id": "6lagQgUgfroW",
        "outputId": "f189b390-5ef3-4ad1-a475-50662757b62c"
      },
      "execution_count": 57,
      "outputs": [
        {
          "output_type": "execute_result",
          "data": {
            "text/plain": [
              "<POLYGON ((2.2 4.2, 7.2 -25.1, 9.26 -2.456, 2.2 4.2))>"
            ],
            "image/svg+xml": "<svg xmlns=\"http://www.w3.org/2000/svg\" xmlns:xlink=\"http://www.w3.org/1999/xlink\" width=\"100.0\" height=\"100.0\" viewBox=\"1.028 -26.272000000000002 9.404 31.644000000000002\" preserveAspectRatio=\"xMinYMin meet\"><g transform=\"matrix(1,0,0,-1,0,-20.900000000000002)\"><path fill-rule=\"evenodd\" fill=\"#66cc99\" stroke=\"#555555\" stroke-width=\"0.63288\" opacity=\"0.6\" d=\"M 2.2,4.2 L 7.2,-25.1 L 9.26,-2.456 L 2.2,4.2 z\" /></g></svg>"
          },
          "metadata": {},
          "execution_count": 57
        }
      ]
    },
    {
      "cell_type": "markdown",
      "source": [
        "## type()"
      ],
      "metadata": {
        "id": "D-foRYlmftVP"
      }
    },
    {
      "cell_type": "code",
      "source": [
        "type(poly), poly.geom_type"
      ],
      "metadata": {
        "colab": {
          "base_uri": "https://localhost:8080/"
        },
        "id": "t-82-XvqfvYf",
        "outputId": "d54d8b26-52e4-4a92-9454-a48ffb0af25a"
      },
      "execution_count": 58,
      "outputs": [
        {
          "output_type": "execute_result",
          "data": {
            "text/plain": [
              "(shapely.geometry.polygon.Polygon, 'Polygon')"
            ]
          },
          "metadata": {},
          "execution_count": 58
        }
      ]
    },
    {
      "cell_type": "markdown",
      "source": [
        "## attributes and functions"
      ],
      "metadata": {
        "id": "KflmHW-lf3aZ"
      }
    },
    {
      "cell_type": "code",
      "source": [
        "# center of polygon\n",
        "world_centroid = world.centroid\n",
        "print(world_centroid)"
      ],
      "metadata": {
        "colab": {
          "base_uri": "https://localhost:8080/"
        },
        "id": "k4vjZpJzf7sA",
        "outputId": "691b5698-c0ed-49be-b39a-da005e17b36c"
      },
      "execution_count": 85,
      "outputs": [
        {
          "output_type": "stream",
          "name": "stdout",
          "text": [
            "POINT (0 0)\n"
          ]
        }
      ]
    },
    {
      "cell_type": "code",
      "source": [
        "# area of polygon\n",
        "world_area = world.area\n",
        "world_area"
      ],
      "metadata": {
        "colab": {
          "base_uri": "https://localhost:8080/"
        },
        "id": "dprGSnmAk5J5",
        "outputId": "b422bf56-9140-409f-b2dc-4ecb51b56d12"
      },
      "execution_count": 77,
      "outputs": [
        {
          "output_type": "execute_result",
          "data": {
            "text/plain": [
              "64800.0"
            ]
          },
          "metadata": {},
          "execution_count": 77
        }
      ]
    },
    {
      "cell_type": "code",
      "source": [
        "# bounds of the Polygon\n",
        "world_bbox = world.bounds\n",
        "world_bbox"
      ],
      "metadata": {
        "colab": {
          "base_uri": "https://localhost:8080/"
        },
        "id": "kd28R9vxk8rh",
        "outputId": "e6b15a39-a853-432c-b9a8-e2a2294791c8"
      },
      "execution_count": 78,
      "outputs": [
        {
          "output_type": "execute_result",
          "data": {
            "text/plain": [
              "(-180.0, -90.0, 180.0, 90.0)"
            ]
          },
          "metadata": {},
          "execution_count": 78
        }
      ]
    },
    {
      "cell_type": "code",
      "source": [
        "# exterior of the polygon\n",
        "world_ext = world.exterior\n",
        "print(world_ext)"
      ],
      "metadata": {
        "colab": {
          "base_uri": "https://localhost:8080/"
        },
        "id": "d99NRMUBlPJA",
        "outputId": "5820feb4-6077-4cd2-e468-91a06a376625"
      },
      "execution_count": 82,
      "outputs": [
        {
          "output_type": "stream",
          "name": "stdout",
          "text": [
            "LINEARRING (-180 90, -180 -90, 180 -90, 180 90, -180 90)\n"
          ]
        }
      ]
    },
    {
      "cell_type": "code",
      "source": [
        "# length of the exterior\n",
        "world_ext_length = world_ext.length\n",
        "world_ext_length"
      ],
      "metadata": {
        "colab": {
          "base_uri": "https://localhost:8080/"
        },
        "id": "GydGpFoslZ6j",
        "outputId": "a7bc54f1-26f4-4955-8bf8-da283d3ce3f4"
      },
      "execution_count": 83,
      "outputs": [
        {
          "output_type": "execute_result",
          "data": {
            "text/plain": [
              "1080.0"
            ]
          },
          "metadata": {},
          "execution_count": 83
        }
      ]
    },
    {
      "cell_type": "markdown",
      "source": [
        "# D.Geometry collections\n",
        "\n",
        "> MultiPoint\n",
        "> MultiLineString\n",
        "> MuiltiPolygon"
      ],
      "metadata": {
        "id": "zipro2jqmS9g"
      }
    },
    {
      "cell_type": "markdown",
      "source": [
        "## create MultiPoint, MultiLineString, MuiltiPolygon"
      ],
      "metadata": {
        "id": "RNpua13irbBw"
      }
    },
    {
      "cell_type": "code",
      "source": [
        "from shapely.geometry import MultiPoint, MultiLineString, MultiPolygon, box"
      ],
      "metadata": {
        "id": "ABFPio9smV9p"
      },
      "execution_count": 86,
      "outputs": []
    },
    {
      "cell_type": "code",
      "source": [
        "# create a MultiPoint object\n",
        "multi_point= MultiPoint([point1, point2, point3])\n",
        "print(multi_point)"
      ],
      "metadata": {
        "colab": {
          "base_uri": "https://localhost:8080/"
        },
        "id": "gL05TNcUohc6",
        "outputId": "de0e4f54-978b-408f-f386-420e48d0dba9"
      },
      "execution_count": 89,
      "outputs": [
        {
          "output_type": "stream",
          "name": "stdout",
          "text": [
            "MULTIPOINT (2.2 4.2, 7.2 -25.1, 9.26 -2.456)\n"
          ]
        }
      ]
    },
    {
      "cell_type": "code",
      "source": [
        "# Create a MultiLineString Object\n",
        "line1 = LineString([point1, point2])\n",
        "line2 = LineString([point2, point3])\n",
        "multi_line = MultiLineString([line1, line2])\n",
        "print(multi_line)"
      ],
      "metadata": {
        "colab": {
          "base_uri": "https://localhost:8080/"
        },
        "id": "CcgcMaT6pCqV",
        "outputId": "a6a7f587-c23b-44ad-e1d0-12fa7292734a"
      },
      "execution_count": 91,
      "outputs": [
        {
          "output_type": "stream",
          "name": "stdout",
          "text": [
            "MULTILINESTRING ((2.2 4.2, 7.2 -25.1), (7.2 -25.1, 9.26 -2.456))\n"
          ]
        }
      ]
    },
    {
      "cell_type": "code",
      "source": [
        "# Create a MultiPolygon object\n",
        "\n",
        "# Western hemisphere polygon\n",
        "west_exterior = [(-180, 90), (-180, -90), (0, -90), (0, 90)]\n",
        "west_hole = [[(-170, 80), (-170, -80), (-10, -80), (-10, 80)]]\n",
        "west_poly = Polygon(shell=west_exterior, holes=west_hole)\n",
        "\n",
        "#Eastern hemisphere polygon: using bbox to polygon\n",
        "min_x, min_y = 0, -90\n",
        "max_x, max_y = 180, 90\n",
        "east_poly_box = box(minx=min_x, miny = min_y, maxx=max_x, maxy=max_y)\n",
        "\n",
        "# MultiPolygon\n",
        "multi_poly = MultiPolygon([west_poly, east_poly_box])\n",
        "multi_poly\n"
      ],
      "metadata": {
        "colab": {
          "base_uri": "https://localhost:8080/",
          "height": 230
        },
        "id": "y5r_UHlUpfXj",
        "outputId": "b3f13f7e-bea4-4740-b195-7fe40ffead34"
      },
      "execution_count": 93,
      "outputs": [
        {
          "output_type": "execute_result",
          "data": {
            "text/plain": [
              "<MULTIPOLYGON (((-180 90, -180 -90, 0 -90, 0 90, -180 90), (-170 80, -170 -8...>"
            ],
            "image/svg+xml": "<svg xmlns=\"http://www.w3.org/2000/svg\" xmlns:xlink=\"http://www.w3.org/1999/xlink\" width=\"300\" height=\"208.8\" viewBox=\"-194.4 -104.4 388.8 208.8\" preserveAspectRatio=\"xMinYMin meet\"><g transform=\"matrix(1,0,0,-1,0,0.0)\"><g><path fill-rule=\"evenodd\" fill=\"#ff3333\" stroke=\"#555555\" stroke-width=\"2.592\" opacity=\"0.6\" d=\"M -180.0,90.0 L -180.0,-90.0 L 0.0,-90.0 L 0.0,90.0 L -180.0,90.0 z M -170.0,80.0 L -170.0,-80.0 L -10.0,-80.0 L -10.0,80.0 L -170.0,80.0 z\" /><path fill-rule=\"evenodd\" fill=\"#ff3333\" stroke=\"#555555\" stroke-width=\"2.592\" opacity=\"0.6\" d=\"M 180.0,-90.0 L 180.0,90.0 L 0.0,90.0 L 0.0,-90.0 L 180.0,-90.0 z\" /></g></g></svg>"
          },
          "metadata": {},
          "execution_count": 93
        }
      ]
    },
    {
      "cell_type": "code",
      "source": [
        "print(\"MultiPoint:\", multi_point)\n",
        "print(\"MultiLine: \", multi_line)\n",
        "print(\"Bounding box: \", east_poly_box)\n",
        "print(\"MultiPoly: \", multi_poly)"
      ],
      "metadata": {
        "colab": {
          "base_uri": "https://localhost:8080/"
        },
        "id": "5Z4za94tq6Re",
        "outputId": "a4656566-7421-4623-a86b-ddab357ec871"
      },
      "execution_count": 94,
      "outputs": [
        {
          "output_type": "stream",
          "name": "stdout",
          "text": [
            "MultiPoint: MULTIPOINT (2.2 4.2, 7.2 -25.1, 9.26 -2.456)\n",
            "MultiLine:  MULTILINESTRING ((2.2 4.2, 7.2 -25.1), (7.2 -25.1, 9.26 -2.456))\n",
            "Bounding box:  POLYGON ((180 -90, 180 90, 0 90, 0 -90, 180 -90))\n",
            "MultiPoly:  MULTIPOLYGON (((-180 90, -180 -90, 0 -90, 0 90, -180 90), (-170 80, -170 -80, -10 -80, -10 80, -170 80)), ((180 -90, 180 90, 0 90, 0 -90, 180 -90)))\n"
          ]
        }
      ]
    },
    {
      "cell_type": "markdown",
      "source": [
        "## check shapes"
      ],
      "metadata": {
        "id": "F35xj_uWrCHy"
      }
    },
    {
      "cell_type": "code",
      "source": [
        "multi_point"
      ],
      "metadata": {
        "colab": {
          "base_uri": "https://localhost:8080/",
          "height": 121
        },
        "id": "9ZD3S_n5q6Pw",
        "outputId": "5d61dabf-5b7c-48de-c9e3-911d55d9683a"
      },
      "execution_count": 97,
      "outputs": [
        {
          "output_type": "execute_result",
          "data": {
            "text/plain": [
              "<MULTIPOINT (2.2 4.2, 7.2 -25.1, 9.26 -2.456)>"
            ],
            "image/svg+xml": "<svg xmlns=\"http://www.w3.org/2000/svg\" xmlns:xlink=\"http://www.w3.org/1999/xlink\" width=\"100.0\" height=\"100.0\" viewBox=\"1.028 -26.272000000000002 9.404 31.644000000000002\" preserveAspectRatio=\"xMinYMin meet\"><g transform=\"matrix(1,0,0,-1,0,-20.900000000000002)\"><g><circle cx=\"2.2\" cy=\"4.2\" r=\"0.9493199999999999\" stroke=\"#555555\" stroke-width=\"0.31644\" fill=\"#66cc99\" opacity=\"0.6\" /><circle cx=\"7.2\" cy=\"-25.1\" r=\"0.9493199999999999\" stroke=\"#555555\" stroke-width=\"0.31644\" fill=\"#66cc99\" opacity=\"0.6\" /><circle cx=\"9.26\" cy=\"-2.456\" r=\"0.9493199999999999\" stroke=\"#555555\" stroke-width=\"0.31644\" fill=\"#66cc99\" opacity=\"0.6\" /></g></g></svg>"
          },
          "metadata": {},
          "execution_count": 97
        }
      ]
    },
    {
      "cell_type": "code",
      "source": [
        "multi_line"
      ],
      "metadata": {
        "colab": {
          "base_uri": "https://localhost:8080/",
          "height": 121
        },
        "id": "1ZIlKnVZrHNC",
        "outputId": "931b9b89-c093-4384-87dd-103c5521436b"
      },
      "execution_count": 98,
      "outputs": [
        {
          "output_type": "execute_result",
          "data": {
            "text/plain": [
              "<MULTILINESTRING ((2.2 4.2, 7.2 -25.1), (7.2 -25.1, 9.26 -2.456))>"
            ],
            "image/svg+xml": "<svg xmlns=\"http://www.w3.org/2000/svg\" xmlns:xlink=\"http://www.w3.org/1999/xlink\" width=\"100.0\" height=\"100.0\" viewBox=\"1.028 -26.272000000000002 9.404 31.644000000000002\" preserveAspectRatio=\"xMinYMin meet\"><g transform=\"matrix(1,0,0,-1,0,-20.900000000000002)\"><g><polyline fill=\"none\" stroke=\"#66cc99\" stroke-width=\"0.63288\" points=\"2.2,4.2 7.2,-25.1\" opacity=\"0.8\" /><polyline fill=\"none\" stroke=\"#66cc99\" stroke-width=\"0.63288\" points=\"7.2,-25.1 9.26,-2.456\" opacity=\"0.8\" /></g></g></svg>"
          },
          "metadata": {},
          "execution_count": 98
        }
      ]
    },
    {
      "cell_type": "code",
      "source": [
        "west_poly"
      ],
      "metadata": {
        "colab": {
          "base_uri": "https://localhost:8080/",
          "height": 215
        },
        "id": "uLZqWftMrMD4",
        "outputId": "ac5c037c-7dca-4d91-80b8-12023fc85879"
      },
      "execution_count": 99,
      "outputs": [
        {
          "output_type": "execute_result",
          "data": {
            "text/plain": [
              "<POLYGON ((-180 90, -180 -90, 0 -90, 0 90, -180 90), (-170 80, -170 -80, -10...>"
            ],
            "image/svg+xml": "<svg xmlns=\"http://www.w3.org/2000/svg\" xmlns:xlink=\"http://www.w3.org/1999/xlink\" width=\"194.39999999999998\" height=\"194.4\" viewBox=\"-187.2 -97.2 194.39999999999998 194.4\" preserveAspectRatio=\"xMinYMin meet\"><g transform=\"matrix(1,0,0,-1,0,0.0)\"><path fill-rule=\"evenodd\" fill=\"#66cc99\" stroke=\"#555555\" stroke-width=\"2.0\" opacity=\"0.6\" d=\"M -180.0,90.0 L -180.0,-90.0 L 0.0,-90.0 L 0.0,90.0 L -180.0,90.0 z M -170.0,80.0 L -170.0,-80.0 L -10.0,-80.0 L -10.0,80.0 L -170.0,80.0 z\" /></g></svg>"
          },
          "metadata": {},
          "execution_count": 99
        }
      ]
    },
    {
      "cell_type": "code",
      "source": [
        "east_poly_box"
      ],
      "metadata": {
        "colab": {
          "base_uri": "https://localhost:8080/",
          "height": 215
        },
        "id": "gndIrlQ6rSH7",
        "outputId": "b2922c62-ace8-44cb-ae0b-4a7443b381bb"
      },
      "execution_count": 101,
      "outputs": [
        {
          "output_type": "execute_result",
          "data": {
            "text/plain": [
              "<POLYGON ((180 -90, 180 90, 0 90, 0 -90, 180 -90))>"
            ],
            "image/svg+xml": "<svg xmlns=\"http://www.w3.org/2000/svg\" xmlns:xlink=\"http://www.w3.org/1999/xlink\" width=\"194.39999999999998\" height=\"194.4\" viewBox=\"-7.2 -97.2 194.39999999999998 194.4\" preserveAspectRatio=\"xMinYMin meet\"><g transform=\"matrix(1,0,0,-1,0,0.0)\"><path fill-rule=\"evenodd\" fill=\"#66cc99\" stroke=\"#555555\" stroke-width=\"2.0\" opacity=\"0.6\" d=\"M 180.0,-90.0 L 180.0,90.0 L 0.0,90.0 L 0.0,-90.0 L 180.0,-90.0 z\" /></g></svg>"
          },
          "metadata": {},
          "execution_count": 101
        }
      ]
    },
    {
      "cell_type": "code",
      "source": [
        "multi_poly"
      ],
      "metadata": {
        "colab": {
          "base_uri": "https://localhost:8080/",
          "height": 230
        },
        "id": "j7Mo5qNWrOF4",
        "outputId": "ac550382-a05b-4bcf-da73-91967f7c507e"
      },
      "execution_count": 100,
      "outputs": [
        {
          "output_type": "execute_result",
          "data": {
            "text/plain": [
              "<MULTIPOLYGON (((-180 90, -180 -90, 0 -90, 0 90, -180 90), (-170 80, -170 -8...>"
            ],
            "image/svg+xml": "<svg xmlns=\"http://www.w3.org/2000/svg\" xmlns:xlink=\"http://www.w3.org/1999/xlink\" width=\"300\" height=\"208.8\" viewBox=\"-194.4 -104.4 388.8 208.8\" preserveAspectRatio=\"xMinYMin meet\"><g transform=\"matrix(1,0,0,-1,0,0.0)\"><g><path fill-rule=\"evenodd\" fill=\"#ff3333\" stroke=\"#555555\" stroke-width=\"2.592\" opacity=\"0.6\" d=\"M -180.0,90.0 L -180.0,-90.0 L 0.0,-90.0 L 0.0,90.0 L -180.0,90.0 z M -170.0,80.0 L -170.0,-80.0 L -10.0,-80.0 L -10.0,80.0 L -170.0,80.0 z\" /><path fill-rule=\"evenodd\" fill=\"#ff3333\" stroke=\"#555555\" stroke-width=\"2.592\" opacity=\"0.6\" d=\"M 180.0,-90.0 L 180.0,90.0 L 0.0,90.0 L 0.0,-90.0 L 180.0,-90.0 z\" /></g></g></svg>"
          },
          "metadata": {},
          "execution_count": 100
        }
      ]
    },
    {
      "cell_type": "markdown",
      "source": [
        "## attributes and functions"
      ],
      "metadata": {
        "id": "RGpaI0dhriJQ"
      }
    },
    {
      "cell_type": "code",
      "source": [
        "# convex hull of our MultiPoint\n",
        "convex = multi_point.convex_hull\n",
        "print(\"Convex hull of the points: \", convex)\n",
        "convex"
      ],
      "metadata": {
        "colab": {
          "base_uri": "https://localhost:8080/",
          "height": 159
        },
        "id": "Wtugfjb9rkxa",
        "outputId": "f93e7a56-64a5-4b96-9e58-b6d28780a843"
      },
      "execution_count": 104,
      "outputs": [
        {
          "output_type": "stream",
          "name": "stdout",
          "text": [
            "Convex hull of the points:  POLYGON ((7.2 -25.1, 2.2 4.2, 9.26 -2.456, 7.2 -25.1))\n"
          ]
        },
        {
          "output_type": "execute_result",
          "data": {
            "text/plain": [
              "<POLYGON ((7.2 -25.1, 2.2 4.2, 9.26 -2.456, 7.2 -25.1))>"
            ],
            "image/svg+xml": "<svg xmlns=\"http://www.w3.org/2000/svg\" xmlns:xlink=\"http://www.w3.org/1999/xlink\" width=\"100.0\" height=\"100.0\" viewBox=\"1.028 -26.272000000000002 9.404 31.644000000000002\" preserveAspectRatio=\"xMinYMin meet\"><g transform=\"matrix(1,0,0,-1,0,-20.900000000000002)\"><path fill-rule=\"evenodd\" fill=\"#66cc99\" stroke=\"#555555\" stroke-width=\"0.63288\" opacity=\"0.6\" d=\"M 7.2,-25.1 L 2.2,4.2 L 9.26,-2.456 L 7.2,-25.1 z\" /></g></svg>"
          },
          "metadata": {},
          "execution_count": 104
        }
      ]
    },
    {
      "cell_type": "code",
      "source": [
        "# Line count inside MultiLineString\n",
        "\n",
        "lines_count = len(multi_line.geoms)\n",
        "lines_count"
      ],
      "metadata": {
        "colab": {
          "base_uri": "https://localhost:8080/"
        },
        "id": "IOFNx_fRtHxp",
        "outputId": "18c14398-fd5a-496c-c90a-39dba7f54f56"
      },
      "execution_count": 119,
      "outputs": [
        {
          "output_type": "execute_result",
          "data": {
            "text/plain": [
              "2"
            ]
          },
          "metadata": {},
          "execution_count": 119
        }
      ]
    },
    {
      "cell_type": "code",
      "source": [
        "# area of MultiPolygon\n",
        "multi_poly_area = multi_poly.area\n",
        "multi_poly_area"
      ],
      "metadata": {
        "colab": {
          "base_uri": "https://localhost:8080/"
        },
        "id": "OMwKHyP3toxL",
        "outputId": "ca53a78e-31ce-4f7c-be0a-d16af90b0079"
      },
      "execution_count": 107,
      "outputs": [
        {
          "output_type": "execute_result",
          "data": {
            "text/plain": [
              "39200.0"
            ]
          },
          "metadata": {},
          "execution_count": 107
        }
      ]
    },
    {
      "cell_type": "code",
      "source": [
        "west_area = multi_poly.geoms[0].area\n",
        "west_area"
      ],
      "metadata": {
        "colab": {
          "base_uri": "https://localhost:8080/"
        },
        "id": "LMgoPZf4tx1O",
        "outputId": "fb6416ec-29a9-4bd3-aeeb-f2af9b5f8eb7"
      },
      "execution_count": 117,
      "outputs": [
        {
          "output_type": "execute_result",
          "data": {
            "text/plain": [
              "6800.0"
            ]
          },
          "metadata": {},
          "execution_count": 117
        }
      ]
    },
    {
      "cell_type": "code",
      "source": [
        "multi_poly.geoms[0]"
      ],
      "metadata": {
        "colab": {
          "base_uri": "https://localhost:8080/",
          "height": 215
        },
        "id": "EBW7lgitxhZt",
        "outputId": "9828d7ae-78cc-4c51-9596-5f344b9ef9fe"
      },
      "execution_count": 118,
      "outputs": [
        {
          "output_type": "execute_result",
          "data": {
            "text/plain": [
              "<POLYGON ((-180 90, -180 -90, 0 -90, 0 90, -180 90), (-170 80, -170 -80, -10...>"
            ],
            "image/svg+xml": "<svg xmlns=\"http://www.w3.org/2000/svg\" xmlns:xlink=\"http://www.w3.org/1999/xlink\" width=\"194.39999999999998\" height=\"194.4\" viewBox=\"-187.2 -97.2 194.39999999999998 194.4\" preserveAspectRatio=\"xMinYMin meet\"><g transform=\"matrix(1,0,0,-1,0,0.0)\"><path fill-rule=\"evenodd\" fill=\"#66cc99\" stroke=\"#555555\" stroke-width=\"2.0\" opacity=\"0.6\" d=\"M -180.0,90.0 L -180.0,-90.0 L 0.0,-90.0 L 0.0,90.0 L -180.0,90.0 z M -170.0,80.0 L -170.0,-80.0 L -10.0,-80.0 L -10.0,80.0 L -170.0,80.0 z\" /></g></svg>"
          },
          "metadata": {},
          "execution_count": 118
        }
      ]
    },
    {
      "cell_type": "code",
      "source": [
        "valid = multi_poly.is_valid\n",
        "valid"
      ],
      "metadata": {
        "colab": {
          "base_uri": "https://localhost:8080/"
        },
        "id": "JdVXFyIe0i-C",
        "outputId": "06780b4d-b68a-4ab6-98b4-fc7313a8a941"
      },
      "execution_count": 120,
      "outputs": [
        {
          "output_type": "execute_result",
          "data": {
            "text/plain": [
              "False"
            ]
          },
          "metadata": {},
          "execution_count": 120
        }
      ]
    },
    {
      "cell_type": "code",
      "source": [],
      "metadata": {
        "id": "lY_Hg_yW0i7T"
      },
      "execution_count": null,
      "outputs": []
    }
  ]
}
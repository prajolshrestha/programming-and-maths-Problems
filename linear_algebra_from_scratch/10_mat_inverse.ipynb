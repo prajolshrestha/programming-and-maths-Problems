{
  "nbformat": 4,
  "nbformat_minor": 0,
  "metadata": {
    "colab": {
      "provenance": [],
      "toc_visible": true
    },
    "kernelspec": {
      "name": "python3",
      "display_name": "Python 3"
    },
    "language_info": {
      "name": "python"
    }
  },
  "cells": [
    {
      "cell_type": "code",
      "execution_count": null,
      "metadata": {
        "id": "eDDdwIorv8yC"
      },
      "outputs": [],
      "source": [
        "import numpy as np\n",
        "import matplotlib.pyplot as plt\n",
        "import math\n",
        "from sympy import *"
      ]
    },
    {
      "cell_type": "markdown",
      "source": [
        "## matrix inverse visualization"
      ],
      "metadata": {
        "id": "8JDj3OhPwrPc"
      }
    },
    {
      "cell_type": "code",
      "source": [
        "m = 3\n",
        "A = np.random.randn(m,m)\n",
        "\n",
        "Ainv = np.linalg.inv(A)\n",
        "\n",
        "i = A @ Ainv\n",
        "print(i)"
      ],
      "metadata": {
        "colab": {
          "base_uri": "https://localhost:8080/"
        },
        "id": "WwG1vIY1wGTm",
        "outputId": "7d46865f-d821-44e6-c9ec-2150332b93cf"
      },
      "execution_count": null,
      "outputs": [
        {
          "output_type": "stream",
          "name": "stdout",
          "text": [
            "[[ 1.00000000e+00 -9.78084769e-18  1.70003546e-16]\n",
            " [-7.91067188e-17  1.00000000e+00  4.34865804e-17]\n",
            " [-3.81448483e-17 -9.70320940e-18  1.00000000e+00]]\n"
          ]
        }
      ]
    },
    {
      "cell_type": "code",
      "source": [
        "plt.subplot(131)\n",
        "plt.imshow(A)\n",
        "plt.title('Matrix A')\n",
        "\n",
        "plt.subplot(132)\n",
        "plt.imshow(Ainv)\n",
        "plt.title('Matrix Ainv')\n",
        "\n",
        "plt.subplot(133)\n",
        "plt.imshow(i)\n",
        "plt.title('Matrix AA$^{-1}$')\n",
        "plt.show()"
      ],
      "metadata": {
        "colab": {
          "base_uri": "https://localhost:8080/",
          "height": 231
        },
        "id": "ZPk8SlZpwvG5",
        "outputId": "885902e6-f085-41eb-b05a-25c82ed7f53f"
      },
      "execution_count": null,
      "outputs": [
        {
          "output_type": "display_data",
          "data": {
            "text/plain": [
              "<Figure size 640x480 with 3 Axes>"
            ],
            "image/png": "[encoded data removed]"
          },
          "metadata": {}
        }
      ]
    },
    {
      "cell_type": "markdown",
      "source": [
        "### code challenge: MCA Algo"
      ],
      "metadata": {
        "id": "eOfLDReQ_fdb"
      }
    },
    {
      "cell_type": "code",
      "source": [
        "m = 4\n",
        "A = np.random.randint(1,11,(m,m))\n",
        "\n",
        "# Minors matrix\n",
        "minors = np.zeros((m,m))\n",
        "H= np.zeros((m,m))\n",
        "\n",
        "for i in range(m):\n",
        "  for j in range(m):\n",
        "\n",
        "    #select rows and columns\n",
        "    rows = [True]*m\n",
        "    rows[i] = False\n",
        "\n",
        "    cols = [True]*m\n",
        "    cols[j] = False\n",
        "\n",
        "    minors[i,j] = np.linalg.det(A[rows,:][:,cols])\n",
        "\n",
        "    H[i,j] = (-1)**(i+j)\n",
        "\n",
        " \n",
        "C = H *minors \n",
        "\n",
        "\n",
        "Ainv = C.T/np.linalg.det(A)\n",
        "print(A@Ainv)\n",
        "\n",
        "\n",
        "\n",
        "Ainv2 = np.linalg.inv(A)\n",
        "print(A@Ainv2)"
      ],
      "metadata": {
        "id": "QSFy3gdx_sfM",
        "colab": {
          "base_uri": "https://localhost:8080/"
        },
        "outputId": "417b467f-5dca-4414-e0d6-c9f84caf47ee"
      },
      "execution_count": null,
      "outputs": [
        {
          "output_type": "stream",
          "name": "stdout",
          "text": [
            "4\n",
            "[[ 1. -1.  1. -1.]\n",
            " [-1.  1. -1.  1.]\n",
            " [ 1. -1.  1. -1.]\n",
            " [-1.  1. -1.  1.]]\n",
            "[[ 1.00000000e+00 -2.22044605e-16 -4.71844785e-16  1.94289029e-16]\n",
            " [ 2.77555756e-16  1.00000000e+00 -9.15933995e-16  3.60822483e-16]\n",
            " [ 5.55111512e-17 -3.88578059e-16  1.00000000e+00  2.91433544e-16]\n",
            " [-1.77635684e-15 -4.44089210e-16 -6.66133815e-16  1.00000000e+00]]\n",
            "[[ 1.00000000e+00  2.77555756e-16 -1.38777878e-16  1.38777878e-17]\n",
            " [ 2.77555756e-16  1.00000000e+00  8.32667268e-17  1.38777878e-17]\n",
            " [-1.66533454e-16 -5.55111512e-17  1.00000000e+00 -1.38777878e-17]\n",
            " [-4.44089210e-16  4.44089210e-16 -2.22044605e-16  1.00000000e+00]]\n"
          ]
        }
      ]
    },
    {
      "cell_type": "markdown",
      "source": [
        "## Row reduction method"
      ],
      "metadata": {
        "id": "b7hWse0B_lTo"
      }
    },
    {
      "cell_type": "code",
      "source": [
        "#matrix size\n",
        "m = 4\n",
        "\n",
        "# random integers matrix\n",
        "A = Matrix(np.round(10*np.random.randn(m,m)),dtype='float')\n",
        "\n",
        "# augment A and identity\n",
        "Aaug = Matrix(np.concatenate((A,np.eye(m,m)),axis=1))\n",
        "print('size of aaug:', Aaug.shape)\n",
        "\n",
        "#rref\n",
        "Asol = Aaug.rref()\n",
        "Asol = Asol[0]\n",
        "\n",
        "print(Asol.shape)\n",
        "Ainvrref = Asol[:,m:m*2]\n",
        "Ainv = A.inv()\n"
      ],
      "metadata": {
        "colab": {
          "base_uri": "https://localhost:8080/"
        },
        "id": "ErY9w9l7_qzU",
        "outputId": "e2cc3c92-56d4-44ac-9d6f-a41bcddd2585"
      },
      "execution_count": null,
      "outputs": [
        {
          "output_type": "stream",
          "name": "stdout",
          "text": [
            "size of aaug: (4, 8)\n",
            "(4, 8)\n"
          ]
        }
      ]
    },
    {
      "cell_type": "code",
      "source": [
        "plt.subplot(121)\n",
        "plt.imshow(matrix2numpy(Aaug,dtype='float'),vmin=-5,vmax=5)\n",
        "plt.title('A|I'),plt.axis('off')\n",
        "\n",
        "plt.subplot(122)\n",
        "plt.imshow(matrix2numpy(Asol,dtype='float'))\n",
        "plt.title('I|A$^{-1}$'),plt.axis('off')\n",
        "\n",
        "plt.show()"
      ],
      "metadata": {
        "colab": {
          "base_uri": "https://localhost:8080/",
          "height": 176
        },
        "id": "CEUz66kwFpaA",
        "outputId": "b20245ef-9b83-44b2-b47a-db5ad7eb955a"
      },
      "execution_count": null,
      "outputs": [
        {
          "output_type": "display_data",
          "data": {
            "text/plain": [
              "<Figure size 640x480 with 2 Axes>"
            ],
            "image/png": "[encoded data removed]"
          },
          "metadata": {}
        }
      ]
    },
    {
      "cell_type": "code",
      "source": [
        "plt.subplot(131)\n",
        "plt.imshow(matrix2numpy(A,dtype='float'))\n",
        "plt.title('A'),plt.axis('off')\n",
        "\n",
        "plt.subplot(132)\n",
        "plt.imshow(matrix2numpy(Ainvrref,dtype='float'))\n",
        "plt.title('A$^{-1}$ from rref'),plt.axis('off')\n",
        "\n",
        "plt.subplot(133)\n",
        "plt.imshow(matrix2numpy(Ainv,dtype='float'))\n",
        "plt.title('A$^{-1}$ from inv()'),plt.axis('off')\n",
        "plt.show()"
      ],
      "metadata": {
        "colab": {
          "base_uri": "https://localhost:8080/",
          "height": 209
        },
        "id": "VVY4RoTMNadp",
        "outputId": "0ee29305-da4e-46e0-af3e-a8c37bfa7b6b"
      },
      "execution_count": null,
      "outputs": [
        {
          "output_type": "display_data",
          "data": {
            "text/plain": [
              "<Figure size 640x480 with 3 Axes>"
            ],
            "image/png": "[encoded data removed]"
          },
          "metadata": {}
        }
      ]
    },
    {
      "cell_type": "markdown",
      "source": [
        "### Code challenge: Inverse of a diag matrix"
      ],
      "metadata": {
        "id": "LwgMknRt9JUb"
      }
    },
    {
      "cell_type": "code",
      "source": [
        "m = 10\n",
        "\n",
        "#diag matrix\n",
        "A = np.diag(np.arange(1,m))\n",
        "print(A)\n",
        "Ainv = np.linalg.inv(A)\n",
        "print(Ainv) # see corty phenomenon (diag ma vako elements are 1/num)\n",
        "print(A@Ainv)"
      ],
      "metadata": {
        "colab": {
          "base_uri": "https://localhost:8080/"
        },
        "id": "79-GIzPB9OJA",
        "outputId": "384c520a-f5ef-404f-fd63-4b95003c4ae5"
      },
      "execution_count": null,
      "outputs": [
        {
          "output_type": "stream",
          "name": "stdout",
          "text": [
            "[[1 0 0 0 0 0 0 0 0]\n",
            " [0 2 0 0 0 0 0 0 0]\n",
            " [0 0 3 0 0 0 0 0 0]\n",
            " [0 0 0 4 0 0 0 0 0]\n",
            " [0 0 0 0 5 0 0 0 0]\n",
            " [0 0 0 0 0 6 0 0 0]\n",
            " [0 0 0 0 0 0 7 0 0]\n",
            " [0 0 0 0 0 0 0 8 0]\n",
            " [0 0 0 0 0 0 0 0 9]]\n",
            "[[1.         0.         0.         0.         0.         0.\n",
            "  0.         0.         0.        ]\n",
            " [0.         0.5        0.         0.         0.         0.\n",
            "  0.         0.         0.        ]\n",
            " [0.         0.         0.33333333 0.         0.         0.\n",
            "  0.         0.         0.        ]\n",
            " [0.         0.         0.         0.25       0.         0.\n",
            "  0.         0.         0.        ]\n",
            " [0.         0.         0.         0.         0.2        0.\n",
            "  0.         0.         0.        ]\n",
            " [0.         0.         0.         0.         0.         0.16666667\n",
            "  0.         0.         0.        ]\n",
            " [0.         0.         0.         0.         0.         0.\n",
            "  0.14285714 0.         0.        ]\n",
            " [0.         0.         0.         0.         0.         0.\n",
            "  0.         0.125      0.        ]\n",
            " [0.         0.         0.         0.         0.         0.\n",
            "  0.         0.         0.11111111]]\n",
            "[[1. 0. 0. 0. 0. 0. 0. 0. 0.]\n",
            " [0. 1. 0. 0. 0. 0. 0. 0. 0.]\n",
            " [0. 0. 1. 0. 0. 0. 0. 0. 0.]\n",
            " [0. 0. 0. 1. 0. 0. 0. 0. 0.]\n",
            " [0. 0. 0. 0. 1. 0. 0. 0. 0.]\n",
            " [0. 0. 0. 0. 0. 1. 0. 0. 0.]\n",
            " [0. 0. 0. 0. 0. 0. 1. 0. 0.]\n",
            " [0. 0. 0. 0. 0. 0. 0. 1. 0.]\n",
            " [0. 0. 0. 0. 0. 0. 0. 0. 1.]]\n"
          ]
        }
      ]
    },
    {
      "cell_type": "markdown",
      "source": [
        "## One sided inverse"
      ],
      "metadata": {
        "id": "TUbOiCY8AJ9f"
      }
    },
    {
      "cell_type": "code",
      "source": [
        "# m>n for left inverse\n",
        "# m<n for right inverse\n",
        "\n",
        "m = 6\n",
        "n = 8\n",
        "\n",
        "#create matrices\n",
        "A = np.random.randn(m,n)\n",
        "AtA = A.T@A\n",
        "AAt = A@A.T\n",
        "\n",
        "#inspect ranks\n",
        "print(\"Shape of AtA\", AtA.shape)\n",
        "print(\"Rank of AtA\", np.linalg.matrix_rank(AtA))\n",
        "print(\"Shape of AAt\", AAt.shape)\n",
        "print(\"Rank of AAt\", np.linalg.matrix_rank(AAt))\n",
        "\n",
        "# left inverse\n",
        "Aleft = np.linalg.inv(AtA)@A.T\n",
        "print(Aleft)\n",
        "\n",
        "# right inverse\n",
        "Aright = A.T@np.linalg.inv(AAt)\n",
        "print(Aright)\n",
        "\n",
        "# test\n",
        "I_left = Aleft @ A\n",
        "I_right = A @ Aright\n",
        "\n",
        "print(I_left)\n",
        "print(I_right)\n",
        "\n",
        "#final test using inverse function\n",
        "AtA_inv = np.linalg.inv(AtA)\n",
        "I_AtA = AtA_inv @ AtA #test left inverse\n",
        "\n",
        "AAt_inv = np.linalg.inv(AAt)\n",
        "I_AAt = AAt_inv @ AAt #test right inverse\n",
        "\n",
        "print(I_AtA)\n",
        "print(I_AAt)"
      ],
      "metadata": {
        "colab": {
          "base_uri": "https://localhost:8080/"
        },
        "id": "uP46aSIuAN2Q",
        "outputId": "50ea6bd8-0048-40cf-ead4-8be322c77d04"
      },
      "execution_count": null,
      "outputs": [
        {
          "output_type": "stream",
          "name": "stdout",
          "text": [
            "Shape of AtA (8, 8)\n",
            "Rank of AtA 6\n",
            "Shape of AAt (6, 6)\n",
            "Rank of AAt 6\n",
            "[[-0.16965643 -0.88319293  0.87847427 -0.4608956  -0.69012296 -1.36231862]\n",
            " [ 0.21108987 -0.2165718   0.17207897  0.05670166 -0.03890423  0.17868711]\n",
            " [-0.04501199  0.24217602 -0.13392004  0.24374206  0.24092331  0.77808695]\n",
            " [ 0.12447898 -0.12398588  0.01715706 -0.19631325  0.13377903 -0.22745205]\n",
            " [ 0.0276151  -0.0089296  -0.03204928 -0.46747614 -0.13094832 -0.03420302]\n",
            " [-0.14634987 -0.12061676  0.24015188 -0.08493175  0.20026638 -0.27769699]\n",
            " [-0.07960067  0.15708152 -0.10831051  0.02493286 -0.00837209  0.12192535]\n",
            " [-0.0284505  -0.25718886 -0.38982663  0.16713715  0.11481468  0.31019401]]\n",
            "[[-0.00181244 -0.38707851  1.14828992 -0.68225112 -0.34242775 -0.65059685]\n",
            " [ 0.25119121  0.06493048  0.27094949  0.02982605 -0.00177143  0.1204159 ]\n",
            " [-0.15070749  0.04708218 -0.24066772  0.15042562  0.0179776   0.42330015]\n",
            " [ 0.04907299 -0.1252991   0.01143202 -0.41128774 -0.02150647 -0.31843436]\n",
            " [ 0.11050911 -0.0629296  -0.02861109 -0.17392413  0.02088561  0.03755046]\n",
            " [-0.13976484 -0.18983146  0.29763842 -0.17500053  0.15254689 -0.26580781]\n",
            " [-0.10994138  0.27180769 -0.18273864  0.13057998  0.07356391  0.17619337]\n",
            " [-0.11464348  0.03720516 -0.54242625  0.34899165  0.19645358  0.36109684]]\n",
            "[[ 1.01727209 -2.17612426 -1.21320078 -0.55402528 -1.63014845 -1.13194358\n",
            "  -2.5340085   0.29214222]\n",
            " [ 0.1193842   0.55859711  0.20524985 -0.31571362  0.34044484 -0.10281857\n",
            "  -0.98554358  0.37444296]\n",
            " [-0.04699085  1.02396588  1.16953123 -0.19028607  0.73840387  0.61691971\n",
            "   0.87153924  0.14193404]\n",
            " [-0.22509497  0.22942107 -0.37754756  0.40265178  0.3267753   0.43561335\n",
            "  -0.21091638  0.07530103]\n",
            " [ 0.17221208 -0.11744817  0.61245948  0.84787624  0.66792582 -0.37334552\n",
            "   0.45788107 -0.28323623]\n",
            " [-0.02924101  0.02692995 -0.29281152 -0.04836984 -0.13245237  1.02025663\n",
            "   0.19968746  0.13725645]\n",
            " [ 0.00344076 -0.0826929   0.2397901   0.08242882 -0.00381709 -0.09950458\n",
            "   0.55326157 -0.17978656]\n",
            " [-0.05583316 -0.07719958  0.46090521 -0.05134153  0.36803151  0.07763018\n",
            "  -1.07278515  0.7409304 ]]\n",
            "[[ 1.00000000e+00 -8.20833934e-17  7.34374055e-16 -8.44984153e-16\n",
            "  -1.51011844e-16 -5.29568932e-16]\n",
            " [-2.26857434e-17  1.00000000e+00 -4.83325427e-16  1.13524991e-15\n",
            "   1.11026618e-16  7.11232363e-17]\n",
            " [-4.78906104e-17 -2.57104741e-16  1.00000000e+00 -2.26315456e-16\n",
            "  -5.25689909e-16 -7.45927394e-16]\n",
            " [-1.60375888e-16  7.30979137e-17 -8.09929730e-16  1.00000000e+00\n",
            "  -2.19070154e-16  1.20593642e-15]\n",
            " [-5.23973389e-17 -1.24072810e-16 -7.43848431e-16 -4.16002029e-16\n",
            "   1.00000000e+00 -6.73590122e-16]\n",
            " [ 1.67655619e-16 -9.13099881e-16  2.44653919e-15 -1.78747947e-15\n",
            "  -7.62241264e-16  1.00000000e+00]]\n",
            "[[ 1.00588566 -2.21546362 -1.31456633 -0.53879183 -1.60722362 -1.20073953\n",
            "  -1.98959588  0.38157548]\n",
            " [ 0.10896107  0.49142971  0.07415651 -0.13201814  0.62816272  0.18302984\n",
            "  -0.88000797  0.55705027]\n",
            " [-0.03266494  0.55499029  1.23761641 -0.13415523  0.7387497   0.60411009\n",
            "   0.28404695  0.17186887]\n",
            " [-0.16968364 -0.27522571 -0.40236831  0.70393448  0.60410507 -0.19490513\n",
            "  -0.57514573  0.10952198]\n",
            " [ 0.11626905  0.33651451  0.15765254  0.83476195  0.12464969 -0.55748994\n",
            "   0.47205386 -0.19173571]\n",
            " [-0.01712291  0.06731302 -0.1584087  -0.04098527 -0.10511118  1.10057176\n",
            "   0.04377315  0.06253474]\n",
            " [ 0.04269981 -0.07048626  0.20739106  0.08461404 -0.02269919 -0.08460136\n",
            "   1.0123487  -0.09390501]\n",
            " [-0.04805327 -0.13245454  0.17116829  0.04783553  0.44391311 -0.07907602\n",
            "  -0.05323847  0.92957125]]\n",
            "[[ 1.00000000e+00 -3.65720717e-16  2.80415263e-17  5.79849616e-16\n",
            "  -1.23227544e-16 -2.07051321e-16]\n",
            " [ 1.95071709e-16  1.00000000e+00  1.25825290e-16  4.51713471e-16\n",
            "   3.58775885e-16  8.10453141e-17]\n",
            " [-7.84658795e-16  2.73787566e-17  1.00000000e+00  1.31833418e-15\n",
            "  -2.77852172e-15 -1.59957250e-15]\n",
            " [ 5.81729939e-17  2.35447152e-17 -1.95681800e-16  1.00000000e+00\n",
            "  -1.56696506e-16  5.33042236e-16]\n",
            " [ 9.78450040e-17 -2.45282065e-17  1.56677050e-16 -1.36243434e-16\n",
            "   1.00000000e+00 -1.84514552e-16]\n",
            " [ 1.06459142e-16 -3.50276441e-16  3.02865641e-16 -2.43909674e-16\n",
            "   3.31211862e-16  1.00000000e+00]]\n"
          ]
        }
      ]
    },
    {
      "cell_type": "code",
      "source": [
        "## show images\n",
        "plt.subplot(331)\n",
        "plt.imshow(A), plt.axis('off')\n",
        "plt.title('A')\n",
        "\n",
        "plt.subplot(332)\n",
        "plt.imshow(AtA), plt.axis('off')\n",
        "plt.title('A$^T$A')\n",
        "\n",
        "plt.subplot(333)\n",
        "plt.imshow(AAt), plt.axis('off')\n",
        "plt.title('AA$^T$')\n",
        "\n",
        "plt.subplot(335)\n",
        "plt.imshow(Aleft), plt.axis('off')\n",
        "plt.title('$(A^TA)^{-1}A^T$')\n",
        "\n",
        "plt.subplot(336)\n",
        "plt.imshow(Aright), plt.axis('off')\n",
        "plt.title('$A^T(AA^T)^{-1}$')\n",
        "\n",
        "plt.subplot(338)\n",
        "plt.imshow(I_left), plt.axis('off')\n",
        "plt.title('[ $(A^TA)^{-1}A^T ]$  A')\n",
        "\n",
        "plt.subplot(339)\n",
        "plt.imshow(I_right), plt.axis('off')\n",
        "plt.title('A  [ $A^T(AA^T)^{-1}$ ]')\n",
        "\n",
        "plt.show()"
      ],
      "metadata": {
        "colab": {
          "base_uri": "https://localhost:8080/",
          "height": 431
        },
        "id": "hM9kExgrCSA1",
        "outputId": "1c17c296-e1b3-4923-d101-8f1731900eab"
      },
      "execution_count": null,
      "outputs": [
        {
          "output_type": "display_data",
          "data": {
            "text/plain": [
              "<Figure size 640x480 with 7 Axes>"
            ],
            "image/png": "[encoded data removed]"
          },
          "metadata": {}
        }
      ]
    },
    {
      "cell_type": "markdown",
      "source": [
        "### code challenge: pseudoinverse"
      ],
      "metadata": {
        "id": "EuzEYOM_EqsR"
      }
    },
    {
      "cell_type": "code",
      "source": [
        "pseudoinvA = np.linalg.pinv(A)\n",
        "\n",
        "plt.subplot(1,3,1)\n",
        "plt.imshow(A),plt.axis('off')\n",
        "plt.title('A')\n",
        "\n",
        "plt.subplot(1,3,2)\n",
        "plt.imshow(pseudoinvA),plt.axis('off')\n",
        "plt.title('Pseudo inverse of A')\n",
        "\n",
        "plt.subplot(1,3,3)\n",
        "plt.imshow(A @ pseudoinvA),plt.axis('off')\n",
        "plt.title('I') \n",
        "plt.show()\n",
        "\n",
        "# conclusion: right inverse xa vane , pseudoinverse is right inverse. and vice versa"
      ],
      "metadata": {
        "colab": {
          "base_uri": "https://localhost:8080/",
          "height": 253
        },
        "id": "alX9Y-D3Eu4i",
        "outputId": "63c05d91-fd36-4f06-8db0-7fa91a6ac1ef"
      },
      "execution_count": null,
      "outputs": [
        {
          "output_type": "display_data",
          "data": {
            "text/plain": [
              "<Figure size 640x480 with 3 Axes>"
            ],
            "image/png": "[encoded data removed]"
          },
          "metadata": {}
        }
      ]
    },
    {
      "cell_type": "code",
      "source": [
        "## pseudo inverse in right and left of the matrix is not same!\n",
        "\n",
        "# create random matrix\n",
        "n = 50\n",
        "A = np.random.randn(n,n)\n",
        "\n",
        "# make rank deficient by repeating a column\n",
        "A[:,n-1] = A[:,n-2]\n",
        "\n",
        "# rank of A!\n",
        "print('rank =',np.linalg.matrix_rank(A))\n",
        "# compute the pseudoinverse\n",
        "Ai = np.linalg.pinv(A)\n",
        "\n",
        "\n",
        "# and show the matrices\n",
        "plt.subplot(221)\n",
        "plt.imshow(A), plt.axis('off')\n",
        "plt.title('A')\n",
        "\n",
        "plt.subplot(222)\n",
        "plt.imshow(Ai), plt.axis('off')\n",
        "plt.title('A$^*$')\n",
        "\n",
        "plt.subplot(223)\n",
        "plt.imshow(Ai@A), plt.axis('off')\n",
        "plt.title('A$^*$A')\n",
        "\n",
        "plt.subplot(224)\n",
        "plt.imshow(A@Ai), plt.axis('off')\n",
        "plt.title('AA$^*$')\n",
        "\n",
        "plt.show()"
      ],
      "metadata": {
        "colab": {
          "base_uri": "https://localhost:8080/",
          "height": 448
        },
        "id": "hEtKvuIMFdl5",
        "outputId": "4716b412-ebdd-4256-e95c-05c76f601d97"
      },
      "execution_count": null,
      "outputs": [
        {
          "output_type": "stream",
          "name": "stdout",
          "text": [
            "rank = 49\n"
          ]
        },
        {
          "output_type": "display_data",
          "data": {
            "text/plain": [
              "<Figure size 640x480 with 4 Axes>"
            ],
            "image/png": "[encoded data removed]"
          },
          "metadata": {}
        }
      ]
    },
    {
      "cell_type": "markdown",
      "source": [
        "### code challenge: Pseudo inverse of invertible matrix"
      ],
      "metadata": {
        "id": "rbLP5gouHdXv"
      }
    },
    {
      "cell_type": "code",
      "source": [
        "# pseudo inverse is same as the real inverse for an invertible matrix\n",
        "\n",
        "m = 5\n",
        "A = np.round(10*np.random.rand(m,m))\n",
        "print(A)\n",
        "\n",
        "AinvF = np.linalg.inv(A)\n",
        "AinvP = np.linalg.pinv(A)\n",
        "\n",
        "print(np.round(AinvP-AinvF,5)) #hence proved!\n"
      ],
      "metadata": {
        "colab": {
          "base_uri": "https://localhost:8080/"
        },
        "id": "qF8krMRQHkJb",
        "outputId": "30611b07-b2ed-4852-9838-bac921ee7910"
      },
      "execution_count": null,
      "outputs": [
        {
          "output_type": "stream",
          "name": "stdout",
          "text": [
            "[[ 2.  2.  6.  9.  7.]\n",
            " [ 4.  4.  1.  4. 10.]\n",
            " [ 6.  3.  1.  8.  4.]\n",
            " [ 0.  1.  9.  4.  4.]\n",
            " [10.  7.  2.  4.  6.]]\n",
            "[[-0.  0.  0.  0. -0.]\n",
            " [ 0. -0. -0. -0.  0.]\n",
            " [ 0. -0. -0. -0.  0.]\n",
            " [ 0. -0. -0. -0.  0.]\n",
            " [-0.  0.  0.  0. -0.]]\n"
          ]
        }
      ]
    }
  ]
}
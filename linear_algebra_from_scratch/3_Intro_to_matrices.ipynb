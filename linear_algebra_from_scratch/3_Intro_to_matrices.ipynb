{
  "nbformat": 4,
  "nbformat_minor": 0,
  "metadata": {
    "colab": {
      "provenance": [],
      "toc_visible": true
    },
    "kernelspec": {
      "name": "python3",
      "display_name": "Python 3"
    },
    "language_info": {
      "name": "python"
    }
  },
  "cells": [
    {
      "cell_type": "code",
      "execution_count": null,
      "metadata": {
        "id": "pR8B-gGsgXvf"
      },
      "outputs": [],
      "source": [
        "import numpy as np"
      ]
    },
    {
      "cell_type": "markdown",
      "source": [
        "## matrices types"
      ],
      "metadata": {
        "id": "F3oN9U8ag-BX"
      }
    },
    {
      "cell_type": "code",
      "source": [
        "# square and rect\n",
        "S = np.random.randn(5,5)\n",
        "R = np.random.randn(5,2)\n",
        "S,R"
      ],
      "metadata": {
        "colab": {
          "base_uri": "https://localhost:8080/"
        },
        "id": "pGcD0_Yag9xF",
        "outputId": "aa6fc1f7-1362-4697-bfe6-99f7dc1a906f"
      },
      "execution_count": null,
      "outputs": [
        {
          "output_type": "execute_result",
          "data": {
            "text/plain": [
              "(array([[ 1.39718601, -0.20994304,  0.46336117,  1.35771965,  1.36773024],\n",
              "        [-1.22671345,  0.12806804,  1.37563302,  0.38840772,  0.04135552],\n",
              "        [-0.61711683, -0.60555236,  1.00317245,  1.61626219, -0.79667679],\n",
              "        [-1.00555624, -0.60151085, -2.47444932, -1.74087759,  1.37427948],\n",
              "        [-0.23442492, -0.87932432,  0.24234451, -1.33255453, -1.39303964]]),\n",
              " array([[ 0.8535944 , -0.5330156 ],\n",
              "        [ 0.30175969, -0.56754309],\n",
              "        [ 1.21722513, -0.83116611],\n",
              "        [-0.85981112,  0.39042856],\n",
              "        [ 1.817528  ,  0.00267265]]))"
            ]
          },
          "metadata": {},
          "execution_count": 2
        }
      ]
    },
    {
      "cell_type": "code",
      "source": [
        "# identity\n",
        "I = np.eye(5)\n",
        "I"
      ],
      "metadata": {
        "colab": {
          "base_uri": "https://localhost:8080/"
        },
        "id": "Igo0E7PClEMZ",
        "outputId": "9c9615d2-7353-4b68-b316-0a7b8b5e3697"
      },
      "execution_count": null,
      "outputs": [
        {
          "output_type": "execute_result",
          "data": {
            "text/plain": [
              "array([[1., 0., 0., 0., 0.],\n",
              "       [0., 1., 0., 0., 0.],\n",
              "       [0., 0., 1., 0., 0.],\n",
              "       [0., 0., 0., 1., 0.],\n",
              "       [0., 0., 0., 0., 1.]])"
            ]
          },
          "metadata": {},
          "execution_count": 3
        }
      ]
    },
    {
      "cell_type": "code",
      "source": [
        "# zeros\n",
        "Z = np.zeros((5,5))\n",
        "Z"
      ],
      "metadata": {
        "colab": {
          "base_uri": "https://localhost:8080/"
        },
        "id": "R_zvdt8TlNL6",
        "outputId": "1673d9f0-96b5-4889-c9cb-93f2ded19b51"
      },
      "execution_count": null,
      "outputs": [
        {
          "output_type": "execute_result",
          "data": {
            "text/plain": [
              "array([[0., 0., 0., 0., 0.],\n",
              "       [0., 0., 0., 0., 0.],\n",
              "       [0., 0., 0., 0., 0.],\n",
              "       [0., 0., 0., 0., 0.],\n",
              "       [0., 0., 0., 0., 0.]])"
            ]
          },
          "metadata": {},
          "execution_count": 4
        }
      ]
    },
    {
      "cell_type": "code",
      "source": [
        "#diagonal\n",
        "D = np.diag([1,2,3,4,5])\n",
        "D"
      ],
      "metadata": {
        "colab": {
          "base_uri": "https://localhost:8080/"
        },
        "id": "rOP2IJ5SlVHy",
        "outputId": "b7bf1cbf-0368-4522-8c83-5414c78283ee"
      },
      "execution_count": null,
      "outputs": [
        {
          "output_type": "execute_result",
          "data": {
            "text/plain": [
              "array([[1, 0, 0, 0, 0],\n",
              "       [0, 2, 0, 0, 0],\n",
              "       [0, 0, 3, 0, 0],\n",
              "       [0, 0, 0, 4, 0],\n",
              "       [0, 0, 0, 0, 5]])"
            ]
          },
          "metadata": {},
          "execution_count": 5
        }
      ]
    },
    {
      "cell_type": "code",
      "source": [
        "#traingular matrix\n",
        "S = np.random.randn(5,5)\n",
        "U = np.triu(S)\n",
        "L = np.tril(S)\n",
        "U, L\n"
      ],
      "metadata": {
        "colab": {
          "base_uri": "https://localhost:8080/"
        },
        "id": "soM0RC-1lcJM",
        "outputId": "265cce8b-6495-4eca-a602-d56c216bcfa9"
      },
      "execution_count": null,
      "outputs": [
        {
          "output_type": "execute_result",
          "data": {
            "text/plain": [
              "(array([[-0.2980203 ,  1.08692083,  0.65959898,  1.06918599,  1.97330949],\n",
              "        [ 0.        , -1.54096136, -2.28858887,  0.1959458 ,  0.302759  ],\n",
              "        [ 0.        ,  0.        , -0.54249504,  0.01585184,  1.03524477],\n",
              "        [ 0.        ,  0.        ,  0.        ,  1.20303965, -0.6305164 ],\n",
              "        [ 0.        ,  0.        ,  0.        ,  0.        ,  0.16231409]]),\n",
              " array([[-0.2980203 ,  0.        ,  0.        ,  0.        ,  0.        ],\n",
              "        [ 1.53569622, -1.54096136,  0.        ,  0.        ,  0.        ],\n",
              "        [-0.44384703,  0.37466854, -0.54249504,  0.        ,  0.        ],\n",
              "        [-0.23712797, -0.17025703,  0.79768807,  1.20303965,  0.        ],\n",
              "        [-0.04574414, -0.69130976,  0.6977217 , -0.36621105,  0.16231409]]))"
            ]
          },
          "metadata": {},
          "execution_count": 6
        }
      ]
    },
    {
      "cell_type": "code",
      "source": [
        "# concatenate\n",
        "A = np.random.randn(3,2)\n",
        "B = np.random.randn(3,4)\n",
        "C = np.concatenate((A,B),axis=1)#same no of rows\n",
        "C\n"
      ],
      "metadata": {
        "colab": {
          "base_uri": "https://localhost:8080/"
        },
        "id": "HgsgZIFTlueq",
        "outputId": "d3245f69-6b7f-485f-9b9b-81602e2f9e31"
      },
      "execution_count": null,
      "outputs": [
        {
          "output_type": "execute_result",
          "data": {
            "text/plain": [
              "array([[-0.63315081,  2.37529911, -0.54831059, -0.41141615,  0.27332229,\n",
              "        -0.76913553],\n",
              "       [ 1.75162448, -1.37265013, -1.37443054, -1.0686263 ,  0.5590487 ,\n",
              "        -1.15834366],\n",
              "       [ 0.06164805,  0.55919178, -1.93060047,  1.38573008,  2.61666357,\n",
              "        -1.69731349]])"
            ]
          },
          "metadata": {},
          "execution_count": 7
        }
      ]
    },
    {
      "cell_type": "markdown",
      "source": [
        "## addition and subtraction"
      ],
      "metadata": {
        "id": "LYrLVKLpJ887"
      }
    },
    {
      "cell_type": "code",
      "source": [
        "A = np.random.randn(5,4)\n",
        "B = np.random.randn(5,3)\n",
        "C = np.random.randn(5,4)\n",
        "\n",
        "sum = A+C\n",
        "sum"
      ],
      "metadata": {
        "colab": {
          "base_uri": "https://localhost:8080/"
        },
        "id": "eUvPrigzKJ4j",
        "outputId": "39eb1f70-96db-4843-d468-eb292b33af86"
      },
      "execution_count": null,
      "outputs": [
        {
          "output_type": "execute_result",
          "data": {
            "text/plain": [
              "array([[ 2.08079613,  0.07994471, -0.09781941, -1.86586229],\n",
              "       [ 1.21948934,  0.22416227,  0.72561433,  2.19516033],\n",
              "       [ 1.03168788,  0.38550376, -1.34973896,  0.04523148],\n",
              "       [-1.37848473,  2.02722231,  1.03425512, -0.15093546],\n",
              "       [ 1.35024707, -0.84031056,  0.30165295,  1.88514408]])"
            ]
          },
          "metadata": {},
          "execution_count": 8
        }
      ]
    },
    {
      "cell_type": "code",
      "source": [
        "# shifting a square matrix\n",
        "l = 0.03\n",
        "N = 5\n",
        "D = np.random.randn(N,N)# original\n",
        "\n",
        "Ds = D + l*np.eye(N)# shifted diagonal\n",
        "D, Ds"
      ],
      "metadata": {
        "colab": {
          "base_uri": "https://localhost:8080/"
        },
        "id": "yexVqRwSK1b_",
        "outputId": "ac2a31d1-5ac8-49b5-95f7-273fddf8f24c"
      },
      "execution_count": null,
      "outputs": [
        {
          "output_type": "execute_result",
          "data": {
            "text/plain": [
              "(array([[-0.63206219, -0.52137203, -0.06270608, -0.4776584 , -1.64027548],\n",
              "        [ 1.51315824,  0.64457072, -0.31886471, -0.16681034, -0.10139707],\n",
              "        [ 0.80177224, -0.6535557 , -1.81742225,  0.60362372, -0.61467105],\n",
              "        [ 0.11133012, -1.71577241,  0.04763415,  1.03647167,  0.59936159],\n",
              "        [ 0.045159  ,  1.22189835, -0.12531926,  1.57802117, -0.47729405]]),\n",
              " array([[-0.60206219, -0.52137203, -0.06270608, -0.4776584 , -1.64027548],\n",
              "        [ 1.51315824,  0.67457072, -0.31886471, -0.16681034, -0.10139707],\n",
              "        [ 0.80177224, -0.6535557 , -1.78742225,  0.60362372, -0.61467105],\n",
              "        [ 0.11133012, -1.71577241,  0.04763415,  1.06647167,  0.59936159],\n",
              "        [ 0.045159  ,  1.22189835, -0.12531926,  1.57802117, -0.44729405]]))"
            ]
          },
          "metadata": {},
          "execution_count": 9
        }
      ]
    },
    {
      "cell_type": "markdown",
      "source": [
        "## Matrix - scaler Multiplication"
      ],
      "metadata": {
        "id": "NIjJg9aJLSC4"
      }
    },
    {
      "cell_type": "code",
      "source": [
        "M = np.random.randn(5,5)\n",
        "s = 2\n",
        "\n",
        "M*s"
      ],
      "metadata": {
        "colab": {
          "base_uri": "https://localhost:8080/"
        },
        "id": "rlNCxL36Lc_Q",
        "outputId": "bc4e39fb-3de7-4b96-b800-221117af76d5"
      },
      "execution_count": null,
      "outputs": [
        {
          "output_type": "execute_result",
          "data": {
            "text/plain": [
              "array([[ 0.10498935, -1.50933588, -0.10480804, -1.92982395, -0.4072068 ],\n",
              "       [ 0.95798724, -0.33007146, -2.59248774,  1.3867808 ,  2.11184703],\n",
              "       [ 0.40238259,  4.1727762 , -0.94819188, -0.67392678,  2.16585511],\n",
              "       [-4.12274758, -0.96923943, -1.74604573, -4.44382275,  2.69667902],\n",
              "       [ 0.99362147, -0.39578786,  0.38882782, -1.98074615, -1.05215592]])"
            ]
          },
          "metadata": {},
          "execution_count": 10
        }
      ]
    },
    {
      "cell_type": "markdown",
      "source": [
        "## Transpose"
      ],
      "metadata": {
        "id": "da8AIfqxLlxP"
      }
    },
    {
      "cell_type": "code",
      "source": [
        "M = np.array([[1,2,3],\n",
        "              [2,3,4]])\n",
        "#np.transpose(M) # works even if M is multidimensional list\n",
        "M.T , M.T.T # single and double transpose # works when M is numpy array\n"
      ],
      "metadata": {
        "colab": {
          "base_uri": "https://localhost:8080/"
        },
        "id": "72Y9KqHqLn8g",
        "outputId": "4c3fad52-1a45-4601-9def-6fdb576a566a"
      },
      "execution_count": null,
      "outputs": [
        {
          "output_type": "execute_result",
          "data": {
            "text/plain": [
              "(array([[1, 2],\n",
              "        [2, 3],\n",
              "        [3, 4]]),\n",
              " array([[1, 2, 3],\n",
              "        [2, 3, 4]]))"
            ]
          },
          "metadata": {},
          "execution_count": 11
        }
      ]
    },
    {
      "cell_type": "code",
      "source": [
        "# complex  matrices\n",
        "C = np.array([ [4+1j , 3 , 2-4j] ])\n",
        "\n",
        "print(C.T) # transpose\n",
        "print(C.conjugate().T) # Hermition transpose\n",
        "print(np.matrix(C).H) # convert to matrix object and then H"
      ],
      "metadata": {
        "colab": {
          "base_uri": "https://localhost:8080/"
        },
        "id": "dm3BkVzGL5rP",
        "outputId": "16cbea55-e214-44da-ed2e-ea0da152c805"
      },
      "execution_count": null,
      "outputs": [
        {
          "output_type": "stream",
          "name": "stdout",
          "text": [
            "[[4.+1.j]\n",
            " [3.+0.j]\n",
            " [2.-4.j]]\n",
            "[[4.-1.j]\n",
            " [3.-0.j]\n",
            " [2.+4.j]]\n",
            "[[4.-1.j]\n",
            " [3.-0.j]\n",
            " [2.+4.j]]\n"
          ]
        }
      ]
    },
    {
      "cell_type": "markdown",
      "source": [
        "## Diagonal and trace"
      ],
      "metadata": {
        "id": "Vp5eLkqnMusp"
      }
    },
    {
      "cell_type": "code",
      "source": [
        "M = np.round( 6*np.random.randn(4,4) )\n",
        "print(M)\n",
        "\n",
        "#extract diagonal\n",
        "d = np.diag(M) # input is matrix, output is vector\n",
        "D = np.diag(d) # input is vector, output is matrix\n",
        "print(d)\n",
        "print(D)\n",
        "\n",
        "#trace (sum of diagonal elements)\n",
        "tr = np.trace(M)\n",
        "#tr2 = sum( np.diag(M) )\n",
        "tr"
      ],
      "metadata": {
        "colab": {
          "base_uri": "https://localhost:8080/"
        },
        "id": "dC087BsNMxmB",
        "outputId": "0ed18e34-2030-4baf-e747-3daba63a84b6"
      },
      "execution_count": null,
      "outputs": [
        {
          "output_type": "stream",
          "name": "stdout",
          "text": [
            "[[ -3. -10.   0. -11.]\n",
            " [ -7.  10.   2.   4.]\n",
            " [ -7. -12.  12.   1.]\n",
            " [  2.   6.  13.  -2.]]\n",
            "[-3. 10. 12. -2.]\n",
            "[[-3.  0.  0.  0.]\n",
            " [ 0. 10.  0.  0.]\n",
            " [ 0.  0. 12.  0.]\n",
            " [ 0.  0.  0. -2.]]\n"
          ]
        },
        {
          "output_type": "execute_result",
          "data": {
            "text/plain": [
              "17.0"
            ]
          },
          "metadata": {},
          "execution_count": 13
        }
      ]
    },
    {
      "cell_type": "markdown",
      "source": [
        "### code challange: linearity of trace"
      ],
      "metadata": {
        "id": "uuVj-9ecZKE7"
      }
    },
    {
      "cell_type": "code",
      "source": [
        "# tr(A) + tr(B) = tr(A+B)??\n",
        "# tr(l*A) = l *tr(A)\n",
        "\n",
        "A = np.random.randn(4,4)\n",
        "B = np.random.randn(4,4)\n",
        "print(A,B)\n",
        "\n",
        "print(np.trace(A+B) - (np.trace(A) + np.trace(B))) #True\n",
        "\n",
        "print(np.trace(12*A) - 12*np.trace(A)) # True"
      ],
      "metadata": {
        "colab": {
          "base_uri": "https://localhost:8080/"
        },
        "id": "YQTMMbSgZORG",
        "outputId": "96764e7c-bca1-40b8-a046-93c733fec83d"
      },
      "execution_count": null,
      "outputs": [
        {
          "output_type": "stream",
          "name": "stdout",
          "text": [
            "[[ 1.43461975 -0.38016891 -1.2887027   1.0243114 ]\n",
            " [ 1.49302189  0.87805511 -0.25476231  0.44261445]\n",
            " [-0.12823659 -1.93116537  0.39040775  0.59748422]\n",
            " [-0.94635778 -0.47598503 -0.35222043  0.87977298]] [[ 0.28810669 -0.84848287 -0.61099183 -0.52182958]\n",
            " [-0.56327263 -1.03711956 -0.32298719  1.01796434]\n",
            " [-0.0059479   1.50939915 -0.97373607 -0.87586035]\n",
            " [ 0.00289595 -0.19017115 -1.08233873  1.04656251]]\n",
            "-4.440892098500626e-16\n",
            "0.0\n"
          ]
        }
      ]
    },
    {
      "cell_type": "markdown",
      "source": [
        "## Broadcast Matric arithmetic"
      ],
      "metadata": {
        "id": "HUGYVSDNOo-p"
      }
    },
    {
      "cell_type": "code",
      "source": [
        "# create a matrix according to column or rows\n",
        "A = np.reshape(np.arange(1,13),(3,4),'F') # F=column, C=row\n",
        "\n",
        "# and two vectors\n",
        "r = [ 10, 20, 30, 40 ]\n",
        "c = [ 100, 200, 300 ]\n",
        "A, r, c"
      ],
      "metadata": {
        "colab": {
          "base_uri": "https://localhost:8080/"
        },
        "id": "g6dqx8hfOtD-",
        "outputId": "52acea38-5164-4c37-fd0a-7cde79bf9ec2"
      },
      "execution_count": null,
      "outputs": [
        {
          "output_type": "execute_result",
          "data": {
            "text/plain": [
              "(array([[ 1,  4,  7, 10],\n",
              "        [ 2,  5,  8, 11],\n",
              "        [ 3,  6,  9, 12]]),\n",
              " [10, 20, 30, 40],\n",
              " [100, 200, 300])"
            ]
          },
          "metadata": {},
          "execution_count": 29
        }
      ]
    },
    {
      "cell_type": "code",
      "source": [
        "print(A+r)# broadcast on rows\n",
        "#print(A+c)# broadcast on columns is only explicit\n",
        "print(A+np.reshape(c,(len(c),1))) # first create column vector and then add"
      ],
      "metadata": {
        "colab": {
          "base_uri": "https://localhost:8080/"
        },
        "id": "VBUMxiDzPaX0",
        "outputId": "8ba1541c-6887-460c-a02f-cada94a90e50"
      },
      "execution_count": null,
      "outputs": [
        {
          "output_type": "stream",
          "name": "stdout",
          "text": [
            "[[11 24 37 50]\n",
            " [12 25 38 51]\n",
            " [13 26 39 52]]\n",
            "[[101 104 107 110]\n",
            " [202 205 208 211]\n",
            " [303 306 309 312]]\n"
          ]
        }
      ]
    }
  ]
}
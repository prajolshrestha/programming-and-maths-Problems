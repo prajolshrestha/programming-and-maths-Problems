{
  "nbformat": 4,
  "nbformat_minor": 0,
  "metadata": {
    "colab": {
      "provenance": [],
      "toc_visible": true,
      "gpuType": "T4"
    },
    "kernelspec": {
      "name": "python3",
      "display_name": "Python 3"
    },
    "language_info": {
      "name": "python"
    },
    "accelerator": "GPU"
  },
  "cells": [
    {
      "cell_type": "code",
      "execution_count": 2,
      "metadata": {
        "id": "EG1hr2oJ4Lzv"
      },
      "outputs": [],
      "source": [
        "import torch"
      ]
    },
    {
      "cell_type": "markdown",
      "source": [
        "# 1.Create Tensor"
      ],
      "metadata": {
        "id": "dyFJPb3T466L"
      }
    },
    {
      "cell_type": "code",
      "source": [
        "#build a tensor\n",
        "matrix = torch.tensor([[1.,2.,3.],\n",
        "                       [4.,5.,6.]],\n",
        "                      dtype=torch.float32,\n",
        "                      device='cuda:0',\n",
        "                      requires_grad=True)\n",
        "matrix, matrix.device"
      ],
      "metadata": {
        "colab": {
          "base_uri": "https://localhost:8080/"
        },
        "id": "BOjldVZ94SHw",
        "outputId": "ffe49771-4182-4754-cd4c-9f1ad40258c7"
      },
      "execution_count": 13,
      "outputs": [
        {
          "output_type": "execute_result",
          "data": {
            "text/plain": [
              "(tensor([[1., 2., 3.],\n",
              "         [4., 5., 6.]], device='cuda:0', requires_grad=True),\n",
              " device(type='cuda', index=0))"
            ]
          },
          "metadata": {},
          "execution_count": 13
        }
      ]
    },
    {
      "cell_type": "code",
      "source": [
        "#random tensor\n",
        "random_tensor = torch.rand(2,3)\n",
        "random_tensor,random_tensor.dtype"
      ],
      "metadata": {
        "colab": {
          "base_uri": "https://localhost:8080/"
        },
        "id": "VEiEMg_d4-1I",
        "outputId": "0ac597f4-43a1-4f8f-82b7-dfb3220125fa"
      },
      "execution_count": 131,
      "outputs": [
        {
          "output_type": "execute_result",
          "data": {
            "text/plain": [
              "(tensor([[0.0979, 0.4611, 0.0148],\n",
              "         [0.7496, 0.9510, 0.7114]]),\n",
              " torch.float32)"
            ]
          },
          "metadata": {},
          "execution_count": 131
        }
      ]
    },
    {
      "cell_type": "code",
      "source": [
        "#arange\n",
        "arange_tensor = torch.arange(0,100,10)\n",
        "arange_tensor,arange_tensor.dtype"
      ],
      "metadata": {
        "colab": {
          "base_uri": "https://localhost:8080/"
        },
        "id": "2zP2EcXm_DOS",
        "outputId": "335ecfa2-b90f-41dd-8e44-9d9391fa95da"
      },
      "execution_count": 132,
      "outputs": [
        {
          "output_type": "execute_result",
          "data": {
            "text/plain": [
              "(tensor([ 0, 10, 20, 30, 40, 50, 60, 70, 80, 90]), torch.int64)"
            ]
          },
          "metadata": {},
          "execution_count": 132
        }
      ]
    },
    {
      "cell_type": "code",
      "source": [
        "#ones\n",
        "ones_tensor = torch.ones(2,3)\n",
        "ones_tensor"
      ],
      "metadata": {
        "colab": {
          "base_uri": "https://localhost:8080/"
        },
        "id": "bYh5-Up99-YD",
        "outputId": "8ab8cf39-7d8e-46a1-bd72-46fe8b5657db"
      },
      "execution_count": 31,
      "outputs": [
        {
          "output_type": "execute_result",
          "data": {
            "text/plain": [
              "tensor([[1., 1., 1.],\n",
              "        [1., 1., 1.]])"
            ]
          },
          "metadata": {},
          "execution_count": 31
        }
      ]
    },
    {
      "cell_type": "code",
      "source": [
        "#zeros\n",
        "zeros_tensor = torch.zeros(2,3)\n",
        "zeros_tensor"
      ],
      "metadata": {
        "colab": {
          "base_uri": "https://localhost:8080/"
        },
        "id": "NYULE5-2-Glu",
        "outputId": "c6aab65c-b9b5-4242-e4d3-d3b2e849ef2a"
      },
      "execution_count": 32,
      "outputs": [
        {
          "output_type": "execute_result",
          "data": {
            "text/plain": [
              "tensor([[0., 0., 0.],\n",
              "        [0., 0., 0.]])"
            ]
          },
          "metadata": {},
          "execution_count": 32
        }
      ]
    },
    {
      "cell_type": "markdown",
      "source": [
        "# 2.Tensor Attributes\n",
        "\n",
        "* dtype\n",
        "* ndim\n",
        "* shape / size()\n",
        "* device\n",
        "\n",
        "💣 Be careful: right datatype, shape & device"
      ],
      "metadata": {
        "id": "kCdoWLMV5HiX"
      }
    },
    {
      "cell_type": "code",
      "source": [
        "random_tensor.dtype, random_tensor.ndim,random_tensor.shape, random_tensor.shape[0], random_tensor.shape[-1],random_tensor.size(),random_tensor.device"
      ],
      "metadata": {
        "colab": {
          "base_uri": "https://localhost:8080/"
        },
        "id": "GP7IjBFz5HIF",
        "outputId": "d3ebd998-2116-4019-c17d-c77e1af92006"
      },
      "execution_count": 10,
      "outputs": [
        {
          "output_type": "execute_result",
          "data": {
            "text/plain": [
              "(torch.float32,\n",
              " 2,\n",
              " torch.Size([2, 3]),\n",
              " 2,\n",
              " 3,\n",
              " torch.Size([2, 3]),\n",
              " device(type='cpu'))"
            ]
          },
          "metadata": {},
          "execution_count": 10
        }
      ]
    },
    {
      "cell_type": "markdown",
      "source": [
        "# 3.Manipulating Tensors\n",
        "\n",
        "* Addition\n",
        "* Substraction\n",
        "* Division\n",
        "* Multiplication (element-wise)\n",
        "* Matrix - Mul\n"
      ],
      "metadata": {
        "id": "bzK6zpMA7XPP"
      }
    },
    {
      "cell_type": "markdown",
      "source": [
        "## 1.Mathmatical Operations"
      ],
      "metadata": {
        "id": "lUWd6Tf8LuN0"
      }
    },
    {
      "cell_type": "code",
      "source": [
        "tensor1 = torch.rand(2,3)\n",
        "tensor1"
      ],
      "metadata": {
        "colab": {
          "base_uri": "https://localhost:8080/"
        },
        "id": "d-f9p8gm8cKH",
        "outputId": "2f028ad6-b6c1-47e3-cdff-f81ef4ef1215"
      },
      "execution_count": 17,
      "outputs": [
        {
          "output_type": "execute_result",
          "data": {
            "text/plain": [
              "tensor([[0.3420, 0.5177, 0.2207],\n",
              "        [0.3656, 0.1593, 0.5512]])"
            ]
          },
          "metadata": {},
          "execution_count": 17
        }
      ]
    },
    {
      "cell_type": "code",
      "source": [
        "#add\n",
        "tensor1 +10"
      ],
      "metadata": {
        "colab": {
          "base_uri": "https://localhost:8080/"
        },
        "id": "l4xhQxgc8x2b",
        "outputId": "06bf79c3-fe5f-497a-a3a4-3c65ae0c9e16"
      },
      "execution_count": 18,
      "outputs": [
        {
          "output_type": "execute_result",
          "data": {
            "text/plain": [
              "tensor([[10.3420, 10.5177, 10.2207],\n",
              "        [10.3656, 10.1593, 10.5512]])"
            ]
          },
          "metadata": {},
          "execution_count": 18
        }
      ]
    },
    {
      "cell_type": "code",
      "source": [
        "#substract\n",
        "tensor1 - 10"
      ],
      "metadata": {
        "colab": {
          "base_uri": "https://localhost:8080/"
        },
        "id": "Mms8vi_V85O4",
        "outputId": "f1df55d6-ea1e-43cc-e9e4-22a6432c05d8"
      },
      "execution_count": 19,
      "outputs": [
        {
          "output_type": "execute_result",
          "data": {
            "text/plain": [
              "tensor([[-9.6580, -9.4823, -9.7793],\n",
              "        [-9.6344, -9.8407, -9.4488]])"
            ]
          },
          "metadata": {},
          "execution_count": 19
        }
      ]
    },
    {
      "cell_type": "code",
      "source": [
        "#division\n",
        "tensor1 / 10"
      ],
      "metadata": {
        "colab": {
          "base_uri": "https://localhost:8080/"
        },
        "id": "JmzAdrev88wN",
        "outputId": "8b3d3a3e-f008-4b2d-95a9-7a4aeabeaf02"
      },
      "execution_count": 20,
      "outputs": [
        {
          "output_type": "execute_result",
          "data": {
            "text/plain": [
              "tensor([[0.0342, 0.0518, 0.0221],\n",
              "        [0.0366, 0.0159, 0.0551]])"
            ]
          },
          "metadata": {},
          "execution_count": 20
        }
      ]
    },
    {
      "cell_type": "code",
      "source": [
        "# Elementwise mul\n",
        "tensor1 * 10"
      ],
      "metadata": {
        "colab": {
          "base_uri": "https://localhost:8080/"
        },
        "id": "CbWaqlGB8_7-",
        "outputId": "e16ad6ce-a358-4394-9a17-debad90c978d"
      },
      "execution_count": 21,
      "outputs": [
        {
          "output_type": "execute_result",
          "data": {
            "text/plain": [
              "tensor([[3.4204, 5.1770, 2.2074],\n",
              "        [3.6559, 1.5931, 5.5116]])"
            ]
          },
          "metadata": {},
          "execution_count": 21
        }
      ]
    },
    {
      "cell_type": "code",
      "source": [
        "# Dot product (Mat mul)--- @ or torch.matmul or torch.tensordot\n",
        "tensor1 @ tensor1.T , torch.matmul(tensor1,tensor1.T),torch.tensordot(tensor1,tensor1.T,dims=1)"
      ],
      "metadata": {
        "colab": {
          "base_uri": "https://localhost:8080/"
        },
        "id": "qjR9CPhW9E4J",
        "outputId": "4bc68e4d-1ca5-49c6-da9c-1de62a7734e9"
      },
      "execution_count": 28,
      "outputs": [
        {
          "output_type": "execute_result",
          "data": {
            "text/plain": [
              "(tensor([[0.4337, 0.3292],\n",
              "         [0.3292, 0.4628]]),\n",
              " tensor([[0.4337, 0.3292],\n",
              "         [0.3292, 0.4628]]),\n",
              " tensor([[0.4337, 0.3292],\n",
              "         [0.3292, 0.4628]]))"
            ]
          },
          "metadata": {},
          "execution_count": 28
        }
      ]
    },
    {
      "cell_type": "markdown",
      "source": [
        "## 2.Aggregating tensor (Statistical Operation)\n",
        "\n",
        "* Min\n",
        "* Max\n",
        "* Mean\n",
        "* sum\n",
        "* var\n",
        "* *std*"
      ],
      "metadata": {
        "id": "5olNqfD696ls"
      }
    },
    {
      "cell_type": "code",
      "source": [
        "tensor2 = torch.arange(0,100,10)\n",
        "tensor2,tensor2.dtype"
      ],
      "metadata": {
        "colab": {
          "base_uri": "https://localhost:8080/"
        },
        "id": "AQIEWXsH-2n-",
        "outputId": "e8f78a4d-3c2f-45c1-d4b4-922df96fe516"
      },
      "execution_count": 39,
      "outputs": [
        {
          "output_type": "execute_result",
          "data": {
            "text/plain": [
              "(tensor([ 0, 10, 20, 30, 40, 50, 60, 70, 80, 90]), torch.int64)"
            ]
          },
          "metadata": {},
          "execution_count": 39
        }
      ]
    },
    {
      "cell_type": "code",
      "source": [
        "# min\n",
        "torch.min(tensor2), tensor2.min()"
      ],
      "metadata": {
        "colab": {
          "base_uri": "https://localhost:8080/"
        },
        "id": "u2UB9VDl-wtE",
        "outputId": "eb1d3cd3-a0fb-481e-a1dd-dbb288188277"
      },
      "execution_count": 48,
      "outputs": [
        {
          "output_type": "execute_result",
          "data": {
            "text/plain": [
              "(tensor(0), tensor(0))"
            ]
          },
          "metadata": {},
          "execution_count": 48
        }
      ]
    },
    {
      "cell_type": "code",
      "source": [
        "# max\n",
        "torch.max(tensor2),tensor2.max()"
      ],
      "metadata": {
        "colab": {
          "base_uri": "https://localhost:8080/"
        },
        "id": "zBYMOFit-1UD",
        "outputId": "da7cf2c2-4bb4-4e49-efa1-ae1f895fca0e"
      },
      "execution_count": 49,
      "outputs": [
        {
          "output_type": "execute_result",
          "data": {
            "text/plain": [
              "(tensor(90), tensor(90))"
            ]
          },
          "metadata": {},
          "execution_count": 49
        }
      ]
    },
    {
      "cell_type": "code",
      "source": [
        "# mean (we need correct datatype) Alert!\n",
        "torch.mean(tensor2.type(torch.float32)), tensor2.type(torch.float32).mean()"
      ],
      "metadata": {
        "colab": {
          "base_uri": "https://localhost:8080/"
        },
        "id": "oxCAri7b_paP",
        "outputId": "7ff3a707-8419-4015-be16-d28ed60a1792"
      },
      "execution_count": 45,
      "outputs": [
        {
          "output_type": "execute_result",
          "data": {
            "text/plain": [
              "(tensor(45.), tensor(45.))"
            ]
          },
          "metadata": {},
          "execution_count": 45
        }
      ]
    },
    {
      "cell_type": "code",
      "source": [
        "# sum\n",
        "torch.sum(tensor2),tensor2.sum()"
      ],
      "metadata": {
        "colab": {
          "base_uri": "https://localhost:8080/"
        },
        "id": "tJtm_TMFADFq",
        "outputId": "9c18a34d-c346-4ec2-8a5b-9630b59e615a"
      },
      "execution_count": 50,
      "outputs": [
        {
          "output_type": "execute_result",
          "data": {
            "text/plain": [
              "(tensor(450), tensor(450))"
            ]
          },
          "metadata": {},
          "execution_count": 50
        }
      ]
    },
    {
      "cell_type": "code",
      "source": [
        "# var\n",
        "torch.var(tensor2.type(torch.float32)),tensor2.type(torch.float32).var()"
      ],
      "metadata": {
        "colab": {
          "base_uri": "https://localhost:8080/"
        },
        "id": "mgKmmud2DxXF",
        "outputId": "bbd74022-3bd7-456d-c20d-b51ef4e1fa70"
      },
      "execution_count": 54,
      "outputs": [
        {
          "output_type": "execute_result",
          "data": {
            "text/plain": [
              "(tensor(916.6667), tensor(916.6667))"
            ]
          },
          "metadata": {},
          "execution_count": 54
        }
      ]
    },
    {
      "cell_type": "code",
      "source": [
        "# std\n",
        "torch.std(tensor2.type(torch.float32)),tensor2.type(torch.float32).std()"
      ],
      "metadata": {
        "colab": {
          "base_uri": "https://localhost:8080/"
        },
        "id": "w1pP5JZHETfi",
        "outputId": "2cd47040-8e8e-428c-f133-581adcd95720"
      },
      "execution_count": 55,
      "outputs": [
        {
          "output_type": "execute_result",
          "data": {
            "text/plain": [
              "(tensor(30.2765), tensor(30.2765))"
            ]
          },
          "metadata": {},
          "execution_count": 55
        }
      ]
    },
    {
      "cell_type": "markdown",
      "source": [
        "## 3.Positional min and max"
      ],
      "metadata": {
        "id": "JFJ4_8AzEcPv"
      }
    },
    {
      "cell_type": "code",
      "source": [
        "# argmin (returns index of min value)\n",
        "tensor2.argmin()"
      ],
      "metadata": {
        "colab": {
          "base_uri": "https://localhost:8080/"
        },
        "id": "u_W4m1FLEbrn",
        "outputId": "6256721b-9d48-4e4e-f3de-36f284c05bbf"
      },
      "execution_count": 56,
      "outputs": [
        {
          "output_type": "execute_result",
          "data": {
            "text/plain": [
              "tensor(0)"
            ]
          },
          "metadata": {},
          "execution_count": 56
        }
      ]
    },
    {
      "cell_type": "code",
      "source": [
        "# argmax (returns index of max value)\n",
        "tensor2.argmax()"
      ],
      "metadata": {
        "colab": {
          "base_uri": "https://localhost:8080/"
        },
        "id": "2m_trIVXElN8",
        "outputId": "6fb4bb5e-1d4d-40a9-f88e-2d790f70a5c9"
      },
      "execution_count": 57,
      "outputs": [
        {
          "output_type": "execute_result",
          "data": {
            "text/plain": [
              "tensor(9)"
            ]
          },
          "metadata": {},
          "execution_count": 57
        }
      ]
    },
    {
      "cell_type": "markdown",
      "source": [
        "## 4.Reshaping, viewing, stacking, Squeeze, Unqueeze, Permute\n",
        "\n",
        "* Reshape tensor\n",
        "* View of tensor is returned but keep same memory as original tensor\n",
        "* Stacking - combine multiple tensors along new dimension (vstack /hstack)\n",
        "* Squeeze - removes all '1' dimension from tensor\n",
        "* Unsqueeze - add '1' dimension to a tensor\n",
        "* Permute - Retuen view of input with dimensions permuted(swapped) in a certain way\n"
      ],
      "metadata": {
        "id": "SZcSf8GGEyds"
      }
    },
    {
      "cell_type": "code",
      "source": [
        "x = torch.arange(1.,10.)\n",
        "x, x.shape"
      ],
      "metadata": {
        "colab": {
          "base_uri": "https://localhost:8080/"
        },
        "id": "MW00DmAyE6oY",
        "outputId": "340d7e17-8156-4fc1-9299-cadb690d1db5"
      },
      "execution_count": 58,
      "outputs": [
        {
          "output_type": "execute_result",
          "data": {
            "text/plain": [
              "(tensor([1., 2., 3., 4., 5., 6., 7., 8., 9.]), torch.Size([9]))"
            ]
          },
          "metadata": {},
          "execution_count": 58
        }
      ]
    },
    {
      "cell_type": "code",
      "source": [
        "# Reshape - add extra dimension (size must be compatible)\n",
        "x_reshaped = x.reshape(9,1) # added one dimension (oth dimension or last dim)\n",
        "x_reshaped, x_reshaped.shape, x.reshape(3,3), x.reshape(1,9)"
      ],
      "metadata": {
        "colab": {
          "base_uri": "https://localhost:8080/"
        },
        "id": "kReZ0banGLFn",
        "outputId": "eecb8e22-4e86-4936-e2aa-cabd6e175758"
      },
      "execution_count": 65,
      "outputs": [
        {
          "output_type": "execute_result",
          "data": {
            "text/plain": [
              "(tensor([[1.],\n",
              "         [2.],\n",
              "         [3.],\n",
              "         [4.],\n",
              "         [5.],\n",
              "         [6.],\n",
              "         [7.],\n",
              "         [8.],\n",
              "         [9.]]),\n",
              " torch.Size([9, 1]),\n",
              " tensor([[1., 2., 3.],\n",
              "         [4., 5., 6.],\n",
              "         [7., 8., 9.]]),\n",
              " tensor([[1., 2., 3., 4., 5., 6., 7., 8., 9.]]))"
            ]
          },
          "metadata": {},
          "execution_count": 65
        }
      ]
    },
    {
      "cell_type": "code",
      "source": [
        "# Change the view\n",
        "z = x.view(1,9)\n",
        "z,z.shape"
      ],
      "metadata": {
        "colab": {
          "base_uri": "https://localhost:8080/"
        },
        "id": "_5GDEvsUGqJg",
        "outputId": "0075f9dd-612d-4866-8cdf-30b1abb6d8d4"
      },
      "execution_count": 66,
      "outputs": [
        {
          "output_type": "execute_result",
          "data": {
            "text/plain": [
              "(tensor([[1., 2., 3., 4., 5., 6., 7., 8., 9.]]), torch.Size([1, 9]))"
            ]
          },
          "metadata": {},
          "execution_count": 66
        }
      ]
    },
    {
      "cell_type": "code",
      "source": [
        "# changing z changes x (because they share same memory)\n",
        "z[:,0] = 5\n",
        "z,x"
      ],
      "metadata": {
        "colab": {
          "base_uri": "https://localhost:8080/"
        },
        "id": "H-HhwK4UHOQL",
        "outputId": "a8c97bef-1d3a-4c26-fdc0-ea78c9aa2e22"
      },
      "execution_count": 67,
      "outputs": [
        {
          "output_type": "execute_result",
          "data": {
            "text/plain": [
              "(tensor([[5., 2., 3., 4., 5., 6., 7., 8., 9.]]),\n",
              " tensor([5., 2., 3., 4., 5., 6., 7., 8., 9.]))"
            ]
          },
          "metadata": {},
          "execution_count": 67
        }
      ]
    },
    {
      "cell_type": "code",
      "source": [
        "# stack\n",
        "x_stacked = torch.stack([x,x,x,x],dim=0) #dim=0 is vstack || dim=1 is hstack\n",
        "x_stacked, x_stacked.shape"
      ],
      "metadata": {
        "colab": {
          "base_uri": "https://localhost:8080/"
        },
        "id": "Lknfj2GgHgKh",
        "outputId": "d7b6046b-7ad3-4bb7-cc55-b6086ba81a97"
      },
      "execution_count": 71,
      "outputs": [
        {
          "output_type": "execute_result",
          "data": {
            "text/plain": [
              "(tensor([[5., 2., 3., 4., 5., 6., 7., 8., 9.],\n",
              "         [5., 2., 3., 4., 5., 6., 7., 8., 9.],\n",
              "         [5., 2., 3., 4., 5., 6., 7., 8., 9.],\n",
              "         [5., 2., 3., 4., 5., 6., 7., 8., 9.]]),\n",
              " torch.Size([4, 9]))"
            ]
          },
          "metadata": {},
          "execution_count": 71
        }
      ]
    },
    {
      "cell_type": "code",
      "source": [
        "# Squeeze\n",
        "x_squeezed = torch.squeeze(x_reshaped)\n",
        "x_squeezed,x_squeezed.shape"
      ],
      "metadata": {
        "colab": {
          "base_uri": "https://localhost:8080/"
        },
        "id": "LXnmR6LVH5Qa",
        "outputId": "f14c846d-c806-4722-8189-0de8d6d0c19e"
      },
      "execution_count": 74,
      "outputs": [
        {
          "output_type": "execute_result",
          "data": {
            "text/plain": [
              "(tensor([5., 2., 3., 4., 5., 6., 7., 8., 9.]), torch.Size([9]))"
            ]
          },
          "metadata": {},
          "execution_count": 74
        }
      ]
    },
    {
      "cell_type": "code",
      "source": [
        "# Unsqueeze\n",
        "x_unsqueezed = torch.unsqueeze(x_squeezed,dim=-1)\n",
        "x_unsqueezed,x_unsqueezed.shape"
      ],
      "metadata": {
        "colab": {
          "base_uri": "https://localhost:8080/"
        },
        "id": "kwMNus3kI6Mk",
        "outputId": "6c66a983-620c-477b-979e-314da139e232"
      },
      "execution_count": 78,
      "outputs": [
        {
          "output_type": "execute_result",
          "data": {
            "text/plain": [
              "(tensor([[5.],\n",
              "         [2.],\n",
              "         [3.],\n",
              "         [4.],\n",
              "         [5.],\n",
              "         [6.],\n",
              "         [7.],\n",
              "         [8.],\n",
              "         [9.]]),\n",
              " torch.Size([9, 1]))"
            ]
          },
          "metadata": {},
          "execution_count": 78
        }
      ]
    },
    {
      "cell_type": "code",
      "source": [
        "# Permute - rearranges the dimensions of the target tensor in a specified order\n",
        "x_original = torch.rand(size=(224,224,3))\n",
        "print(f'Original shape: {x_original.shape}')\n",
        "x_permute = torch.permute(x_original,dims=(2,0,1))\n",
        "print(f'Permuted Shape: {x_permute.shape}')"
      ],
      "metadata": {
        "colab": {
          "base_uri": "https://localhost:8080/"
        },
        "id": "ANbfn93KJToy",
        "outputId": "8390975b-13e3-4f4b-d658-f9d8c7783256"
      },
      "execution_count": 93,
      "outputs": [
        {
          "output_type": "stream",
          "name": "stdout",
          "text": [
            "Original shape: torch.Size([224, 224, 3])\n",
            "Permuted Shape: torch.Size([3, 224, 224])\n"
          ]
        }
      ]
    },
    {
      "cell_type": "markdown",
      "source": [
        "# 4.Indexing"
      ],
      "metadata": {
        "id": "d3ZCTCLFLTTn"
      }
    },
    {
      "cell_type": "code",
      "source": [
        "# create tensor\n",
        "x = torch.arange(1,10).reshape(1,3,3)\n",
        "x, x.shape"
      ],
      "metadata": {
        "colab": {
          "base_uri": "https://localhost:8080/"
        },
        "id": "wqJdoemdLTFS",
        "outputId": "e826cf26-23bd-418e-9735-69c3d514f536"
      },
      "execution_count": 94,
      "outputs": [
        {
          "output_type": "execute_result",
          "data": {
            "text/plain": [
              "(tensor([[[1, 2, 3],\n",
              "          [4, 5, 6],\n",
              "          [7, 8, 9]]]),\n",
              " torch.Size([1, 3, 3]))"
            ]
          },
          "metadata": {},
          "execution_count": 94
        }
      ]
    },
    {
      "cell_type": "code",
      "source": [
        "x[0] #index first dim (dims = 0)"
      ],
      "metadata": {
        "colab": {
          "base_uri": "https://localhost:8080/"
        },
        "id": "Gh56rB1HMOe3",
        "outputId": "cca2d50f-3ae3-4514-a070-ff7726563a34"
      },
      "execution_count": 95,
      "outputs": [
        {
          "output_type": "execute_result",
          "data": {
            "text/plain": [
              "tensor([[1, 2, 3],\n",
              "        [4, 5, 6],\n",
              "        [7, 8, 9]])"
            ]
          },
          "metadata": {},
          "execution_count": 95
        }
      ]
    },
    {
      "cell_type": "code",
      "source": [
        "x[0][0] #index middle dim (dims = 1)"
      ],
      "metadata": {
        "colab": {
          "base_uri": "https://localhost:8080/"
        },
        "id": "zw5bfOVeMRQX",
        "outputId": "90cfb282-5bae-47fd-a7e4-cab56e76f383"
      },
      "execution_count": 96,
      "outputs": [
        {
          "output_type": "execute_result",
          "data": {
            "text/plain": [
              "tensor([1, 2, 3])"
            ]
          },
          "metadata": {},
          "execution_count": 96
        }
      ]
    },
    {
      "cell_type": "code",
      "source": [
        "x[0][0][0] # index last dim (dims = 2)"
      ],
      "metadata": {
        "colab": {
          "base_uri": "https://localhost:8080/"
        },
        "id": "Kk5w4TY9Mi_n",
        "outputId": "e9198d7b-5b57-47d8-a275-3cd8172c88fb"
      },
      "execution_count": 97,
      "outputs": [
        {
          "output_type": "execute_result",
          "data": {
            "text/plain": [
              "tensor(1)"
            ]
          },
          "metadata": {},
          "execution_count": 97
        }
      ]
    },
    {
      "cell_type": "code",
      "source": [
        "x[:,0]"
      ],
      "metadata": {
        "colab": {
          "base_uri": "https://localhost:8080/"
        },
        "id": "c6NQR-r1NoYN",
        "outputId": "e6471e7a-1211-4732-f09d-05c24106ae5f"
      },
      "execution_count": 98,
      "outputs": [
        {
          "output_type": "execute_result",
          "data": {
            "text/plain": [
              "tensor([[1, 2, 3]])"
            ]
          },
          "metadata": {},
          "execution_count": 98
        }
      ]
    },
    {
      "cell_type": "code",
      "source": [
        "x[:,:,1] #all values of 0th and 1st dimension but only index 1 of 2nd dimension"
      ],
      "metadata": {
        "colab": {
          "base_uri": "https://localhost:8080/"
        },
        "id": "p3B7vI7uNrsU",
        "outputId": "aaa3243f-acda-4b30-ef19-4065a607dc52"
      },
      "execution_count": 99,
      "outputs": [
        {
          "output_type": "execute_result",
          "data": {
            "text/plain": [
              "tensor([[2, 5, 8]])"
            ]
          },
          "metadata": {},
          "execution_count": 99
        }
      ]
    },
    {
      "cell_type": "code",
      "source": [
        "x[:,1,1]"
      ],
      "metadata": {
        "colab": {
          "base_uri": "https://localhost:8080/"
        },
        "id": "NpHZqu4APQAu",
        "outputId": "ade055b9-f7cf-437f-9005-dc1d2bd8197d"
      },
      "execution_count": 112,
      "outputs": [
        {
          "output_type": "execute_result",
          "data": {
            "text/plain": [
              "tensor([5])"
            ]
          },
          "metadata": {},
          "execution_count": 112
        }
      ]
    },
    {
      "cell_type": "code",
      "source": [
        "x[0,0,:]"
      ],
      "metadata": {
        "colab": {
          "base_uri": "https://localhost:8080/"
        },
        "id": "cRDOBbfYPcfk",
        "outputId": "fd1e039f-12b2-4e25-ecab-4d534158fa64"
      },
      "execution_count": 113,
      "outputs": [
        {
          "output_type": "execute_result",
          "data": {
            "text/plain": [
              "tensor([1, 2, 3])"
            ]
          },
          "metadata": {},
          "execution_count": 113
        }
      ]
    },
    {
      "cell_type": "code",
      "source": [
        "x[:,2,2]"
      ],
      "metadata": {
        "colab": {
          "base_uri": "https://localhost:8080/"
        },
        "id": "ptc72mObPqxd",
        "outputId": "61d9ee84-851c-4727-b238-189e48011034"
      },
      "execution_count": 116,
      "outputs": [
        {
          "output_type": "execute_result",
          "data": {
            "text/plain": [
              "tensor([9])"
            ]
          },
          "metadata": {},
          "execution_count": 116
        }
      ]
    },
    {
      "cell_type": "code",
      "source": [
        "x[:,:2,2]"
      ],
      "metadata": {
        "colab": {
          "base_uri": "https://localhost:8080/"
        },
        "id": "M_qW0EucOKXW",
        "outputId": "2082d449-b46a-4c9a-cf56-5f829f6589a6"
      },
      "execution_count": 101,
      "outputs": [
        {
          "output_type": "execute_result",
          "data": {
            "text/plain": [
              "tensor([[3, 6]])"
            ]
          },
          "metadata": {},
          "execution_count": 101
        }
      ]
    },
    {
      "cell_type": "code",
      "source": [
        "x[:,2,1:3]"
      ],
      "metadata": {
        "colab": {
          "base_uri": "https://localhost:8080/"
        },
        "id": "U4Nx4dGyOURj",
        "outputId": "6e466971-f507-4ee3-e8b9-840e01d38622"
      },
      "execution_count": 120,
      "outputs": [
        {
          "output_type": "execute_result",
          "data": {
            "text/plain": [
              "tensor([[8, 9]])"
            ]
          },
          "metadata": {},
          "execution_count": 120
        }
      ]
    },
    {
      "cell_type": "markdown",
      "source": [
        "# 5.Pytorch & numpy\n",
        "\n",
        "* default datatype\n",
        " - numpy = int64/float64\n",
        " - pytorch = int64/float32\n",
        " - tensorflow = int32/float32\n",
        "\n",
        "* They don't share memory."
      ],
      "metadata": {
        "id": "xqseyr30Qinr"
      }
    },
    {
      "cell_type": "code",
      "source": [
        "#numpy to tensor\n",
        "import numpy as np\n",
        "n_array = np.arange(1.,8.)\n",
        "tensor_ = torch.from_numpy(n_array)\n",
        "\n",
        "n_array,n_array.dtype,tensor_, tensor_.dtype #pytorch reflects numpy default datatype"
      ],
      "metadata": {
        "colab": {
          "base_uri": "https://localhost:8080/"
        },
        "id": "uSA43omgQhsl",
        "outputId": "c0d4c11e-cfff-4aaa-cea6-06d8fa3d5100"
      },
      "execution_count": 126,
      "outputs": [
        {
          "output_type": "execute_result",
          "data": {
            "text/plain": [
              "(array([1., 2., 3., 4., 5., 6., 7.]),\n",
              " dtype('float64'),\n",
              " tensor([1., 2., 3., 4., 5., 6., 7.], dtype=torch.float64),\n",
              " torch.float64)"
            ]
          },
          "metadata": {},
          "execution_count": 126
        }
      ]
    },
    {
      "cell_type": "code",
      "source": [
        "#tensor to numpy\n",
        "new_array = tensor_.numpy()\n",
        "new_array, new_array.dtype"
      ],
      "metadata": {
        "colab": {
          "base_uri": "https://localhost:8080/"
        },
        "id": "_ab1DOZjRPaN",
        "outputId": "090fa890-52fa-4160-b012-eb9e4301d922"
      },
      "execution_count": 128,
      "outputs": [
        {
          "output_type": "execute_result",
          "data": {
            "text/plain": [
              "(array([1., 2., 3., 4., 5., 6., 7.]), dtype('float64'))"
            ]
          },
          "metadata": {},
          "execution_count": 128
        }
      ]
    },
    {
      "cell_type": "markdown",
      "source": [
        "# 6.Reproducibility\n",
        "\n",
        "**Neural Network workflow**\n",
        " - start with random numbers\n",
        " - tensor operations\n",
        " - update random numbers and try to make better representation of the data\n",
        " - again\n",
        " - again\n",
        " - again ...\n",
        "\n",
        "**Random Seed**\n",
        " - to reduce randomness in NN\n",
        " - Flavours the randomness"
      ],
      "metadata": {
        "id": "eqfPw9lnUCzK"
      }
    },
    {
      "cell_type": "code",
      "source": [
        "#create two random tensors (unreproducable)\n",
        "random_tensor_A = torch.rand(3,4)\n",
        "random_tensor_B = torch.rand(3,4)\n",
        "\n",
        "random_tensor_A, random_tensor_B, random_tensor_A==random_tensor_B"
      ],
      "metadata": {
        "colab": {
          "base_uri": "https://localhost:8080/"
        },
        "id": "Ptz5lM1UUCmW",
        "outputId": "5c96d5c7-779e-4521-982e-cb6ef681f6b3"
      },
      "execution_count": 135,
      "outputs": [
        {
          "output_type": "execute_result",
          "data": {
            "text/plain": [
              "(tensor([[0.2155, 0.6673, 0.5300, 0.2505],\n",
              "         [0.1198, 0.6568, 0.8651, 0.4980],\n",
              "         [0.4668, 0.8498, 0.7571, 0.4677]]),\n",
              " tensor([[0.0851, 0.1357, 0.6744, 0.4119],\n",
              "         [0.9835, 0.6219, 0.7101, 0.6354],\n",
              "         [0.6322, 0.0069, 0.6451, 0.3155]]),\n",
              " tensor([[False, False, False, False],\n",
              "         [False, False, False, False],\n",
              "         [False, False, False, False]]))"
            ]
          },
          "metadata": {},
          "execution_count": 135
        }
      ]
    },
    {
      "cell_type": "code",
      "source": [
        "#create two random tensors (reproducable)\n",
        "RANDOM_SEED = 42\n",
        "torch.manual_seed(RANDOM_SEED)#works only for next line\n",
        "random_tensor_C = torch.rand(3,4)\n",
        "\n",
        "torch.manual_seed(RANDOM_SEED)\n",
        "random_tensor_D = torch.rand(3,4)\n",
        "\n",
        "random_tensor_C, random_tensor_D, random_tensor_C==random_tensor_D"
      ],
      "metadata": {
        "colab": {
          "base_uri": "https://localhost:8080/"
        },
        "id": "PAklaMAMVLwT",
        "outputId": "b85d7b99-ecb5-4524-b2e5-744da0acc783"
      },
      "execution_count": 138,
      "outputs": [
        {
          "output_type": "execute_result",
          "data": {
            "text/plain": [
              "(tensor([[0.8823, 0.9150, 0.3829, 0.9593],\n",
              "         [0.3904, 0.6009, 0.2566, 0.7936],\n",
              "         [0.9408, 0.1332, 0.9346, 0.5936]]),\n",
              " tensor([[0.8823, 0.9150, 0.3829, 0.9593],\n",
              "         [0.3904, 0.6009, 0.2566, 0.7936],\n",
              "         [0.9408, 0.1332, 0.9346, 0.5936]]),\n",
              " tensor([[True, True, True, True],\n",
              "         [True, True, True, True],\n",
              "         [True, True, True, True]]))"
            ]
          },
          "metadata": {},
          "execution_count": 138
        }
      ]
    },
    {
      "cell_type": "markdown",
      "source": [
        "#7.Check GPU"
      ],
      "metadata": {
        "id": "_QwepIQoXzH9"
      }
    },
    {
      "cell_type": "code",
      "source": [
        "!nvidia-smi #device name"
      ],
      "metadata": {
        "colab": {
          "base_uri": "https://localhost:8080/"
        },
        "id": "7efOMfhzXfGX",
        "outputId": "7a308c38-00f2-49ee-ea04-64a75ba4d112"
      },
      "execution_count": 139,
      "outputs": [
        {
          "output_type": "stream",
          "name": "stdout",
          "text": [
            "Mon Jun 26 11:01:58 2023       \n",
            "+-----------------------------------------------------------------------------+\n",
            "| NVIDIA-SMI 525.85.12    Driver Version: 525.85.12    CUDA Version: 12.0     |\n",
            "|-------------------------------+----------------------+----------------------+\n",
            "| GPU  Name        Persistence-M| Bus-Id        Disp.A | Volatile Uncorr. ECC |\n",
            "| Fan  Temp  Perf  Pwr:Usage/Cap|         Memory-Usage | GPU-Util  Compute M. |\n",
            "|                               |                      |               MIG M. |\n",
            "|===============================+======================+======================|\n",
            "|   0  Tesla T4            Off  | 00000000:00:04.0 Off |                    0 |\n",
            "| N/A   74C    P0    30W /  70W |    121MiB / 15360MiB |      0%      Default |\n",
            "|                               |                      |                  N/A |\n",
            "+-------------------------------+----------------------+----------------------+\n",
            "                                                                               \n",
            "+-----------------------------------------------------------------------------+\n",
            "| Processes:                                                                  |\n",
            "|  GPU   GI   CI        PID   Type   Process name                  GPU Memory |\n",
            "|        ID   ID                                                   Usage      |\n",
            "|=============================================================================|\n",
            "+-----------------------------------------------------------------------------+\n"
          ]
        }
      ]
    },
    {
      "cell_type": "code",
      "source": [
        "#check GPU access with pytorch\n",
        "\n",
        "torch.cuda.is_available()"
      ],
      "metadata": {
        "colab": {
          "base_uri": "https://localhost:8080/"
        },
        "id": "hpHuStFyX567",
        "outputId": "af3169e7-949f-481c-f60f-496b4271b067"
      },
      "execution_count": 140,
      "outputs": [
        {
          "output_type": "execute_result",
          "data": {
            "text/plain": [
              "True"
            ]
          },
          "metadata": {},
          "execution_count": 140
        }
      ]
    },
    {
      "cell_type": "code",
      "source": [
        "# setup device agnostic code\n",
        "\n",
        "device=\"cuda\" if torch.cuda.is_available() else \"cpu\"\n",
        "device"
      ],
      "metadata": {
        "colab": {
          "base_uri": "https://localhost:8080/",
          "height": 36
        },
        "id": "1Mp1R2KkYGUu",
        "outputId": "d74d6e81-44c6-49c2-aa96-a49cfee22110"
      },
      "execution_count": 141,
      "outputs": [
        {
          "output_type": "execute_result",
          "data": {
            "text/plain": [
              "'cuda'"
            ],
            "application/vnd.google.colaboratory.intrinsic+json": {
              "type": "string"
            }
          },
          "metadata": {},
          "execution_count": 141
        }
      ]
    },
    {
      "cell_type": "code",
      "source": [
        "# count number of devices\n",
        "torch.cuda.device_count()"
      ],
      "metadata": {
        "colab": {
          "base_uri": "https://localhost:8080/"
        },
        "id": "1W5EdqUCYg7j",
        "outputId": "7bcf196c-a21d-4ff2-d424-35f9fb8abbb0"
      },
      "execution_count": 142,
      "outputs": [
        {
          "output_type": "execute_result",
          "data": {
            "text/plain": [
              "1"
            ]
          },
          "metadata": {},
          "execution_count": 142
        }
      ]
    },
    {
      "cell_type": "markdown",
      "source": [
        "## Putting tensors and models on GPU\n"
      ],
      "metadata": {
        "id": "dEgttMKcZRWT"
      }
    },
    {
      "cell_type": "code",
      "source": [
        "# Putting tensors and models on GPU\n",
        "# create tensor\n",
        "\n",
        "tensor = torch.tensor([1,2,3])\n",
        "tensor, tensor.device"
      ],
      "metadata": {
        "colab": {
          "base_uri": "https://localhost:8080/"
        },
        "id": "t4IJnbZAYnmd",
        "outputId": "94f545ef-5c4e-4b55-f898-86e7f0e88337"
      },
      "execution_count": 145,
      "outputs": [
        {
          "output_type": "execute_result",
          "data": {
            "text/plain": [
              "(tensor([1, 2, 3]), device(type='cpu'))"
            ]
          },
          "metadata": {},
          "execution_count": 145
        }
      ]
    },
    {
      "cell_type": "code",
      "source": [
        "# Move tensor to GPU if available\n",
        "tensor_on_gpu = tensor.to(device) #setup mathi xa\n",
        "tensor_on_gpu"
      ],
      "metadata": {
        "colab": {
          "base_uri": "https://localhost:8080/"
        },
        "id": "eRzkN21AZPtk",
        "outputId": "747b483d-99a4-4271-b042-4e26bffcfd32"
      },
      "execution_count": 146,
      "outputs": [
        {
          "output_type": "execute_result",
          "data": {
            "text/plain": [
              "tensor([1, 2, 3], device='cuda:0')"
            ]
          },
          "metadata": {},
          "execution_count": 146
        }
      ]
    },
    {
      "cell_type": "code",
      "source": [
        "# Move back to cpu\n",
        "tensor_back_to_cpu = tensor_on_gpu.to(device='cpu')\n",
        "#method 2\n",
        "tensor_back_to_cpu = tensor_on_gpu.cpu().numpy()\n",
        "\n",
        "tensor_back_to_cpu"
      ],
      "metadata": {
        "colab": {
          "base_uri": "https://localhost:8080/"
        },
        "id": "7I9Z_CnSZ9xb",
        "outputId": "33102db9-df41-4e21-e988-6b1f8d6d80d8"
      },
      "execution_count": 153,
      "outputs": [
        {
          "output_type": "execute_result",
          "data": {
            "text/plain": [
              "array([1, 2, 3])"
            ]
          },
          "metadata": {},
          "execution_count": 153
        }
      ]
    },
    {
      "cell_type": "code",
      "source": [],
      "metadata": {
        "id": "Sj5VWvZpaoM-"
      },
      "execution_count": null,
      "outputs": []
    }
  ]
}
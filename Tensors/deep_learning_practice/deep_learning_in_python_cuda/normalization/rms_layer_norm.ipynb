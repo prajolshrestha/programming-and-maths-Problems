{
 "cells": [
  {
   "cell_type": "code",
   "execution_count": 15,
   "metadata": {},
   "outputs": [],
   "source": [
    "import torch\n",
    "import torch.nn as nn"
   ]
  },
  {
   "cell_type": "code",
   "execution_count": 16,
   "metadata": {},
   "outputs": [
    {
     "name": "stdout",
     "output_type": "stream",
     "text": [
      "2.3.1+cu121\n"
     ]
    }
   ],
   "source": [
    "print(torch.__version__)"
   ]
  },
  {
   "cell_type": "code",
   "execution_count": 17,
   "metadata": {},
   "outputs": [],
   "source": [
    "class RMSNorm(nn.Module):\n",
    "    def __init__(self, dim, eps = 1e-6):\n",
    "        super().__init__()\n",
    "        self.eps = eps\n",
    "        self.scale = nn.Parameter(torch.ones(dim))\n",
    "\n",
    "    def forward(self, x):\n",
    "        rms = torch.sqrt(torch.mean(x ** 2, dim = 1, keepdim=True) + self.eps)\n",
    "        # Normalize and scale\n",
    "        x_normed = x / rms\n",
    "        return self.scale * x_normed"
   ]
  },
  {
   "cell_type": "code",
   "execution_count": 18,
   "metadata": {},
   "outputs": [
    {
     "data": {
      "text/plain": [
       "tensor([[[[ 1.9269,  1.4873,  0.9007, -2.1055],\n",
       "          [ 0.6784, -1.2345, -0.0431, -1.6047],\n",
       "          [-0.7521,  1.6487, -0.3925, -1.4036],\n",
       "          [-0.7279, -0.5594, -0.7688,  0.7624]],\n",
       "\n",
       "         [[ 1.6423, -0.1596, -0.4974,  0.4396],\n",
       "          [-0.7581,  1.0783,  0.8008,  1.6806],\n",
       "          [ 1.2791,  1.2964,  0.6105,  1.3347],\n",
       "          [-0.2316,  0.0418, -0.2516,  0.8599]],\n",
       "\n",
       "         [[-1.3847, -0.8712, -0.2234,  1.7174],\n",
       "          [ 0.3189, -0.4245,  0.3057, -0.7746],\n",
       "          [-1.5576,  0.9956, -0.8798, -0.6011],\n",
       "          [-1.2742,  2.1228, -1.2347, -0.4879]]],\n",
       "\n",
       "\n",
       "        [[[-0.9138, -0.6581,  0.0780,  0.5258],\n",
       "          [-0.4880,  1.1914, -0.8140, -0.7360],\n",
       "          [-1.4032,  0.0360, -0.0635,  0.6756],\n",
       "          [-0.0978,  1.8446, -1.1845,  1.3835]],\n",
       "\n",
       "         [[ 1.4451,  0.8564,  2.2181,  0.5232],\n",
       "          [ 0.3466, -0.1973, -1.0546,  1.2780],\n",
       "          [-0.1722,  0.5238,  0.0566,  0.4263],\n",
       "          [ 0.5750, -0.6417, -2.2064, -0.7508]],\n",
       "\n",
       "         [[ 0.0109, -0.3387, -1.3407, -0.5854],\n",
       "          [ 0.5362,  0.5246,  1.1412,  0.0516],\n",
       "          [ 0.7440, -0.4816, -1.0495,  0.6039],\n",
       "          [-1.7223, -0.8278,  1.3347,  0.4835]]]])"
      ]
     },
     "execution_count": 18,
     "metadata": {},
     "output_type": "execute_result"
    }
   ],
   "source": [
    "N, C, H, W = 2, 3, 4, 4\n",
    "\n",
    "torch.manual_seed(42)\n",
    "#rms_norm = nn.RMSNorm([C, H, W]) # pytorch version 2.5 required\n",
    "rms_norm = RMSNorm(C*H*W)\n",
    "input = torch.randn(N, C, H, W)\n",
    "input"
   ]
  },
  {
   "cell_type": "code",
   "execution_count": 19,
   "metadata": {},
   "outputs": [
    {
     "data": {
      "text/plain": [
       "tensor([[ 1.7691,  1.3655,  0.8269, -1.9331,  0.6229, -1.1334, -0.0395, -1.4732,\n",
       "         -0.6905,  1.5137, -0.3603, -1.2887, -0.6683, -0.5136, -0.7059,  0.7000,\n",
       "          1.5078, -0.1465, -0.4567,  0.4036, -0.6960,  0.9900,  0.7352,  1.5430,\n",
       "          1.1744,  1.1902,  0.5605,  1.2254, -0.2127,  0.0383, -0.2310,  0.7894,\n",
       "         -1.2713, -0.7999, -0.2051,  1.5767,  0.2928, -0.3898,  0.2807, -0.7112,\n",
       "         -1.4300,  0.9141, -0.8077, -0.5519, -1.1698,  1.9489, -1.1335, -0.4480],\n",
       "        [-0.9633, -0.6938,  0.0822,  0.5543, -0.5144,  1.2559, -0.8581, -0.7758,\n",
       "         -1.4792,  0.0380, -0.0669,  0.7122, -0.1031,  1.9444, -1.2487,  1.4584,\n",
       "          1.5234,  0.9028,  2.3381,  0.5515,  0.3654, -0.2080, -1.1117,  1.3472,\n",
       "         -0.1815,  0.5521,  0.0597,  0.4494,  0.6061, -0.6765, -2.3258, -0.7914,\n",
       "          0.0115, -0.3571, -1.4132, -0.6171,  0.5652,  0.5530,  1.2030,  0.0544,\n",
       "          0.7842, -0.5077, -1.1063,  0.6366, -1.8155, -0.8726,  1.4069,  0.5097]],\n",
       "       grad_fn=<MulBackward0>)"
      ]
     },
     "execution_count": 19,
     "metadata": {},
     "output_type": "execute_result"
    }
   ],
   "source": [
    "normalized = rms_norm(input.view(N, -1))\n",
    "normalized"
   ]
  },
  {
   "cell_type": "code",
   "execution_count": 20,
   "metadata": {},
   "outputs": [
    {
     "name": "stdout",
     "output_type": "stream",
     "text": [
      "Mean and std of input:\n",
      "Image 0:\n",
      "Mean: 0.056767\n",
      "RMS: 1.089204\n",
      "Image 1:\n",
      "Mean: 0.035141\n",
      "RMS: 0.948650\n",
      "\n",
      "Mean and std after RMSNorm:\n",
      "Image 0:\n",
      "Mean: 0.052118\n",
      "RMS: 1.000000\n",
      "Image 1:\n",
      "Mean: 0.037043\n",
      "RMS: 1.000000\n"
     ]
    }
   ],
   "source": [
    "# Print stats\n",
    "print('Mean and std of input:')\n",
    "for i in range(N):\n",
    "    img_s = input[i].flatten()\n",
    "    print(f\"Image {i}:\")\n",
    "    print(f\"Mean: {img_s.mean():.6f}\")\n",
    "    print(f\"RMS: {torch.sqrt(torch.mean(img_s ** 2)):.6f}\")\n",
    "\n",
    "print('\\nMean and std after RMSNorm:')\n",
    "for i in range(N):\n",
    "    img_stats = normalized[i].flatten()\n",
    "    print(f\"Image {i}:\")\n",
    "    print(f\"Mean: {img_stats.mean():.6f}\")\n",
    "    print(f\"RMS: {torch.sqrt(torch.mean(img_stats ** 2)):.6f}\")"
   ]
  }
 ],
 "metadata": {
  "kernelspec": {
   "display_name": "cellpose_gui",
   "language": "python",
   "name": "python3"
  },
  "language_info": {
   "codemirror_mode": {
    "name": "ipython",
    "version": 3
   },
   "file_extension": ".py",
   "mimetype": "text/x-python",
   "name": "python",
   "nbconvert_exporter": "python",
   "pygments_lexer": "ipython3",
   "version": "3.8.19"
  }
 },
 "nbformat": 4,
 "nbformat_minor": 2
}

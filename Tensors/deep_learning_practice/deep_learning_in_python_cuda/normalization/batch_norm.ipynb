{
 "cells": [
  {
   "cell_type": "code",
   "execution_count": 1,
   "metadata": {},
   "outputs": [],
   "source": [
    "import torch\n",
    "import torch.nn as nn"
   ]
  },
  {
   "cell_type": "code",
   "execution_count": 5,
   "metadata": {},
   "outputs": [
    {
     "data": {
      "text/plain": [
       "tensor([[[[ 1.9269,  1.4873,  0.9007, -2.1055],\n",
       "          [ 0.6784, -1.2345, -0.0431, -1.6047],\n",
       "          [-0.7521,  1.6487, -0.3925, -1.4036],\n",
       "          [-0.7279, -0.5594, -0.7688,  0.7624]],\n",
       "\n",
       "         [[ 1.6423, -0.1596, -0.4974,  0.4396],\n",
       "          [-0.7581,  1.0783,  0.8008,  1.6806],\n",
       "          [ 1.2791,  1.2964,  0.6105,  1.3347],\n",
       "          [-0.2316,  0.0418, -0.2516,  0.8599]],\n",
       "\n",
       "         [[-1.3847, -0.8712, -0.2234,  1.7174],\n",
       "          [ 0.3189, -0.4245,  0.3057, -0.7746],\n",
       "          [-1.5576,  0.9956, -0.8798, -0.6011],\n",
       "          [-1.2742,  2.1228, -1.2347, -0.4879]]],\n",
       "\n",
       "\n",
       "        [[[-0.9138, -0.6581,  0.0780,  0.5258],\n",
       "          [-0.4880,  1.1914, -0.8140, -0.7360],\n",
       "          [-1.4032,  0.0360, -0.0635,  0.6756],\n",
       "          [-0.0978,  1.8446, -1.1845,  1.3835]],\n",
       "\n",
       "         [[ 1.4451,  0.8564,  2.2181,  0.5232],\n",
       "          [ 0.3466, -0.1973, -1.0546,  1.2780],\n",
       "          [-0.1722,  0.5238,  0.0566,  0.4263],\n",
       "          [ 0.5750, -0.6417, -2.2064, -0.7508]],\n",
       "\n",
       "         [[ 0.0109, -0.3387, -1.3407, -0.5854],\n",
       "          [ 0.5362,  0.5246,  1.1412,  0.0516],\n",
       "          [ 0.7440, -0.4816, -1.0495,  0.6039],\n",
       "          [-1.7223, -0.8278,  1.3347,  0.4835]]]])"
      ]
     },
     "execution_count": 5,
     "metadata": {},
     "output_type": "execute_result"
    }
   ],
   "source": [
    "N, C, H, W = 2, 3, 4, 4\n",
    "torch.manual_seed(42)\n",
    "input = torch.randn(N, C, H , W)\n",
    "input"
   ]
  },
  {
   "cell_type": "code",
   "execution_count": 7,
   "metadata": {},
   "outputs": [
    {
     "data": {
      "text/plain": [
       "tensor([[[[ 1.8870,  1.4753,  0.9259, -1.8897],\n",
       "          [ 0.7177, -1.0740,  0.0420, -1.4206],\n",
       "          [-0.6221,  1.6265, -0.2853, -1.2323],\n",
       "          [-0.5994, -0.4417, -0.6378,  0.7964]],\n",
       "\n",
       "         [[ 1.3543, -0.5901, -0.9546,  0.0565],\n",
       "          [-1.2360,  0.7457,  0.4463,  1.3957],\n",
       "          [ 0.9624,  0.9811,  0.2409,  1.0224],\n",
       "          [-0.6678, -0.3728, -0.6893,  0.5100]],\n",
       "\n",
       "         [[-1.2570, -0.7293, -0.0636,  1.9308],\n",
       "          [ 0.4937, -0.2703,  0.4801, -0.6300],\n",
       "          [-1.4346,  1.1891, -0.7381, -0.4518],\n",
       "          [-1.1434,  2.3474, -1.1028, -0.3354]]],\n",
       "\n",
       "\n",
       "        [[[-0.7736, -0.5341,  0.1554,  0.5748],\n",
       "          [-0.3748,  1.1981, -0.6801, -0.6070],\n",
       "          [-1.2320,  0.1160,  0.0228,  0.7151],\n",
       "          [-0.0093,  1.8099, -1.0271,  1.3781]],\n",
       "\n",
       "         [[ 1.1416,  0.5063,  1.9757,  0.1467],\n",
       "          [-0.0438, -0.6308, -1.5559,  0.9612],\n",
       "          [-0.6037,  0.1473, -0.3568,  0.0421],\n",
       "          [ 0.2026, -1.1104, -2.7988, -1.2281]],\n",
       "\n",
       "         [[ 0.1771, -0.1821, -1.2117, -0.4356],\n",
       "          [ 0.7170,  0.7051,  1.3387,  0.2190],\n",
       "          [ 0.9305, -0.3289, -0.9125,  0.7866],\n",
       "          [-1.6039, -0.6847,  1.5376,  0.6629]]]],\n",
       "       grad_fn=<NativeBatchNormBackward0>)"
      ]
     },
     "execution_count": 7,
     "metadata": {},
     "output_type": "execute_result"
    }
   ],
   "source": [
    "\n",
    "batch_norm = nn.BatchNorm2d(C, affine = True)\n",
    "normalized = batch_norm(input)\n",
    "normalized"
   ]
  },
  {
   "cell_type": "code",
   "execution_count": 9,
   "metadata": {},
   "outputs": [
    {
     "name": "stdout",
     "output_type": "stream",
     "text": [
      "Mean and std of input image per channel:\n",
      "\n",
      "Channel 0:\n",
      "Mean: -0.087866\n",
      "Std:  1.084790\n",
      "\n",
      "Channel 1:\n",
      "Mean: 0.387244\n",
      "Std:  0.941521\n",
      "\n",
      "Channel 2:\n",
      "Mean: -0.161516\n",
      "Std:  0.988676\n",
      "\n",
      "Mean and std after BatchNorm per channel:\n",
      "\n",
      "Channel 0:\n",
      "Mean: 0.000000\n",
      "Std:  1.015997\n",
      "\n",
      "Channel 1:\n",
      "Mean: 0.000000\n",
      "Std:  1.015995\n",
      "\n",
      "Channel 2:\n",
      "Mean: -0.000000\n",
      "Std:  1.015996\n"
     ]
    }
   ],
   "source": [
    "# Print stats for each channel (since BatchNorm normalizes per channel)\n",
    "print('Mean and std of input image per channel:')\n",
    "for c in range(C):\n",
    "    channel_vals = input[:, c, :, :].flatten()  # All batch, H, W for this channel\n",
    "    print(f\"\\nChannel {c}:\")\n",
    "    print(f\"Mean: {channel_vals.mean():.6f}\")\n",
    "    print(f\"Std:  {channel_vals.std():.6f}\")\n",
    "\n",
    "print('\\nMean and std after BatchNorm per channel:')\n",
    "for c in range(C):\n",
    "    channel_vals = normalized[:, c, :, :].flatten()\n",
    "    print(f\"\\nChannel {c}:\")\n",
    "    print(f\"Mean: {channel_vals.mean():.6f}\")\n",
    "    print(f\"Std:  {channel_vals.std():.6f}\")\n",
    "\n"
   ]
  },
  {
   "cell_type": "code",
   "execution_count": 10,
   "metadata": {},
   "outputs": [
    {
     "name": "stdout",
     "output_type": "stream",
     "text": [
      "\n",
      "For comparison - stats per image:\n",
      "\n",
      "Image 0:\n",
      "Mean: 0.015779\n",
      "Std:  1.040310\n",
      "\n",
      "Image 1:\n",
      "Mean: -0.015779\n",
      "Std:  0.979683\n"
     ]
    }
   ],
   "source": [
    "# For comparison with LayerNorm, let's also look at per-image stats\n",
    "print('\\nFor comparison - stats per image:')\n",
    "for i in range(N):\n",
    "    img_stats = normalized[i].flatten()\n",
    "    print(f\"\\nImage {i}:\")\n",
    "    print(f\"Mean: {img_stats.mean():.6f}\")\n",
    "    print(f\"Std:  {img_stats.std():.6f}\")"
   ]
  }
 ],
 "metadata": {
  "kernelspec": {
   "display_name": "cellpose_gui",
   "language": "python",
   "name": "python3"
  },
  "language_info": {
   "codemirror_mode": {
    "name": "ipython",
    "version": 3
   },
   "file_extension": ".py",
   "mimetype": "text/x-python",
   "name": "python",
   "nbconvert_exporter": "python",
   "pygments_lexer": "ipython3",
   "version": "3.8.19"
  }
 },
 "nbformat": 4,
 "nbformat_minor": 2
}

{
 "cells": [
  {
   "cell_type": "code",
   "execution_count": 6,
   "metadata": {},
   "outputs": [],
   "source": [
    "import torch\n",
    "import torch.nn as nn"
   ]
  },
  {
   "cell_type": "code",
   "execution_count": 7,
   "metadata": {},
   "outputs": [
    {
     "data": {
      "text/plain": [
       "<torch._C.Generator at 0x7f7f710baed0>"
      ]
     },
     "execution_count": 7,
     "metadata": {},
     "output_type": "execute_result"
    }
   ],
   "source": [
    "torch.manual_seed(42)"
   ]
  },
  {
   "cell_type": "code",
   "execution_count": 12,
   "metadata": {},
   "outputs": [
    {
     "data": {
      "text/plain": [
       "Parameter containing:\n",
       "tensor([[ 0.4048, -1.3543, -0.4976],\n",
       "        [ 0.4747, -2.5095,  0.4880],\n",
       "        [ 0.7846,  0.0286,  1.7423],\n",
       "        [-1.3527,  0.2191,  0.5526],\n",
       "        [-0.1853,  0.7528,  1.0131],\n",
       "        [-0.3308,  0.5177,  0.3878],\n",
       "        [-0.5797, -0.1691,  1.9312],\n",
       "        [ 1.0119, -0.4752, -0.4920],\n",
       "        [ 0.2704, -0.5628,  0.6793],\n",
       "        [ 0.4405,  1.1415,  0.0186]], requires_grad=True)"
      ]
     },
     "execution_count": 12,
     "metadata": {},
     "output_type": "execute_result"
    }
   ],
   "source": [
    "n,d = 10, 3\n",
    "embedding_layer = nn.Embedding(num_embeddings= n, embedding_dim= d)\n",
    "\n",
    "embedding_layer.weight"
   ]
  },
  {
   "cell_type": "code",
   "execution_count": 18,
   "metadata": {},
   "outputs": [
    {
     "data": {
      "text/plain": [
       "tensor([[1, 2, 4, 5, 6],\n",
       "        [4, 3, 2, 9, 5]])"
      ]
     },
     "execution_count": 18,
     "metadata": {},
     "output_type": "execute_result"
    }
   ],
   "source": [
    "input = torch.tensor([[1,2,4,5,6], \n",
    "                      [4,3,2,9,5]])\n",
    "input"
   ]
  },
  {
   "cell_type": "code",
   "execution_count": 19,
   "metadata": {},
   "outputs": [
    {
     "data": {
      "text/plain": [
       "tensor([[[ 0.4747, -2.5095,  0.4880],\n",
       "         [ 0.7846,  0.0286,  1.7423],\n",
       "         [-0.1853,  0.7528,  1.0131],\n",
       "         [-0.3308,  0.5177,  0.3878],\n",
       "         [-0.5797, -0.1691,  1.9312]],\n",
       "\n",
       "        [[-0.1853,  0.7528,  1.0131],\n",
       "         [-1.3527,  0.2191,  0.5526],\n",
       "         [ 0.7846,  0.0286,  1.7423],\n",
       "         [ 0.4405,  1.1415,  0.0186],\n",
       "         [-0.3308,  0.5177,  0.3878]]], grad_fn=<EmbeddingBackward0>)"
      ]
     },
     "execution_count": 19,
     "metadata": {},
     "output_type": "execute_result"
    }
   ],
   "source": [
    "output = embedding_layer(input)\n",
    "output"
   ]
  }
 ],
 "metadata": {
  "kernelspec": {
   "display_name": "cellpose_gui",
   "language": "python",
   "name": "python3"
  },
  "language_info": {
   "codemirror_mode": {
    "name": "ipython",
    "version": 3
   },
   "file_extension": ".py",
   "mimetype": "text/x-python",
   "name": "python",
   "nbconvert_exporter": "python",
   "pygments_lexer": "ipython3",
   "version": "3.8.19"
  }
 },
 "nbformat": 4,
 "nbformat_minor": 2
}

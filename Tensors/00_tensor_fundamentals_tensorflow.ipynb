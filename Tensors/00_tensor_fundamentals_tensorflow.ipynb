{
  "nbformat": 4,
  "nbformat_minor": 0,
  "metadata": {
    "colab": {
      "provenance": [],
      "toc_visible": true,
      "gpuType": "T4"
    },
    "kernelspec": {
      "name": "python3",
      "display_name": "Python 3"
    },
    "language_info": {
      "name": "python"
    },
    "accelerator": "GPU"
  },
  "cells": [
    {
      "cell_type": "markdown",
      "source": [
        "\n",
        "# **Introduction**\n",
        "\n",
        "```\n",
        "Tensors are the basic data structure in machine learning and deep learning models.\n",
        "A tensor can be considered as a container for numerical data (numbers).\n",
        "\n",
        "In neural networks, data is represented by using tensors.\n",
        "The input layer of a neural network holds text, speech, audio, images, videos\n",
        "or any other kind of data as tensors that takes numbers.\n",
        "We perform tensor operations (tensor addition, multiplication, reshaping, etc.)\n",
        "throughout the network with these tensors of numerical data.\n",
        "```\n",
        "\n",
        "\n",
        "*   Tensors are nothing but multi-dimensional NumPy arrays\n",
        "*  In deep learning, “tensor” is a general term\n",
        "that is used to refer to an array of any dimension.\n",
        "\n",
        "\n",
        "\n",
        "```\n",
        "Dimensions, axes and rank of a tensor\n",
        "\n",
        "*   Dimensions\n",
        "    A tensor can contain an arbitrary number of dimensions.\n",
        "\n",
        "    0D tensor = scalar\n",
        "    1D tensor = vector\n",
        "    2D tensor = Matrix\n",
        "    3D tensor and so on = Tensor\n",
        "\n",
        "*   Axes\n",
        "    The term “axis” (plural: axes) is another way to refer to a dimension of a tensor.\n",
        "\n",
        "    1D tensor = single axis\n",
        "    2D tensor = two axis\n",
        "    & so on...\n",
        "\n",
        "*  Rank\n",
        "    The number of axes (dimensions) of a tensor is called its rank.\n",
        "\n",
        "    0D tensor = Rank-0 tensor\n",
        "    1D tensor = Rank-1 tensor\n",
        "    & so on...\n",
        "\n",
        "Top takeaway:\n",
        "The dimensionality or rank denotes the number of axes in a tensor.\n",
        "\n",
        "```\n",
        "\n",
        "\n",
        "\n",
        "```\n",
        "Properties of a tensor:\n",
        "\n",
        "\n",
        "*   Rank\n",
        "    The rank is the number of dimensions (axes) of a tensor.\n",
        "    \n",
        "*   Shape\n",
        "    The shape of a tensor returns a tuple of integers\n",
        "    indicating that the number of elements in each dimension (axis).\n",
        "    For example, in the case of a matrix with shape = (2, 3) ,\n",
        "    it means that one axis has 2 elements and the other one has 3 elements.\n",
        "\n",
        "    A scalar has an empty shape of ().\n",
        "    A vector has a shape like (5,).\n",
        "\n",
        "*   Datatype\n",
        "    This refers to the type of data inside a tensor.\n",
        "    This will return data types such as int32 , int64 , float32 , float64 , etc.\n",
        "    The 32-bit data types are default in TensorFlow.\n",
        "    The 64-bit data types are default in NumPy.\n",
        "\n",
        "\n",
        "```\n",
        "\n",
        "\n",
        "\n",
        "\n",
        "\n",
        "\n"
      ],
      "metadata": {
        "id": "C2l8V48UIcqm"
      }
    },
    {
      "cell_type": "code",
      "execution_count": 72,
      "metadata": {
        "id": "vx0nyT-LG4TQ",
        "colab": {
          "base_uri": "https://localhost:8080/"
        },
        "outputId": "d511d6ab-128d-4d3b-83cc-5eff5d001ba5"
      },
      "outputs": [
        {
          "output_type": "execute_result",
          "data": {
            "text/plain": [
              "('2.12.0', '2.0.1+cu118')"
            ]
          },
          "metadata": {},
          "execution_count": 72
        }
      ],
      "source": [
        "# import\n",
        "import tensorflow as tf\n",
        "import torch\n",
        "tf.__version__, torch.__version__"
      ]
    },
    {
      "cell_type": "markdown",
      "source": [
        "# 1.Create Tensor"
      ],
      "metadata": {
        "id": "SjydmA-P61U2"
      }
    },
    {
      "cell_type": "markdown",
      "source": [
        "## 1.tf.constant()"
      ],
      "metadata": {
        "id": "D5ofzdwWZ5xT"
      }
    },
    {
      "cell_type": "markdown",
      "source": [
        "## 0D Tensor"
      ],
      "metadata": {
        "id": "YYZiQIQbWCEs"
      }
    },
    {
      "cell_type": "code",
      "source": [
        "# 0-D tensor / scalar\n",
        "%%timeit\n",
        "scalar = tf.constant(7)\n",
        "scalar,scalar.ndim\n",
        "\n",
        "#A rank-0 tensor contains only one number. It is just a scalar!\n",
        "#Real Example: A pixel value in a grayscale image."
      ],
      "metadata": {
        "colab": {
          "base_uri": "https://localhost:8080/"
        },
        "id": "2sCqX5jMHE2r",
        "outputId": "54a4c952-db7f-48f7-9e44-2a2e6be4db2e"
      },
      "execution_count": 81,
      "outputs": [
        {
          "output_type": "stream",
          "name": "stdout",
          "text": [
            "7.27 µs ± 2.64 µs per loop (mean ± std. dev. of 7 runs, 100000 loops each)\n"
          ]
        }
      ]
    },
    {
      "cell_type": "code",
      "source": [
        "#using torch\n",
        "#%%timeit\n",
        "scalar = torch.tensor(7.,dtype=None,device='cuda:0',requires_grad=True)\n",
        "\n",
        "scalar,scalar.ndim,scalar.device,scalar.grad"
      ],
      "metadata": {
        "colab": {
          "base_uri": "https://localhost:8080/"
        },
        "id": "Nz2in2FmyMmr",
        "outputId": "cb5a3630-68e6-41fd-c595-6e4734b06455"
      },
      "execution_count": 91,
      "outputs": [
        {
          "output_type": "execute_result",
          "data": {
            "text/plain": [
              "(tensor(7., device='cuda:0', requires_grad=True),\n",
              " 0,\n",
              " device(type='cuda', index=0),\n",
              " None)"
            ]
          },
          "metadata": {},
          "execution_count": 91
        }
      ]
    },
    {
      "cell_type": "markdown",
      "source": [
        "## 1D Tensor"
      ],
      "metadata": {
        "id": "J61MtX2XWF7j"
      }
    },
    {
      "cell_type": "code",
      "source": [
        "# 1-D tensor / Vector\n",
        "vector = tf.constant([1,2,3])\n",
        "vector,vector.ndim\n",
        "\n",
        "# A rank-1 tensor contains a set of numbers in a single axis.\n",
        "# Example 1: A pixel value in an RGB image.\n",
        "# Example 2: A flattened grayscale image."
      ],
      "metadata": {
        "colab": {
          "base_uri": "https://localhost:8080/"
        },
        "id": "PP6FVux8HUtl",
        "outputId": "179f22d1-3b7a-4a28-a081-293d03530492"
      },
      "execution_count": 3,
      "outputs": [
        {
          "output_type": "execute_result",
          "data": {
            "text/plain": [
              "(<tf.Tensor: shape=(3,), dtype=int32, numpy=array([1, 2, 3], dtype=int32)>, 1)"
            ]
          },
          "metadata": {},
          "execution_count": 3
        }
      ]
    },
    {
      "cell_type": "markdown",
      "source": [
        "## 2D Tensor"
      ],
      "metadata": {
        "id": "eyIr8aOSWI28"
      }
    },
    {
      "cell_type": "code",
      "source": [
        "# 2-D tensor / Matrix\n",
        "matrix = tf.constant([\n",
        "                      [1,2,3],\n",
        "                      [4,5,6]\n",
        "                    ])\n",
        "matrix,matrix.ndim\n",
        "\n",
        "# A rank-2 tensor is an array of vectors. It has two axes.\n",
        "# Example 1: A tabular dataset with rows and columns.\n",
        "# Example 2: A single non-flattened grayscale image.\n",
        "# Example 3: A batch of flattened grayscale images."
      ],
      "metadata": {
        "colab": {
          "base_uri": "https://localhost:8080/"
        },
        "id": "G_iKG6qTHfpL",
        "outputId": "ef178fea-ee87-4d01-eaa5-460358e371ed"
      },
      "execution_count": 4,
      "outputs": [
        {
          "output_type": "execute_result",
          "data": {
            "text/plain": [
              "(<tf.Tensor: shape=(2, 3), dtype=int32, numpy=\n",
              " array([[1, 2, 3],\n",
              "        [4, 5, 6]], dtype=int32)>,\n",
              " 2)"
            ]
          },
          "metadata": {},
          "execution_count": 4
        }
      ]
    },
    {
      "cell_type": "markdown",
      "source": [
        "## 3D Tensor"
      ],
      "metadata": {
        "id": "GFr37ckvWKzc"
      }
    },
    {
      "cell_type": "code",
      "source": [
        "# 3-D tensor / Tensor\n",
        "tensor = tf.constant([[\n",
        "                       [1,2,3],\n",
        "                       [4,5,6]\n",
        "                      ],\n",
        "                      [\n",
        "                       [1,2,3],\n",
        "                       [4,5,0]\n",
        "                      ]])\n",
        "tensor,tensor.ndim\n",
        "\n",
        "# A rank-3 tensor is an array of several matrices. It has 3 axes.\n",
        "# Example 1: A batch of grayscale images. (samples, height, width)= (1000,254,254)\n",
        "# Example 2: A single RGB image. (height, width, color_channels) = (28,28,3)\n"
      ],
      "metadata": {
        "colab": {
          "base_uri": "https://localhost:8080/"
        },
        "id": "Ahz6gt5yHrpV",
        "outputId": "02a7d29d-9d25-4020-bfa4-0e1455aebf5f"
      },
      "execution_count": 5,
      "outputs": [
        {
          "output_type": "execute_result",
          "data": {
            "text/plain": [
              "(<tf.Tensor: shape=(2, 2, 3), dtype=int32, numpy=\n",
              " array([[[1, 2, 3],\n",
              "         [4, 5, 6]],\n",
              " \n",
              "        [[1, 2, 3],\n",
              "         [4, 5, 0]]], dtype=int32)>,\n",
              " 3)"
            ]
          },
          "metadata": {},
          "execution_count": 5
        }
      ]
    },
    {
      "cell_type": "markdown",
      "source": [
        "## 4D Tensor"
      ],
      "metadata": {
        "id": "7yZzhx_lWMTs"
      }
    },
    {
      "cell_type": "code",
      "source": [
        "# 4-D tensor / Tensor\n",
        "%%time\n",
        "tensor_4d = tf.constant([[[\n",
        "                         [1,2,3],\n",
        "                         [4,5,6]\n",
        "                         ],\n",
        "                         [\n",
        "                         [1,2,3],\n",
        "                         [4,5,6]\n",
        "                         ]],\n",
        "                        [[\n",
        "                         [1,2,3],\n",
        "                         [4,5,6]\n",
        "                         ],\n",
        "                         [\n",
        "                         [1,2,3],\n",
        "                         [4,5,6]\n",
        "                         ]]])\n",
        "tensor_4d,tensor_4d.ndim, tensor_4d.device\n",
        "\n",
        "# A rank-4 tensor is created by arranging several 3D tensors into a new array. It has 4 axes.\n",
        "# Example 1: A batch of RGB images. (samples, height, width, color_channels) = (1000, 28, 28, 3)\n",
        "# Example 2: A single video.  (frames, height, width, color_channels) = (240, 720, 1280, 3) 'HD video'"
      ],
      "metadata": {
        "colab": {
          "base_uri": "https://localhost:8080/"
        },
        "id": "_TgcSUjiPHJa",
        "outputId": "e896f9c9-9331-4109-d662-d8436f96cbfb"
      },
      "execution_count": 59,
      "outputs": [
        {
          "output_type": "stream",
          "name": "stdout",
          "text": [
            "CPU times: user 384 µs, sys: 0 ns, total: 384 µs\n",
            "Wall time: 392 µs\n"
          ]
        },
        {
          "output_type": "execute_result",
          "data": {
            "text/plain": [
              "(<tf.Tensor: shape=(2, 2, 2, 3), dtype=int32, numpy=\n",
              " array([[[[1, 2, 3],\n",
              "          [4, 5, 6]],\n",
              " \n",
              "         [[1, 2, 3],\n",
              "          [4, 5, 6]]],\n",
              " \n",
              " \n",
              "        [[[1, 2, 3],\n",
              "          [4, 5, 6]],\n",
              " \n",
              "         [[1, 2, 3],\n",
              "          [4, 5, 6]]]], dtype=int32)>,\n",
              " 4,\n",
              " '/job:localhost/replica:0/task:0/device:GPU:0')"
            ]
          },
          "metadata": {},
          "execution_count": 59
        }
      ]
    },
    {
      "cell_type": "markdown",
      "source": [
        "## 5D Tensor"
      ],
      "metadata": {
        "id": "IarcwG0rWdDT"
      }
    },
    {
      "cell_type": "code",
      "source": [
        "# 5-D tensor / Tensor\n",
        "tensor_5d = tf.constant([[[[[1,2,3],\n",
        "                         [4,5,6]],\n",
        "                         [[1,2,3],\n",
        "                         [4,5,6]]],\n",
        "                        [[[1,2,3],\n",
        "                         [4,5,6]],\n",
        "                         [[1,2,3],\n",
        "                         [4,5,6]]]],\n",
        "                        [[[[1,2,3],\n",
        "                         [4,5,6]],\n",
        "                         [[1,2,3],\n",
        "                         [4,5,6]]],\n",
        "                        [[[1,2,3],\n",
        "                         [4,5,6]],\n",
        "                         [[1,2,3],\n",
        "                         [4,5,6]]]]])\n",
        "tensor_5d,tensor_5d.ndim\n",
        "\n",
        "# A rank-5 tensor is created by arranging several 4D tensors into a new array. It has 5 axes.\n",
        "# Example: A batch of videos. (samples, frames, height, width, color_channels) = (5, 240, 720, 1280, 3)"
      ],
      "metadata": {
        "colab": {
          "base_uri": "https://localhost:8080/"
        },
        "id": "B0DmW6zeR5XY",
        "outputId": "12541d4d-6b09-4f1a-97b9-a9f968f058d1"
      },
      "execution_count": 7,
      "outputs": [
        {
          "output_type": "execute_result",
          "data": {
            "text/plain": [
              "(<tf.Tensor: shape=(2, 2, 2, 2, 3), dtype=int32, numpy=\n",
              " array([[[[[1, 2, 3],\n",
              "           [4, 5, 6]],\n",
              " \n",
              "          [[1, 2, 3],\n",
              "           [4, 5, 6]]],\n",
              " \n",
              " \n",
              "         [[[1, 2, 3],\n",
              "           [4, 5, 6]],\n",
              " \n",
              "          [[1, 2, 3],\n",
              "           [4, 5, 6]]]],\n",
              " \n",
              " \n",
              " \n",
              "        [[[[1, 2, 3],\n",
              "           [4, 5, 6]],\n",
              " \n",
              "          [[1, 2, 3],\n",
              "           [4, 5, 6]]],\n",
              " \n",
              " \n",
              "         [[[1, 2, 3],\n",
              "           [4, 5, 6]],\n",
              " \n",
              "          [[1, 2, 3],\n",
              "           [4, 5, 6]]]]], dtype=int32)>,\n",
              " 5)"
            ]
          },
          "metadata": {},
          "execution_count": 7
        }
      ]
    },
    {
      "cell_type": "markdown",
      "source": [
        "## Tensor **Visualization**"
      ],
      "metadata": {
        "id": "0EjKiCwrWg3b"
      }
    },
    {
      "cell_type": "markdown",
      "source": [
        "![6e8f935a.png](data:image/png;base64,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)"
      ],
      "metadata": {
        "id": "LaZTfhhaIb-B"
      }
    },
    {
      "cell_type": "markdown",
      "source": [
        "\n",
        "\n",
        "```\n",
        "In machine learning, tensors–in conjunction with better hardware systems–\n",
        "allow for rapid processing of huge amounts of data.\n",
        "\n",
        "*  parallelized computation\n",
        "\n",
        "The inputs, outputs, and \"neurons\" (or weights and biases (yes, pun intended)) of deep neural networks (DNNs)\n",
        "are organized into matrices or tensors.\n",
        "Every time the input data is fed into a DNN,\n",
        "a chain of matrix multiplication occurs.\n",
        "Because \"neurons\" and input data are in tensor format and\n",
        "because we have hardware like GPUs and TPUs\n",
        "that specialize in parallel computing,\n",
        "a huge amount of arithmetic can be done at the same time,\n",
        "speeding up processing by thousands of orders of magnitude.\n",
        "```\n",
        "\n",
        "Let's see an example of tensors in ML:\n",
        "\n",
        "Tensors in A Shallow Dense Neural Network.\n",
        "\n"
      ],
      "metadata": {
        "id": "hiJdT2v5UB7a"
      }
    },
    {
      "cell_type": "markdown",
      "source": [
        "![image.png](data:image/png;base64,iVBORw0KGgoAAAANSUhEUgAABGsAAANHCAYAAACB4NBeAAAgAElEQVR4nOzdd3hUVfoH8O9778ykElroRRBmJoUqKC4QSMG6llV/oODaBRWlBHUta4m9E4qi4NrWulhWV9dKSEgQV0VDMWTmXhQLTWkSCCkzc9/fHwRMZibJJExmJsn7eR4fybnn3PuGCcnJO+e8hyCEEEII0Qqkz8rvq5pMQwAcD9AAgPsBSARRV2J0AHEUM1kIbDCoCkAVgfcBtIcJu9jgH4noR/Z49HIu/+7LxWeWhflTEkIIIYTwi8IdgBBCCCGEt2GXfBLXtUvMeEXFOLAyjohHAtQ5mM9gxo8E/oqBNcxctHLBhGIAHMxnCCGEEEI0hyRrhBBCCBERJsxc1c8SRf8Hoj+DMR5EUSENgHkXE33K4Pf2H/z9v98sO/tQSJ8vhBBCCFFDkjVCCCGECJsxsz5MiDPFTyMolwI4mShC5iaMQ0x4n9nz/Mrc/BVAjhHukIQQQgjRfkTGhEgIIYQQ7Ur67PwhqsmUTUwXgRAb7ngawsBPxPxMZSWWrn46bV+44xFCCCFE2yfJGiGEEEKETMbcwnGqQncCdFpTx0aZFQzoGYvjesaiR+co9OwSjc4dzEiIMyE+xgSzqsBsIhgMuNwGql0Gyg65UVbuwp791di5rwrbd1fix52HsG13BbjJ1Wm4nBn/qGZ+pGjBhB1NHS2EEEIIEShJ1gghhBCixWXMLhqlqvQgCKcGOqZrggWj7J0wZGACUgZ0QL9uMVCU4Exdqlwe6L+U47sfy7Dx+zKs/34/qlyB7XRiRgUDz1B15QN5T03aE5SAhBBCCCFqkWSNEEIIIVrMuBs+7R1tjn4QUC4NpB7NgJ6xmDg8EeOGdsHAXnGhCBEAUO02sOH7/Shavwerv9uDsnJ3AKN4HzPu8RS7nyooyAhkgBBCCCFEQCRZI4QQQogWkKNkZWddS6CHQEhoqGeHGBOyRnXDGWN64PjeoUvQ1MfjYXxZuhcffvkrvi7dB6Ox7VKMjR6Dp+cvTPsyJAEKIYQQos2TZI0QQgghgipzVt4gMlv+SaCxDfXrkxiNCyb0xikndke0RQ1VeE2yc28l/l24HR999RsqqjwNdTUYvOAn14HbNy8+sypU8QkhhBCibZJkjRBCCCGCJjO76AoCFhFRfH19+nSLxiWn9EPGyG5Bq0HT0soOufBm/ja8u3oHKqsbqG3D2Oj2uKYVLMr4LnTRCSGEEKKtaR0zJCGEEEJEtD9lL4+Jpd5LCLi8vj6xUSouPa0f/jK+N1S1dU5B9pZVY+n7P2Llt7vq7cOMCma+ZuWCtJdDGJoQQggh2pDWOVMSQgghRMQYd8OnvWPMsf8FYUR9fTJP6IYZZw9A1wRLKENrMeu/348n3/kBP+48VG8fA1i8cv6KuUBOYMdMCSGEEELUkGSNEEIIIZot/Yb8JJPZ9AmI+vu73qNzFG6easXwQR1DHVqL83gYb63ahhc++hmeeqoQM+Ptn9xlF0sdGyGEEEI0hSRrhBBCCNEsWXML/kRk+gCELv6ujx/aBTdeaEV8jCnUoYWU8+cDuP9lJ3bu9Z+PYaCQDlacs2LZKftDHJoQQgghWilJ1gghhBCiybLmFJ1FCv0LhFjva2aVcM05A3Hu+F7hCC0syivcmP/mZhSu3+O/A2NjhevQ6Z8/eer20EYmhBBCiNZIkjVCCCGEaJKMOYWnKYryPhHM3tc6dzDjgatTYO1b72FQbdrbq7bhmf/8WN9lh/ugK61gWcbuUMYkhBBCiNZHkjVCCCGECFjGnKIxqoo8gOK8r/VJjMZDM1LRq2t0OEKLGAXFu/DI6zrcHt86Ngx87al0ZRYsyTgYhtCEEEII0Uqo4Q5ACCGEEK3DhLmrkk2KsoKIfKoF2/rF4/HrhiCxU1Q4QosoA3rFIXVAB3y+cS9cXgkbAvqQqpwU0++Mf+3a9KYnTCEKIYQQIsIp4Q5ACCGEEJFvwsxV/cykfEqErt7Xhg/qiMevG4KO8T67otqtkdZOeGLmEMTH+L4vRkSTevft9TJkhbMQQggh6iEra4QQQgjRoPTL86NNHdRPiSjJ+5q1bxwempGC2Oi2feJTc3RJsGDowATkF+/2PdqbKHXgyZcbW/73wqrwRCeEEEKISCYra4QQQgjRIFNn0xICjfJu79MtGg9OT5VETQNSBybgzsvsUBV/i2iUnElzC/8c8qCEEEIIEfEkWSOEEEKIemXNK/wriK7wbu+aYMEjM1LRSbY+NWpMchfcfNFgn3YiEJPy0rgbPu0dhrCEEEIIEcEkWSOEEEIIvybcsGogsfKUd7uqEO6+PAk9urTvU5+aImtUd1yU2cennQhdYywx/4TUrxFCCCFELZKsEUIIIYQ/ZDYrz4OQ4H1h+tkDkHxch3DE1KpdfsZxGDLQ568TAGVlzS2aGfKAhBBCCBGxJFkjhBBCCB9Zc4umE1G6d/u4IV1wwQTZtdMcqkL4+yU2dIzzU+NHoYcmzS7qH/qohBBCCBGJJFkjhBBCiDrSZhV2A+ER7/YenaNw80XWcITUZiR2jMKtF9t82gnowCYsDENIQgghhIhAkqwRQgghRB0WE91PRJ2822dfMAhxMXLy07Eabe+MU0/s7tNOoL9kZRdNCkNIQgghhIgwkqwRQgghxFGTslcNJaKrvdvHD+2Kk5I7hyOkNmnGWQPQwU/ii0DzgRyZnwkhhBDtnEwGhBBCCHEUk3IvvOYH0RYFM/8yMEwRtU0d4824+qzjfC8Qhk7KnnRR6CMSQgghRCSRZI0QQgghAADp2fmjCfQX7/ZLT+uPbp2iwhFSm3bGmB5I7h/v5wrnYPJyNeQBCSGEECJiSLJGCCGEEAAAFaZbvNu6d7LgL+N7hSOcNo+IMP3sAf4uWDP69r4g9BEJIYQQIlJIskYIIYQQyJyVN4iIzvduv/iUfjCbZLrQUoYe3xGjbD61nKEQbgpDOEIIIYSIEDL7EkIIIQRgiroeXvOCrgkWv6cWieCaOqmvTxsBJ2bNLfhTGMIRQgghRASQZI0QQgjRzg2e9WEUAZd6t58/oTdMqkwVWtrwQR1h6+endo1imhH6aIQQQggRCWQGJoQQQrRzx5nizyNC19ptFpOCM0/uEa6Q2p3z0nzrAhFjyrgr3+sQhnCEEEIIEWaSrBFCCCHaPZrm3TJheFfEx5jCEUy7NGFYIuJjvA6AIsRGd+p8bngiEkIIIUQ4SbJGCCGEaMfS5+Z3IqLTvNtPHyOrakLJYlaQeUI3n3Zi5aIwhCOEEEKIMJNkjRBCCNGOmch8JgBL7bauCRYMHZgQpojar/QRib6NhFOGXfJJXOijEUIIIUQ4SbJGCCGEaMcYOMO7LW1YVygKhSOcdm3IwAR0TbB4N1u6donOCkc8QgghhAgfSdYIIYQQ7RcR2GcL1JiUzuGIpd0jIpyU7Pt3r6rq6WEIRwghhBBhJMkaIYQQop2aMHdVEojqFEqJMisYNqhjuEJq905M8k3WMPOEMIQihBBCiDCSYx6EEEKIyEdr166N6dixY5zb7Y4zDCPOZDLFMXOcoihxzBwHIHr79u2vZmRkuAO9qUmh8d5tKQM6wGKS93LCZfggf7WCKGX8dUWdVz+dti/kAQkhhBAiLCRZI4QQQkQAp9N5pqIoNzJzHBHFef0/FgABgMnk+6ObiADgwaYkagCAmMbAqzRN6gApLBxOCXFm9O8eg59/qzjaRgQyW/gkAJ+ELzIhhBBChJK8dSaEEEJEgMrKylXMnEREYwAMIaKBALoTURzgnVKpi5nXV1dX39PUZxJouHdb8nEdmnobEWRJfl4DVcGwMIQihBBCiDCRZI0QQggRAYYPH15ORHc2dRwzV3s8nktSU1OrmzYyR2Eg1bv1+N6xTQ1BBNnxvX1P6mYokqwRQggh2hFJ1gghhBAR4tVXX32RmTc0ZQwR3ZWcnLyxqc/KvD6tHxFiard1iDEhsWNUU28lgmxgT38JM7aFPBAhhBBChI0ka4QQQogIkZOTYzDzU00YsubVV199rDnPYot5gHdbr8To5txKBFkfP68DAQPDEIoQQgghwkSSNUIIIUQEcDqdiZqm5RJRQMkaZi6vrq6+LCcnx2jO8xQovsmaLrKqJhIkdoqC4j1DI+o2asb7skdNCCGEaCfkNCghhBBhM2nWqpFsVk868rFhYFf+gvHv+OubOWfVBFLVZBjGr3kLJrxb+9rYaz/pHhMbd17ttkO8/Z9f5E6pQITLz8+P7t279/VEdBcRBXwUExHdnJqaurm5zyUY3b3fs+kqW6AigqoQunSwYPf+umWIOppjuwH4KTxRCSGEECKUJFkjhBAibDwKdVcZ14IwAgBUYh2A32SNoigPAhjHpDgB1EnWxMTExoP5NCI6mrCJ455bAfy35aI/ZqTr+jQADwLo35SBzPypzWZ7+lgezqCu3kdMdYyTaUGkSIg1+SRrWLUkQpI1QgghRLsg26CEEEKETf7CCZ9UV3nOYQYDAAiJ/vqNmvF+LINqVuBwD+/reblpPxzCjouZ4TrcBXvdv3vyWiruY6Xr+kRd178G8AqamKgB8DszXxmEMDp7N3SIlWRNpEiIM/tp5U4hD0QIIYQQYSHJGiGEEGFVuGTiLyD8DADM1AmTl6vefTrFdB5HBDMAEFGnwbM+9NmvY7jjzUf6MPiFghczKls69qZyOBx2XdffA1AAYFR9/Zi5jJnvYuZH/FyeZbfbtx17NOzzdxhl9vmrF2ESZfadoqkKmlwB2uFwjNN1fWZJSUl8UAITQgghREhIskYIIUT4Mb4HACJQWs+eXXyuK3xW7Q/7G1E9vbt0oA7Dav5Y7XG7F7REmM2l63o3TdMWKoryHYBz6uvHzG5mXkZEg202230VFRX3MfOOWtfftlqtrwQjJiKyeLeZVO+NUSJc/L0Whp/XrDGKotwK4Cmz2bzN6XTO13V9UDDiE0IIIUTLkmSNEEKISLD9yB9U9nStfWHMrA8TQHQFgzcdbbSYfbZCQaWLAYCZXyxYnLG15UINXH5+frSmaTcz82Yimk1EDe0z+oiZh9pstmusVusuABg+fHg5Ed1Zc/1XZr42WLExwycbQJKriRj+Xgvmpr1Cuq4PIqIzD9+PEhRFyQaga5r2H03TJgG+XwNCCCGEiAySrBFCCBF+xEeTNWRS6yRr4tUOV4MRz4Yx60gbG1xnZc24K9/rwOC/MqOCUX1vywfcKNI0bWrfvn01Inq0kVOevnG73RlWq/VMu93u8L746quvvgBgo8fjmWG323cHLUJGtXeT28NBu704Ni6372uhMPu8Zg1h5hvgO9cjIjqbiD7TNG2TpmnXrl+/Pu4YQhVCCCFEC5BkjRBCiPDjWitrahUZHjVjqRkKzSbwv411RuGRdlKpzsqamI5drieieIAXrczNarCeS/rc/E5ATpN//gU6rrS0NF3TtG+J6DUA/Rro+jOAS6xW64nJyckF9XXKyckxAJyZlJT0n6bG3BAiVHm3VbuMYD5CHINqt7/Xgnxes/rk5+dHE9EVDfUhoiQiejo2NnabruuPyxYpIYQQInJIskYIIUTYMf2RrAHT0ZU1neJTrgOjv4dwb0FBhpuZfwcAMpSjK2vSZhV2A+g2ZmzzVLnvr+8Z6TPze2bNLXrGRKbdmdlpvQKNLdBxTqczSdO0d0wmUz4Rjaj3cz1cPPjOrVu32mvqzzS6nMVqtQZ9WxcDZd5tByrcwX6MaKaDfl4LVoz9gY7PyMioBDCWmZcyc3kj3TsCuBGApuv6e06nM6tJwQohhBAi6OSMTiGEEGGnuLHjyE8kBicCNStZmO4C8Xv589PWAwAIvwHoBPpjG5TFRDkgJDD46oIlGQe9750+Mz9ejTLfTMQ3AhQHAMZBpdEVCoGOW79+ffeYmJg7AFzXUE0aZnYDeI6I7jxSkyacCPDZUlVW7gpHKMKP/eV+Emdu156m3MNqtW4CcG1xcfGtcXFxVwOYSUQDGxiiADhHUZRzNE3bBGBRRUXFK8OHD28s2SOEEEKIIJOVNUIIIcKO1Vora5TDK2tUMuWAuKPH7b7zj560s+b/PQAga07BiQRcw+APVs5Pe7POTScvV7PmFs1Qo006EV8B0C9HLrlVk6feYAIct2bNmhhN0/4WExOzmYhmNZKo+a9hGENsNtu1kZCoAQAG+cSxp0ySNZGAmbGvzLc8TTmqmvW1M3LkyN9tNtvjr7322mDDMM4DkN/YGCJKIaJnYmNjt2qa9pjD4WgoySOEEEKIIJNkjRBCiLDz7HNvr/Vh4qTsVUMJuAFMuQWLMr6rdW0HABC4Z8rk5RYo6gsMHKisrrjG+55Z3XsNIkIOG3zbivlpxxluz1WBxBLAONI0bVq3bt2cRPQIEXVo4HZrAaTbbLazkpKSnIE8P2QM/OzdtHNvZTgiEV72lFXD5VXsmZl//3LxmT5b15oiJyfHsNvt71qt1szq6uohAJ4FcKiRYZ2I6CZVVTfruv5vh8ORcSwxCCGEECIwkqwRQggRdgUvZlQCvA8ACJTIUJ8CsG3X7vJ7avcjw9gBAEzUs3e/XncRUSoD8z5/8tTt3vfMeypN+9F9YODKBRNeBMAKo+LINVOUn6N2Ahh357RO4zRN+4aIXkUjxYMNw7jMarWeZLVaVwX41xBSHsW1xbttxx5J1kSCnXt8d+kR6MdgPiM1NbXEarXOqKio6MvMtzBzY/dXAPxFVdWVuq5/53Q6p69duzY2mDEJIYQQ4g+SrBFCCBERuOZEKAafSoQ0j2HM2vDyaXVqZXDNyhow+jNwC4PfXZmb9kJ999y8+MyAT88JZFzPzpb3iWhkA0P3G4bx961bt9rtdvs/EUDx4GAoLS21NXXMgXLtJ2bU2fe074BL6tZEgC07fUvEMHhzSzxr2LBh+2w226Pr1q0bzMwXMHMgycVURVGWdezYcaumaY+UlpYOaInYhBBCiPZMkjVCCCEiQ82JUASKZsZ7+Qsn+hxVzaDD26AIZmLsQlXV1S0Z0vr167tff27iLY31Y2Y3Mz9jGMZgu93+YM1JPC3O6XSmaZpWaDKZbmrq2G+WXeMiwOHd/sMOqSUbbj9s97MziWlDSz5zypQpHpvN9o7NZkt3u93DAPwD+GNVWT06E9HfTCbTZk3T3tZ1fWJLxiiEEEK0J5KsEUIIERmMmlUz4HLy8Gx/Xdjgw6tvGMwGXZb31KQmnY4TqDVr1sToun5rTEzM5oRYurChvsz8gcfjSbXZbNfZ7XafE5ZaQmlp6Shd1z9SFKWQiNIAbGrOfZjgkwBw/OxzoJYIMecvB3zaiIwWTdbUlpycvNFqtU6vrq7uC+BWwLe+kReViM4HUKDr+gan03n1mjVrYlo+UiGEEKLtkmSNEEKIiOAyjPsZ7kyw8acVi9L8/nJYfXDfVwx3Jgz3mLyF4z8Ldgw5OTmKrusXJyYmagAeaqh4MDN/zcwTbTbb2cnJyVqwY/FH1/UUTdPeMplMXwM4vdalZiVrwPy1d1PJlmOqYSuOUUWVB99v813dVOGq9HmtWlpqaupeq9X6SHFx8fHM/H/MXBjAsKGKojybmJi4VdO0h0tKSvq3eKBCCCFEG1TvMaNCCCFEKBUumqgD0Bvq8/nz5x5AAMcON4fD4chUFOUJACOIqKGuPxmGcafdbn8FIapJ43A4BqqqmgPgr0Tk742WZiVrDA9Wq14zge+2lMFjMFSlwb8D0UK+21IGw+erirf4K6IdKlOmTPEAeBvA2w6HY5iiKHOIaCqAelfPEFEXALdYLJabNE17F8Aim80WSLJHCCGEEJCVNUIIIdo5XddTdF1/T1XVPCIa0VDf8kr3vQDsdrv9ZYQgUeNwOHprmrZEURQngEvh5+c2M5dZrdatzbk/b3CvZ6DOnpuDFR44fvLdhiNCY61jn08bGygKQyh+JSUlbbDZbFe53e5+hmHcDuCXRoaoRHQBEa3SNG29rutXyhYpIYQQonGSrBFCCNEuGOofy2XcVSbauHFjD6fT+RSADQDOaWDo0eOR/vbc3gVWq7VZJ0w1hdPpTNQ07TFVVTcT0XVEZG6ge2lzn1NQkOEGOM+7/Ss/CQMRGl/6+bsnok/CEEqDkpOT99jt9oeKi4sHApjCzKsbG0NEwwA8l5iY+Iuu6w9u3LixX8tHKoQQQrROkqwRQgjRLjDhaP2ZnEu63BwVFbVZUZSZANQGhv3ng68PXH70HmpFi64I0HU9wel05hDRD0R0ExrYZlJL8+rVHGHgI++mwvUtUrdZNOKH7eXYtsvnIDGDqyublawpKSmxaJp236ZNm6zHHp1/U6ZM8Vit1jdtNlsaM49k5hcBNHgaGhF1BXBbdHT0Fl3XlzudzvEtFZ8QQgjRWknNGiGEEG1WyuTllq49e3a0KMYAgnL7kfY1pZW3RQ1V0DFWgcVMPvVZqt3G185tFfc+9f7vv5Jiuh81l6PNMX/PmLNykVrh2enWTOWHV6YER05OjgLgZUVRGlrl44OZS47luZXuig9iLLEGar2Bs3VXBTZvO4jBfeKP5daiifKLd/m0MePz5px65nQ6T1QU5QUAqSaTKR3ABLTw1j2bzbYOwBVOp/NmADNqVoX1bWCICmCyoiiTNU1bB2Dhtm3b3sjIyGgw2SOEEEK0B7KyRgghRJvVu2/vf0eZld9INX0FwqlH2gtLKnDPG3sw7/ldePPzP+qzMPOPAP46Z9muXUs+PPi+9zgimqmqFgfiY35XTzAtCGasOTk5RnFx8fmGYdwLwNOEoce0subzJ0/dDmafmiiffv3bsdxWNJFhMPK+9U3WgPlfTbmPrutRmqY9rCjKFwBSAYCIxjudznlBCTQAdrt9t91uf3Dbtm0DPR7PhQA+b2wMEY0gohf69Onzi67rD+i63lCSRwghhGjz5KgHIYQQbVZJSUmq2Wx+mIjOaqTr7wAeAZAbipo0jXE6nWmKorwKoNGaHm63e2BycvKPx/K8zOzCaxVSnq7d1iHGhDfuPhEWs7yvEwpfbtqLO56rW36IwW54qvrmLZz0a6D3Wbt2bWxCQsIGIhrkdekQgGFWq/X7IITbZLquj2TmOQAuIqKoxvozs5uI3vF4PIuSkpIaTfYIIYQQbY3MwIQQQrQ5JSUlPTVNe9pisaxvKFHDzC4AT7nd7sFWq/XhSEjUAIDdbi8yDGNOY/2YuTw5OfmnY32eUl71OhiHarcdqHBjpZ9tOaJlvLt6h28j03+bkqgBgNGjRx8CcCV8tzzFMvNzCNMbdVartdhms11ORP2Y+U5m3tZQfyIyAZiiqupqTdO+dTqdl+m63miSRwghhGgrJFkjhBCizVi7dm2s0+m83Ww260R0LRouHvyey+VKsVqtNyQnJ0dURd0NGzZ0JqJFjfUjolIEoQ7JimWn7GfCcu/2Nwu2gbnFTyhv97bsKMda5+8+7QZ5ljXnfjabrZCZF3q3E9FETdNmN+eewWK1WnfZbLb7t23bNsAwjKkAvmhsDBGNVBTlRWb+RdO0+5xOZ58QhCqEEEKElWyDaoOy5hU9SaDJRz5m4MO8+eOvCGdMQogAzMdSEI4DYKAU52LZH0dGi4bl5OQoU6dO/SsRPUREvRvqy8xfGoZxYyRvrdA07W0iOj+Ari9brdZLg/HM9Oz80SYyf+3dfs8VSRg7pGswHiHq8dCrGlZ616thbF6Ru8IO5BjNuef69evjYmJiNhLRwDq3ZS73eDxDjnXrXDCVlpaOMplMc5h5SqBbpAC85fF4FiUnJzea7BFCCCFaI1lZ0ybR6QC6H/mP2Di2Y12FEC3vEXQA4SoAp4HRWxI1gXM4HJnTpk37VlGUlxpK1DDzFma+2GaznRzJiRqn03l9PYmafGZe7NUWtO/vBbkZa5m5wLv9pY9/ltU1LeinnYf8ngIFNuY3N1EDAMOHDy83DOMqeK28IqI4k8kUtu1Q/iQnJ39jtVovraio6A/gbmbe3lB/IjIR0UUmk2mNrutrnU7nJbJFSgghRFsjyZo2Jm1uYS8C6hQVdJPic8qHECLCmPEn/LFlR/7NBmDTpk1DdF3/SFXVPCIa3kDX35n5FiJKttlsr4UswGbQdT1FUZTH/FzaV1lZeZnNZpvNzGcz824A8Hg8wU7GP+Ld8MOOQ8gv3h3kx4gjnvvwJ/jJhf1WTjtfPNZ7JyUl5TPzk34uZTqdzuuP9f7BNnz48N+sVuu9ZWVlA5h5GjP/L4BhoxRF+SeAn51O5z0Oh6PBlXVCCCFEayHJmjbGREpa7Y+ZUXHgYMk34YpHCBGwHTBwbc1/Tzfevf2qKR78jNlsXgfg9Pr6MbOLmRdXV1cPstlsj0ZK8eD66LoexcyvA4jxvsbMVw8dOvQXALDZbB+43e5hzJwX7GRNXm7axwxe492+9D9bUF7pDuajBIAvS/fii5K9Pu0G8NAXuVMqgvEMl8t1OwCfItRE9GBJSUn/YDwj2EaPHu2y2Wyv22y2P3k8nhMNw3iFmasbGdZdUZS7FEX5UdO013RdPzkkwQohhBAtJGKWwIrgyJy7+iZFwWVHG5iLV+SmBaWegRBChFPNkcTzANxKRHEN9WXmfxPRzeE6prg5NE1bQkTXebcbhrHEbrf7WwVx5Gd4UPcoZc0ryCCYVnq3nzu+F2447/hgPqpdq3J5cPWjxdi5t24OkZm3eva5rQUvZlQG61mapk0ios+825n5M5vNdmqwntOSNm7c2CM6OvpaZr6GiHoFOGwtgIXV1dXLU1NTG0v2CCGEEBFFkjVCiKAbd8OnvaPMUUMUpkGs0AAC+jGQCFAiMToAbGFQFIENBlUBqCLwPoD2APybwfhJUbDFDdJQ6fquYEnGwXB/TiJ8cnJylGnTpl0K4IEAigf/z+Px3JicnOyzOiSSaZp2FhG9793OzKW7d+8eNXbs2KCssghUVnbRf4jo7NptCgFPzh0Oa9/4UIbSZj3/4U94PW+rTzvDuCRv/oRXgv28+pKBzHydzWZ7JtjPaylr1641d7Glv0wAACAASURBVOzYcQozzyaikwIc9qthGM94PJ6lKSkpfs5IF+2dzFuEEJFIkjVCiGOSfnl+tNrZNJ4Z40jBODCdQISgHR3DDAZ4CxG+ZAOfg7kob+GEDcG6f1g9gX4AzgMQA0IsgBgYWIOb8G6YI4sYmqZNAvAEEQ1rqB8z/wDgDpvN9npoIgueTZs29TKZTBuIKLF2OzNXGYZxUlJSUsi/3tOz8webyFwCwFK73do3DotmD4NJlV3Ux2LLjnLMzF0Pt8drURTz/1bkpo1FkFdLAYCu6wkAvgPQr+4juYyIUq1Wq2/mKMI5nc6TiGgOgP8jIktj/ZnZBWA5My+y2+1ftXyEIhLJvEUI0VpIskYI0WTpM/N7qhbTBSD8GaB0It8aGy2KeQeAjwF+70f3wY83Lz4zomuR1OtRjIAZfwMwtVbrNcjGsnCFFClKS0uHmkymxwCc1kjXfcz8kMvlWthKtzmQpmmfEVGWn2szrVZr2OoXZWWvvocId3m3n5/WC9f9RbZDNVdFlQczc9dj6666i6UY7PYY7hMLFmSsa6lnOxyO01VV/cjPpY+sVuuZLfXcllZSUtLTZDJdpyjKDAA9AxnDzF8BWOhyud5qpd87RBPIvEUI0RpJskYIEZBRM96P7RTXeTLAlxPRBERKgXJGGTO/y2w8t3LhxMJwh9MsuSgGMAIAwBiGedgY3oDCp2aVSQ4RXY0GvsZqio0+43K57klNTfWt0NpKaJr2dyK637udmT+w2Wxn+xsTKimTl1t69etVTKAU72s5lydh3NCgvRHdrjz0ihMr/ZyuxQYeylsw/vaWfr6u68sATPduNwxjut1u/0dLP78llZSUWEwm04VENIuITgxw2E4AT1dWVi4dOnTory0ZnwgtmbcIIVo7Sda0chlzVp2jKGo3BmKIjVgGxZCCWDLYwkSf5OWmfRzuGEXrljkrb5BiMs8F0SUAdQx3PA1hhpPYeOq3PRXPb3j5tPJwxxOwXHwF4EQAZdiPzsiBEe6QQm39+vVxMTEx8wDcEkDx4HeI6G+tqXiwPzVbOFYTkbl2OzPvYOZhdrs97OdlZ2YXnkREnxPIVLs9LlrF0/NGoFfX6HCF1ip98MVOLHzL98uWmUs8+9yjg1lUuD5r167tmJCQUEJEfbwu/e7xeFKTkpK2t3QMoaDr+snMPBuHt0iZG+vPzNVE9C/DMBbb7favQxCiaCEybxFCtBWSrGnFRs1Yau4Un1JGIL+zZQM8ZeX8tDdDHZdoGzLmFQ1XmO4kwnlo4rtRFpOCAT1j0b9HDHp1jUbPLtHo3MGMhFgT4mNNMKsKzCaCwYDLbaDKZeDAITfKyl3Yvb8aO/dWYvvuSvy48xC276kEN7l6A+8DsKSyAk+sfjptX1NHh1QOFHTEfgDxAD5DNlrFySzBUlM8+DIcLh7c2AkvX7jd7huTk5O/CEVsLcnhcHRQFKWYiAZ5XWLDME6x2+15YQnMj6zswtuJlAe824/vFYv5NwxFXLTJ3zDh5bsfyvC3pd/B5a77DY3BlcTGSStyJ4ZsRZ2maX8mog+82yNhRVew1azWu46IrgHQPZAxzPw/AIvKysreGj16tKtlIxTBIvMWIURbI8maVm7UjKXmhJiUExQFK4iozhEdBlf1XZmbtS1csYnWKWPOSruimO8H6AKiwL5HdIo3Y5StE4Ycn4DUAR1wXI9YKEpwvr1UVHmgbT2Iki1lWP/9fmz8vgwu76Kc9eL9hoHc3XsOPR6x71g9jhSoKAEAMO7FPNwd5ohCRtO0U4joCQBDG+rHzD8w8+12u/1fIQqtxTmdzpcVRfmrdzszP2Cz2e4IR0z1y1Gysid9RoRM7yvDjk/AQzNSYTFHxu6CSPXD9nLMe2ojyis9PteY+fq83LQloY5J07TniOhKP/FcabPZXgh1PC2tZovURYqizAIwOpAxfLjOyNMVFRVLhw8f/lvLRiiaS+YtQoi2SpI1bUTWvNWvEHDxHy38y4r5af3DF5FobdLn5ncyQb2bSbmeCI0uGe+TGI2JIxIxbkhXWPvGgSg0304qqz1Yp+/HqvW78UXJXr+//PixHeDbVsxPexktcMrKMXkC06HUFBT24HTchE/CHFGLczgcwxRFeYyIGltFtM8wjAfcbvfitlQAVNO0y4nI55dhZv6qrKxsfCS+k58+Iz/RFGf6BkQ+P1fGDumCuy5LghqkX3Tamh17KjF38QbsPeD7sjIbL+XlTrg8DGFhw4YNnWNiYjbBqyAvM+91uVypqampO8MRVyiUlpaONZlMs5n5/CZskXrD4/EsTkpKWhuKGEXjZN4ihGjrZGbVRmRlFy2oOb7yMOblK3LTLgxjSKIVychePUUBFhGhR0P9oi0KMkd2wxkn90BS/w6hCq9e1W4DazbuwYdf/opifX+j/ZlRZBjV0/MXZjpDEF5g5uNFEC4DwNiPLsjB742OyYEJQCxyUNbi8QWRw+HorarqPQCuROPFg5dUVlbeO2zYsDa1HFzX9UHMXExEdf4BMfMBIhoZyXV4MucWnkBEq7xXcQLAaSd2x40XDg7ZLz+txZ6yamQ/uRE79vgpRcP8P/c+d0Yo6tTUx+FwnKuq6rt+Lr1rtVrPC3lAIeZwOHorijITwAwi6hbgsDWGYSw6cODAO5GYWG0vZN4ihGgPZFbVRmRlr36LCBcc+ZiZ5+blpi0MZ0wi8o299pPusbFxzwI4p6F+iR0tOC+tN/78px4RW5/i518P4a1V27Fi7W8NLzdmrjIId6+cn/cYkBP+Qr650ABYwdiEeUhttP8TuACEB8EoxI2+J7pEovXr18fFxsbeBOBvAGIb6svMbwG4xWaz/RCS4EJo7dq15oSEhM/rOaXmEqvV+krIg2qirOyiSUT0XwAW72sTRyTilqlWmE2yJQoAtv5WgdueLcHOvb4n9DJ40yEuT/si9/Swn2Sm6/pLAC71bjcM41K73f5yGEIKOV3Xo5h5KhHNAnBCIGOYeTuAJUS0zGq17mrZCMURMm+JgHmLECJkJFnTRmTNW72ZgKOFKg02xqzMnfBVOGMSkS1z7uoziPBCQ+9KdU2w4OJJfXH6mB6t5hew3fur8NqKrfjoy1/hbmDyw8wFrirj0sIlE38JYXh1PYbuMOHwUbEG/tFg8iUX4wA8BuBPNS1PIRs3tHiMx2D58uXqyJEjLwdwP7y2WvixBsCNVqv1fy0fWXjouv44gBu925n5RZvNdkUYQmqWzHlFkxXQG/CzOmrE4I7IuSIpYn85ChXHzwfw939sQlm52/ci889ut3tcweKMraGPzFdpaWlXk8lUAtT9WcDMeyoqKlLaW60Wp9M5XlGUWTVbpBr9QmbmKgCvu93uxSkpKd+GIMR2S+YtETBvaQEZc4rGKArGA+hHQD8mqoABJyvsUNz4csWitJ/DHaMQ4SLJmjYgfW5+J5NiPrpVgMGVvx/clPDNsmtkea7wI0eZNC/rXma6vb5CfGaVcGFmX0zN6ttqC4fu2FOJJ9/5AV856t9Fw4w9AF+Ul5u2IoSh/eEJnAUF7wMADFyFG/G8T59HYYUZDwM4G1xzxDfBAsYizMMcn/4RorS09DSTyfQ4gCEN9WPm7w3DuD0pKWl5iEILC6fTmaUoymfw+rlb8/mPTEpKOhCm0JolM7vwWoWUp/1dG9Q7Dg9MT0HXBJ/FN+3CV6X7cN8/Hais9n0DnMG7DY9rfKRtadA07Xwietu7nZnfttls/xeOmMLN6XT2URRlJjPPIKLEQMYw82rDMBbv2LHjnYyMDD+ZOtE8Mm85IuzzliAZPOvDqP5qwiyF+EoQJdfb8XAy9P595Zsekd9rRHskyZo2IHPu6jMUBR/+0cKrV8xPSwtfRCJSjZn1YUIHc4flAJ1WX5/R9k644fzj0ScxJpShtZjVG/fg6Xd/wG+/11uf1jAM3LJywfjHQxkXAGA+bgTh8HMZYzAPvqvh5uOfIMShCtm4FT8jF58COCVSkzVOp3M4ET1GRKc01I+Z9zLzAwcOHFjc1us+OJ3ORCLa4H00OTO7mHmc3W7/OlyxHYtJ2YXZDOUJf788de5gxm0X2zDS2ikcoYWFYTBe+ewXvPLZL/Ud2/sbXJ7TVyyeWBzi0AKiadqrRDTNu52Zp9lsttfDEVMkyM/Pj+7Tp89UALOIaGQgY5h5GzMvAbDMbrfvbtkI2zaZt/gVvnlLEGTMKxqugl5BzZs5zHAR+N8MrIFBm1gxBilQzgbhzKODGBsr9u8Z9/nz57aqNzaEOFaSrGkDJs0ruh+gvx/5mBmP5eWO/1s4YxKRJ2vOih6kRH8Mwgh/1xPiTJhzwSBMGB7QG4itSmW1By99/DPeWrW93j7MvDAvNy0boTx1IRfPALgGALAfnWuKCxPmYwLmYRUAYBaisBhVtca8B+AcMBZiHuaGLNZGOByO3kR0r6IoV6CR4sHM/NShQ4fuHTlyZOPFlNsATdPeJ6KzvNsNw7jJbrc/EY6YgiVr7qqLQeoL/k5iIQKmZvXFpaf1b/MnRe3eX4WHXtWw4Xv/Nb8Z+J5dVaetXJwVsQWkdV3vxswl3oV2mXkXM6dI0gFwOp1pRDQbwF8C2SIFoJKZXwewyGazrWvh8NocmbdE4LzlGGXNWXUhqeo/UVP3jBnbwO7JeQvSv/DuO2leUQ5Adx/5mJmfyMtNuymE4QoRdq1znaCog5nG1m0w1hzL/VImL7dkzl2VmT4jv+399GunMmflDYIStaa+Cc+QgQlYeuOINjnhAYBoi4przhmIB6enICHO//yaiOZMyi56ZdSMpY0e/xk0fLSOCwNw43CiZikIH2I++gBAnURNBCopKYl3Op05qqrqiqJchYZ/rrxpGEaS3W6f114SNbquZ/tL1DBznt1unx+OmIIpb8HEVxmes5j5oPc1ZuC1FVtx05Lv8OvesB141OK+3LQX1z6xrv5EDfO3FYfKx0ZyogYArFbrLsMwfOpgEVE3RVGeDEdMkcZutxfZbLbJVVVVxxuG8TAz72lkSDQRXUFExZqmFeq6/n/5+fntu6BTgGTeEqHzlmOQOWfVBK9EzY/VbmOkv0QNAOw7uOkBZq5V24tmT5i7qv4tU0K0QZKsaeXS0/NNBIyp08jVfr/pBYCysgsv6tW3V6miqHlqjDmg5b4isk2atWokmaI+J6Lj/V2/KLMPHp85BIkdo0IdWsidmNQZS28cgSEDE/x3IJrWOS71g2GXfBIXopDyjzwZHfER5sMB4CK48WfMw7YQxdAsy5cvV51O59UWi0VXFOVuNHzK0+fMfLLVap2SlJS0JVQxhpvD4RjGzA95tzPzbrfbfQla0buhDVmZO/FTw4N05ppi2V6+21KGqx4txmsrfoHL3XYOMvltXxXuebEUdzxXiv3+CgkDAONTT5V74ppnTmsVRXprakf9y8+lCx0Ox5RQxxOphg4d+ovdbr9t27ZtfQFczczrGxtDRGkA3uzbt+8Puq7fWlpa2rXlI22dZN7yhwictzRLVnbR8YqqvIvaJwkamFG0eEK9J6l9s+waFwhH69kRwWxWaGrLRipEZJFkTWs3EiNAtX9J4i15Cyf5nTA3ZNLcovRJ2au/IlJeP/LDkeGJ6Hf0ReOy5hQOY5Oy0t/JCdEWBQ9cnYKr/jygzW9RqC2xYxQenzkE50/o7b8D4dTuibH/HTzrw5afBR6ehBxOrjJGg7AFLpyIm1HQ4s8+Bg6H4/SRI0euVxTlWTR8ytNmAJOtVut4m832ZYjCiwhr166NVRTlDSLy93V0RUpKyo6QB9WC8helfVPpOnQCg/2u7KxyGXjho58x/fFirHXWXzyzNXC5DbyetxVXPvItVm/0f/I2M5iZH1mxdfuZBUsyfFYdRbJDhw7N9rdiRFXVRSUlJV3CEVOkysjIqLRarc/ZbLYRANKZ+R0AnkaG9QPwkMlk2up0Ov/hdDqHt3ykrYfMW3xF1Lyl+R4BqPORDxj8fN7C8Z81OopR9yQoJmvwQxMicslSzFZOJVOdLVAMatIWqKxZhSlkUh4F4c/e14i4TRf9bOvS5+YPIKKPQeRT4bNjnAkPTE+BvV+HcIQWdqpCuO7cgeiaYMazH/zk24Fo4nGmDq9vnrx8Mt6c0tjEu/mysQPAWDyOJCj4CdmoaLFnBYGmaSMAPEZEkxrqx8x7iOj+/fv3PxXu4sG77hgxHeCjb0y4uPrj3g+U+rzo22f0jjV373YJACjV/N+uj26oc6zyb3eMOJPA/Y58zIyS7g+sX13fcxMSEhaTnxMuDMPItdvtHzT384lknz956vZRM5amd4pLeQigef4KD2/bVYnblm3CmJTOuPy0/hjcNz4coTaLYTBWFu/Cy5/8gu176t/WxeDdhmFclb9w4n9CGF7QDB8+/DeHwzFTVVXvFTY9LBbLEgAXhSOuSGe1WlcBWFVSUtLfbDbPBDCdiBpKbkXXbB29StO0VQAWrVu37r0pU1rwZ06Ek3lL/SJm3tIMGXOKxhDR0VPlmMEedt8X2Gj+1avEqi240QkR2SRZ08oRY1yd72EGB7QFKn1mfk9TlOleAFeCoPrrw6RE1Dd7Ebi0WYXdVIU+AeqePgMAPTpH4eEZqejbvW2cmnAspmT0Rad4C55YrsPw2p1BROdl9e21JO9IAeCWdBMcLf6MY+B0OvsQ0X1EdBkaLh5cRURPlpeX3x8JNWn0WYOjCBhOpFyDmp93Zoq6GIDPTNfSvcdYIjwDAEaUZyqAN2pfV0DHgeguqllJxMBaACf6e66maRcQ0ZXe7cy8QVGU247184pkNUer3pQ5d9WHgPISEfX11+/LTfvw5aZ9ODmlMyan98GwQR1DHGngql0GVnzzG94s2I6tuxrOpzLzx54q9xUFSzJ2hii8FpGUlLRc1/VpAM71unShw+F4LSkpqVUmokIhNTX1ZwC3rlmz5p6uXbteTESziGhYQ2OIaCKAiSNHjvxZ1/Ul1dXVz6ampvpfttVGybwlMBEzb2kCRUFO7Y8JXFiwIOPHgAaTUveHA6F/8CITIvLJNqhWjgGvlTWNJ2sy5xZdYoo2bQbRdAA/sMHXsKeypwEsrt2PDKNN1FNob9Jn5sdHmZQPCeTz7kP/7jFYOHuYTHhqOfXE7rjn8mSYVN8l1UQ0I2te4b1hCCsilJSUxGuadq+iKBoRNXTKEwNY7vF4kqxW602RkKgBAOvizVWJ96+7wWDjpSNtZFA91Sg5/cifFFZ8lt8n3l/8NIB//NGd3/R3l40bN/Yjomf9XKoAcJHVam0X20tXLpi48qD7QCozL2GuvzbP/zbtw41LvsN189fhv1/sRHllPbVfwmDrrgr844MfcfH9a5H75vcNJmqYsYcZl+flpp3R2hM1R1RXV18LwGfPmqIoz2zYsKGznyGilrFjx1bY7fZ/2Gy24W63O4OZ/43Gt0j1B/CwxWLZquv6s6WlpUNDEGrYybylaVrTvGX8dUWdQai7Gpfxz4BvYKB77Q8JkKO7RbsiyZpWbOy1n3Sv/a4lgyuNdZ4NjY1TgF/ARMzG37dv3TEkb0HasryFk35leD6u3c+jsCRrWiFTlOklEEZ7t3frZMHD16Sia4LF37B27eTULrhlmg3kZws8Qbkzc25R5BS0Y9+tJcFWUzx4hsVi2UxEd6KB4sHMvNowjJOtVuuFycnJgb1TFmJEdHS7EiuG36KeBGQc7UPstw4P1fw9MFBZXXnoee/ry5cvV6Oiol4F4O8X2RtsNltpU2Nvzb5cfGZZXm7a9R7CWGb+qqG+m7eVY8Fb3+PCnK9x/8tOFG3Yjcrq0C/u3PV7Fd4p3I45izfgioe/xb/yt+H3gw3u5DPA/Gy120jOyx3/UkMdW5vU1NSdzHy9dzsR9YqOjpbToZogOTm5wGazne9yuQYx82PwkwTzEgPgapPJtEHX9Xyn03ne8uXL/a6Cbgtk3tJ0rWXeYonCWYQ/jrlnsPuA58BbAd9A4bpvnjACLtYup9uKtkC2QbViMTGxJ9RtoY0FBRmNvi25YkFaQdacFcf7FCL2kMf/hijRWmTOK7oFoPO92zvEmPDQjFR06xTJtefCK31EIvYfdOHJf//gc01R8Gz67PyNBYsyvgtDaHURjmzYb+j0pWZzOp1nENHjRJTSSFedmW+z2Wxvt0QcwWS4je9V0+FvbgTflTU7bxrWHaA/tjQZ5DdZw8Dww/Nifr73E9pu7+sjRoy4u+bEl7rjmN+x2Ww+yZ32omD++P8BODlrXuHFYOU+Igyor2+Vy8Cqdbuxat1umFXC0EEJGGXrjCHHJ8DaJw5mU3DfYyo75MKmLQew4Yf9WOv4HVt2HmrCaP7EA9ySn5vW6ElArZXNZntd07Rp3sfPE9E0TdNes9ls/w1XbK1RSkrKTwD+tnbt2pwOHTr8VVGUWQCGNDIsXVGU9JEjR/6kadpTlZWV/xg2bFjrrtJdi8xbmq81zFsUBWfXbaGNXy4+s6wJt/A+mTaQkzIpK7vwQoAeIKLjKUY9FUDjxYyFiECSrGnFmCipTkLdYJ93bcde+0l3f0eGNufEKBHZMmevGqswHvBedxFlVnD/9BQc16NFfrdvU84d3wt7D1TjtRVbva5QnMlkfvNP2ctP+CJ3SqiLABMeQTwUJEJFOhhja17jszEfp8KNDTBhP+YdW3FiTdNGENETADIb6ldzSsx9ZWVlS8JdPDhQrBrbUZOJJiaflTVqtDITYBMzlRIhmRTfU0h2/314H2Kkg7ja5cJj3tcdDsc4Irrdz+N/qaysvDoYn0crx3nzJ7wyasbSf3WKTbkCRLc1lLQBAJeH8a22H99q+wEAZhNhQM9YDOwVh+N6xKBnl2j06BKFzvEWJMSZEG3xfbeBmVFe6UFZuQu791dj594q7NhTiS07yrFlx6EGCwXX+4kwrzCYc/IXTPi8yYNbIcMwrlFVtQSAd9HXpWvXrk0dPXr0/nDE1ZqNHj36EIBlAJY5HI5MVVVnAzgbDa94P46IHo2JicnRNO0Vt9u9OCUlJfxvIBwDmbccuwidt/yBMaTO68uB1dYEDq+MIcao2uMNpgbHT5pblA6ix2qv1JLTbUVrJsmaVowY3ep8A1RQ553e9Ln5A1QyFWXNK1qeNz/txhCHJ0JozKwPExST8gpAPr+t3HSRFSnHtc/TE5rjijOOw9ZdFShc73NybVIces8HcF1IA3oco6HCdwsJoSeAT2A+2q8bboLPao/G6Lrel5nvI6JL0UjxYACLy8rK7m9tv5xVl/++3RTfDQDA4DrJmi2XD4gmYCYTvQPmnQAlM/seR05EV4OgMtOSXg8X19nuVVxc3ElV1VcBn7WJHsMwLm5L74Ifq5oCxMsweflzGX17X6CC54FoTCBjXW6GvrUc+tZyv9dVhWA2EcwmBcwMl5vhchsIUvW1amYs97DriYIFGeuCcsdWIikpabvT6ZytKEqdOhNE1Kdjx46LAFwWptDahKSkpJUAVpaWlg4wmUw3ALgS/rdSHhFLRDPMZvMMXddXejyeRW+88cb7OTk5RgNjIo7MW4In4uYttTBoQN1cDf4X6NiefXuOAFGdpVXMXOSvr5xuK9oqqVnTuplrf0CgwUf+nDWrMEVVzAVE1BdMx6Wn50tirg2LNyc8AdBA7/azx/ZE+gjZqttU86YMRq+u0b4XCNdmZq86NaTB3ISvkQ1q9L8mJmocDkcHTdPuA6AR0eVooHgwM7/hdrvtNpvt5taWqAGAfrlbKwD+HQAIqPMPIr5fx0sJSPR4XPeC6HBShajOypo9swYnMHA9A2XuSs/93vePj49fBuA4sAGlfDfo0N7DZ5My32O32/1OLP3JT4dpz6zBCc35HFudN6d48nPHL1+Rm3ayBzwCbDzJDJ/fNJrCYzAqqw0cOOTGwQoPqlxBSdR8BzbmuQ+6+uTljr+kvSVqjrDb7S8D+NjPpUtLS0tPC3U8bVFycvKPVqv1pv379/dl5msBlAQwLFNV1XenTZv2vaZpNxUXF/sceV2fnJwcRdO045sf8bGReUtwRdS8pUb6zPyeRPCqDM2BfF0DABRQ3ZW+jLKyik3fej9jUnbRMjLRBn+JGkBOtxWtmyRrWjPmzXU+BJ86KbtwcVZ20ZtkVooJOA7g1z3FrosCqWUjWqdJc4vSwbjKu31Q7zhce67PPEgEIC7ahDsusfs/aQHq0mGXfBIXhrCCYvny5aqmadeoqrqZiO4AvCdSf2DmIsMwxthstqk1tRZaLQa2H/7TH9ugts/oHUtMdzHh3R4PfreBmHcDAAHdD/+vZmynuNuIqBsZfHfPxzfU2Va65bOXcqLXvzU54f2/ofMrF6PT2zPR+a1r0eXVaUbXly8c/tutqYMRgD1/H3bB0LQRJUiIfyIIn26rkj8/bf2K3AmzPMWunh6PcTozP4ejr1doMYMZKAb4HnYZqSvmjx+6IndCbsGyjCavWmuDpjOzT60Jk8n0rK7r7SPJGAKjR48+ZLPZllqt1iGGYUwC8B8ADa6aIaIBRPRYfHz8Nk3TntF1vbGaY5g6deo5AD4tLS31W3S9Jcm8Jfgicd6iWnyTcSBXwGUYmHBJnY+ZX69ZnQlATrcV7YMka1oxzyH3O2AcnTgRKBqk3EBE/8cMM4MfXfHLjkskUdN2pUxebmEFS4nq7viOiVJxx6V2WIJcjLM9sfWLxzVn+5bUIMKAbolxd4chpGOmadqfR4wYsZGIngHqHofp3dUwjPNtNtsEu93+dajia1m0AwC41soaS7du8wjobXhwLwAYTEcSMaYdt41MBIDtt6T0B5S5YGzI09bVmQBu/jp/SELhgrtj1y8Hmyw4mH4j9k79J/af8cABBpwALlBNlhUNrZb59bYR4/bcOXINFPUtAtmY0G731hcUZLjzF074JC837eoV88f3YY8xnA2+EczvMLhFjsM+vACKS8D8rGHwpTAqe+XNH3/CivlpOXmLJ2xqiWe2VlardSuA6TpmEAAAIABJREFUuX4u9WPm3FDH0x7Y7fY8q9V6rsfjGQxgPoDfGxkSS0TXACjRNG2Fw+E4Jycnx+9EQFGU2UQ0SFXVd0pKSkJ23JLMW1pOpM1bDEPxKTq0c+ueXYGMzZhdNIpQ96ADw8CztT+W021FeyBbY1qxgmUZu7PmFl4G0MtEFH/0AmMdsXHHitwJckpDG9ezT+/ZBNi82688oz/6dqt3wYQI0F/SeqNwwx5s/KHum8lEmJOenb+sIDdjcz1DI4qu6yMBPIFax1P7w4dXltxbVlb2TGspHhwwxnYQQISYX7L7xsSau3RlolsB+lf3B4sPb21hY+eR9zCIPD0A7LJYop4khpnZmD7lTRxdSl1SUmIxFH4FAAxLHA5OnAeO7QIA8HSzXsWu6u9JVb8B4TijU+yZAN6oHc5vd4ywKqCHCTgb4K8AVANkAbEs166Rt3DCBgAbcPiXVIy74dPeFjV6qKLQEADHE2gAgH4gdAVzV+/aBkcwcACMPQD/RoSfmOlHJkM3oGxEleu7giUZB0P3WbVuNpvtBU3TphLRKbXbiehKTdNet9lsK8IVW1uWlJS0BcCN69evvys2NvZSZp5FRMkNjSGiLFVVs6ZNm/bD1Kn/z959x0dVZn0A/5175yYkQBApKkFRce5MiBDQrAVpAezrujZU0LV3UYKIYlmjgmKBgIi7Niwo+qLrWta1AQkEWQsKAZKZuVfFQkApYkJJmZnnvH+kkNyZ9KnJ8/3sSvI8t5yQkDn3zFMuXbh///5Fw4YN+wMAiouLj0XN6wERjdI07VkAV4X9C4HMW8ItlvIWFWQ2aGD2F79V3KI3kBWb5eeR+cu8p0Z+U79J7m4rdQayWBPnls8b9e7IyauOtiniZIVIEaSYebkjWjwfVIpfIyev6qMQ7re2D0ztinNOOSwaIXVIt10wEDfMWQfRcBB6ggrtSQB/jU5ULbNx48bDu3TpMhPA5YB1v40GKph5QVlZ2ax4XJOmheqm1SjJB/UGKU+CyC/8FVNr24nFttpijU1RD91x79CMmmLKE71nFTZY5DkhIWEOWGTsGXs3RNfedYUaZn5W1/W3ANCu+4Z5QdCIaYA1GAV0PwBUeiuP6fdY8c877x/6KQGnWo+TDvj86dO2ovr7+Emw/kEXLU3o26dPgkr+xEqRKMr9f1R+s7u8Em9NkAWwEPL5fNfZbLaNRNRgBVgieqGoqOjY9PR0WfwKk4yMjH0A/gHgH4ZhnArgNiI6C02MlCeio4loTteuXR8yDONVVE8RmWw55krTND12u312OOOXeUtkxEresuypkb+My15dXrduDZE6NnvkYStym95+Oyt7dToB19U1MPv9ftwS7Fi5u63U0cliTQdQsGDUDlTPaZY6kQQb3QVCwPSK2y4YCFVp6rlcao0jD03GBaP64a38hktoEOHcrNsLTsybP/LLKIXWKLfb3V1V1bsBZKOJNWlwYPHgGfG+Jk2zakbWAEACbBeDaAKEmNznEde22kNKxb5tB6FHzeHIUBTcw8yePVv++Hv9S3k8njMB3AJS4O1/3IFbMHvKysqmAsCuycd0B1UvAs+s/GwNZ3fpnuvsC747MOWJqRwEgEkO126j4rcmVBUDVQBksSCMBg0a9JPH45lKRM9bugYkJCTMBXB9NOLqbHRd/wzAZ6ZpDmTmW4noKqDmF1gQRNQV1bsC3QQgWAHzEcMwDF3X3wlPxDJviZQYylsYYBdAdS+U7NecQFPFmhxFBb8A0IGpecwL8p4a9U3j50hSxyUnhkpSHBpzc96hAN1sbT/rxEPkdpdhcPlpR6B3j8Ap/apCD0UhnEbl5eXZDMO4UVXV7wDcg6YXD17l9/tP0HV9Yocv1AAgOjCyhhR6mBlrn55V+Ez9YwY+9kMpA/trjn8ITN2ZfZcd9fKPFbXHFBUVHaooysuwjFRi5ioAl2RmZu4HAE7pfiVQvbCxd8dv71njaVCokaQ443A4XgSwIkjXtW63u8npllJo2e3273Vdz66qquovhLiVmd0tOC3YJBEiosUul+v4UMcIyLwl0mIlbyFwg/upqjK1sWOBHGXc1HFPgOikuibGp74//DPCFqAkxThZrJGkOKR2sWVbt0PskqDgyjOPiFZIHVpSooorzgjyd0s4bUx2XmbkIwpkGMafU1NTNxLRP9DE4sHM7BFCnKfr+min07k2giFGlY/5QLEGnMDkuzEnyA4rVLOQLQHJDH6gz6xN9f+OSNO0VxD873earuvrger1aKDgYYCrhM9/Sb/ntu4P8ZcjSdHGfr//WmbeZ2knRVFeLCwsjNsd8+JVenr6XofDsVDX9UEATmfmDwG0dqResqqq73s8ntRQxyfzlsiKlbxlWe6o98A4sIYm4azxUwtyxozJazC7Y/z1n/UYnz3+fQLVK+bw8n3Y+tf8l7MqIEmdlCzWSFKcOeXq97oTcIO1/dxTDkPP7hHb0KHTOTWzL1J7dwloV0mbFoVw6hQXFx9nmmYeEX1ARM7GjmPmHUKIySUlJcc6HI53IxljLGASddOdGPRMn4c3Bh9SzTUjcBirnp65/rH6XaZp3kVEpwU56yNd158GgC0znL0U0HsE7iYEXdn30Q0FIfsiJCmG1Cx6G/D7j4iOSkpKeiIKIUnV2G63f6rr+p+rqqp0Zp4fbMv1xhBRPyL6IJQFN5m3REes5C0ClTcwc/6BFnrAdpzNGD+1YOm47IL547MLVqNb0nYQzq7u531gMd33re+M/+VOKI9krJIUa2SxRqqjgLT6n5OwybXUY1CXgw6+CqAG89ITbAouGhPyN8KkelSFcOm4/gHtxHzhqJtXHh7peDZu3Hi4aZqvapq2FsCYJg6tYObHiOgYh8PxdFZWVot2YuhoXKs3/CL8Yqzwi7FiV2WjQ6p9wneL8IuxVX5cWH/kjcvlOp6Zgw0f/3X//v1XAuDv7zq6Rxc16VMCOwG+rs+sdW+E42uRpFih6/qzzLzK2k5ENxqGMSoaMUkHpKenf6fr+hQhRH8hxGQALRqhQETDkpOTX2ts2+/WknlLdMRK3rIid1zJ8tyRWRB8DZhr3jihowC6iIhuA9EpABIYXMwQD8OHQctyRz2Rn9858xVJqk8uMCzVYYX7U71lGBSgTxTDkRrDuN66r89pf+qLHt204MdLITP2uD5Y9N+f8PueertaE6m2BOVqAA9GIgbTNFMA1C4eHPiW2QHMzEu8Xu896enpAQvcdjZZ+fAhvzCvueMOeWTTBmtbUVFRN5vN9gYA6z8yBnBFRkbG9q3X90tOTEj5EMzDBOH6Pg8XLgpR6JIUy5iIrkb1FuvJ9dqJiF5cu3ZtRu06TlL0OJ3OPS6Xa6WiKE29Zlj9deLEibNzcnKmtzsAmbdETSzkLbWWzRu5CMCicbcs6yW0BCcBdii0j9j/K1f5f16xcFyHXz9PklpLjqyRAADjbys4QgHdVr+NVNw65ua8btGKSQo0bkr+yUSUbm0/f5Tc8jISNJuCvwTZXlQhXA2E5h3IxuTl5dlM07yZmb8DMANNF2ryfT7fn3Rdv0wWatpP07SnAdit7cz8uN1u/zRvDGwJh/R9F6BTBPPNfR5e/0IUwpSkqLDb7d8LIe4K0nVMSkpKWLeCllrOZrPd1vxRDRHRnaZpXt2e+8q8Jbqimbc0ZvnC8bvy5o36fMW8US+vmDvyreW5YwpkoUaSgpPFmk5q/JRVN43LXvXy+Kmr3xuXXbAeKn4AUVrDo+h0tYu2dVz26lXjpq5+c1x2wQtjpxRcHp2IJQCAok6yNg0+OgWH900OdrQUBqef0BcBO4wSHZGVPXZkuO7pdrv/kpqaugnAQiJqdMQbM7v9fv+5drs9Ky0tTW5zGQIej+dyIroiSNc3ZWVl9wPA4JFD5xPoVBZ8V59Zhf+sf9COGRn6jnsymt8dh6zvO0tS/HjjjTeeAfC5tZ2IbnG73adEISSpnqKiooMBBOQPLcHM/3S5XE1NtW2azFuiLhp5iyRJoSGnQXVSrNBZBPozABA1/oxAQHcQqn+ZEwEQNgCLIxGjZJWjgOlC6yPdmSceEp1wOqnePRLxp7Se+LJ4d4N2lZSLAawM5b1cLtfxqqrOIaLRTR3HzDuY+cGtW7c+21nXpAkHt9t9FBE9bW1n5r0+n+/SzMxM7877hv6VQDcz80u9Z61/vP5xv2T3T1JUeomB7QCanoLF3B1EoIZTSSQpLuTk5IiLL774apvNth5osOOPoqrqory8vIysLLmjS7QkJCRch4bfF6B6Ta49AEoBlDJzae3HAMpq2xRFKVUUxXpuC8m8JRZEMm+RJCm0ZLGmk1o+d+Q50Y5Bap2s7LEjidAgw9FshFOOPThaIXVaY4f1CUh6mHE+gFvQ+q1SAxQVFR2hadojRDQRaHLERYUQYp6iKI/qut7i3T6k5uXl5dkURVlCRCnWPma+ddCgQeYv2f2TQLQQAIhw7s77h/524CAQEXoAlADml4LcgnZMd3TzJyT21kBjQBgOAEx0zq77Mk7zV3o3VPrKSg/P3SJ3wpDiQlpammEYxgwimmfp0lNTUx9F9TpbUhT4/f7lzHyKEKI0ISGh1O/3lzqdzr0IwetVU2TeEjvCnbdIkhQechqUJMUJhegsa9sJzp5I7iJrrpF2cvrB0GwNayhEOCTrtoLj2nNd0zRTPB7PowkJCR4imoTGCzUshHitoqJCdzgcM+x2uyzUhFhqaupMIjrJ2i6EeM3hcLwCAEnJvS4koF91Dx1MoL51/yfqA1ACABDRbut1dt49NFNJTC7TSP0BpCyqOxY4FKR8onZJ3Jbcrc/+rXfovcP5dUpSKC1ZsmQBM39hbSei20zTDPj3JEWG0+lcm5aWtiY9Pb3IbrdvcTqdexCBB3SZt8SOcOUtsUjubit1JPK3pSTFC8YZ1kf3k9Plu1PRkJSoYugxPfC1+48G7aqKMwG0eq2YvLw8W79+/W5g5hxFUZp7OM/zer3TBg0a9G1r79Mic/EsCAMACLhwLp6Dt9lzOhi3251FRHda25l5s6Iot9R+3ntW4WK0cVpo79nrv0bTo6YkKe7k5OSISy+99CoiWoeGi6ArzLzINM1hdru9MlrxSREm85aYEeq8JZbJ3W2ljkSOrJGkODDm+rzeRDTE2p7p7BmNcCRUvztoxaDmF5K1cLvd5/bv379IUZSniajRQg0zuwH8xW63jw1boeYxdAfhGgCng9GvMxZqXC5XL0VRFsPy+sjMPiKaKEcxSVLTHA6HWwhxn7WdiNKYeWY0YpIiT+YtsSdUeUssk7vbSh2NHFkjSXGAkpTh1rYjD01Gr5SEaIQjARimHxTQRsQnjhmTZ8vPb36RX7fbnakoyhwiGtXModsB5JSUlDwf9sWDNZwMoHa4cEFY7xWjbDbbiwBSre1EdJ/dbg+Y3iFJUqDCwsJ5Q4cOvZiI/lS/nYiyPR7PUofD8XW0YpMiQ+Ytsae9eUssGj9l1U1MOJFI6cnMAwAcCyLLtKe63W3Xg7AVzHuZsXLFvJFywxQp5slijSTFAUUJTHrSj+wejVCkGkf0TUL3ZBv27K+f31BXZag6BPlodORLcXHxAJvN9ggRXYqmp8GUA8j1+/2za9YXiIRtELgRAMCdr1hjGMZkAOcG6cp7/fXXn4h0PJIUryZMmOAvKiq6StO0b4mo/tO5qijKS0VFRcelp6dXRS1AKexk3hJ72pq3xDK5u63U0clijSTFASIMtbalHxWwSY0UQUSEQUd2D9hdgUgZBgQmPaZppjDzvQBuJ6LEJi7NqE4g7rXb7VtCGXOzpmIjgI0RvWeMKC4uPpaIHre2M/MuZr48JydHRCMuSYpX6enpRaZp/h3AbGuXzWZ7EMCMKIQlRYjMW2JPa/OWeCB3t5U6OrlmjSTFA0bAvO9jUrtGIxKpnoH9gn0PeHAjh6cQ0eRmCjUrABxvt9uviHihphNbs2ZNkqZpb6LhgqgAACHENQ6HoyQKYUlS3NuyZcscBFm8lIimFRcXd7hdaKR6ZN4Sk1qZt0iSFGVyZI0ktcG47FWXMJF/xdyRbyPM21+OmZJ3EIgOq9+mKoTD+yaF87ZSCxwdNOlBerBGu92+xTTNXAD3WPuY2QVguq7r/wlthC0wB4cDOA9AEgjJAJIgsAbT8G7EY4mS3r17z0OQ7xszL3A6ne9FISRJ6hCysrJ8LpfrKlVVvyE6sJ0uEdlsNttLa9euzczMzOx0C5l3dDJviV2tyVskSYo+WayRpLbRFdCD46auXscC966YN+KjcN3I5leOso6BO6xXF9hUOTAu2o4IlngSHdXY8X6/f7aqqtcC6FvTtJ2ZH1i/fv3zEyZM8Icnymb40QsaTgJwaV2bihuiEksUeDyevxLR9UG6NpWUlEyPeECS1MGkpaVt9Hg8OUQ0q347EQ1JSUl5AEDAzlFSaBmGcSWA3sxc++YSK4pS93H99mBtQojv0tLSPmnp/WTeErtam7dIkhRdslgjSW3AII0AEDCMFPx3/NSC1cIv7l0xf/SqUN/Lr6pHWZa1x6EHNzWTRoqUQ3oG+T4wjgByFCBwjROn07nHNM0cAHOYea4Q4rEILh4c3HSsBzARuUgDatYYYPwvqjFFiMfjSSWiF4N0VVRVVV2SlZVVEfGgJKkD2rNnzxMpKSkXEZF1HZPpHo/nLYfDURiVwDqPPkT0eGMLsAZrr9dWLoQ4sTU3k3lL7Gpt3iJ1bJGcKSC1jSzWRND42wqOgIovQPAxwwuQF2AfgbxM8ILhQ82fROxlwAvAR4AXDC9b+gUULwE+AF4i9oLhEwQv1RxHgr1CgQ8CXkJtv+oF+31EqpeIvcTw+cFeqrmuQuytYvgUEl6lSniRAF9Fuc+rULKXK3/3aSLFix/hi9ct/kKFAM3SMkJR1ZXjpxZ84vfh3rynRgbM0W/zvQj9rG1BX2yliEvuYkO3JBV7yw8MiiGCNvzGk3uv+Se2Bztny5Ytz/fr1+/9GFwHpXYqQhnKUBTVSCIgJydHURTlNQAHW/uEELenp6d3+L8DSYqUzMxMr2EYVzHzV5bpUBqAl/Ly8k7IyurceUU4lZeXP5OUlDSdiHq34fRb09LSWrXwvMxbYldb8hapQ4vYTAGpbWSxJoKqIBITSD0MqNk1DkDtzr104MO6Txq8z0H1zqnpbziYlACqWTG69jil5ph6B6r1/lt7jlp7Qs0fCVRzTM3ranJyzQdJvar/PBgYf9xqVBecqotJtYUlgL0A+QjcoABFDG91kYq8IPYRU4NzqObjA221BSjyMbEXQvFCgY8FvFDgI8FeAF4CfKJesaq26CSI69r8ZPOSj72wwad42QtBPi8Jr0LCCz98Kvm9e5Uqr6/S7wO2er957gYfmq8uN/Jvh05XVJw2Lnv1O172379q3mhXM9dpHnMvWN716tFNa+RgKdJ6dNMaJD0AkKQl9QaCJz01DySxVajJgQIgreazL5GDDv/u2qRJk+4DMCZI17sOh+O5SMcjSR2druvrTdOcCeDB+u1ENKxfv373AciJTmQdX0ZGxj7TNJ9E4M5czXnVbrcvavUNZd4S01qbt0gdVyRnCkhtI4s1EaQxdahXKiJoqB5hknTgJflARSmwAFVbcKLa/1nOQcMCVd1xVFdwotrCk3LgSKXesbUfKvUuYQMAW02nVv1nAlQAas34GA3d0aXm454YP3U1wOznulFMtaOgDhSTCBzwbny9vxcCcEECqeeNm1LwmtcnclY9PXpzY8c3S6Fe1qaUrh3qRymu9eiqoWSHZbaMTQR8z2JaNzgBdAPQKaZAuVyuk5n5fuvQf2Yu8Xq910QpLEnq8EpLSx/t0aPHhQAa7D5DRDOKi4vfHjRo0KYohdbhVVVVLdQ07U6iwJwiGGYuLi8vv7lNN5N5S0xrb94iZwp0HEpALSB8MwWktpHFmkhS5N933CBS6w86qmsO8lETFFLob5qmXjouu+D5KuaZBfNGbWt1KOCu1vt1TbTOBpeiJTnI90IIJTkKobQd4ZS6jwXWRDGSsFu7dm0PVVWXEJH197Hw+/2Xpaen/x6VwCSpE8jMzPTW7A71Rf1/g0SUoGnay0uXLj0xaoutd2CmafZn5jtRW5Rv3n4iuigjI2NfW+4n85bY1t68Rc4U6DgzBbjubWwrOl214fRx2av/FbKZAlKbyOJBBAkmTb5UdT7VI5Do5gTQVeOmFizwC9+j+fOy/mjxBZgSrLUhm61FxSIpAjRbsN0tOL4m5x8o1jD24ssWnZMDG4Bk5KAsbHGFQUpKyj+J6EhruxBiZlpaWn40YpKkziQtLe0bwzAeBXC/pev4oUOHzgAwMwphdUgbN248vEuXLtOZ+XoiSmjpeUKImxwOR3GbbyzzlpjW3rxFzhToHDMFar7O0M0UkNpEFmsiiDf4CiuHqv0SBWmswiaEV2MmDQpsKpMGgo2ZqtsINgWksYLqj5k0EFf3Q2iAYlMgNGbUnQeCjQANBA0MGxFpXP1P1oaaP4m5QVvNQrm22jYC1Z3PdKAfYI1BNoA1YmggknWnViLC92AqzC/Z0ardfwicYP21L7e/jB2qEpiAqmqcJTKE4QAAhgs5aL6QOAcXgPAIGKsAXBfm6ELGNM1rAFxibWfmL7Zu3fpwFEKSpE7J6/XO1DTtAiIaZOm6zzTNd+x2e9sLBRKKi4sHqKo6nYiuBZDQ2C5QwTDzIofD8Wp77h80bwnyWilFR7vzFjlTIH7E0EwBqW3kP7YIys/P8iEfHeaH+/jrn9WAfpotUbV1EwkabLD5haoJVjQosGlMmtBIgw82tpFm87GNbX6NmTSm6gJVQLGJa6rbNW2kQIOADYrQIBQbKaKumAUOLDaheqGsujYiris8gWEDoabYBBszNIBqilSWohW17LdXSzDzVwR+ZFnuqPfRhm3xmMhrDcbv7/Drv8YNvwjyLWW0aA60y+UarCjKiYqiLLbb7ZWhjq1FnkBfAHYAADczBSoXpwB4AsDJAADCZ+ENLnSKi4vtzDw/yDo1ZUKIiXInGkmKnPT09CqPx3MlEf0PB+YygIgSmfmlpUuXDpfToVrP5XIdabPZ7mHmK+vvutUKG3fu3Hlre+MImrcEe62UoqI9eQsgZwp0Vu2eKSC1iSzWSG32zXM3eHFgu9+O5aKl6piufTSvUqZR4sE2wfs1spEtkVVNJCiaCttTRHRmU5dgRp7wi1l5T41a3p5QiLnKuquC1y+Tnljh9QUWzhjUosKLzWa7F8DFzPyQYRhzhRDPOp3OVo28ajcFJ9T7LPjiwo/DDg2zAZwDxlcAqkBIACMuHqaKiooSNE17E0BXax8z3+B0OuWwXkmKMIfD8bVpmo8BuKd+OxGdkJGRMR3Ao9GJLP643e6jVFW9h5mvAKA1NZKGmcuI6FtYdsNj5r1CiIuGDx9e3t54ZN4S29qTtwBypkBn19aZAlLbyGKNJAXz1gR/PuAHUBGse1z26v3B2pnBAP/HT/RIfu6IL0IRCgPl1rSrojIunpE7hYqqwKRHgJtNdk3THAjgQgAgosMAPKGq6r2GYSwsLy9/KiMjIzJbaBIc9T4OvhOLrWZtiUocg7vxM3LxKYBTIxFeKGia9hiA46ztQogXHQ7Hm1EISZIkAFu2bHk4NTX1fCJy1m9XFOXvbrf7HafT6YlWbPHAMIyjiehuZr4KgK2Z6U6lzPz0vn37nuzWrZsA8COAnvX6bwjV37fMW2JbW/OWWnKmgJwpgDbMFJDaRhZrJKkNahYjO4DZz8BbBPHIstzRG0N7M95lnVNatl/O2IgVZfsDB5ep4GZ3FGLmOynwHZ2DiOje5OTkO0zTfNHv988J+6gPqpkCBQBlMOpa52IUpmIlAGAzrsMC1H/XrTapi/kXa5fLdToR3R6ky/T5fFMiHpAkSXWysrIqTNO8CsDnaLDXC7qoqvpSTk7OiJycHDnv18I0zYFCiBkArkDzRZo/mHlBWVnZnMzMzNJ615gH4EEAYObndF1fErIAZd4S09qat3RUcqZAZGYKSG0jizWS1AbMXDvMuIqBV/3wPZafm/VdeG5Gu6x18dJ9HfM1JR6V7g38XpR7K3c1dc6GDRt6EtEVTRzSBcAtqqreaBjGm0KIx51O54Z2hhoc49Cany9G9TaThLl4FoRJmAsdU1FiKdTEjcLCwr42m+0VWJ4amLnK7/dfmp6evjdKoUmSVMNut39hGMaTRDTd0nXyxIkT78jJyXkiKoHFoOLiYrvNZrsbwBWKojQ3fWO3EOKpPXv25NYv0tQqLS2d36NHj2xm/qmkpCRYQbvtZN4S09qSt0hxKoZmCkhtI4s1ktQmVMXM8/0+35P5C7K2hPVWQvwKtWFOtn13XD47dziVXj9K91neLWT2V1Rt3tHUeUOGDNltGMbJRDQDwAWot8CmhUpEk1RVnWQYxofMPNvhcKwOSfAH5AE4FwChBz7CXPQFcBh8OBt3oiTE94okSk5OfgXAIQEdRHelpaV9E4WYJEkKYufOnTl9+vQ5D6g30g8AET1YXFz87qBBg8wohRYTXC6XrqrqDCK6HI2/XgAAmPl3InoKQK7D4Shr7LjMzMxSj8fzsN/v/yArKyvog1ybybwlZrU1b5E6pojOFJDaRBZrJKkNtm3ZOqH4rQlVkbgXK7TZOsD5199l0hMLfgv+fSipGVLbJF3X1wO42DTNgcw8nYj+huoRNUER0dlEdLZpmmuY+VFd1z9EKKYhEZYCuBjAyWBkgrASVfgL7kJcrxVhGMYdAM6wtjPzp7quz49CSJIkNWL48OHlbrf7KlVVV6HhdKgkm822CMAoxMG0y1Bzu90OVVXvATAJzRdpdgGYL4SY19KF6h0Ox9yWHOdyufS0tDSj+SNrYpF5S8xqT94idTwRnSkgtYks1khSG0SqUAMAFeXlPyYnN9zEZuvOCgjBUJSQrRsmtcGWHUHX42vVGjN2u/17ADcUFRU9oGlaNoAWpvCoAAAgAElEQVQbiSiliVOGE9EHpmkWAZi9ZcuWN9u17XQ2tgEYjifhhIKfkI127wQSbaZpDmPmWUG6tldWVv4NnfChT5JindPp/LxmHZWp9duJaIRpmlPsdntulEKLOMMw0pj5HkVRJqJh8SoAM+8EMM/r9c4P9dROt9s9RFGUR4jIB+CvLT1P5i2xKxR5i9SRRHCmgNQmTb4ASJIUfWv+efp2MBos/FblE9i6M7SjlqXW27wtcKovM9xtuVZ6evqvuq7fVVZWdoQQ4h4AvzV3CoDF/fv3/87j8dy6du3a5Lbct840uDE1/gs1hYWFXZn5DSJKsHSxEOLKwYMHN/f3KklSlJSWlt7PzN8H6ZppGMbREQ8owkzTHGQYxmtEtElRlMvQRJ7OzDuEEPeUl5cfqev6rFAWatxu91Eej2exqqrriOhsZm7V65rMW2JXKPMWKf5t27J1wvLckVNkoSZ2yWKNJMUFDpg3+v22fdEIRKrnh2DfA0K7FgLOzMwsdTgcj27ZsuVIADc38uBS3wBFURakpKT8ZBjGfRs2bOjZzPEdWlJS0kIicljbmXmOw+H4KBoxSZLUMpmZmfsBXI3A0W/JABbBusVQB1FcXHysYRhLAGwkokloOj/fDmBGeXn5UQ6H49GMjIyQJQOFhYV9DcN4SlEUt6VY1IaHeZm3xKJw5C1S/IrkTAGpbWSxRpLiAAOF1rbiH1s0JV0Ko2DfA8Ec8L1qi6ysrAq73f6P9evXO5h5IjOvb+p4IupNRA936dLlZ9M0n/R4PKmhiCMojs0HJrfbPSHYLlvMvM7r9d4bjZgkSWodXddXMfMCazsRjTYM49ZoxBQuLpdrsGmab2qatoGILkXTeflvzHxXaWnpUXa7fXYoizSmaaYYhvFQUlLS90Q02Toy0e/3t3oNM5m3xKZw5i2SJIWeLNZIUlzg/1lbijY3usmDFAHbd1diZ2nAGxJV/Ic/pLsMTZgwwa/r+hu6rg8TQpzFzKuaOp6IugG4g4h+8Hg8L7jd7oBRJu1G6F7zUfumXoVQcXHxAFVVn7O2M/M+IcSl6enp8t0jSYoT5eXl9zBzsHU0HnG5XEdGPKAQc7vdQ0zTXGqz2QpRvcB7UwXwX5n5zh07dhyl6/rjNaOPQsI0zUTTNLOZ+Xsiur/m9SOA1+tty8gambfEmEjlLZIkhY4s1khSHPBW8ufWNrNkL/aWt31dWal9vjX/CGxk/jb/5RBvgVqPw+H4SNf10QBOBvA+mlgol4gSFEW5RlXVYsMw3vZ4PH9qx60Jj6E7nsBRmIurwBhe034O5uI0PI5DMRdJ7bh+uyxdulTVNG0JgB5Bum91Op1xvbOVJHU2GRkZ+4QQ18LyO46IutlsthcRp9OhDMMYahjGW6qqrgdwEZr4Oph5mxDijh07dhyt6/qTw4cPD9maYjk5OYphGFcCMADMJaLeTRy+fciQIbtbew+Zt8SeaOQtkiS1jyzWSFIcWPXM6F+Y+Yf6bUIA3xpBXniliPjaHZi7MrAyEve22+1f2O32c5k5HcCrzNzUlpsKEV2gKMpXhmEsMwxjfKtv+CQykYAy2PADCItAqB4iTzgUhE+gYRsI+/Ekmkr4w2bYsGEPAXUFpPqW6rr+cqTjkSSp/ZxO5woAzwTpGmua5k2Rjqc9TNMcZhjGv4hoHRFdiKaLNFsBTC0pKTna4XDMDWWRBgDcbve5EydO3EhELwE4ornjmblNxW6Zt8SeaOYtkiS1jdy6W5Lix8cAbq7f8EXx7xiVEZXn407N6xP4xhOYcApwRBew1XXdBeCKjRs33peYmDgNwDVE1LWx44loHIBxpml+C+DR119//Z2cnBzR7I2m4WvE6DvZhmGMAnB3kK6fSktLr490PJIkhY7f75+hquqfAQyo387Ms4uKiv6Tnp7+c5RCaxGXy3W8zWa7D8BfiZr+FcrMJQCeIKJ/2u32ynDEYxhGLhFNac05RNSenYJk3hIjYiVvkSSpdeTIGkmKFwIBL6hrNv0Or6/5Z20ptL7x/IF9Ff6GjYyysn2uNdGIZ/Dgwb/oun673+8fIIR4iJl3NXPKcQDemjRpktvj8VxrmmZiJOIMtaKiooMBvI7A1zK/z+ebmJmZWRqFsCRJChGn07mHma+zthNRd03Tno9GTC3hdrszTdN8z2azrQXw16aOZeYtzHwbEQ3UdX1+uAo1AFBSUnInM88E4G/24BpCiLYXa2TeEjNiLW+RJKllZLFGkuKEv9S3DIwGq/Ptq/AHHdYqhVf++p0BbUz44JvnbmhqOlLYpaWl7XI4HA+Ul5cPADAVwC/NnGJXFOV5Zt5sGMY0t9vdvZnjY4qmaS8QUX9rOzM/kJaWJhNQSeoAdF3/jJmftbYT0WkejyemRs95PJ4TDMN4X1XVrwH8pZnDfxFC3Or1egfqur4gnEWaWllZWT5d1+8XQowB8FNLziGiNq/5JfOW2BGreYskSU2TxRpJihP5L2dVcPWisg18/NX2aITTae0r96FgQ+DAFWb+vyiEE1RGRsY+u92eW1paOpCZr2ZmV1PHE9FhRPSEqqo/G4Yxs7CwsG+kYm0r0zRvJqLzrO3MvGrJkiWPRiMmSZLCg4imM/MWa7uiKI+bphlQsI000zRPMgzjP4qifElE5zRz+E8AbqmqqjrG4XAsjMZOdQ6HY7XX6z0VQLNDXNozDUrmLbEhHvIWSZKCk8UaSYojzFhibfvS9Tt2lcldiSNl2Tc7UGUdws34/dct2z6JTkSNy8zM9Oq6/pKu6+lCiPOZ+ctmTjmIiO5NTk7+0TTNp91u91ERCbSVTNMcBODJIF27KysrL2vROjySJMUNu91eJoQImA6F6h3gnot0PLVcLtfJpmn+F8D/iOjspo5l5h+Z+abS0lK73W5/JhpFmvo0TZuPZp4DmLly3bp1P7bnPjJvib54ylskSWpIFmskKY6smLfsE4AbTG0RAnj/823RCqlTYWa8uzrI3zWLV4vfmtDmzHPNmjVJhmHMrylChAM7HI5/67p+kt/vH8vMnzZzfBKAW1RVNQ3DeM3tdg8JU1ytlpeX1wXAm0DgVuHMfO3gwYObm/olSVIccjqdHwshXgzSdaZpmldHMha3232KaZof22y2NQDObOpYZt4shLihrKxM13X9n5mZmVGfduLxeKaimbgBgIi+mzBhQovXtwlG5i3RFa68RZKkyJC7QUlSXMkRQox7UVGQU7/1g89/xaXj+qNLghqtwDqFL4p3Y8uOwF1U/aS80NZrut3uTEVRXiMiBzOPXLt27YnhTOadTmcegDzDMIYS0QwAFwBo7AdHJaJJqqpOMgzjQ2ae7XA4Vocrtpbo16/fHACDre3M/A9d19+JQkhSBJ1y66f9ErXEYxWmgazQkQQczkBvgHoTozvACQxKJLBgUCWASgLvBmgXwNsZ/CMR/egDGajwbsp/JmtvtL8mqeX2798/rWvXrmcSUT9L1xy32/2x0+ncGs77ezyeEUR0PxGd1tyxzPwDMz+6devWl7OysnzhjKs1DMNIA/BIkK7tzPw8gLuIyAYAzNyenaBqyLwlmsKRt0iSFDmyWCNJcUZU+Z5VEm0zQFS3g8+ech/+s+ZXXDgmNZqhdXhvLAsctMHMy/JyRxa19lpLly5Vhw4dOgPA34lIAwAiGpaSkjILwPR2B9sMXdfXA7jYNM2BzDwdwBVU72fKiojOJqKzTdNcw8yP6rr+IQAOd5z1maZ5DizbwAIAMxfv3LnzjkjGIoXfmCvzuqg9bSOYcQopOAVMxxGhFwCADuwlX7chMlX/h1D/z/pHUF2rDQAnajwuu2AzEb5kgc/BXLB8/qgNYf6ypHYYNmzYH4Zh3ADgA0vXQYqi/BPNL+rbJjVFmgeIaHwLDv8OwOySkpJXYqlIAwBFRUUJAN4I9ruema/Wdf1Dj8fzPhG9DuAYACEo1si8JZpCmbdIkhR51PwhkiTFmnFTC14kUINh3z262rD43kwkJcp3qcLhy+Lfcd+Lgev0+v3ijLz5o1o97zsvL69Lamrqt0SUZukSQogxDoejoK2xtkVRUdGhmqZlA7iRiFJacgqA2Vu2bHkzEg8kbre7n6IohUTU29JV4ff7T3Q6nfIhuwMYc3PeoWqC7QIQzgZoDFHgdLewYt4G4GOA3/vRt/fj7xacFfYdeqTWMwzjJSK60touhLjS4XC8EsL7jCKiBwGMacHhJjM/un79+lfbO3UoXEzTXADgVmu7ECLX4XBMrf28qKiom6Zp84koz263vxaKe8u8JfJCnbdIkhR5slgjSXEo6/YVDlXRikDUIMO57NTDccUZR0QrrA7L72fcNHc9Nv+6v0E7A+uWzx1xXFuva5rmMGb+snZkTd11mX8kogy73V7W2Lnhsnbt2h7du3e/WVGU2wEc0oJTfhJCPLlnz55FmZmZ+5s/vPVycnKUSZMmfQZgbJDuW+x2+zPhuK8UGcdf/0HyQV17XgTwlUQ0CrGynh6jjCH+zYIXrZg/elW0w5EO2LBhQ8+kpKRiAIfWb2fm371eb3p6evqv7bm+y+Uao6rqgzU/j80xhBCPFBYWvharRRoA8Hg8ZyqK8iEsuT8zu0pKSo7LysqqsJ6Tl5dnC1UxXuYtkRWuvEWSpMiSxRpJilPjphS8Qgr9rX6bphKenz4Mqb0j+2Z0R/evlSX45/uBG2Kwn89ZPn/kf9pzbcMwphPRY9Z2IcRrDofj8vZcuz3y8vK69O/f/ypmnkZERzd3PDPvBDC/oqJi4ZAhQ3aHMhaPx3OPoiizgtzzA13XwzLtQQq/sZOXD1Rs2hQQXQ5Qj2jH0xRmeIjFwu27yhdtWHz6vmjHIwFut/tcVVXfDdL1rt1uP6+N18xSFOVBIhrZ3LHM7GHmWYWFhUtiuUgDAEVFRQdrmrbRutYPM1cBOLFmWmzYybwlcsKZt0iSFDmyWCNJcWrs5OUDyZboIkKDURmZjoPw6PXp0Qqrw9lZWomrH1uH8kpLLs78xbLckSe39/o5OTnKxIkTVxLRCGsfM1+o6/q/2nuP9qhZW2cCgOlENLS545l5LxE9WzOsvqS99/d4PCcQ0ee1C17Wu89WZs5wOBw723sPKbKyphZkKEz3E+E8tHIUTYJNwZGHJuOIQ5JwWK8uOPTgLujZXUNKsg3dkm3QVAWajSAY8PoEKr0Ce/b7ULbPi52lVfj19wps3VmBH3/dj627KsCtXnWJdwN4pqIcc1b/Y2RIi5JS63k8nsWKolwWpOsyu93+eiuuM05RlAcBnNLcsczsIqJHXn/99SU5OTmiueNjgWEY/yKi863tzHybrusLIhWHzFsiI9x5iyRJkSOLNZIUx8ZlFzxJRAELq/79CgdGDrEu7SG1xczFHqxc37AewAz2E4bnzx3xRSju4Xa7j6pZj6V7w/vwLp/PN3jQoEExscepx+M5k4jubsnUAGauYubFzPyE0+n0tOV+bre7u6Io64OM7BFCiNMcDsfytlxXio6s21c4FEWbCdAFRC3LPw7qpuF4/SAce3QK0o/sjgGHJENRQpO6lFf6YWzZi6LNZSj8vhQbvy+D19/S6g2XCoHcnbv2PylH2kSPy+XqZbPZigH0rd/OzLvKy8sHZWRkbG/qfMMwTq1Zk6bZB1hmLgYwa8mSJW/GS5EGAEzTvBnAQms7My/Xdf1URHiheJm3hF8k8hZJkiJDFmskKY6Nv/6zHuiWZMCSqPZKScBz04YipavWyJlSS6zZtAsPvBS4GQYzXlueOyKkU5Q8Hs/liqK8GqTrE7vdfkYo79VepmmeBGAGgHPQ/OuIYOZ/M/NjDofj69bcxzCM14hoUpCuR+x2+72tuZYUPWOm5B1kg/oAk3KL9R31YFJ7d8Hoob1xyrG9YO/fFUSRSVUqqvxYb5ZiZeFO/K/od+yraNHMlq0Az1g2d+RiRPihV6pmGMYFRPS2tZ2Z39Z1/aJg57hcrtNVVc0hopNacItNQohZb7zxxtJ4KtIAQHFxsd1ms60joq7125n5d2YeEorRj60l85bwimTeIklS+MlijSTFuXFTVk4iRQ3YreEEZ0/MvDYtYg86Hc323ZW4cc567Cm3rq3Iu9lfmbZ8/vjfQn3PJoaqT9F1fX6o79depmkOAnAXM19qXSQ5GGZeDmC2ruvLmjvW4/FcoSjKy0Gu8VVJSckpsbYlrhRcVvbqCQrwFFHTi1V3SVAwdlgfnHnSIXAe0b2pQyOiyiewZuMu/PfL37DOLG32eGYUCFF1Xd78sW0aRSa1j2EYbxDRJdZ2IcQlDofj/2o/d7vdZ9SsSXNCCy670e/3z3Q6nW8hDgtxeXl5ttTU1DVE9CdrHzNfoOv6O9GICwDGZ6+eCELANDWZt7RPNPIWSZLCS/42lKQOYFx2wX+J6Exr+7VnD8DFY/tHI6S45vczshduhOunPQF9gvnqFbkjXwrHfV0uVy9VVTcS0WGWrnIhxHEOhyPw7bK2mItnQRgAQMCFc/EcvO253MaNGw9PTEycBuAa6zu4jfgGwOzXX3/9nWDvVBcVFR2jadq3QaaF7QEwVNf1H9oTrxR+w2/8pG9yctfnATS5AHTvHgk4b2Q/nH3yIejaxdbUoVHz82/78fbKrVi2dnvT06SYKwXhgRVzlz8BxNcIjHhnmmYfZi4ioj7125l5BzMPAnACEeUEK1xYMXMhEc2y2+1vIw6LNLUMw3iCiKZZ25n5H7qu3xyNmOqTeUtoRStvkSQpvGSxRpI6gDGT8/rbNNsGgHrWb1cUYO7Ng5F+VEq0QotLz32wGW/lbw3sYHy4LHfEn8N5b7fbfYaqqh8F6fqmtLT05MzMzHYVVvAYuiMBuwGoYBRiKppdNLilXC5XL0VRbiOiW4no4BacYgohHlcUZbHdbq8EgLVr12opKSmfN/JQ1apFQ6XoGDtl9ZlEeKmp0TS9UhIwaXx/nHHiIdBssbFTd3N2llZiybIt+OjL3+BromjDzPneSvG3Vc+M/iWC4XV6brd7gqqq/xekazeAnkHaG2Dm9QBm1ow4idsiDQB4PJ6RiqLkI3AB7+/2798/NCMjI+rrLMm8JbSimbdIkhQ+8ZEhSZLUpPwFWVtY8PXWdiGAh15x49ffK6IRVlz6bO32oAkPM37bX77v6nDf3+l0fszMTwXpOr579+4PtfsGGk4GoNZ8VtDu69WTlpa2y+FwPFBeXn4EgKkAmntYtSuK8jwzbzYMY5rb7e6ekpLySCPD9l+RhZpYl6OMn1owkwgfNlao0VTCZacejlfvOR7nnHJY3BRqAKB3j0TcdsFALLrrOJzgbPzZn4jGaInqunHZBeMjGF6n53Q6lwJ4K0hXk4UaZl4nhDhf1/Xjanbfi+tCzdq1a3soivIaLDk+M/uEEBNjoVADyLwllKKdt0iSFD5yZI0kdSDjphT8kxS6wdqe2rsL5k0egoO6yYX7mvKVazfuX1QMETiBQbAfZyyfP+KzSMSxZs2apN69e68jIoely+/z+UalpaWtafPF52IwGMMBAIwCTENxO0JtUs0omcsA3ElEac0dX7Ptd1dYXpuY+XshxDCn0xk4vluKCSdO/m9Kd637UoBOb+yYTMdBuPX8o5HaOymSoYXN6o278I93f8D2P6oaO0QIgbtWzBvxZCTj6sTI4/FcTkQvElFL5tR94/f7H3Y6ne+FPbIIMgxjCRFdam1n5jt1XY+5n0WZt7RPrOQtkiSFhyzWSFIHMuiipQn9+h+2CkQnWvv0/t3w5M3HIilRDXZqp1f80x5M/8cmVHoDMx5mce/y3FGPRDIet9udqSjK/6wPHcz8g9frzUhPT98byXjaiTwez1+J6C4K8rPZFGb2MvMprd1JSoqccbcvO4SULh+Dgk+pS+lqw+0XDMSojI63LW9FlR+vfPwz3l4ZZPpBDWaevzx3ZDbifMRGDKv9/fIAEWU0dzAzfy2EmOl0Ot+PRHCRZJrm1QBetLYz8+olS5aMjsXdrGTe0naxlrdIkhR6slgjSR3M2OzlqQol/A+gw619w+w98PA1aUjUZOJT3+Zt+3DHwk1BdlAAAH5j2dyRkxCFBy2PxzNDUZSAZIuZX9F1/cpIxxMKbrc7S1GUu4notJYcz8zf+v3+K9PS0jaGOzap9cZOXj6QbAmfEtHRwfqPPSoF916uo3ePxEiHFlFfu3dj9hIDZfsa2aSMecnufcVXfvPcDe1bc0qqjwzDOJ+IHgAwuCUnMPPDuq7/PcxxRYXL5TpSVdVCIrIu9lLq9XozBg0a9FNUAmsBmbe0XqzmLZIkhZYs1khSBzRqyso0jdQCIvSy9qUf2R0PXzMI3ZNjc+eVSNv0Qxnue7EY+yr8AX0M/mzbL9v+XPzWhEbnOYTT0qVL1WHDhhUAONnaJ4Q4z+FwvNuiC83B4QDOA5AEQjKAJAiswTS07PwwME1zGIC7AVyAA2voNIqZP2Tm2Q6HY3XYg5NaZPzklcPYpn7U2Po0l4xNxZVnDoCqdI5UY2dpJWYtNrBpc1nwAxifbt+57/wNi0+PiTVD4lVOTo4yadKkCwD8HcCxrTmXmbdVVFSkDxkyZHd4oouOmteKlQBOsfYx8yRd15dEIaxWkXlLy8Vy3iJJUmh1jgxKkjqhMVNXn2RjLK95OG9gwCFJmH1Deod/t7s5azbtwqzFBqp8QUaGM9b6Kr1Z+c9kRXW6kWmaA5l5PRF1q9/OzDsrKyuPHTx48G/NXuRxDIWG6QDqr2NwA7LxXIjDbTXDMM4movfQgoJNjTXM/Kiu6x9CvmsYNeNuXzUECq0kooOsfV0SFNz/NydOSGt2A54Oxy8Yz33wI95Z1ci0KOaVP/r2nP7dgrMqIxtZ/MvJyVEuueSSCxVFeYCIBrXgFBOA3doohHjN4XBcHvoIo8cwjIeJ6D5rOzMv0nX9mmjE1BYyb2lePOQtkiSFTvxswyBJUqvkzx3xhWBcyOCAMbI//VaO25/agJ9+2x+N0GLCf7/4FQ++7A6a8DDYqPSJs2Ih4bHb7d8DmGxtJ6LeiYmJi1p0kelYj2xMBLC+ro3xv1DF2FZr165NBvAEWl6oAYDhRPSBaZobTNO8LC8vT77VGmFjpuQdSQp9HKxQ06OrDU/efGynLNQAgKoQbjr3KFz35wHBDyAaPcDW/Q1ctFTO6WihnJwcxePxXDJx4sRNqqr+XwsKNZ/7fL4z7Ha7zswfWjsVRbnM4/GcFaZwI84wjBNRPUqxAWb+kYiyoxBSm8m8pWnxkrdIkhQ6cmSNJHVwY7MLziPCEgJ1sfZ1SVAw5cKBGHd832iEFhWVXj8W/nszPvqykQEpzK6qSnH6qmdGN7ftdESZpvkugHOt7UKIWx0Ox8IWXSQXXwH4E4AylKInchDVxSY9Hs8LiqIEe9f3cwDHAMGn11j8JIR4cteuXS8OHz68PLQRSlYjJ6/qk6DRagLp1r5DeiZi9vXp6N+3Y+z21F6ffr0dc5aawXZpATM/tzx3ZMAOONIBS5cuVYcOHXoxgL8H2RkvADMXAHhY1/W63W88Hk+qoihFAHpYji0pKytLz8zMLA154BFUVFTUTdO09UQ00NLl9/v9o51O5+dRCaydZN7SULzmLZIktZ8s1khSJ5CVvWq0SvQeQD2C9Z9xQl/cev7RHX4Bv59/24+Zr3qw+ddG3plj/mIf9p39v9wzfo9sZM0zTbMPgI0ILGDs9/l8w9LS0owmL5ADBT1QCqAbgM+QjRYt8BsuhmFcQERvW9uZuZCITtyyZQv179//Kmae1tjitZbzdgB4qqKiYmFHW48iVoy5Oa+bLVHLAyHT2ndE3yQ8ftOx6JWSEI3QYtYXRb/jwVfc8PkDZ+wxxMPL547qkIvdtkfN+iuXArgfQEBR0IqZC5j5QYfDsTxYv8fjuUJRlJeDnPeyrutXtT/i6DEMYxERBXwNzHy/ruszoxFTqMi8pVo85y2SJLWfLNZIUieRNbUgQ2V8BKLDgvUfeWgyZkzScXS/rpEOLSI+/uo3LPz3D6ioCj6YhJk/+mPfHxd+89w5MTvGumZ9l/9Y25n565KSkuFZWVmNbEUD4EkMgoqi6hPwEKbigfBF2rSioqIjEhIS1gOwzpXZz8yZuq67ahtq3l2fAGA6EQXdGnp18X5wzbOwAFUc2Vd79fBeykMOh6Ok/nHHX/9B8kHdel4OAH6v98P8BVlb6vdnTV15lgK1bjcS8nHRsqdGygWNa4zPLvgXiM63tvc5KAHzJw9Bn4M691oSjclfvxOPvOap+xmtTwieuGLeyDciH1XsWbp0qZqRkTFRUZT7EWStGStmXuX3+x9IS0vLb+5Y0zQ/AnCGtd3n852Rlpb2Sdsiji7DMCYS0evWdmb+sqSkZESTrwdxQuYt8Z+3SJLUPrJYI0mdyKhbVx6laepHRAg6pFxRgL+O6IcrTj8cyV06xlIgP/66H0/963ts/KGRHVoAMPCy/1vvdfn5sZ/cejyehYqi3GxtZ+ZZuq4HLDBZZw6ug1KzoLAfZ2AaovKAUlN8ySOikUG6r7Xb7S82dq7H4zmTiO4molG1bV4/419r9qCgqByi5mH4qnEp+JO9SxUzL2bmJ5xOpwcAxmUXjCeizwCAWVy6PHfUm/WvP37KqptYob8T6FAAAGPtstwRf2rv19wRjJ1acJcCmm1t755kQ+7kwRhwSMB6oFI9763ehqf//UOQHt7n8/lOyn8qa1PEg4oReXl5tn79+k1SFOU+VE9/bE4+Mz+g6/qqlt5j48aNhycmJm4Ksq31LwCOtdvtjb9AxCDTNPsD2ABLwZuZ9xLR0Jq1zjoEmbcEF095iyRJbScXGJakTmTV06M37/WVncDM/w7WLwTwzqqtuPqxdchftyPS4YVUeaUfz33wI26Ys67RhIcZXsGYvHzuiKviJeHZs2fPnaje5aQBIrrbNM2TGj2R6rZ0ZezFly26WQ5syIH14aZdMjIy/h6sUMPM/2qqUJtWUPsAACAASURBVAMADofjI13XR6N6K/P3AbCmEi4ZmYKTHAeWNthbwSCiBEVRrlFVtdgwjLc9Hs+fiDDmwNUoYD2cZfNG/YMZLxyISbzVlq+xoxl728rhCmOWtT1RUzDzukGyUNMC5444DBPH9w/SQ11tNu2tk7OXdrqFfvLy8myGYVyVmprqqZmm1FyhZoUQYpTdbs9qTaEGAAYPHvwLEU0N0nU4gDmtuVYMIACvInBkIojoxo5UqAFk3mIVj3mLJEltJ4s1ktTJfLngrLLluSMvYOZpAKqCHbOrrAqzXjOQ/fRGbPg+vtZf9PoE3v98G66a/S3eyi8JurhnNd4M9o1ekTvi6UjG116ZmZn7hRCXMQfslqECWFxYWBh8PDhhOACA4UIO/mj2RnNwAVJQhO6he5DxeDwjFEW5N0jXLxUVFde19Dp2u/0Lu91+LoBjAbzKzN5jDjuwVsq+igbfdIWILlAU5avUgxNuqW0k4NBg16aaLWMZXOHf72/Zblsd2ImT/5ui2JTXQBSwMMS0S+wYNKB7NMKKS1edOQCjMnoF63J2Rb+5kY4nWtauXauZpnlNamqqQUSLmluTipmX+f3+EXa7fZzD4Sho633tdvuLzLwsSNe1hmGMb+t1I80wjHsBZFnbmfltu90eMC2qI5B5S634zFskSWo7WayRpM6Jl+eOnOMT3hMZXNzYQZs2l+GOZzZh2jOb8JVrNzjYogsxorzSj3+t2oorH/0GC975AbvKguZz1ZgX7/HuGbp83piob1/dFg6H4ysADwbpOiYpKempgNYn0Be1a0Aw1jR58VycglysgYK3QdChoLL9EQPr1q07SFGU1xG4TbdfCDGpLYsC2+32YrvdfkVlZeVAhVC3WPHeisBMt2y/wLY/vHVbTR/WSzsxJycn4DWQgAwAAGNR/nNZO1sbU0fTTUuZA9BR1vZzhh+KMUN7RyOkuDZ1wjE4rFfABjcA4cax2Sujuuh3uK1du1bzeDzXpqSkGABeIAr8uaqPmT/z+XzDdV0/NVS7Gvl8vmuZOWBrYyJ6oaioqFso7hFOpmkOQ/XCyw0wc0lFRcX1UQgpkmTeEsd5iyRJbSPXrJGkTm7QRUsTDuvf714i3A2gya1cjuibhLNOPhSnZvZBSrIWoQibtnnbPvz3i9/w2drt2Ffhb/pg5p/9JG7Kmzv6v5GJLnzy8vJsqampq4noxCDdf7Hb7R/UfTYHf4aC6s8FrsEdCBwx8jjs0DAbwDngmi2+CQlgPIWpuL298RqG8RYRXRik6wG73f5Qe68/dvLygYqW+B0ADDu6S+X1p/dosNrtf77eiw/X7sOhB6n49Q8/0o9IwK1n9zSFEI/7fL5X09PTq8ZmL09VkPATiPw+4XXkz8v6sb1xxbPxUwrGMNEKooa5wsB+XfHU7UOQYJPv97SF8cte3L5gQ8AOUcz4ccfOfcduWHz6viiFFhZFRUUJNpvtSkVR7gEwoAWnfAIgx263fxGOeDwez/WKojxrbWfmZ3VdvzEc9wyFNWvWJPXu3ftbInJautjv9493Op0rohJYFMi8RZKkzkIWayRJAgCMm7xqENmUXFDzWzprKiHT2RNjhvbGSYN6RnxRv227KrCqcCfy1+/EdyUteK5hrmRgnr/SNzP/mayAd1XjVVFR0TGapq0nIuvUp+379+8fnJGRsR0AMBd3gPAkAIBxIqbiq4CLzcWrIHRFJbJxN35GLj4FcGooijWNPRwB+HzdunWjJ0yY0Ey22ryTs5cmdaV++wFAUWjFwhv6/oeZpxJRf6+Pcc/iHbD3S0BKsoKVm8pxeG8b7rmoekoKM28FkJv94o6elV6+RwALVswdcVt7Y4pngy5amnDY4YdtJFCDrZOTElU8k52B/n063RIrIfVuwVYsfHdzQDsznlieO2J6FEIKuaKiogRN+3/27jw+ivr8A/jnmT1yAAlKOATEc2Y3WTliU1EEJEDVSmtrtVgBz1qwKArxwLtRvOoRxBNpq/UAFW3Vn/UGgoJ4NJbLTXZnPFBu5Uo4kuwxz++PhJjMTu7N5uB5v16+hO/3OzMPLCwzz3y/z9d1GRHdjKraMI15xzTN/OqZg22JDMNYitilRByJRMY2ZXep9qDr+j+I6DJre6PF5bswuW8RQnR1kqwRQtQx7poVvyIH3YuqeiCNcigE3zE98HPPYTjhmDRoR3aH2xXfN+579oVRvKEMa78qxX+De7Dxh/ImHccMJvArZiR087JHx3WpoosHGYbxR+CnorgHMfObmqadDQCYi/kApgEASnFYdc0aQgFGIw8fAgBmIAmP1lryNBdvADgbjHnIw8yWxhcMBr2KonwBwFqFdk8oFBrq8/m+b+m5rcbNWrGbiHqCsWbJ3JHZRUVFrrS0tCnL1h24+9VV+464ZeLh+N/XlXjni/1IT1Vw38W9a44tD5m4feFOsyJkhkdnOU+8+bKT651mP2ZMobN8cHnqZ4+e1cQdZPKV0dNzBziTIuayueO2AOi48/KrjZ258jpFwQPW9it/ewx+O6p/e4TU5eQ9vt6uiGgowmHf8rm5X7VHTPFgGEYSgD8y801EZFdVuQ5mfss0zXyv11uUgPAAAIFA4BhFUdZbE93M/E15efmQoUOHdqjZTYZh/BpVRdXrYObV4XD4ZJ/P18D6ma5P7luEEF2VJGuEEDbylbEzx52vEG4DUWZzjnQ6CEf1S8WxR6TiqL6p6NcrGf0OS8JhPdxI6+ZEsjumTimYGfsroijdH8aO0hC27azAlp0V+HbrAXy7dT+27Wpe2RRmMMCvw+T8pfNGr2vWwZ2QrutvEtGvrO3M/GdN0+ajAK+D8BsAjFKkIR/7UYCnQJgMhoY8bI45aRySNYZhJDHzp0Q0zKZ7oqqqcd1taVzeCj+BsgDeuKRg1CAA+NnUN1N7djtMz0hzbJwzuRcVrj8w/JWP90Eh4LFpfUBU9c/g65/uxXurD+C8Ed0xbmi3cgBPRyKRBzMzM+sshRqf99G5DLoHoI+WFoystyjyuBkfZcGJ8wjKOQz4iFA1/565kkH/iSJ8Y0d9IB8146PeSU7lK1DdncCOG9ANj88cCocitw7xsGHbAUx7aHVMMVFmvLF07sjftk9ULWcYRpJpmpcT0U1ENKCx8cz8n2g0mp+ZmflFIuKzMgxjOoDHbboeV1X1qkTHUx+/39/P5XKtI6Lelq5y0zRP9Hg8gXYJrMOR+xYhRNeT2DmAQohOIt9c9nD+iwBeGj/zo7OYlGuJYnefsBOJMr7evB9f1zPN16EQXE6Cy6mAmRGOMEIRE3GpAcg4wMzPI4yCpY+P0uNwxk6hvLz8jykpKV/a3Mw/6Pf7l/je8xUC+A0AQjreQQH6ADgCEUzA9TaJmjhh5gfsEjXMvEDTtLhvi03AVgBZzFRT+fawbj3zGOi/vbTiV5qmrbn2kc/nALjV5KotvnukEHbtjWLpugMYcLgTuYNTASAFwJUOh2OarusvR6PRv05/6sc0hZQHAJxCABj8QX1xHD/j7SRyKX5UjVvFjHOjFZFCJMHrgPMfRDjXAVfO8BlvD2n67JzEcTtptjVRAwBXn3ucJGri6Oh+qTh3dH+8snxLnXYi/Cb3mhXDC+eN+qydQmuWwsLC5AEDBvyJmW9UFKWxaVcM4E0A+ZqmrU5AePVSVfVJXdfPJ6LRlq7pwWDw5dbsPBVPbrf7GQDW73YAmCGJmtrkvkUI0fVIskYI0RBe8vDotwC8Ne7KFRrcdDmILySQ7bbHTRE1GdEQoyJU796ULYgSRWDz6b3RfQs74sNvWxs6dOgPgUDgcofD8UbtdiLq5nK5nk9BynnlKD8fwClg5IDwIUI4G7MRbKuYgsHgWUQ0w9rOzIGysrJZbXJRxhYQQISUU2YtTkmK9O4Fwo1gfnn5w7lrAGDNhgPLCM5bAWD7nsi7PVLcv3hpRZkjagJTxqRBqZWMICLnD3sik1/7dN9kl8NhJrvpywOVZgiAG4wm1Nnh3RWh8t9//NjpB5/Gi8bO/OhSIvqCgKO6O7ufBeCleP82tMaY6YX9AJpubT9reF/ZprsNXHj6IBSu3oEdpXVXsTgUuhPAGe0TVdNUF7ydCmA2ER3RyHAG8AYz36Fp2poEhNcUXF0DZh3qLtMkRVGeXrVq1ZARI0Y0be1KG9F1/ToAZ1rbq5e5/qMdQuoM5L5FCNFlSLJGCNEk1W98bgDybxw/c9xoKDQRzBNANKgdwjGZuQjgNzgSflnWdQNer/f/dF1/ioim1W4nopPXTFgz1ePxjMCD8ELBd5iFNn0A8fv9/Yjon9Z2Zq4EcEFOTs6BtrguA1sOplpclX0znEnKg2CKhtjMOzgmGuKtzuq9Qx58bddDgzLc72/cGS4YPzQ1cnRfV8y/iW9/UfWmdc7kXsrhPRxD7v/3rj3fbg83uPvIV49+Hj4yL3eCg7GxVqIGALDs4dGrx81aGSaCi4masjNOQjmSnbOoamZRjWS3gkt+2R5/zbu+lCQHLj5zEB562bIijnD6mFmFOcvn5iasjktTrVq1KqV3795XALgBQGMPwMzMr5mmeYfX6+1wSztUVf1a1/WbiGiepev4jIyMe4GW1+tqreLi4hOIaI5N13Yi+mPCA+qE5L5FCNHZSbJGCNFM+eaSh/OXA1gOVNfmcNF4AkYCdCqAtqg+ajLzl0T0sWnyCvNA5IPlC3J3tMF1OrVwOHydy+UaT0TH1W4nopuDweB/PB7PfxMQBrlcrudslmQBwA1t+ladUJMYcbod54Mw0WTMWPHw6K017aHIVrhrtm8dunFH+GYGgmoGzmDm6QCuIKKaJUCTx6TB5fhptk2PFKUnAIzMSp003zD+u2nTppdyc3MjdQPJNwsL8m23WR0+4+0eNfVrTMStuHI8nHrZGz3oYCHqWn5z6hE4rEeD+SnRCr/I6YOXlm7C5h0Vddod5LoOwB/aJ6pYRUVFqT169LhCUZQbAPRtZDgz87+j0egdmZmZ6xMRX0stWrToscmTJ08EcGrtdiKaUVJSsjgzM3NVomOqLtK8CECytS8ajV7i9Xp/THRMnZvctwghOidZfC6EiKtx1yzpCyQPIcU8gYmOI6ajGXwkEWWAuReIkuyOY2AvGDsB/oGADUzYACadYa4v3V/65RcLft0mszG6mpKSklOcTucKANaKiHppaWl2k2e1tLDAsGEYswHcZ21n5rc1TZvQ1PO0xLiZH51HivIKADC4gpi+XDJ3yXAgv87c9fGzVu4HIRWMAwy4ogiPODiDoaioKL1Hjx7TFUW5BjYPpE++swfrNlQid3AqJo7sAQDfmab54M6dO//RlCUT4/JWXE2geQC27N63W+1If65rxVbD7VSw6LYcpHd31XeYiIP3Pt+OB62za5ijoUrzmI+eOG1j+0RVZe3atd1SUlL+TETXA+jTyHATwL/C4fCdWVlZXyYgvLgoKSnRnE7nGlhmlQHQN23aNDQ3N7fC7ri2EgwGH1cUJWY5IoCHVFW9LpGxHArkvkUI0VHJzBohRFwtnTd+O4APqv+LkfX7xe4+vXu7HRRNqjSTzPLonsovdpdX4pWJTagBIhqTmZn5iWEYcwDkW7q0tLS0ubCZOWGLQc1N5wcCgRxmnnNwh6VathHRJc07W/OxyVuoevdVArmjUb7CmqgBAAZvI9CxIKQCuHl5wU9LTXJyckoB3FtYWDh34MCBlzLzdUR0bAOXPUpRlEczMjJu13X9kYqKiseHDBmy227g6Ks/VIlpDggh5sgfOtyNPGOq9TM//ed9JFGTAGNP7I2n3/4Ou/aGf2okcjjdymUA7miPmKqTNFcCuK6emXK1mQBeAXCnqqr1bnvfUWVmZuqGYdwCoMDSpQ0cOPBuANcmKhbDME4H8GebLv+mTZtuTVQchxK5bxFCdFSSrBFCJFTxKxNDxUAIwL72jqWr2rRp090DBgyYQEQ/r91ORFODweAbHo/HdolOHYSD1WRTGxxXze/3d3c4HC8CsD7ZMzNfpGlam0/bj5jYWrNYh80nCh8ZbbslMFUtlzqWgY+WFiz5q92Y6jfpTy5evHjBsGHDJqKqiOrQ+q5d/TA7Jzk5ebZhGE+ZpjnX4/HU7LQ17solvcihvAFCd9PkKcseHtMhdpo5aNzM5acQkc/a/rvRjdWNFfHgcio4+9Qj8M93666MUwiXAflz7JKObcXv93d3u91XMfO1RD/trFYPk5lfBjBH07SSRMTXVhYuXDhv0qRJE4noZEvXNbquL9Y0rc135woGgxkAnoVl5jszV0aj0QsSPcNHVJH7FiFEe1HaOwAhhBDxlZubGzFN80IAMTM3FEV5uvqBwIrwV/TAAzgGBbgUjBHV7b9GAU7H/eiHgpglAjXcbvcTAI63tjPzA5qm1bvNdTwpX5obGZGxjMjYSGX0pvrGcZSvZETGhsLmeY09BE+cODGqadqLmqYNM03zrPJKc2dD44moO4BrieibYDD495KSEm381A/S4U56n0FemPynZQ+PerGFv8S2ozgmW5sGH5uGI/s0KVcn4uCMk/ogZmd0okG5s8aOSsT1A4FAj2AweJPL5doA4N5GEjVRZl4UjUazNE2b1NkTNQCQn59vMvOl1YXQa3MAeKa6jkybUhTl77Ap2kxEeR299o8QQoj4k5o1QgjRRem6Po2I5tt0va6q6jl1Wh7Ez+HA542eNIreuA51iiTquj6JiBbajC4qLS0dkZOTE7bp65TG5618A8DZOccnffPHX/Q8Bo38OxoKs3nfv3bt2rIr0ovZnLrs4dF/T0ykzZGvjJs1fgtR3Ro9N1yg4hc5jZUoEfF06z+K8VlxzCq6J5cUjLSrXxIXhmGkMfMMAHlEdHgjw6Omab5omuaczMxMva1iak+6rl9PRPdb25n5fk3TZrfVdYPB4FWKojxqc933NU07E1XbnwshhDiESLJGCCG6MMMw3gbwS2u7aZpTPR7P31p7fl3XjwWwuvYOSgDAzPvC4XC2z+f7qp5DO6WDyRpmnjd/er8FAGYz8wVEFFPYJWoyHntrDwKbQrhgdA+MykpZCuA+TdOWJDzwBuTO+ug0BynLa7e5nIRX7zgJqcmyWjqRlv3vR9y7sG4OhBnbl84deQTi/LBeVFSUnpaWdjURzQJwWCPDowAWhsPhu7Kysox4xtHRLF682DFs2LBPrMtIAUSj0ejJXq837tupBwIBj8Ph+B8sy06ZeUckEhmSlZW1tZ5DhRBCdGGyDEoIIbqwUCh0GTPHbBdKRAXViZYWKywsdAJYZE3UAAAzT+9qiRoAYOaalxyqqharqnpxOBw+npkfgWXZ2eKVexHYFMI5J3fHaF8qiGgcEX1gGEbRorfXzzh95odjE/4LsKEQnWVtO8l7mCRq2sEpvsPhctZ9j0aEvrlXrzgxXtcoKipKNwzjL+np6RuI6E40kKhh5ggz/zMUCnlVVb24qydqgKqlj+Fw+FJmDlm6HA6H4xm/3x/XfeyLiopcDodjIWzqg5mmebkkaoQQ4tAlyRohhOjCfD7fNmaeam0nou5E9PzixYutW3w3Wf/+/ecQ0XBrOzMv8ng8z7f0vB1cDwCgWg9WPp/ve03TrolEIoNM07yTmXet+bYCH/nLcYonGadnd6tzglCEf7Z8/YFHvEelvhEMBi+P98NfszHOtDad4mtsNYxoCylJDgw7Pj2m3eGInR3XXKtXr+4ZDAbz09PTv0PVbnE96xtbnaR5BoBH07RLu2LitSE+n8/PzNYd9QDgBLfb/Zd4Xis9Pf0+AD+z6XrM6/W+Ec9rCSGE6FxkGZQQQhwCDMP4G4DLre3MfLumaXOae75AIJDrcDiWwJL0Z+ZviWiYqqplLY+2Q6FTL3ujuyO1Z4bTpYxRqmoAuRm8jdm82Kw011Um/Vj6ydyJ5QcPeOzZz3q9XRz5OhTm9NQkgqPW7xAzUB5iRE3gFE8yLhqbDmbeAmCuaZpPeb3evU0JatWqVSkjRowob3xkw8ZMLcxwdnfF7NT10l9+jl5p7ZtDOlS9vmILHn/92zptzFi2dO7IcS0537p16w5LTk6eRURXA4jNBNW5DoeZ+Tlmvtvr9X7b0NiurrCw0Dlw4MDPANSZ1cTMkUgkMjwrK+t/rb1GSUnJGKfTuRSxL0/10tLS7JycnJgi8UIIIQ4dMrNGCCEOAdFoNI+Z7R6+bispKbF7q1uvkpKSXoqivIDYRE0EwAVdKFGDcdcsz0np2avM7XZ8oxA9DcANAATqp5DjPWeya2s36n9gzNTCmp1z/r06dFYozOkAcKCSsbf8p//2VVQlagAgNanqt4+I+hPRAw6H43td1+8yDKN3Y3FlZGQ8ruv671r766MUZYS17eh+qZKoaUfZWuyEFyIePmZMYbPWpfn9/sN1Xb8rOTl5AxHdhgYSNcwcBvC3aDSqeTyeyw/1RA1QtateJBK5pPr3pgYROZ1O5zNFRUUxdaqaY926dYc5nc7nEPs9Go5EIpMkUSOEEEJm1gghxCEiEAic6nA4PkTVVrQ1mDmwY8eOE5s6U8MwjDcAnG3TdZOqqvfFIdSuhoLB4G+JaLbdsjEb5QCejkQiD2ZmZm6wdhqGMZCZvwFQAWB4a7ZNHjdrxX1EVGeHmwkn98XM38fswi4ShJlx7u2fY++BSJ120zR/tuzh0U2azeH3+/u5XC6diHo0cq0QgGcikci9WVlZ37U86q5L1/VbiShm9iEzz9E07faWntcwjJcBTLS2m6Z5rcfjKWjpeYUQQnQdMrNGCCEOEV6v92NmvtfaTkTejIyMh5pyjmAweBXsEzWFCxcujNnuVgAA2OPxvKZp2snRaHQsM7/fyPgUAFc6HA5D1/UXSkpKBtc5GfO1ROSqfhB/zTCMmALPTUWEYdY23zEtPp2IAyJC1tGxORYiJbup5/D5fNuI6OP6+pk5xMzzKysrj9c07QpJ1NSvrKzsr8y81qbrxmAwOLQl5wwGg5fDJlHDzB+++OKLD7fknEIIIboeSdYIIcQhpKys7E4AMW/niejPJSUlZzR0bElJyWBFUR6wtjPzzmg0OiU/P9+MY6hdktfrLdQ07QxU1cFYjKotkW0RkZOIJjudznW6rv8nGAyO9Pv9hwP4U60xHgDPoqUzZRlDrE3HD+hmN1Ik0HH97T4DHmzT2JA7Ys7AXGma5hNEdJymaX8ePHjwxpZFeOjIyckJA7ikeplnjeqE6TPVu+I1ma7rxxKR3cyZPZWVlRfK96gQQoiDJFkjhBCHkJycnDAzT0HVUps6HA7HMyUlJb3sjlu1alWK0+l8EUCytc80zcu8Xu+W+EfbdamqulpV1fNDoZCXmRcwc2VD44logqIoK1wu13oisj7J/1bX9ZubG8OYmYU9QXRE7TaHQjiyT0pzTyXi7FjbZA18zTmHqqqfAngPqErSAHiMmY/zeDxXqqq6qfVRHjo0TVvDzHdb24koe+DAgU3+u1e9+95Cu+Vp0Wh0miTPhBBC1CbJGiGEOMRU1zi5ztpOREc4HI6n7I7JyMiYC/uHxce8Xu//xTnEQ4bP5/tK07Rp4XD4aGa+n5kbLM5MRP3rab+zsZlRVs6ocoy17YheyXA65NagvQ2yS5gRxXxeTZDPzI+YpnmsqqozPB7P5lYHd4iKRCL3AFhvbWfmW4qLi09oyjmys7PnENHJNl1/93q9i1sboxBCiK5F7siEEOIQpKrqk3a1U4joXMMwLqvdVl0cd5rNab7ctGnT9W0W5CHE5/Nt0zRtdllZ2SDTNG8GsL2Zp1AcDseiQCDQ5Af6qMMRM7bf4UnNvKxoC30Ps/kcGIOA/Gbdt6mq+qmmadfIzLfW8/l8oUgkcqnNcii3y+V6pnrWTL1KSkpGALjB2s7M30Sj0bw4hyuEEKILkGSNEEIcmtg0zUuZeVdMB/PckpKSo4GqnYeI6B82x5eHQqE/5ObmVrR5pIeQnJycUo/Hc++mTZuOBjC9etenJiGiwxVF+feqVauatI6JCDGzdGyTBCLhUpOd6J5S99mfCK4RV5ySUc8hIgEyMzO/APBXm66coUOHzrZpBwAEAoEeDofjBVh24gMQjUajU7xe7954ximEEKJrkGSNEEIcorxe7xa7GTNElOZwOJ5bvHixg5lfIKLDrWOYeZbP5/MnJtJDT25uboWqqk+uWbNGY+ZJzPx1U44jomG9evVa0KSLMMfUJ0rv7mpmpKKt2H0WKa4USda0MyKaw8zFNu23G4aRZXeMw+F4nGyWsZmmeXtmZuYnbRGnEEKIzk+SNUIIcQhTVfVVZn7G2k5Eo4YNG/YuEZ1mc9jrmqbZ1rYR8TVx4sSopmkvAWiwAHFtiqJM0XX96sYHUkyyJq2bJGs6inS7z8Jp2hYAF4mjqmolM18Ky05uRJTEzE9bl0MFg8ELAVxoc6pP1q5dazdLRwghhAAgyRohhDjkEdFMAN/ZtI+ztjHzplAo9MeEBCYAAIFA4Gwisn1j34CHgsHgqIYGEDhmy6FuSQ2W3RAJlGrzWZimktoOoQgLj8fzuWmaD1jbiWh4dnZ2TfF2v98/SFGUR6zjmHlvNBqdPHHixKi1TwghhDhIkjVCCHGIU1W1jJkvAmBausjyc5OIpvh8vpg6N6LtOByOemth1IeInIqivBIIBGx3jwIAMLmtTU6n9SMX7cXltLtFYykq1EFs2bLlDmYO2HTlBwIBT35+vuJyuZ4H0NM6gJmv8nq937Z9lEIIITozSdYIIYSApmkfwb5wZg1mvltV1Q8TFJIAYBjGaQBOae5xzBxh5u6KovwtP99+ByECxyZrFEnWdBQOm8/C4SBZp9ZB5ObmVkSj0csQm+ROdjgcT19wwQW3EdFo63Gmab7g8XieS0yUQgghOjNnewcghBCiYwiFQvlut3sygEE23cWbN2++M9ExHeqi0ehuAL8BEKr+r5KIQsxc5/8AKhVFCW3atCmUm5tbCYAbOzcTha3pgKjZ6GEiQWw/hngUcgAAIABJREFUC0YktlG0l8zMzE90XS8goussXSMURRluc8jGAwcOzEhEbEIIITo/SdYIIYQAACiKcjQRZTDbPrAf3qtXrx4Adic4rEOa1+tdB2BdW5ybmEOguumacFSSNR1FOGKdsAEwqMmFpkVi7Nix4/bevXv/BoBq6bIWHTIBXJidnb0nMZEJIYTo7GQZlBBCCPj9frfT6XyRmesrYNovJSVlfkKDEm2KgXJrW0Wl1DvtKCpCsckaExzzmTXG7/e7DcP4dVyCEjFGjBhRbpqm3XKoOmQZqRBCiOaSZI0QQsRTAZ7CXLyLuXgbU9Fp6ks4nc77AJzYyLCJwWDwokTEIxKAeKe1qeyArLLpKMoOhGPaHOBmF/d2u903Avg/Xdf/U1JScnQ8YhN1eTyelcwcs+tTLV+UlZXNSVhAQgghugRJ1gghRLz8FT1A+COAM8DojwWIfdrqgEpKSs5QFGWmTVfMNAtFUR7x+/12NW1EZ8MUk6wp3d8p/sgeEkr3xX4W5eHKmM+sIcXFxSoz3wwARDTB6XT6dV2/vrCwUJbBx1lFRcWjsPnOBMBEdENOTo785RJCCNEskqwRQoh4ceEU/FSnYEV7htJU69ev7+t0Op+FZZtuZg4BuMXmkHSXy/VcfTsMiU7ENLdZm37YLSVROoLKcBSl+y2znJijFaFvf2zOeZxO55NEVHu771Qiun/gwIH/KykpGRGHUEUVSk5Ono/YOjUAQMx8GyzfsUIIIURj5GZbCCHiZytMXFH935PtHUwTUHJy8j8B9I3pILpRVdW/Anjepu+0yZMnX5+IAEXbYYW+tbZt2yXJmo5gu/3nsPmLBdOaPDsjEAiMJaJx9XQPdjqdK3Vdn79u3brDWhSkqKHr+vVE9IsGhowJBoNXJiwgIYQQXYIka4QQIl7ysB7X4ilci6dwHYrbO5zGBIPBPABn2nS9p6rqwwBQWlo6A8D31gHMfGcgEBjSxiGKNlRRXr7B2rZlRwVM2b673W360baOcExyrSFer3cZM5/LzJvqGUJENC0lJSWg6/qkZgcpAADV34N3NjaOiO6VmkFCCCGaQ5I1QghxCCouLj6RiO6x6fqhoqLiYgAMADk5OaWRSKTm5wcRkdvhcCw0DCPJ5hyiE1g1/4wfwKhTsDYUMbFlR0V7hSSqfbv1QEwbMwLNPY+maf8Oh8OZzDwP9vVUAKAPES3UdX1JcXGxdftp0YDCwsJkh8OxyLLUDKj6vrR+Z3Z3OBx/T1x0QgghOjtJ1gghRGs8hCPxEK7GQ5iNAtyBAtyPB/Hb9g6rIWvXru3mcrleJCK3pYuj0ejFgwcP3l67MTMzczkzP2BzqhOY+a9tF6loe7ze2vL11v3tEYio5Ru7z4CwriXn8vl8+zRNmwng58z83/rGEdE4p9O5Xtf12yQJ2zQDBgyYC8BnbWfmB5h5vrWdiMbpun5FQoITQgjR6UmyRgghWiOKXlBwMhTcB8LtIFwPB/q0d1gNSUlJeQyAZtNV4PV637U7hohuZ+aYh0UiujoQCIyNd4wiMRhYa20r3rC3PUIRtdh9BiZzzGfVHKqqrl60aNHJzHw1M5fZjSGiJCK6k5nXBgKB3NZcr6sLBoO/JKKYxAszryOi203TnA2bJaQA7pcd9YQQQjSFJGuEEKI1bsAazMIkAGtq2hiftF9ADQsGg+cT0SXWdmZeHQqFbq7vOFVVK6PR6BRmtlY+JUVRnl29enXPuAcr6tB1/dhAIHCmYRhZfr+/e3zOyjF/Vv3f2j7HiwT5YXcldpSGrM0h3hP9orXnzs/PNzVNezQSiXiZ+dX6xhGRx+FwLNN1/Z+GYfRu7XW7mrVr1/ZRFOUZm66KcDg8SVXVSq/Xu5eZL7cOIKIeLpfrbwkIUwghRCcnyRohhIiPg7u0lKEM/naNpB4lJSVHK4rylLWdmfdHo9E/+Hy+mCfE2jIzM9cT0Y3WdiIa2K1btyfiGauIFQ6HIw6H420AfrfbvVfX9Z26rq82DON1XdcfCQaD1xqG8ftgMHiS3+/vhyZsFRyu5I+tbcbmfdhXHrEbLhLgf8ae2Ebm/y3/Z27cigllZWVt1TTt96ZpnsXM9RYuJqKLmTlgGMZlkK2na6SkpDwNm130mHmWz+er+f7XNO0DADGJGSI6PRgMxiRyhBBCiNrkH14hhGitfChIRymA7gA+wCyc3t4hWRUWFjoHDhz4IYAR1j5mvkzTNLu3xHbIMIylAOyWSExRVXVha+IUDdN1/UMiGt2UscxcSUQbAXzPzN8B+DocDj9gTcqNm7XiayI6tnbbbRd5MHpoRvwCF00257kAPlq7s04bM/916dxRMYnSeFi1alVKRkbGXwDkEZGrvnHMvDIcDl9ROxlxKNJ1/WoimmfT9Y6qqmdZGw3DSGNmPxENtHSVAjhBVdX6dusSQghxiJOZNUII0Vrd4UVVoqbDLoEaMGBAPmwSNQBebkaiBgC4ercom9f/eMwwDOsDiYgjZn6hqWOrd6g5HsBYIroYwDf1zJ6KqVP0afEum2GirYUjJr4Ixv7VMsHvtNU1R4wYUa5p2o3hcDibmVfWN46IRrpcrtWGYdy9atWqlLaKpyPTdT2TiO6ztjPzjxUVFZfaHaOqahkzT7XpSgewIN4xCiGE6DokWSOEEK1FOLXmxyZWtWMktgzDOI2IbrK2M/OG0tLSac093+DBgzcy85U2XT0BPAuZtdlmDhw48IpN3aDGMICpmqa9aNtrIiYRsOrLXQhHzBZEKFrji+Ae7K+w7LDNKCvbX9Lm3ys+n8+vadpo0zSnMrNttq565s3NGRkZ/kAgcGZbx9SR+P1+N4BFAOwSVZdZd9GrzePxvMPMdknxX+q6HlNDTAghhAAAZ3sHIIQQnd5PyRrGPnzW6Ph8KOiBASCYyMMWVD1Mtwm/3384M79ARNbkfDQajU7Oyckpbcl5NU1bpOv6BCKaZOkaq+v6tZqmPdiyiFvmx1uH/Qngml9jmEPv9r+75DvruC1T+6e6+vS+EACUEL/V6/51dZYg/HDrsLMIfOTBnzPD3+futfXONkikkpKSXoqinAtgH4Amb63MzDM1TftHff3R0sgS52GuMhDSDrbtr4jiv4HdGHFCr9YFLZpl+ZodMW1MePOLBdPCNsPbAns8nr8ZhvG6aZoFiqJMsRtERMc4HI53DMN4ORwOz8rKytqaoPjajcvlup+IhlnbmfkRTdP+09jx+/fvz+vWrdsZRNS/djsRzQ0EAu97vd4t8YxXCCFE5ycza4QQorWoenkRowT5tsuDgAeRhQLcjrlYjXRUQMH3IGzCXJSjAK+iAMe3RWgul+vvNrUSwMz5mZmZrXpbX1FRcRUz29VbuKu4uPiE1py7OYwZxycRMFQh5TGFlPkKKfNdStKpdmPdffqOODjGTMJIa78COopIyT84RiFlbtv/CupXWFiYrOv673Rd/7fD4diqKMpTRNTkDIppmjdrmvZIQ2OW/zO3goH/s7a/+/kPLQlZtND+8ghWrNsZ087MLyc6FlVVf/R4PBdGo9GxAPQGhp7vdDoDhmFMz8/P77L3lMFgcBwRXW1tZ+aSHTt2NKmWUHZ29h4AdjMZeyqKMr+1MQohhOh6uuw/rEIIkRAPoA8AFQDA9SyBmoEkOOAH4Q4wDoBxLkrRA4yfAwiCcC6AJcj/aWZDPBiG8WciOsfazswfLlq06J7Wnn/IkCG7mfkSWGYGEVGS0+lcWL1soM2pj35VmXHXmqtMNp+ticGkeqrj8piDP1JYidnNJeOu1U8C+PtPw/mVeMbaFPn5+Yqu66MNw1gwYMCA7UT0LyI6p6Hir/W4x+Px3NuUgcxYZG37rGQXdpY1uEGYiKMlX/yIkHXpGWPXtk1b32ufiACv11sIYIhpmnfUt/yOiNIAPD5p0qRPDcPITmyEbc/v9x9ORDHLO5k5BGDSiBEjypt6ruoZOM9Z24no18Fg8MJWByuEEKJLkWSNEEK0hoKTav2sseLCuxHG75GHN5GPfchDEYCqopSEo5CGmJ1EWsowjCwAD1nbmXkXEU3Jz8+PS0ESj8ezFECBtZ2Ihrjd7lYnhJqDiGqWK7Fi2s4+oVq7WDFxv3rGpAIAAxWhigNPxzvO+hiGkWUYxj2TJk36jog+BPCn6gfhZmPmeaqq3tLU8cseXvIewBtrt5km8H8fd/nVLR0CM+P1lTa/12w+V/zKxHbNmKmqWunxePIjkchgZl5a3zgi+jmA/xqG8ZDf7++ewBDblMvlWkBEA6ztRDRb07Q1zT1fKBSaBWCbzfke9vv9tt9JQgghDk2SrBFCiNYgeGr9+EvbMb0QhokJYJyG2ahbl2AWVgOoqkfBOCoeIRUWFiYDeAk2hTCZ+fI22Cr2FgB22/nOMgzjtDhfq15mxPz64I8JsTNrtl03pA9AP//pALJ9MGJgaPWPnu7/kB5bRCSOgsHggGAwmGcYxjpU/R7eZLdsrZn+rmnarOYdkm+aJmLq2rz58TZUhKJ2B4g4+rR4Nzb9GDtBI0rK322Gt4usrCxD07TxpmleBKC+NXIOAHkul6skEAj8JoHhtQld16cR0bk2XctUVbXbvrtRPp9vl2maf7a2E9Hhbrf7yZacUwghRNckyRohhGgNql4CBQBlNbUdCAX4KUmRDxPX4m3kYX3M8fnoAaBqeQvj+3iENHDgwAcBDLa2M/N8j8fzWjyuUZuqqpWmaU6uXhZQmwLguaKiovR4X9MOO8yaRBhxbF0XR7IyHWAnM0oAgBTELIPaccvQAcQYA3AoHMYDbRGnYRhpwWDwIl3X31cU5XtFUR6Czedlh5k3AygwTXMYgJgCysz84sKFC6ehBUWrzVDkKViWuuwtj+A/q2ImAYg4e3HJxpg2Zl5SOHekXRK0XXk8nufLy8u9qFouaPvnjIgGOhyO1w3DeMPv9w9KbITx4ff7jwcQUyidmXdVJ6xaXBje4/G8zswxSw8B/FbX9Qtael4hhBBdiyRrhBCiNRj9an4ERFCVqHkKhLdRgJip8zF64OC2rVuwD2+0NhzDMH4NIGZbbWYu3rFjR15rz18fj8ezFlUzbKwGpaWlPdFW160ttH9PTbKGwXWSNd9ecnQyAdOZ6N8ALwMA/umzq0FEl4PgYKanjrhvzYZ4xVZUVOQKBoNn6bq+CMB2RVGeJaJfoAn/DjNzGYDnmPn0RYsWDVJV9drq3++FlqGvb968+aKWLnFb/kTuNqaYc+KlZZtQXimza9rKZ8W7UPL9vph20+SE7qjWHEOGDNmtquqfIpHISKCeGYVVzna5XMXBYDCvsLCw0+xAWlhY6HS5XAuJyG4511SPx7O5tdeIRqNXw36G0iNr167t09rzCyGE6PwkWdMFjctb8dj4vJXbD/43Lm/lM+0dkxBdWGH1/wnpeAcFCAD4AyKYgDw0fEN/P1QomANGCIw/IB8HWhNIIBDoz8x2f98rotHoH5pTCLMlFi1aVMDMH1nbiWhSIBCY2JbXBoAj524qB3gPABBQZxlU9yPTLyIgIxoN3wmi3dWB1ZlZs3PG8WkMXMlAWaQield918kHlM23nHDkjluGDoCl6KhVMBg8Sdf1R9LS0rYohLccB3ZeQAd2JYMbfinPzGFmfpuZJ23evLmvqqoXa5r2Qe1EDDO/UOvH74dCofNzc3MjDZ64EWY0fD+Y62RmSvdHsLiw1c+mwkY0yvjHWzETpMDA6sJ5o9utsHBTZWZmrtq0aVM2gJsA++8vIuqmKMpDAwYMKNJ1fXhiI2yZAQMG3EVEJ1nbmXmBpmn/isc1MjMzdzLzdGs7EWWkpKQ8Ho9rCCGE6Nw6zVsO0Rx0JoCatzLEZnE7BiNE10ZYDOB8AKeAkQPChwjhbMxGsMHj7kEvuPAGGN1hYgquw4rWhJGfn684HI7nAcQs/zFN87rMzMzYJVhxlp+fb06cOPEip9O5zloY1+FwzA8Ggx/H4410QxjYQkBP4KdlUFum9k8lptuZ8Hrfe75ct/PWYbkgAlV9TxKqlzNwz243Eag3TJ7V78F1dd5477wpOwsKzgPxOQD5QFVL13bcOqwSRP8xw6Eb+9zn/woAiouLVZfLdQEzX+Qo3Xyc+7tP4f7+czj2bARV50FYcSI88Gc4cOJkmGk/TfBh5s8BvBCNRhdlZmbG7uNci6ZpJYZh/I+Z95WVlZ2Tk5PT6kK0hfPGBsfNXLGQCBfVbn952SaMz+mNARkxZZBEK7y+cgu+3WaT44jy7YmPpmWqE4T3lZSUvORwOB4nIttC6UQ0FMCqYDA4f+/evTfn5OSUJjbSpgkGgyOJ6Hqbrq/C4fC18byWpmn/MgxjMYA6yWwiOs8wjN+rqprw3eiEEEJ0HDKzposZNfOjIwg4rnZbhJRWPQQKIRowC1sxCyMQRSaAwzELZzaaqLkP6UjG+wC8YPwJ1+HF1oZxwQUXzAYw1trOzG96PJ6EvaXNysr6johi3hYDOIyInkEjM1Faj7YCANeaWePu3TuPgP5mFHcCgMl0MBHj3HpTdgYAbJmdNQhQZoKxbqm+5tHaZzRmHJ8EJ/xQcAeAAyZHz43urOxhmuGfEyhIwLkOV/Iy/YuV1xuGscrlcukA7iAzclzP/8tD6trFYKcb+8Zci10XPIfSs+5FNK0/3N9/hh4f3AlU7jNM07wTwPGapg3XNO3RxhI1B0Wj0VtM0/xVTk5Oq2Zl1cbR0J3M1UWvq4WjjMf+/U28LiEA7CitxLPvxdaqAfOnS+eN+k/iI2qdzMzMDZqmTQAwkZm31DNMURRlenp6eiAYDJ6fyPiaoqioKF1RlBdguT9m5ohpmpN9Pl/serXWu4qZYwqZM/PjwWAwplC6EEKIQ4cka7oYJymjav+cGeV79/m/aK94hDhkXIcA8tD4MqN8pMKNt0DIBjAV16LVW0Pruj6ciO60tjPzFma+rLXnby5VVRcCiHkjTES/MAzjmja9OFfttkWElI2zBqbsvGHIQBDdCNDLfe5ZU7XNLps1FXOJon0BwO1OeowYLmbzTxNfgX2BFubdZoh+3/vudW/2eaJ4nzFhgX/fSZdWFwk1j0za+dX9AE6xHma6u2HfaXkIH5kDuJIRzTgO+0+ZthsAHPt3oOfLF9/u8Xj+oqrq19ZjG+P1et/1er17m3tcQ5Y9Ou5rgB+xthcF92DFujbdHOuQMv//NsTUAmIGR4iauZNXx6Kq6itElAngMQD11U/qpyjKS7quv2cYxnH1jEm46vpaMbvyEdFtHo/n87a4pqqqP5qmGVNnjIh6K4ryWFtcUwghROcgy6C6GGIMqr19MIFXf7FgWrihY4SIt1Over9/kivpBIXpOFboaAKOrJrpQBnE6AGwm0FJBDYZVAmgksC7AdoJ8A8M3kBEGyIgHRXhL5c/kdsWbzMTLx9OpON1AKeC8WfkodXb8hqGkcbMi4jI+n1umqZ5odfrbZen61AodIXL5TqViPpbuu41DON9VVXbanlmzRt9JbVnBkh5EERRM1pRU1yZ2Nx68F2FU3H0+/GWYUMJ+DXAD2TcvTbmgWzho1+Fp986bIJJ0Y3zU8/dFgi8OFZRlCkAzgtlnNmDi54DcRTK/h/rHqg4sHfsjTC7ZYBTDweqanr8B8AL31WmvDOEcQAEFzHFZcv2eKL9FXPQPeVC1FpSCwCPv/Ythh6XjrRurnaKrGtY9eVOfLjG9q/mwuUFIz9NdDzxpqpqGYAZgUDgWYfD8RSAE+3GEdHpAL4MBoNzIpHIgz6fr9VL+VoqGAxeTESTrO3MvHLNmjVtsjPcQV6vd7Gu6+cT0e8sXecHg8GX22IXP1GX3LcIITqiNp6OLoTo6sZcUpjsOMw5khmnkoJTwXQiUWzdlJZiBgP8LRE+YxMfg3nF0nmj18Xr/AlVgMdBmA5gNmbh/jp9D0EDMADX1hQsbhJd1xfaPWAAuFdV1ZtbHmzrGYZxOoB3Yfm3hplXl5WVDc/JyYl7InnHLdlXk4J5AGCafL2i0ANsmjMy7l5b84b669nHpvd0p+8BAJNxnUJ8MzN+3Ltpz7Bj/rmhwu68gUBgSHWCZgoRHVHTETqAw1+q2tBr36irETpmpPVQE8ByZn4hHA6/cnAZxc4Zx6ehZ4/Sqjgxqffdq1u9FC7exs9aOQk2u0Od5D0Md12eCSK5hWiJH3ZX4oqH1mBvubUWNO/maGXm0nnjt7dLYG1k8eLFjuzs7BnMfCcR9ahvHDOXALhC07SYIuVtraSk5GiHw7HWWmsLQGk4HB6alZUVWwU6ztavX983KSnJT0TWfz+3h0KhLJ/Pt6utYzhUyH2LEKKzkDstIUSzjZle2M/hdp4LwgSAxhAhsVVHmbcCeBfgNzZE9r371aNnVSb0+i3xIH4LB14D4xnkoe7SpAKkAFgCwg+YhXOaespgMHiRoijPWtuZ+bPNmzePbO3OQPGg6/rDRBSz9ImZ79c0bXa8r7fz1uzzQFVLsBioAOPLx+5aPTzfshxjx23Z+wlIZeAAMVwmh0f0vvvLotpj/H7/IJfL9QciugiAz+56SSVvo9t//wkz5TDsOecRwJl08Ne3DsALkUjkhaysrK3W4w4mlRjYEtq+Xe2/YEvcas7E07hZK94mol9a2y+fcBTOHzuwPULq1KJRxqzH16Pku9iVaybzZcvmjuqyuzcGg8EBRPQoETX0HcfM/Ew0Gr2hqXWbWmvx4sWOYcOGLSeimEwrM0/WNG1RIuIAAF3XLyCimOsx8yJN0yYnKo6uSO5bhBCdkSRrhBBN8rOpb6b27HbY7wG+hIhGo6PUvGKUMczX2OSnl807LeFvZJukACkgfAWgPxi7APyURCEQGOkguG0TOfXw+/3Hu1yu1UTUvXY7M5cByNY0rUNUgy0sLEweMGDA/6prWNRmmqY5xuPxxLUA+vZbho1wKvRx1c/YNBE9qfec9TF1u3beNuxrgI4FAGa+OeOuNfcCwOrVq3t27979dwCmABiDBv6dVMq2Iv2tG4FoGHt/cRsifTO/Z+aXwuHwcz6fz1/fcT/cOkxViIoInByNmOP73LuuwxaBHzOjcKDT5VwH0GG12xUFKJg+GL5jrBMRREMWvPktXlluU3uX8daSuSN/lfiIEk/X9V8R0WOwqQ1zEDPvYObrPB5PTDI63oLBYL6iKH+x6XpOVdWL2/r6VoZhvAHgbJuus1VVfTPR8XRmct8ihOjsJFkjhGjQ2BlLj1OcrpkguhCg9PaOpyHMCBKbj/+ws/zpdc+fsb+946kxFxcCeK4JIwswC41uDVtUVORKT09fBSDHpntKdYHfDsMwjGxm/oyI6hQ6YeYNRDS0ur5FXGy7dcgxLnJ8AwAMPJYxZ/UMu3E7bx22AkQjwfho14i7T48ee+wZDodjCjOfTURJjV2HKvYi7b3b4SjdwvuzL/jwQNav7/R6vctRvQ14fTbd5O2V7EhZQcQe06QpHXH5k9W4mR+dR4oSUzD68B4uzLt6CPodntweYXU6HxT9gPtfNGLambG9vHz/kFXzz/jB5rAuqaioKDUtLe0OADNt6m3VYOYPmfkKj8cTaIs4gsHgSUT0sU0M35WWlg5tj+3Fi4uLj3C5XH4AdRKkzLx1//79WdnZ2XsSHVNnI/ctQoiuQpI1nVzuNR+erSiO3gykEJupDEohBalkspuJ3ls6d9S77R2j6Jxy81YMVZhuI8I5aObbKLdTwdH9UjGobwqO6JWMfocn47AeLqSlOtE91QmXQ4HLSTAZCEdMVIZN7D0QQdn+MHaUhrBtVwW27KjAhm0HsGVnBbjBx187vBvAExXleGjlk6N2N/fojk7X9fuJ6HqbrnZ5E9wUhmHMBnCfTdfzqqpeFK/rFI6B84QRQ0cBAO8J/7fPE8W2RR6333zCkJDnzNEVJ/zmRKT1+y0sD0YNqtwf6vnOzQeU0q3pptN9Re/8zxY05bCvZx+bnu5KX0bgbBBf3mvO2lbvBJYo42aumE8KTbO2D8hIxsMzhqBndyk43JDPS3bjtqeLYcbujWRyFGcunTfyg3YIq92VlJQMdjqdT8FmF7WDmDkE4K+bN2++Jzc317amVEv4/f7ubrd7NYDjLV3R6ll/K+N1reYKBoMXKopil+DvsN/xHYHctwghuhpJ1nRiP5v6lKtn96wyAtm+1jTBE5cVjIp5GypEQ3KvWeZRFNddAJ1L1LTviJ7dXfiZ1hMnHJsG39E9cFTfVChKfL5eyiuj0Dftg//bMqz9uhTrvy5DONrUuyAuNU3M3bHzwINd5Y2Vruu/IKL3EPv9/VUoFMo+WMC2o8nPz1cmTZr0YT11Ic7TNO1fiYgjGAx6qwsyX0hERzfjUAbwCVWUvnzYq9MuQDQ63CRM7T1nTZN29NoytX9qUt8+74MxojnHdRRZv1/s7j/wiI9ANNzapw3sjgenn4CUJEd7hNbhFX+3Fzc8+SUqw7GZGmbzlqVzR9/TDmF1JKTr+jQiuhdAzwbGfcXM0zVNi0tiyzCMZwHYJYrzVVW9Ix7XaA1d1/9DRBOs7aZpTvB4PG+3R0wdldy3CCG6KknWdHI/m/qUKy0l60RFwRJr7QqTKwcumztuc3vFJjqXMTMLezrh+AuTciURGn1NPiAjGacNy8CpJ/SCOrBbwnaGqQhFscYoxYdrd+AT/y7sr4g25bAtAN+0pGDU82hkmUpHZhhGbwDrAPSr3c7MYdM0R3i93iL7IzuGQCBwjKIoa607wjDzzkgkMtiuEG88VO+ycj6qdnL6eXOOZeYAgEXRaPT5bX/O3DR41LC3CfQL0zT/3PvutfObco7CMXC25LiOZuyspQMUcn8C0JHWvmw1HXP+mIkklyRsavt2635c+/iXNjs/AQC/uKRg1GR04u+keKr+ezqXiC5oaBwzL6qsrMwbPHhwi3fN0nX9XCJ61ebcn2/evPnUjlCcPRgMDlAUxQ+gzjIeZt5cVlbma48lWh2N3LcIIbo6SdZ0EeOOi4ovAAAgAElEQVTyVr5AQK2dAnjjkoJRg9ovItGZ5M5aOVEBHiFC34bGJbsVjM3ujV+e3BfeQfXuwJowoYiJVet34u3PtmO10fh9KzNWmGboT4XzxgYTEF7c1femlZlv0DTtgfaIqbnq28EKwHuqqp4Zr+usXbu2W0pKym+IaAqA0wE0J4uwjZkXM/MLHo/nvwcbd9w27HECTWeTZ2fcvabO1us/3jRUA2FA73vWxmy93tLjOqLRMz/MdJFjhd02t76je2DOH7PQI7XeEiSHlC+/KcOt/yi2fTBj8AdbN279VfErE0PtEFqHpuv6eCJ6ErHLk2rbw8w3apq2AM18kK3elWodER1eu52Z94XD4Wyfz/dVC8JuE7quX0pEMcslmflpTdP+2B4xdRRy3yKEOBRIsqaLGDdrRd3tcZkXL5k76vx2DEl0AiOueK9Pamq3v8F+54kaGelunDOqPyac0hfdkjvmg9j32w/g1Q+3YEnRDw1PN2auNAl/WVaw9AEgP3ZdQgel6/o1RPSwtZ2Zl2iadjo60Zs3Xdf/RUS/s7Yz89Wapj3a0vMuXrzYkZ2dPQ7AFGb+HRF1a+qxzLwfwBvM/MLatWvfnzhxYp0n7B23DvstEb3GzM9k3LWmzo5dG2cNTEntlrGEgR8y7lpzTjyO68jG5K082clYCkKqte+ovim4b5oPGemN1mju0lZ9uRN3P68jFLH5imEURSrDucufyO2QSxY7gupd5G4BcAMRuesbx8yfmqY5zev1rmviqckwjCUAxlo7TNO82OPxNKUQfEIZhvEugDOs7ZFI5MzMzMz32iGkdiX3LZ3nvkUI0XqSrOkixs1a+SoRzj34c2aeuXTuqHntGZPo2MbOXPlLIjzT0FupXmluTB4/EGcO7wuXs2PseNmYHaWVWLRkE975bDsiDdz8MPPycKV50UdPnLYxgeG1SDAYHEpEn1l3KWLmH8Ph8BCfz7etvWJriZKSkl4Oh2M9ER1h6So3TfPE5u78UlxcfKLD4ZiiKMokoOG3rBZRZl7KzC9UVFT8e+jQobb1ATbOGpiS0r33VwT0B3gX1956nUFESAfIbU3ItPS4zmDszJW/JIX/jxC7k0+fnm7cM9WHo/rG5HIOCW9/ug3zXv0aps3XD4P1UJhHrnh09I+Jj6zzCQaDXkVRngQwpr4xzBwBMLe8vPyO+v4OH2QYxo0A7rU5x780TTuv1QG3gfXr1x+ZlJT0JRGlWbo2RqNRn9fr3dsugbUDuW/pPPctQoj4kGRNFzEub+VXBBx38Ocmm8OXzR39eXvGJDqqfGV83rg7menm+grxuRyE88cOxAXjBsLt6hw3O1Zbd1bgsX9/g88D9W+qwIydAP9h6dxRSxIYWrNUb3H7BRF5rX3M/CtN095qj7haKxAInOlwON6x6fqitLT0lJycnHAjxx9DRBcQ0UVE5Gnm5f8H4IWKiopFTal7seOWoReS/c4sVgW95qyu2Xq9pcd1FmNnrTiHCIvsitwnuxXMPO84jPtZn/YIrV1UhqN4/LVv8c5n9fyRYi4JVZpnyINW8+m6fgmAB4goo4Fh3wO4SlXVN+06DcPIZuZPrTN1mHlzddJ7VxxDjqtgMHi5oih/s+n6m6qqUxMeUMLJfctBneG+pTlyr1kxXFEwEsCRBBzJROUwEWSFA0oEny15ZNT37R2jEO1JkjVdwJiZhT2diqvmm53BFXv2Fad9sWBagw874tAzfMbbaT1cPRYDFDOl+qAcT09c9btjMSAjJZGhtZmV63fiyde/wQ976i0NYZomZi97eOSDiYyrqQzD+BuAy63tzDxP07SZ7RBS3BiG8SiAq2y67lVV9WZro9/vP9zpdJ5HRFOqd5Vq8r9hzPwtEb0YjUaf83q9svY/TnJnfXSag+gNgNLt+s88qQ+u+t2xXb7w8PfbD+Cu54L4dtsB+wHMn+7H/gmfzD2zwyYEOrrqGXkPENElaODvPjP/m4iuUVV108G2VatWpWRkZPzPJunN0Wh0vNfrXdZWcceLrusfENF4a7tpmuM9Hs/S9ogpEeS+xVaHvm9pzPEz3k4a5EiboRBfBqLMegcyVwK4a/f+4r/KM404VEmypgsYO3PlLxUFtbZx5JVLCkaNar+IREc07polfUlJfheEYXb9ad2cuObc4zB6aEMvLjunilAUz777PV79cEu9Y5h53tK5o2ahA9V+MQzjPACvWNuZeS0RDVdVtbIdwoqb6geo1TYzY6KRSGR0ZmbmKsMwkph5AoApACY0VL/Cipl3AXi1ulDwSnSgz7Yryc1bMdTBeAexy9oAAEf3S8VNkzUc27/JJYQ6lXc/347HX/sGFSH7UhLM/M6e/XvO+2LBr+vJ5IjmCAaDo4hoPhFl1TeGmfcBuHXNmjWPTZw4MWoYxgIAf7KOM03zPo/Hc1NbxhsvxcXFRzmdzi+tO38y84ZwODzY5/N1uRpIct/S+e5bGpObt2KoA/QCgBMAgBlhAr/GwCqYVMyKeZwC5dcgnFVzEGN9eenOUz9++jeHzJI/IQ6SZE0XMD5vxV0A3XLw58x4YOnckTe0Z0yiYxk7Y+lx5HS/T0TH2vWfcEwabrlQ6/JFQf8b2I37Fuko21/PrqzMi3bvL76kI7zB8fv9g9xu91oAPS1dB0zT/Flz67p0VIFAIEdRlE+I6tY+YeYtRPQegN/BsnVtQ7jqTdxbzPz/7N15fBT1+QfwzzMzuzmAAAIKBBWPmd0QuTRqRRISEu9arQcVvK0nypF4Vquutd6acCge9aoCtrH6U+tVTQgQxKNBzhw7o0LlFFAkQEKyu/P8/sgmJLube8/k+37Vkv3Od2aeEJJ98sz3WOh2uz9KTU0Vu+2EQcZty46xWORPiBBwSpokARdOHI6rzzoSiVG62GdnbdpRg3nvfI/1P1S32oeB1z3fum5YujTyW0H3JGVlZZakpKS7iOg+AG0Np/gWwJsACnwPMPMal8t1aiz9jNB1/WbvTlktMPPzmqZNj0RMoSLylgaxlLe0J3vWsj+QLL8BwAoAzNgKdl9aPCfzS9++OXmlDoAebHzNzM8UF6TfEcZwBSEqiGJND5Cdu2IJEbIaX7Np/r54TsZ7nbuKQ8qcMWm4QspIyHSUCd7HoB+qD+zZKJ4GxracGcvGsyJ/0tqCfJdNTsY15xwNWeodPw52763DI2/q2LCxlV+wGJ/t3H3gonVvntXmQpWhVFhYKI8bN26pd6pPC6Zp3mCz2V6ORFyh4nQ675Uk6ZFuXIKZuZSZF+7bt68wLS2t/f1QhaA7dcbHSX2Vfq8TUas7Ww1KsuLm341E5vgh4QwtqGrrPHjzs814Z/lWmK3sy8IMFwN5SwomPhve6HoXXdePJaIFCLBbUjMM/3y3lplP0jStMnTRhQQZhlEMHMr5vNjtdk9OSUlZGomggk3kLS3FQt7SnsmzlmVIsvw5DhVqNtW7zVNaW2z9pBtftAzoM+oHIhrh7e9ysWfs8jmTYu17VhC6pXf8lOvBMjNLFGW8ZW/zLVTZc3Bo8dycdhfNnHhL6UBrHF8gkXQJwDnw2Wmm6XrgD4nNe4sKJq0PZuxC6GXPWj4GEi0jIt/RGYi3Srj/KjtOSRkYidAiymMyXvr3Jry7vJXhxczLNrn3nfXd/HMjMs3I6XQ6JEl60Ledmf+ladqlkYgpVKqqqoYrijLVNM2HOrPVttcG0zQX19fXLxw9erRYtDU6UHZuaR4RPQpvUh7ICcck4dpzjsKY4zo8aCriXG4Tn3z9ExYXbcHP1W0NxuCNbHouD/S0WAgNp9N5mSRJBQCGdqS/aZo32Wy2l0IcVkhUVVUdI0nSet+fl8z8Q21t7Zj2dsSKdiJvCSza85a2ZOeWHkuEMoCavnDswZnFcyd+3uZ5eaXPECiv6RyYDxfnZzwQylgFIdrE5nLpwiHjMa55oQbgjR0p1GTnlf47LgE7JUl6DYTzmCAD/JYJvsc0+c/M/H8ATAAg0G9B8prJs0uvDNnnIQRd5uySkSTRp4ESnv59FDw9/YRemfAAgCwRbrngGNzw26MDdyCadLTS7y1cWhj2VVGdTudESZL+HODQjwcOHPBbcyEWVVVV9XM6nVfpuv6ZLMubmfnpjhZqmHkbgHwAJ6qqOtpmsz0mCjVRhYsL0p9xm65TGVzRWqcNG6tx+4INuGPBBnxTuQfM0bvkQm2dB+8s34ZrHluF+e/+0HahhvnNfa5940ShJrxsNts/9u7da2fm5+HNXdqwk5nb/CUxmtnt9o3MfI9vOxEdm5CQ4LcteSwReUvrojlv6YAnWhRqwK+2V6jxdmy5ExSTGvzQBCG6iZE1MS47r3QmgeY2vmZgUXH+xCvaPS93RQ1R4zxv3uzxuM4omTu5xQ4pWbnLJ0mQPmnqx6g26+vGLHku+39B/SSEoEufsXyI1UIrCKT5HjtiYBwevzEVIw7vGbsmdNdn/92JZwqNgNMZmPml4oL0m8IVy+rVqwf07dt3LYCjfA55TNPM9C6SG5NKSkqU4cOHn+ndyelCtL3ORAvM7Caixcy8cPHixcUOh6O9X8aEKDDq0kLrsBHD7yPCPWhjlA0AHHV4As49bSjOSBuCpERLmCJs28btB/DxVz/h87KdOHDQ03Zn5h89ZN5Skj/p47Y7CqHmdDpPIaK/B9j5qblaAA/t3bs3Py0tLerX+giAdF1fSkQZPu1smuYkm81WGpGoukHkLR0XTXlLe7JmlZ4qy/RV42tmsIddxy6dk7WpvXOzc5dfRiS9dehc/ra4IP2kUMUqCNFIjKyJccQ4vUWDyZ16msdgt9vtPte3UAMAJQUZy0DmoW0BCUlktV7S1ViF8MicXtI3TpE+DpTwHHV4AubOHCMSnmbOPPlwPHRNChTZv3ZNRDdm5y3/S7hi6dOnz9/gX6gBgIc7VajJx4sowKcowMe4ERH9zdfpdJ6i6/q85OTkbZIkfUREU9GJQg0AeBcf/lrTtM9FoSZ2VLw9pb64YOKD7DLHg/FZW31/3FmLF97fiMsc/8UDr1Ziybe7UHMw/Gvybv/5IP65ZAtuyV+DG59eg/dWbG+7UMNcx8xPuOvcqaJQEx0kSVoLoL1FgxMAPN6/f/9vq6qqTm+nbzRil8v1RwC+awqSJEmvrly5Mqbe5EXe0jnRlLe0R5LgaP6awMs7Uqhp6Cy1nCdLAfMjQejResaWDL0YAxOoxeuOFWsIvJ8ZHhD9Y+m8rA2tXt/EeyTh/kMn0gldj1YIByVO+TsIab7tQwZY8fhNqRiU1OGdj3uN36QehrunaXh0oRO+szEI0v2TZ5dWLpmT/lbgs4PD6XTeQER+xVBmXrFmzZq/dvhCT6AfCH8EIIOxFi8h7E+Ny8vLj7dardMAXAng+E6e/q33nCSf9qcqKyuLUlJS9GDEKIRP8fyMCgBnZc8q/S3J9Bi8W7YG4vIwviz/BV+W/wJZIqQe0w8n2wbihGOSoB3ZF1ZLcJ8x/brfhYpN1Vj73V781/krNu+s7dB5zGACv2266+9dMj/7+6AGJXQLMz9FRGM62P0EWZZLDcN4uba29u4xY8bsCWlwQZSamvqdYRj3wX+nq+MHDRr0CIC8AKdFJZG3dF405C3tmXhL6UAQclo0Mt7o8AVMHN58WAEBYutuodcRxZoYNuHm/xzeuEo6ADD4oLnGs64j5xYVpB/ekX61VLOpD/oeamD0zsnCMWJyXundAF3k294vQcFjN6ZiyICevcVld2SOG4y9+1149v9+8DsmSfhb5syS9W0VNrvD6XTaJUmaE+DQry6X6/IpU6a0MwejGQtOA9A4Zz1sQ+GdTudgSZKmALgCwGmdPP070zQXu93uN1NTU7/Tdf08IvrQp0+iLMsLS0pKJmRliW2QY1Hx3PQPAcfHk2dn/0Ei3A+ilLb6e0zGuu+rse77hh1QFJlw9NBEHDssEUcfkYihg+IxdGAcBvazIqmPgnir/1INzIwDBz3Ye8CF3XvrsePng9j280Fs3F6DjdsPYMcvnVuLkxkM8Hsw2VE0N6ND77dC+BiGcSaA2wIc+hENU/+PDHCMANwQHx9/oWEYeaqqLgxljMG0aNGieZdffvklQMtR1pIkzaqsrPxXSkrKygiF1mEib+m6SOYtHWGNw28J1PS7JoPd+z37/tXhC0h8RIsVOxg72z5B7Gwr9DxizZoYlp1bejYRfdL4moH/FudPPCWY98i8rcSuWC1N2+Qx+Lni/PRAiZAQYZNnLpsgydJyELX4jSXOIuHJW07AqKP7RSq0mPLaJ//D4qItgQ5VHeBtJ35ZMKVjj947yDCMOGb+mojGBjh8qaqqHU9sACAfo8GYAABglOIOtLrIa3etXLky4bDDDjtfkqQrAJxNRB2ecsXMu5m50DTNhSkpKX4jAnVdX0BEtwQ476+apt3v2y7EHMqZvfxcJul2Ir9tiLtElggWhWBRJDAzXG5Gvdv0e+rcJYwaZn4TLuQXP5cuRndFIafTOZiI1hHRsObtzFxnmuYpHo/nB0VR/iJJ0kwcKmgHssTtdt8SK6P4KisrNUVR1gKIb97OzM6tW7eOy8rKOhih0Nol8pbgCHfe0lE5eaWFADXtYMnA6uL8iSd29PzsvNIvCDShqYH53aKC9Iub9xE72wo9nVizJoax7+J5Jlf69plw8386NIKmNbLF0uJpDZv0UXeuJ4TGqTM+TpIUaaFvwgMAd1ymioSnE64952hkjB0U6JC9D4bnB/t+zPxkK4Wav3W6UAMAeViP2/EibseLoSjUOBwOqaqqarKu668OHjz4J1mW/0lE53ewUFMLoBDA77Zu3TrMZrPdGqhQAwDV1dV3ADB824noT4Zh/KZ7n4UQBbhoTsZHxQUTJ3Md25jxFIN3dOeCHpNxsN7Evho39td6UOcKQqGGUQbTnL7PXT2seE76zaJQE70kSXrZt1DjdZfdbl+Xmpq632az5TFzGjN/08alJsuyvM4wjAcNw4j6YR0pKSm6aZp+OwgSkS05OfnhSMTUESJvCZ5w5y0dxj5TXrnj62qOurTQSowWiwmbTC3OFzvbCr2BKNbEMGIMadEgYXfzl5mzS0YmJCSuys4rfaZrd3BIIL6r6SXz10vmTPykjROECOlrSXoGoGN828+fMBSZ4wZHIqSYljfleAwbFO9/gHDz5NxlZwbrPt7pPjN925m5au/evbODdZ9gqKqqGqPr+pPTpk37UZblYiK6log6kk2bAJYw83Uej+cIVVX/oKrqv9ubypSWllZjmuYVzOzbTwbw5tq1azu01bcQ/YqfS9eLCybeVZxfnAyTswA8D+Yf2z0xNExm/obZvM901R1fVDDx5KI5Gc9/Pf/c6gjFI3SAYRi3ALjAt52ZP9c0bX7zNk3T1ixevPg00zRvA7A30PWo4em8A8C6qqqqyaGIOZjeeuutAmb+yrediHJ1XT81EjG1R+QtwRWuvKUzGDSyxWuG37/R1gwdMXSc7ygZZm45tZsp+9A0K95selwnFOWnT1uSn/7EkjnpjxQXpF/kYXMyMxpHFkkS0bOTby1uZf9zQYg+YhpUDMvOXfEkEe5s1vRBUf7ECwAge8byUbBIHxNwNDPe8ax2XbZ0aefWecjOXf4AkfQQADDzr+yuTxMLKUafnNmlmUy0hKjl9/Nxw/tg3qwxsCqiJtsV+ub9mDV/Hdyelo/mmbFp1+4DJ6x786wD3bn+ypUrE4YMGbIRwBEtr891zHyqzWZb2+GLPYMjAfweQAIIiQASYGIl7sB73Ylx/fr1R8bFxU0loivRxqKwgTDzOgALTdNcZLfbt3U1Bl3X7yeiQDtbvKyq6g1dva4Q/RrexyiHgIkAnQ5geAhuYzLzBiL6wjS51Kxxf770pazd7Z8mRAvvNKDVABKbtzPzz263e/SoUaO2t3ZuRUXFMIvFMgfAlHZu8yaA21VV3dX9iEND1/UUAKvJ/xfcSiIar6pq5xZoCiGRt4RGqPOWzsicXjJUibe0+N4zTfOkJXMyvu3I+Tm5pfeA6LGmBkb1ngPlg1e9dFPTpgnZuStqiJDAYLfH7R7f2vo82XnL/0KQmqZPM/MdxQXpXXyQLQjhJRYYjmXM34EOvc8x+Myc3OXzGTSUiH4HwArwW57V7qs6W6iZPHvFOUR4sOE2cAG4VBRqos+oSwutLOFF8im8JsTJ+PNVNpHwdIN2ZF/cdP5IPPfexhbtRBg5ZHCfBwHcFfjMjpkwYUJtVVXVVEmS3iSi5GaH7u5UoQYAPBgEC34DYGpTm4ybuhJXWVlZ//79+1+MhoWCM9G5ov5mZn7L7Xa/OWrUqKAsarh169bHkpOTzyMi36fD1xuG8YGqqv8Oxn2E6OPdRaoCwDwAyJ5VdAQQP4Yk8wQmOo6YRjL4SCIaDOZBra9VgH1g/AzwTgI2MWETmHSGuX7vgb0bxMKTsausrMyiKMpi+BRqAICZr2+rUAMA3uN/qKysfFWW5QVEdGwrXa8E8Fun03mXzWZ7BUAwVkIKKk3TKg3DeBDA483biSjFNE0HgD9FJrKWRN4SOqHOWzpDtvqPmgK5furo+Uy4ssVut8xvNS/UAGJnW6F3ECNrYljmjSWDlT6W70F+W9w27FhB/FTx5u334u1O7CQDIHN2yTiZlBIiGgDAZJhXF+dnxMzuCL3J5Nkr7pAkPOXbfuuFx+DC9FA8hO598p5bj/U/+M2AqHezK3VpQdZ33b1+ZWXlIEVRXgXwO2b+WNO087p8sQKsBjAOAMAYgzx0aCG9srIyS9++fc+RZfkKAOfDZ6HKduxl5ndM01xot9uXIgS/xFRUVKiKoqwmIt+pTztrampGjx07tp0dIoTeYNSlhdbDhwyxyuSJqzPjzFrPr3Wr9tTWdfY9UIgduq4/SUR3+rYz8wuapvktUN4W72jH+5n5jnbW4PrC5XLdHKyCdDAVFhbK48aN+5KITvY55PF4PL+x2+1lEQmsGZG3hF6o85aOyJq5PFtWpKLmbds2b4ureHtKffvnlp4kK9Ti36rHzWkl89JXdSWW03I/PawP9f258TUz3i8umHhhV64lCOEmytcxbOlLWbuZzauZeX+LA4w1xOb5xfnpd3c2Sc2YvSxFIeUzIhrADDZN8yZRqIlO6TOWD5EIfrviHJfcB+efHmiNRaErZl58HCT/n5RWGZang3H9lJSUn1VVvcA0zRuJ6JpuXq7xqVM1qlHeXufKysoJuq4vSEpK2iHL8vsALkUHCjXMXA/gAwBTtmzZMlTTtD/a7fYShOhp86hRowxmzg1w6PCEhISXQ3FPIfZUvD2lfumCrP3Fz+X8vOL59D2rXjq/RhRqei7DMCYR0e0BDum1tbV3dPZ6EyZMqFVV9V4iGue3NkZLpyuK8q3T6XysrKzMb0RPJE2ZMsXjcrmu9f6Mbk6WZfm18vJya0QC8xJ5S3iEOm/pCBnUcoMAZk/F2xUdGuUvKbjW59yvu1qoAYA4V1zLzVaIA26dJQjRSBRrYlzxnIz36t18rMfjuYBN8/cexglFBRPHF83J6PSuTdm5pcdaJbkIREOYwQxz+pI5GeIXoShlVejuQKOqZl58HGRJDJoLlpFDE3Fxhv/TPiJckDWrNGgLN9pstr91az0EByQAKd5XX8PRsAOCr6qqKpuu63/Rdf0HRVG+IKJbiOiwDt5lJYDpLpdrmKqqF6iq+na4toW12Wx/Y+YPfduJ6Hxd17s05UsQhNi0evXqAWhYR6ZFHsvMLo/Hc/nYsWO7vDaHqqoVmqZNAnA9M/8SqA8RWSRJuicpKWmD0+k8t6v3CoXU1NRyAIHW+TrBYrH4FUrCSeQt4RGuvKUtRfPSNzdb2BcgkifnprdbkcvKXZFKoEPr0TF7PB7c2p1YxM62QiwTa9b0AKXzM3ah4Sl3l03OLU4GqBjAcGYwsXlr8ZyMF4IToRBsmdNLhgI03bf93FOPENtdhsCVZx6FktW7sXtvy4eVskR/AXBWZKLy0Rd2AH0BAIwW21uuXbv28ISEhMsAXBFgeHybmNkJYJF3mtPGdk8Iodra2j8mJCRsIKIhPoeeKS8vL05NTQ3L8G5BECKrb9++LwI4MsCh+4I01YdVVX3F6XS+T0TPALgqUCciOoaIPjIM422PxzO7O4upB9PWrVufGDFixEUATvQ5dI9hGO+qqro63DGJvCW8oiBvYYArAWr6N8geix3A1tZPcUgy+GWADo0AY55fMi+jy6NqDu1sS43X+3rJnHSxs60QM8TIGsE7LDWuiAgjAYCBmUVzMp6PdFxC6+R4JZcICc3b4q0SrjnnqEiF1KMlxMm4+uwAf7eEMzNzS9LCH1EAhENPjkysLCsrS9R1fZphGB8nJiZuI6K5nSjU/MTM80zTPEXTNLumaQ9HulADAGPHjt1pmub1vu1E1MdisbxZWFgoRyIuQRDCR9f1axFg9yZmXrZ48eKg7vBis9l2q6p6tdvtzvIWrltzqSRJlU6n8zaHwxHx3DorK8vt8XiuZeaWC7ISKcz8ellZWVtr8oSEyFvCKxryFgK3GOEly1Je670dUnZe9lMg+k1TE+Mz96+ebi2MnZ07+c8E0oCGnW1Nd/3l3bmeIIRbxN9QhMg6LbcwIU6RPgZgBwA2+fYlBROfjXBYQhtOv+79fgT/nX4uOH0YBvaL6HT0Hu2MtMORPNh/OReZLJ1eGyEkDhVr+Muzv7wmKSnpJyJaBOAcAH5FDJNNbK/djh21O8DMYOYDzLzYNM1zV69enaxp2iybzfbfsH4OHWC32z9g5pd824noN+PHj/9zJGISBCE8dF0/FsDcAId+rauru9LhcASc/tldKSkpS10u1xgADwIIOPWTiJIkSZp/+eWXf11RUeE7oiXs7Hb7OiL6q287EY3p16/ffeGMReQtkRHpvKWoION9MA5NOSKcm5NX6sjMLGkxsyPnxs/75+TmfECgZsUcLj6AbRcufb3rU60bdraVxM62QkwTE46cH7kAACAASURBVER7uZzc0kUgmgYAzHi0uGBiq2/gp9/22fB4ih/gWe/RO7sVuBA82XmlMwnUIlm1KhIW35+G/n3D/rCsV/nPNz/h6X/6zLRh9tTXmccsXzBpc2SiAioqKk6cWDKx6Jf6XwYe3/d4fJIZeISvsc/Ap9s/xec7Poexz4CbG76NJZJcBPrIY3ruRB6ifipReXl5X4vFsoaIjmvezsxuZp4QjUUmQRC6p7CwUB4/fnwpgNN8j5mmeZnNZvtnOOIoLy8/3mKxPE9EOW108zDzfNM0H7Db7fvCEVcgZWVllqSkpP8S0djm7czsMk0zzW63rwtHHCJviZxI5y2Tc4uTCdaFRJTZLICNAMqYsZ2Ak9Aw6tdbteMDYH7IvdpT0J3fNcTOtkJPIUbW9GLZs0tvbSrUmPxGW4UawCHFWxJKySKV146ujardD3odxo2+TWeefLhIeMJg8olDcFg/n79nIlmxSteFO5aKioqjnU7nvbquV1Sb1at+qf9lIACMHzg+YP86Tx3OXXYu5unzQKD909XpLxeMLjgOjJNNNis97LkQQBEc/os/RpvU1NT9Ho/nSgAtdvohIkWSpIXRtkOLIAjdN27cuAcRoFDDzK+Fq1ADAKmpqd9pmnYGgCsA/NRKN5mIZkuSVOF0On8frth8paWluQBcw8wtfun1LpD8eklJSXjWrhR5S8REOm9ZUpC9tbggPQsm/xHM270BHAPQpUQ0E0SnA7AyuIJhPgw3RhUVZDzVnUKN2NlW6ElEsaaXyswtOZ6IngQAZl5XQ9tvbq3v6de93y8nb/ITRHQsmD1fzz83Yk+Jervs2UtPI6JU3/aLMsSWl+FgUST8LsD2ohLhOiD06xSsW7duoNPpvFHX9eUWi2WjJEmPEFHK2l/XNvVprVgDYBMASJD2VuyusM07b94NuTm5PyAPZYB3m0zC0UhCVO1s0pqUlJQvTdN8JMAhLSkpKT/sAQmCEDKVlZWnEdG9vu3MvNE0zVmRiElV1UX79++3e6dlcqA+RDRCkqR3dV3/oKKi4ugwhwgA0DRtDYDHfNuJaHxycvI9ob6/yFsiK9J5S6OiOemvFhWkD+e6g4M9pjnRNM1rTfAUZneGWVc3sjg/PbU4P+OBonnpP3bnPmJnW6GnEdOgeqmcvNJPAWpYDZ65DqC6QP0YsDRfEI4ZPxcXTBwcpjAFH9l5pc8SqMUWhqOPTUL+raMjFVKvs3tvHS5/uAymT2ruYTOzpCBjWbDvZxhGHDOfh4anuOcRkd8E/1e+fwWPVz4OAPjX6f/C2IFNI973MPPbzLzQ9pbtC/TD2SBsRh7W+1yCUIA6ABaYuAe344lgfx6hUFJSoiQnJ68MtHCyaZrn2Wy2jyMRlyAIwVNVVdVPkqS1RHSMzyGP2+1OT0lJ+TLgiWFUWVl5mqIoLwJo9c2YmQ8AcGzdunVOVlZ4p5KXl5dbrVZrGXziY+Z6t9t90qhRozaE6t4ib4m8cOctkdIw5SpuBRFGNu5sKzZMEWKdGFnTC2XlLp/UVKgBAKI4EJIC/ee7cj8Be8IesODlkMB0iW/rOaceEYlgeq3B/eNwcspAv3aZpD8E8Tak63qGYRgvAdhBRO8Q0e8DFWoAYNOBTU0fj+wzso6Z33WZrovG/WfcpZqm3WSz2UrhgInb8XGAQg3gQD8ADeOkGd16qhVOWVlZbtM0rwRQ43tMkqRXnU6nKCwLQoyTJOn5AIUaMPND0VCoARpG+m3ZsuVEZr4bAX4eAQ271hHRU8nJyasMw/hNoD6hkpqaWu92u68NMB3KarFYXgu0k15FRUUQhr6IvCUahClviSixs63QU4liTS8kQTqvq+cyiWJNpGTlTk4nQosMx6IQTj/hsEiF1GtNHj/Er40ZF6GboxUNwxhlGMajhmFsIqJlAG4AMKC983bV72p8XsaLflh0nKZpl4z6aNQ5B1wHPkA+ktu9cT9c4/1oG/bj/S5/AhFgt9udzHx7gENHSJL0t7AHJAhC0Didzj8QUaCtdr9cs2bNo2EPqA1ZWVluTdOedLlco5j5w9b6EdEYACt1XX9+9erV7f58D5aUlJRVRPRUgENp48ePv7PZazIMY7qiKFXd3eJb5C3RI1R5SzQQO9sKPVnMf4MKQm+RnVf6BIHuat52+gmHwXFtSqRC6rVq6zy4+IGv4XK3HFPscXNaybz0VV25pmEYSwBkdeYcZq5g5oXZS7OtW2q2OLzNK8A4HMAwePA73ImlbV7kSaiwoAyMeAA5yENpV+KPNMMwPkbDNuW+rldV9ZVwxyMIQvesX7/+yPj4+HXwKVgz8z4A4zRN+yEykXWMrusXA5hLRG0VzH9i5lxN094KR0zeabXfEtGo5u3MXAdgPBHVM/MrRDQJADwez7F2u31jV+8n8pboEYq8JVqInW2FnkyMrBGEWME427fptFTxdCoSEuJkjDu+v1+7LAcsFnTU9x3pxA27KeQDOFHTtFSbzfbYlpotLwFomA7ASANhI1w4ud1CzaMYBAveB6MvTFwTq4UaAKivr7+OmXf7tjPzHF3Xj41ETIIgdI3D4ZDi4uLeRICRhUQ0PdoLNQCgado7pmmmMPM8+Oxc18wRRLRY1/XPysvLjw91TKqq1jHztb7xEFEcEX0AYF1joQYAmLl7iyKLvCVqhChviTixs63Q04lijSDEgMwbSwZ7h063kGb3n4MshMcpAf7uGdSpkTE+Wt1Wkpn3A3iDmc9cvHjxCFVVb1dVdXVTh1xsRy4mwIMUAIchF2fjbjjbvNvj6I94fAbADsYNuANhebIbKqmpqTuY2W97WCLqS0RvBlqTQRCE6DRt2rQ/NS8aNFOoqmrMbMFrt9v3aZo2y+12nwqg1dELRHSG1Wpdr+v6n8vLywOuTRYsNpvtG2Z+JsCh4wG0+AVWluWRXb2PyFuiTwjylogSO9sKvYES6QAEQWgfJUgTfNtGDk3EoKSQ5nRCG8Zr/ksNEPGpmZklSleG1qqqutwwjM0AjgQA70KQnwFYWF1d/X5aWlrARStbuANVHbqZA4mw4iMQxgO4Ebfj1c7GG41sNtv/6br+KhFd53Nowrhx4/4E4K+RiEsQhI6rrKw8CcCDAQ5t3r9//03hjicYUlJSVjkcjlOmTZt2G4C/ElG/AN3iiehhi8VyuWEYN6uqGrJderZu3fpgcnLyBURka6sfEXV5ZI3IW6JPsPOWSFNIeRbeAiMBtj4YviMnd4VfP7+dbUG/NjQLQvQTI2sEIQZIkn/SkzoyUK4nhMtRhyegX6JvvZv6SONkvyeJHcSmaS5i5m+YeSYRDdc07TxN097qUKGmoxxQ0B/vgXA6GNORi5eDdu0oYJrmbGYOtMbCA95fAgVBiFJlZWWJiqIsJiLfhW1Nt9t91fjx43+NSGBB4HA4TE3T5pmmaWfmd1rrR0R2AEt1XX8tVDvaDRs27Gi0smtVc92ZBiXylugTgrwlYsTOtkJvIYo1ghADiDDOty31mKRIhCJ4ERFGBUg8iaTxXb3mW2+9dZ+maadqmjZfVdVd3QqwNUmYC+AMAHcjDy+0OPYMNDzTuUWOo43dbt/n3c7bd00GiyzLC1euXJnQyqmCIERYv3795gHQAhx6PCUlpe01uGKE3W7fpmnaJcz8W2be1Fo/IrqGiKp0Xb8WQdoQpLCwUNZ1/U5ZltcQUbvvVd0aWSPylqgTirwlUsTOtkJvIaZBCUIXZecuv4yJPEvy0/+FUA+nZIzxTdWOT+4T0lsK7TtueB98XeH7ns+ju3o9h8NhdjOktj2NC0GYDsZryMOTLY7lIwHAayDsBFAS0jhCzG63f6Hr+uNE1GKhQSKyDxo06GkAt0YoNEEQWuF0Oi+UJOmPAQ6t2rt3ryNAe0zTNO2jsrKykqSkpAcB5BGRX05ORIMAvKrr+jUAbtY0rbKr93M6nXYi+jsRndLRc7q1wLDIW6JSsPOWSCkumHgXgLva7SgIMU6MrBGErtMkUGF23opVk2evCNlq+pmzSwaAaFjzNlkiHHm4GCAQaccOD5h4poY7jg7JRwJkPOd9dQHy8VPTfwXYCeBXECaAe8YTp+rq6ocAfOvbLknS9MrKyrMCnCIIQoRUVFQMI6JAUzJrPB7P5Wlpaa6wBxUGaWlpNZqm3e12u8cDWNlaPyLKALBG1/W/lpSUxHflXnV1dT8B+Mq7HlpHHelwODr9u4LIW6JXTOUtgiCIYo0gdBWjYU49AeMlCR/n5JWWTp61LCPY91E80jG+bcMGxUORxbdvpB0VKPEk8vt6RQXCJQCGez8+DITDm/4DhoBg9R7rEcWatLQ0FzNfAaDW95gsy69VVlYOikBYgiD4I0VR/u4dRdKCaZqz7HZ72zvb9QCjRo3aoKrqRNM0b0Ir62kQkZWI7ktOTt5gGMaZnb3HmDFj9miaNouZRwP4tCPnEJH1sssuG9rZe4m8JXrFVN4ihEV27vLLJueVXoogTbcUgktMgwqznJmlR0HGVyC4meECyAWwm0AuJrjAcMP7JxG7GHABcBPgAsPFPsdNSC4C3ABcROwCw20SXOTtRya7TAlumHARGo/LLrDHTSS7iNhFDLcH7CLvdSViVz3DLZHpkupNF6xwH6x1uyRKdHHdL26LmeTCJrhjceX4YCLAZwFEmijJ8rKcvNL/eNy4r2ReeqvbdHaGR5aP8d1zeOhhccG4tNBNRwwM8HVgHAU4JCDEU5o6KxdvAngz0mGEk6ZplU6n805Jkp5t3k5Ew2RZfhHAJREKTRAEL6fTmUdEZwQ49L7NZutRC6C3g20220tr1659LyEhIZ+ILg/UiYiOA/AfXdf/4XK5clNTU3d05iY2m60KwDm6rp8H4Jn2doTyToXa1pl7iLwlesVU3iKEiyaBHsrOW7GaTdy3ZM7ETyIdkHCIKNaEWT3MOCvJwwCAmuqXdOj/qXkTtSxxUrNzvMdbPqMggLzDpRr7Sd4+zTrKzf6/8Ry58QTvH1by9vH+TE9M9H6Q4H3wdRiQc+IKNBScGopJjYUlgF0AuQncogBFDFdDkYpcIHYTU4tzyPvxobbGAhS5mdgFU3JBgptNuCDBTSa7ALgIcJvNilWNRSeTuKnNQ4qL3OyCArfkYhdMcrvIdElkuuCBWyaPa79U73LXedzANteql25yo/11aFr5/qGzJBlnZueueNfFnvuXz5nU5TnmAEDkHQ3RTMA3WyHsEuMV9E2Qsb/20Fq2RLBMuPm0wStfwM4IhiZ42Wy2Bbqu/46IWjyJJqKLdV2/RtO01yMVmyD0dlVVVWOI6BHfdmbezszXRyKmSBs7duxOAFc4nc7XJEl6HoAaqB8RXWa1Ws8xDONPixYterGza55518z5rH///rehYav0/oH6ybI8EsCXnbm2yFuil8hbBF8MshAaZgpQw0yBFabHvG/J3EnLIx2bIIo1YWdhv+0oYxoRLGgYYZJwqLB0qKLkX4BqLDhR4/98zvEdg9fYj5oKTtRYeJIO9ZSa9W38UGp2CQUAFO9BS8OfVsgAZO/4GAv6Id778UDk5K0AmD3cNIqpcRTUoWISgQ9r4++FAFxsJfn32bNLF7rcpmP5s5MCbSfcPuZBzSp7AID+fXvUP6OY1r+vpUXSAwAJloTBgEh6ogSbpnmtJEnricj3e3ZuZWXl0pSUlFZ3ZBEEITRKSkriZVlejKbHQk2YiK7RNG13JOKKFjabrdgwjNGmad5LRHcTUaBqR38AC6ZNm3b11KlTb7LZbGs7cw/vWkAFhmEsZOaHieh6HHqaB6CLO0KJvCWqBSNvETMFeg7Jrx4QmpkCQteIYk24SeLvPGYQyc0HHTU1B/ioDRJJdJXFIk/Nzi39Wz3zX0vnZGzvVByS/zz+pD4i6YkW/ftYsHXXwZaNiinWQ4kidrt9m2EYNwF4u3k7ESXJsvyGw+HIDPlOXIIgtDBixIinEXhh0wJVVT8LdzzRSFXVOgAPVlVVLZZl+XkAWYH6EdGpAMoMw5hbU1Pz4NixYw908j67ANxcVVW1QJbluQAyG491aUcokbdEtWDkLWKmQM+ZKcBNj7F90VmygrOyc1e8E4yZAkLXiMJBmJlMFt95vELP1zACiaZbQddm55XO95jux5bOyfq1Q+eC+/gWhvrEiX9F0SIxwNfCNKXECIQitEFV1X/puv53Irq6eTsRpU+dOvVuh8PxWKRiE4Texul0ngPg1gCH1gO4N8zhRD3vIsuTnU7nVUT0NBEN8e3j3fr79sTExEurqqpm2O32D7pwn3UAsnRdvwjA00R0TFdG1oi8JboFI28RMwV6x0wB7+cZnJkCQpeIYk2Y8Tr32rpx8vA4kywsQzFNl4WZLJCgyEwWEBRmamgjKBLIwhIaPmaygLjhOEwLICkSTAszms4DQSHAAoIFDIWILNzwLavA+ycxt2jzLpSrNLYRqOl8pkPHAbYwSAHYQgwLiMQ7bycR4XswrV26dde+Dp/EZPUdxKMogWvgQvhZlEC7W3CnJuevXbu2T3x8/Bk2m+29IIUlBEBEM9HwxPhon/aHDMP4VFXV1ZGJTBB6D8MwhgB4LcChgy6Xa9qoUaPqwh1TrLDZbG+Ul5d/qCjKk5IkXYfAQ3yPkmX5fcMw3jt48ODM0aNHb+7sfTRNe9cwjI9M08wjogs7HajIW6JaMPIWMVMghkTLTAGhS8Q3WpgtXZrlxlL0mH/cJ934ogUYblHiZKWvabVAgeIxZYvJkgUSFAuTxbSQBW4orJBFcbPCisfCTBamhgKVX7GJvdVtbxtJsMCEAsm0wJQUksymYhbYv9iEhoWymtqIuKnwBIYCgrfYBIUZFjRswa34Fa2oYz+9OoKZvyHwo0UFGR+g/YWLWyCw1fcHqdj+MnrIkv8/E1nu3BOn+Pj4P0uSdI+u60UAZmqaJoaahoCqqtW6rl9FRCVo/rCKyMLMC0tKSk7Kyso62MYlBEHoJmZ+lYiO8G03TfOOUaNGbYhETLEkNTX1FwDXO53O1yVJegGBp5IBwIVxcXE5hmE8sHr16nlTpkzxBOqk63oKgEmapr3QvN07Beux8vLyFzsbY8C8JcB7pRAZwchbxEyB3qk7MwWErhHFGqFbVr10kwsNw+h6nksL5cw+QywuqdpCcYcpJtdYSCEljmWLaZUsMpR5RHROW5dgRonpMR8pmZdR3NUwmMjl+7bq8YjlNaKFxwxQe2N0eLG68vLy44koDwCIKIeZ1+m6nk9Ej6iqWh28SAUA0DRtudPpfFKSpHuatxPRqOTk5CcAzIpQaILQ4zmdzluJ6LcBDn1qs9meC3tAMcxms60oKysb369fvzskSbofQIJvHyLqCyB/3LhxVzqdzpttNts3vl0AvABgXEVFxfujRo3ye5joLQ51SsC8JdB7pRAR3c1bADFToLfr0kwBoUtEsUYQWvP2FM9SwAMg4JP27NwVNYHamcEAf+ghenRpwcSvuhsGMdf77qrg8oikJ1q43P6FMwZ1eBi/xWKZS0TWxtfedQfuAnC1YRh3qKq6CJ0cjSW0ze12P2ixWM4monHN24lohq7rH2qa9nmkYhOEnkrX9RQiesq3nZl31dXVXROJmGKddzenx6qqqv4hy/ICAGcH6kdE44noS8Mwngdwb+ODAF3XryGiDACwWCxzAPwhGHGJvCW6dTdvAcRMATFToPMzBYSuEcUaQegi72JkhzB7GHibYD5aVDBpfbDuw0Ct70/Zg3UBRzMLEXCw3j/pMcG1HTm3srLyNCI6t5XDRwB4U9f125h5ZoAnokIXpaam1peXl19htVrLAMQ3O0QAXlu3bt3oMWPG7IlQeILQ45SXl1sBLELg0R9/HD169E/hj6rnsNvtGwGcU1VVNUWSpDlENCxANwnArcx8UVVV1WwiWgKgefFsimEYrwRjJy6Rt0S37uQtPZWYKRD6mQJC14hijSB0ETNbqOHJUT0Db3jgfmJpQdZ3Qb8R8c++c7+razo1WlUIoeoa//d2GdyhYeMpKSlfGobxO2YuIKLjAvUholOJ6Etd118ioge8W6wK3ZSamlqu6/o9RDSneTsRJSckJLyAID1hFgQBsFqtjwIYH+DQc6qq/jvc8fRUdru90DCMTwE8CuAWAH4L3BHRMFmW/wngJwC+2zU/V1JSMrrba3eJvCWqdSdvEWJQlMwUELpGrFIqCF1G9cw81+1yHVecP/GGkBRqAIDpZ9+mvQd6ZvE/Fu3d7/+1qHXV+X3NWqOq6r+JKBWAA0DAN0wAEhHdDEA3DOOWwsJCMb86CDRNm8fMRQEOTXE6nVeGPSBB6IGqqqomA8jzbWfmql27dt0ZgZB6NFVVq1VVvc00zd8wc1s73Pkt8gzg+OHDh/+p20GIvCWqdTdvEXqWgDMFmP9B8IwtLkj/3dJ8UaiJJFGsEYQu2r5l25TigvTZS+dnbQnpjUxzh2/Tzj1iZ9NoUOfyYO8Bn6eFzJ6D9Rs7NfpFVdU6VVUfAmBj5nfb6DoAwILx48evqayszOx0wIIvZuZrAPhNeZIkaX55eflREYhJEHqM8vLywyRJegM+wyyYuZ6Ipk2YMKFXT70IJZvN9t81a9acDCCPmfd39DwiuruiokLt1s1F3hK1gpW3CD0HMzcWa+oZeNkNt724IH1qMJd0ELpOFGsEoYsq3p5SH477sEQbfdt2/CKSnmjwU+Cvw1bv3OdOU1V1i6ZpF7vd7iwAbb1JnqAoSomu64sMwxjRlXsJDWw221bTNG8JcKi/xWJ5w+FwiPdJQegii8XyEhEl+7Yz872qqrY16kMIgilTpnhUVS0gohQA73XkHCKKUxRlQXfuK/KW6BXsvEXoCcI0U0DoErFmjSBEuYO1tZsSE/u0aNu2+yBMkyFJQVvgXeiCLbsCPhT2S1I7KyUlZWlhYeH48ePHzwTwABpG1PghomkALjQM4y8A5qiqKrLhDpict/wGgtRUhLll3pZPn585YqEkSVc07+dyYxJGnP92dl7OZx6X6yPfUXRZecvOlSAf2fia3FxeNC99Reg/A0GIfoZh/BHAxQEOLbHZbPnhjqc3U1V1C4Df67o+g4jmtdefiHJ0XZ+qadpbXbmfyFuiV6jyFiF2bd+ybUq4HkALnSeeGApClFv5wlk7wWix8Fu928S23d1b/0/ovo3b/ZeYYUZVMK7d+EQUgMbMrwPw376hQSKAx5m53Ol0trmavwAcP+PjOAKNBfhZAl4g4AXJGnf6vn37bgPwY/O+3/9UjxUVtRcR8IKsyBN9ryWbdDTAjsbrQKaCsH0ighDFysvLj2fmOb7tzPyLaZpXQWz5Ginnd7QjEeWXlZX178pNRN4SvUKZtwixSRRqopso1ghCTGC/KTHfbz8QiUCEZn4I9DUgrAvmPVRV3aVp2rUej+dUZm51kTciOk6SpI8Nw/i42+sN9GDfzT+3rjg//TYw/t7YxsSD09LS9rrd7qvR7JdIfeuhUeEWqzzc91pFczKeZ8bLTddh8+3QRS4IsaGkpESxWCyLiKiv7zEiuslms22NRFy9na7rU4nojE6cMrR///6PdP2OIm+JRuHIWwRBCB5RrBGEGMDAWt+2ik37IhGK0Eygr4HJ7Pe16pZ8pKMAn9o/sf9V+1B7wTTNG9Cw5WprzlEUZYNhGI+Ul5f7/bIkNGDmQ9OVmAYBDdPPmPnpxmZ966GHTaOPtAbcypsIiQDA4IOeGs+roYpXEGLFiBEjHiKiU3zbTdN8RVXVf0Uipt5u9erVA4i6NPLvlqqqqrSu3FPkLdEpLHmLIAhBI4o1ghAT+EvflvKN1ZEIRPDauacOu/f6jRyt5189q4J6I8ZvAZwF4CyY2Guz2V5Gw9SoeczsDnQKEVkB3GuxWJxOpzNgkaG3IzK/P/SKBx9qp/uZeV11jYlNuw6NrImzSid7tyBueR1gbMMl8OrSl7J2hzJmQYh2TqdzIoC7fduZ+Xu32z07AiEJAPr27XsNGkYNejp5qiTL8gtdW2hd5C3RJmx5iyAIQSOKNYIQA1x1/IVvm7F1P/bXBvxdXQiDb41f/RuZv136elZwJ+VLSG/2agUAqKparWnaLABjmLmotVOJaLgkSf/Qdb1U1/VxQY0rxrHbs63pBTWMrAEatlH3eDxXLN1wwG2awNABMgBgX42HJEn6++rVq5sWe56cW5wMRiaAeg+7nwpj+IIQdcrKyvpLkrQQgNy83VtUvjw1NbXD20cLwaWq6hxVVYctWrTIWlNTc4Tb7R7DzGeapnkVM98J4BlmXuR9P9nAzLtwaEroSVOnTp3e2XuKvCX6hC1vEQQhaMRuUIIQA5YvmLQ5O7f0ByI6trHNNIFv9V+RMXZwW6cKIfLfqj1+bQwsC/qNGH/zrq9SizvQYuSGpmmVAM6oqqqaIsvykwCODnQJIpoIoEzX9QUul8uRmpr6S6B+vUmt8vO2PvAuQ8M8qPmxW57YYSQcbjk4/ti4vkmJEnb8WovqGhNENKJPnz4LAExrOM96PSSSTWDB0jlZm8L9OQhCNElKSnoOgX8GOTRN+zrc8Qj+HA6H6XA4dgLYCcBvTZnmSkpKlGHDhh0uy/IRzJzY2XuJvCX6hC1vEQQhaMTIGkGIHZ/6NnxV0et/544Il9vEKqf/EyoT/EnQb5aH13A7XsTteKO1Lna7vXDXrl0pzPwIgNaekMlENMNisehOp/P6rg1r7zm+LJhSy8y/AgCBWvzmIA9Qrqp3oU/22MRvEuMa/pqqaxo24yKiqbquTzt1xsdJEuFWMKoP1hz4a1v3yswsUU6d8XFSx6NzSBnTlx2ZMX3Zkbi0UG6/vyBElmEYVxDR5QEOfbFmzZrHwx6Q0G1ZWVluu92+TVXV1Xa73W+UTAeJvCVKhDVvEQQhaHp1si4IMcWE3xvqyg2/wOVubUdnIVRWOX/FgYM+U/8Z1dUHKldGJiJgwoQJtZqm/dntdqcA+KC1fkQ0SJKkv02bNq2sqqrq9DCGzwb+vAAAIABJREFUGH0IDVOh6NDImpNu/HciiB4A+L3kAeYliXFSDQDsqzXB3DArgIieG95vwKMgGmISHlz5wlk7W7tFTt7yi+UTlfK+lqRn2gol87YSe3bu8geyc0vXZufmHLTGyz9a4+Ufc44cXpOTW7ooZ2bpUcH4lAUh2CoqKo4G8KxvOzNXu93uK6ZMmdLZdVKEnkLkLVEjGvMWQRDaJ4o1ghAjPHvdRWC0WJ3vwEFPwGGtQmgtXeO/jiwT/r3qpZtcAbp33jO4GPm4Hfn4MwrwKPLxNBzo0DD0lJSUTaqqXsDMZzJzZWv9iGi8LMsrdF1/vaKiYlhQ4o4xBGwHAOZDI2sG9hmQB2C4h91/GT169Oaf9rheAQCTgf0HG4o1v+zzDKipN29m5nVLNm+bH+jaWbOXn56du2IlIP2LQBrAdW3FIluV9UTSQwB+MU3z/AO8fxAYlzP4OxBNg4yiMVf+p0+QPnVBCIrCwkJZUZSFAPr7HiOi6SkpKWJ6YC8m8pboEfK8RRCEkBDFGkGIEUtfzzrIAUZMfPpNqw/1hRA4UOtG6bqf/dqZ+Z9BvI0dhJtAeBjAnwBMgwM1nbmApmmfV1dXj2Xmu5m51S04iOhqRVF0p9OZV1ZWZulu4DGFG0bWECHhtNzChMwZJSNAuAfgfy6dk7UGAEor9/9fY/fGqVD/KK2GyZCvzEpagrdbjhrImLlMzcktfUciqYTAJoB67706MLqA98Csu6xkbsZ/viw4+5eigomL4TH/goYg1cGD43v3SCgh6owbN+5e75pYLTDzIlVVF0UiJiF6iLwlOoQpbxEEIQREsUYQYggzFvu2fV35C36u9tuKUQiRolW7UO87hJvxy44t2/8TtJvcjkfAuLPpNcFvC9SOSEtLc2ma9qTL5bIx8yIc2t2jBSLqK0nSM/37999QWVl5VteCjj0MNO0IZak7YrCiKM+AyVPPnNfY7qnn7Y0fV9d68I1ei/X/q0fO2ERMsCfcUlFRcULza1pl6X4AIA8fX1SQPpHBHVq8kZgvcZvuycVzc35q3l4j1X7e+LFE1K/zn6UghIbT6TwFwAMBDv2vurr61nDHI0QnkbdEXljyFkEQQkLsBiUIMWTJnKL/5ORlbwboyMY20wQ++GI7rj0n4EZAQhAxM95bsT3AAfONirenBDfzNFHfbAPcLhVrGqWmpu4AcIVhGM+iYW2Jk1rpqimK8qmu6+8CuFPTtB+6c9+oR4eKNYpV/gMIU0zGjNI5GU1fZKXevR3WhgFHW3/28Cer9tMRA2Scf3JfEFGcoiiLysvLT05NTa0HgE3ufTd8N//cukO3oFrvhwELZY2KCjLeD9SeaPY9CTLA4IPMrq+6/sn2DKff9tnwOEvcCRLTcSzRSAKOZGAwQIOJ0Q9gK4PiCGwyqA5AHYH3APQzwDsZvImINrlBOg66NixdkCW2k+6C8vLyvpIkLYJ/HmmapnllWlra3kjEJUQfkbdEVljzFkEQgk4UawQhpjhM08x+RZLgaN767y92YGr2CMRbxcYxofRVxR5s2VXr1+4h6eWg30zCoREbJoKyAKCqql85HI5Tpk2bdiOAh4ko4P6pRHQRgHOdTucT+/btezItLa1TU7BihsnbIBEAgCR+GExlSwqKFjTvUvTSGXtzclfUgJD43lf73Qy2zPxtf1gU73lEYywWyyNAw0io5oWa7sqcUTKCZH6RATeZuLV4TvbWYF07FmReUxIvD1QmMuN0knA6mE4kQsNi0ASQt1/jnw0fkPc1HWpv1rOxVQHAcRbOzi3dSISv2cQXYC4tnpuxLsSfVo9gsVjmATjet52ZH7XZbKURCEmIWiJviaSw5i2CIASdKNYIQowx690vSnHKn0AU19i2r9aND1fuwCWZyZEMrcd7q2izXxszF5UUpJcH/WaEkxtugHpswqpgXdbhcJgOh+OFdevW/TM+Pv4RIroRQKBsOV6SpAf79+9/na7rszVNezdYMUQLNnkbeScDE8jq8fDNgMNvmxIG7yDQsR6TLWef2Oenow+3HNH8OBHlGYbxoaqqHZry1JbM20rsskUeB1A6CNcxYwVMzx+K5mb+t7vXjgWZ00uGylblYhDOAyiTCAnkV5UJDiIQQMcCOJYkTAUIObml2wF8CvD7m9z7Pw1m8a2n0HX9YiK61redmb/ZunXrQ5GISWibrutTAaQA+IGZv2fm7+12+3a0M+IvWETeEjlhzVsEQQg6UawRhBizdEHWjuy80kUEXNe8/R9LtuC804YiIU48pQqFryt+QeWP/jMmTJOfDtEtGxeT/RbzEfRfGMeMGbMHwPTKysrnZVmeT0STWul6JBG9YxhGSX19/YzU1NQek+C5TWy3Nr5gc0HJvIyARTFqmC51LAPLzxnfZxYzf01E1mZdJABvlJWVjenu9A/ZqiwkUNM0NQa7QaQB6LHFmpNu/HfigD4DLwX4GiLKQCTX0yMaBuBagK4dqSRVH527/P/Y5FeXzJ20PGIxRRGn05kM4CXfdmY+4HK5Ls/KynJHICyhHaZp7pFluWE9LW/10zCMWmbeCOB7AN8z8/fwFnNkWd6kqmrQ3ndE3hIZEchbBEEIMrHAsCDEINPjehLMLXaX2XvAjcKSXjVLImw8HsYrH/3Pr52B1SVzM4K/QN9jGAlguPdVx9areQL9kI/j8RQ6tb1zSkrKek3TMgFcwcxb2uiaZbFY1hiG8UxZWZnfNr2xSNpgbma4JzPck911nj+11o89fCvDPbneZV6SmqqtAfDnAN2OSkpKeq67MRXnp6dtclXHm6664xk8i4hOJElemJ274j3A0aPesyfPKD4uJ3f5/IF9B2wjwutElIloyksISUTS1ZIsL8vOXVGVM3v5jF6+fToR0d+J6LAAx2akpqZ+F/aIhA7Zvn17ETP7bgeUQESjiOh8IpotSdJ8SZI+kmW5CkCNYRj/MwyjxOl0vmwYxhXdjUHkLeEV9rxFEISQCPKgYkEQwiV7dunfSaKrmrdZZMLf7hqP5MEJkQqrR3pn2Va88MEmv3b28PnFc9M/DPoN8zENhIZtb01Mwe1426+PA4noj3PBuBiEMwDvWh4NNoHxBPLwIjoxzH3t2rV9EhISHgAwi5oNVw9gJzPfrWna3ztz/Z7C4XBI06ZNK/GOAmnB4/H8wW63Fza+zslb8T6A3zHz3OKC9Nmdvdfk3OWnSKCVIJIZuLk4f+KL3Qw/4rLySsdKTPcT4ffoZHHGqkgYOTQRRx2RgGGD4jH0sHgM7GdBUqKCvokKLLIEi0IwGXC5TdS5TOyrcaP6gAu799Zjxy8HsW33QWzaUYNtPx8Ed/pfL+8BsOBgLZ5Z8Xz6ns6eHct0Xb+TiJ70bWfmdzVNuzgSMQkdZxjGSwBu6Ox5zLyFiDJVVf2+uzGIvCV8wp63CIIQEqJYIwgxavKM4uNIiaskgqV5e5ptAB67MTVSYfU4u/fW4bonVqO2ztPyAPNXRQXpp4Xkpvl4DoTpDffBCOTB/9FjPh4D4R4AHjAeAFCIg9iDOFwPCY8DAEzMwu2Y19nbG4ZxHID5AM5pqx8z/5eZb7PZbN909h6xrqKi4mhFUdYRUZLPoT2maY622Wxbge4XawAgO7d0AxGlAvx2UX76lO7GHilZs5bYJMnyV4AuJupY/jGgrwUnaQNwwrFJSB3ZD0cfkQhJCk7qUlvngb5lP8o3VmPt93ux/vtquDwdrd7wXtNEwe6fa55e9+ZZB4ISUBTTdX0cAN/pf2DmrS6Xa0xqauovEQpN6KCqqqrJsiwXd+YcZt7mcrkmBWvUlMhbwiMieYsgCCEh1qwRhBi1ZH7299m5pfMAur15e5nzV5Su2430MQE3+hE66YUPNvklPMxgD1FuyG5KOLXhRtgcsFDT0tPIw6PNXj+BfJwOwvmQMB3ofLHG+wT1XKfTea4kSXMAqAHDJDqZiL4yDOOVmpqa+8aOHbuzs/eKVaNGjfqfYRi3AnjT59BA+n/27jw8zqr8//jnfmaS7htdKUU2ZyZNoItWQGyhaVkEXBEoitvPBUUttNWvooBWAUEEClYQ8auifEFaZHMBlJaUFitggZbSJpkBytLSnW6k2Wae+/cHAdvJpG3aJJPl/bouL6+cc57nuSdT2jP3nHMfs99LOk2Su7uZ7Tm5MHFiWTQ6Kjp8w5adm3N98LeG1Scu65DHIU+cVtY/qsiP3IJvZn9Iy+WQQd110phB+tDRAxUb0Ut7+/3trx7dIhp9VD+NPqqfPnPyoaqpy2hpapseX7ZJ/17xpqpqMnu42voFgWYOGdzrgpNnLPr+vBsm3KFOusps8eLFPSTdlZ2o0dt/vr9AoqZ9S6VSI9z9LEnN3cq0LpPJlLbk9jbmLW0jL/MWAK2i/ewNB9BsVlVzhaRGH5Bvvn+VtlfV5yGizmXxC5v1+NJNubruXHDD+Cdb7cGuuCTJ9EKTY+p1u0KdqZf1oxy9Tzfc57ADCSORSDxUV1d3tLtf5u5NrR4wSV/p2bNnMplMTi0rK+syXwLEYrH/kxpvUTOzU5LJ5EUNP/aRJJN6Nnmjo/VeRe3VwYN6NKp5Uzpj0WiZjZQkc5W1SOBtqHT6E+dGrKBCQTBtT4ma7oWBzjhuqGZfPEq3f//9+n+nH6b4ob1bLVGTO4aIji85SN/7TFxzf3ysLv1sXGNjey3PNFyyP0ye/sTjpRc/lmiLONvaoEGDrreGP4O7cvfrEolEs1ZqoG0sX758aCqVujCZTC6Q9JqZ3WRmH2jGLdaHYVg6cuTIZEvHxryldeVt3gKgVbANCujgJk97/HwLIv+X3X5s0QBd+ZWRbfphpzPZsKVWX79+qXZUZx9u4ls8Uzty/k0nr2+VB1+rYSrQ2rcfpZs0Q29vnblOxarTRv1AG/d6jxt0g0zT5UpqhlrkA2RlZeUhQRDcIGlv23BWZDKZi4qKih5riee2dytWrDiooKBguZkNlyR3V229a0dNWPu7f2694pWNmR9KKnT5OvfwC2Ft+Hxtt43b/j3r3Op37jHxW2VF0cKCcne5m2aEb9bfWh9sLyjsN/D0QPqWmSbI/b55syZ0mLogJ3z9H0N69uz1G0kf29O4Qf0K9ckJw3XmB4eqV/f2med7bf1O/fnxNzRvyYY9b5Nyrw1NP3rshvk/z3UEfEeUTCY/YmZ/zW5396X19fXHlZSU1OUjLjRWXl4+MBqNfsLdp5jZJEn7dcSSu29sqFGzsoVDfNfJ05/4b122XTBvOTB5m7cAaDX8bQh0ApOnL3rIzBrVF/nKmYdpyqQR+QipQ8tkXNNvXq7yV3c06gvdv/TYrAm/b7WHX6sxKtBzkiTXzzVD39W1GqOoHpV057vJm6bMVHf11csyHSzXNM3QTS0ZXmVl5QQzm21mo/cydG5dXd3/lJSUvNaSz2+PUqnUqZIekWSvbKjXz+7d+66Q9Fv1gxfcVrpJksZfuGhA9x52lVynyPRed7nMMyYL5P5SaP7z8NnM7xcs6BjHIk+a9sTpZvq9mYY2NWZg30Kdf/IIffi4oSqIdoxFvpu21equeav18FPrld5D0sbdF9TXhp9feMtJr7dheC1u+fLlQ7t167bczAZndVW7+/vj8Xh5XgLDu5YsWdKvT58+HzOzKZJOM7MDyni6+6Z0Ol1aXFzc9KrOFsK8pWXldd4CoNWQrAE6gYlTy0ZEC6LPSzZg1/YgkG74xjEqOSK7Bir25La/rtI9C95o3OH6+7xZ4z/Sqg8/RxF9UOtkGiRpq1z/kulkSX/XNn1aM7Xnb7Jn6RZJF8r1kLbro5qpFv+Gf+7cuZExY8Z8w8x+LGnAHoZWu/tVa9asub60tLSmpeNoT5LJ5E1mdlF2u7v/LB6PX7Kv95n4xbLuYe/g4AIPCl4Ndrz64uwzals20tY0Mzh5xuSfuNsPmiogXBAxTZk0Qp+ePEKFBR0jSZNt7eYa/fK+l/V0RdOHQblrs+TnzZ81YV4bhtaiUqnUQ8pdZPwbsVjsV20dD962YsWK3gUFBR8zs3Pc/YwctYT2Zquk/tmN7r7Z3ScnEollLRPpnjFvaVl5nbcAaDUka4BOYvK0hWdbEDSqn3FQnwLddNEoDTuoez7C6nAeXbJB1/4p1ajdXeurq6tGLb71tNYvojtLUyVdKamvXKvk+rW+rWu1twKmN+gbMt0s6T/apkmaqbdaM8yGZffXSPqS9lADzd1XmdnFsVis0XaKzqKsrKz7IYcc8myO2h5hGIYTE4nEorwE1kaOm/pQ3z4FfeZKdlpTY8Yl+utbZx3ZaY7ofWL5Zv3qgZe1YWuT+dMwDPW9x24cf11bxtUSksnkVDNrVJzc3f8ej8f54NfGFi9e3GPQoEGnN6yg+aik5v5HlHT3Oe5+l5n1M7Ps2iVbJE2OxWLPtUjA+4h5S8toF/MWAK2CZA3QiUyetuhWC+xr2e2HDOquG6eOUv/eez2IpUt7unyLLv/dSoWN16KEntGH5980/tE2C2am+qqnBuu7emmfxl+vzyvQ7XItVa0m6/tq+mv/FrZy5cr3FRQUzJZ0wp7Gufs/wzC8qKioqLKNQmtTqVRqrLs/ZWa7/Yfm7q+Y2ehYLLY9X7G1pskXzxtqQfdHZBqTq79vr6gu/tRROnF05zvppaYuoz888pr+/HiOb7QbNBzbPl0d5LSoFStWlBQWFi6RlP1Jef3OnTtHdaVT3/IplUp1c/dTGmrQfMLMejfnend/SdKfM5nMnSNHjly+a18ymVxlZoc3/Lg1nU6fPHLkyGdaKvbmYN5yYNrVvAVAiyNZA3QixefMLRw+4uCFMjsuuy8+oreu+8bR6tFtv2oOdnorX92h7/7qBdXWN57xuIeXzp914k9zXNY+XK9PKdAcScvlmqwZysdRupZMJr8g6admdnBTg9y9XtINYRheVVRU1HhzfQeXSqUukXR1dru7/yEej38xDyG1qklT5x9l0cJ/mtmRufqPPqKvLv1cXIP6dWvr0NrUfyq26Jq7ktpe1URZIfe7tlSt/OIzt32tXR9305AgeNrMRmX3hWF4ZiKReCgfcXUVZWVl0REjRkxqSNB8StJejyPL8pqkP4dhOCeRSDzd1KBkMnmNmX1P0rYwDE9JJBL/OZC4DwTzlv3XoectAPYJyRqgk5k0ff4hgRX+W7JDs/vGxvrpii+PVLcCJj67WrW2St+++YUcJyhIkv9p3g0Tzld7/Vb8Op2iQH+TVKlQk/Qd5Tyzs61UVFT0iUQiM919avYKk125+1oz+59YLHaX2uvvdj/MnDkz+MxnPvO4mY3P7nP3s+Px+L35iKs1nDz18bEejTzcVCHh8yYdoi+efpgiQdeYamzaVqur7kjqhVVNLKBy/XPDpqqznr/jtKq2jWzfJZPJWWbWqIi5u8+Ox+ONajLhwM2dOzdyzDHHTIhEIudJOtvMBjbnend/w8zua0jQ/Ev78PdpwyrABWZ2WiwWy/txzsxbmq9Dz1sA7LOuMYMCupgTpz0+ssAii8zUaNJXcngfXfHlYvXp2T6PyW1rL7y8XZf9dqWqajKN+lz+6NrX135k5T3nts/jaa9VTAV6Wq4tSusEfVfrduu/Xp+S6/F8JHAqKioSQRD8wsxO3cvQxfX19VOLi4ufbZPA2kBFRcURQRAsM7M+u7a7++Z0On1McXHx2nzF1lImX7xwlAJ73MwaFSrtXhjo8s8X6diRe6o93TllQtdtf31F9y1sYluU++OvpHec1h4LRyeTyVPM7B9qPDdcsXr16nGdvUh4G7OKiooTIpHIpyWdLTV9clou7r5Rb6+g+fPdd9+9YObM5h8VX1FRMaqoqOj55l7XWpi37LsOPW8B0Cwka4BOauKMJ46PuubL1DO777ChPXTN10o6/daEvVn8wmZddUdSdekc81zXknRtfemCW0pbtUjvfpupqPrpSbmKFOpYfUcrd+u/QR+X6QGFGqNvq01O98glmUyeJek6MztiD8NCd/91JpO5fOTIkZvbKrbWlEwmv2hmuY5K/UcsFvtwmwfUgiZOKzs8atHFyrHdrV+vqK76arESh/bJdWmXMbdstX7zt1dz9rn7/fNXrz1H95zb+JNWnpSXlw+MRCLLs7cwunutux/XVicEdXaVlZUfCIJgirufZ2aHNPPyLe7+YCaTuXv58uXzzj23/fz5aSnMW/auQ89bADQbyRqgE5s07YnTLfC/mKzR11FD+hfqpxeU6LChjeZEXcJDT67TTX9+SWGORcIuT9bV+/hFs0/c2PaR7aMbdLFMN8pVp7ePYv0vU6HeOZq1VofpEr3W9gH+V1lZWffhw4dfEgTBd7XnU0y2uPsPli5d+pvO8EEkmUzea2ZnZbeHYTg1kUj8Mh8xHagJUxcOLiywJ0wWz+4bOqCbrrmgRCOGdI7Tng7UP/+zQdfPTeUq/Cl3v23+rAmNiqrmSyqVul/SJ3J0zYjFYrPaOp7OpLKycnRDgubTuxT13Sfuvl3SX81szrZt2x4ZN25cu6551BKYtzStw89bADQbyRqgk5s0fdEnzXSXyRqdgdm9MNC0s4/S5PcPyUdoeVFbn9HN96/Sw0+tzz3AvbyuNjxt4S0nvd62kTXTDXpJppxFXXdTp776ntpFId8VK1a8p6Cg4EYz++Sexrn7Mnef2tGPu25qtYKk6jAM35dIJCryEth+mviNst7RbgVlMo3L7nvPkB669sKjNbBvYT5Ca7eeXPGmfvyHCqUzjT9ducIr5t9w4g/zENZuKisrLwiC4NfZ7e7+aDweP03UvWi2ZDI50t3PC4Lg05JizbnW3avM7CF3n2Nmf4vFYu1uy1xrY96yu04zbwHQbCRrgC6gdPrCkyJmD0qW82SJDx87RN8668hOX8DvtfU7deUfK7Vq3c7cA9yfrFLVmf+e9eF8nKbUZVRUVEyKRCK/kFSyp3Hufqe7fy+RSKxpo9BaXEVFxYcjkcjDObqe2bZt2wc70jflJ09fdK9yrBQa3L9QN00dpcH9u/b2hKYsWLpJP/2/SnmOlEcY+mceu3HCn9o+qreVl5fHI5HIs2bWa9d2d98chuGooqKips8kx24afpfnmNmntZe/23KokfQPd5+zffv2B8eNG9fEP1JdB/OWtzFvAbo2kjVAF1E6Y9HoQHrEZMNy9R8+rKe+f35cRw7vlau7w3vk6fW6+f6XVVOXuw6juz+8tWrr2c/c9tEuP0luC2VlZdHhw4dfFATBD7WH42ndvUrST+rr628sKSnpkAUTU6nULyV9M7vd3a+Kx+OX5SGkZps0Y9H3Atk12e19ekQ1a+oxXXZbwr568Im1+uX9L+fo8ap0On38gl+UvtDWMS1ZsqSgX79+i6XGK6XCMDwrkUjc39YxdTTl5eWHNyRopkh6f3Oudfc6M5sfhuHd7n5/UVFRu1gB2Z4wb2HeAnR1JGuALuTEbz1+REFB5GEzJXL1B4H0ifHD9YXTDlXP7p3j1IVX1u3UL+59SctfbuI4XUku3Z55tv6rCxaU5joDE61o2bJlQ3r06HGtmX1ee/43KZXJZC4qKip6pK1iaymLFy/uMWjQoOfMLPu/u0w6nT5x5MiRi/MS2D6adNHjJwSRYKHMdvsKu1tBoGsvPFrFh3XtYsL76vcPv6q75q3O1VVR5W+879+zzq1uy3gqKyuvDoLgkhxdv4nFYhe0ZSwdSSqVGuHun5J0npkd35xr3T0taYG7z6mtrb131KhRW1onys6DeUtuzFuAroFkDdDFHDf1ob69o31u31PdkIF9C/X1jx2uiWMHt2VoLaq6NqM7/vm67l24JmeBT0lyV71LMx6bNb5DFnvtTCorK481s1+a2Qf2NM7d/2Zm02Kx2EttFVtLqKioGBcEwb/Ndi+a6e4v19fXjy4pKWmXp3ccN/Whvn0K+iyVGp/mdennEpo4ZlA+wuqwrvhjhRYuy3HgmevWebPGX9hWcaRSqZMkPSYpyOpK7ty5832jR4+uaqtYOoLly5cP7d69+6fcfYqZTVDz5s+huz9hZnPCMJybSCQ2tVacnRXzlv9i3gJ0LSRrgK7JJk9fNMPMfiqpyYqgRx/RV//v9Pdo1FFN7lJpd+rToR5+ar3umrdam7fvadeMr/Iwc/78Gyf+u82Cw95YZWXlV4IguFJSk9Uj3b1W0nXV1dVXd6QPlclk8jIzuyK73d1/F4/Hv5yPmPZm8ownfmPSV7LbP3rCMF30qaPyEVKHVlWT1oU3LNPazTWN+kLPnPbYrJP+2doxPPfcc/179+79vKRDd2139/owDE8oKipa0toxdATl5eUDgyD4pJlNMbNSSc0pjuLu/pSZzamvr59TXFy8trXi7EKYtzBvAbockjVAFzZxWtmYSBC902TFexo3+qh+Orf0EH2gqL/M2udfG9W1GT301Hrd9/gabdi6l9Im7nfsSO/41lOzz2h6jTEOyIbLR48117Hv/GzSxkFXLrsv59hLjznRLBhpsvWDrlz6wJIlS/r17dv3CkkXBjXbo4WvP73b+NojT5KihXL31WEYfruoqGhu676aljF37tzI2LFjF0n6YHZfGIafTCQSD+QhrCadPG3RRDd7zGz3ucJRw3vpFxePUmE0e1EG9kXy9bd08eznG50Q5a5XNm6qOvr5O05r1QRkKpW6W9KU7PYwDH+QSCSubs1nt3dLlizp16dPn4831KA5NXsl3D541t3vrq2tvfuYY47hZJ5WwLyFeQvQlbTPv70AtJnic+YWHjxi+KVmukR7+LZKevt43jM+OEynjBusvj0L2ijCPVu1tkoPPblejy7ZoKqazJ4Hu7+WsfDCshtOeqhtouu61v9g9GnRwK6R2RhJcvfUoCuXxnON3Xz5mCck+5C7Vw66cmnRO+0rVqwo6VG17jc9ls794K4Jmx2TLlH9iPe9+7O7P57JZKaOHDlyeeu9opaRSqWOcvelZtZ713Z331RbW3v0Mccc08TZrG2r+Jy5hQfi+SktAAAgAElEQVQfevByk+32nvXoFtEt00drxOAe+QqtU3hg0Ru6+YFVjdrd9fP5s8Z/t7WeW1lZ+fkgCP7Q+Lm+8K677iqdOXNmE5svOq8VK1b0jkajHwmC4Dx3P93Mmnv+/HJ3nyPpT/F4PFcVabQw5i0AugqSNQAkSZOnLiy2aDBLplP3NrYgYhpXNEATxwzS8cUD2ryo39rNNVq4bJMWLN2kF9fsw5fQ7rUu3ZipTV+54JbSdlkbpDNac+nRh3a36KsyM7lvGXjl0oOyx7xxwfCe3YYM3SpTgeRbB16xdED2mNTSpz970H0X/lEeWljYW1vPuVWKNJqfZ9z95pqampntvWhnKpX6sqT/zW5394fi8fiZeQipkUnTnvhOEOjn2e3f/MQR+sSE4fkIqdOZcfPyXAVE69JeX7JgVumLLf28ioqKI4IgWGZm2RWht9bV1Y0uKSl5raWf2V41FP0+o2EFzUckNSv76O7l7n6PpD8lEomKVgkSe8W8BUBnR7IGwG4mX7zoIxaxqyUdvS/jI4Gp5Ig++kBigI4+oq/ih/ZWYUHLbo/Y+la9Vr6yXcte3Kb/VG7V6xv27dAUd7nJ7wnTdT94bPbkDlWQtrPYfNnYV2Q6TO4+v3Jpwbn3aLevETf/YMwpiti7dTre3Lqje2z2i7W7jZn63r7q32ebJNUUn5neOe4LTc6y3X2TmV1y5513/r49rxJIpVIPSPp4jq5vxGKxX7V1PLuaMHXh4G7R4EWZ+u7aftQhvXTztNGKBEwdWsIr63bqa9c/16iQqLsenD9r/Cda8lkNW/AWSjohuy8Mw08nEom7W/J57VEqleom6VR3nyLp49mr2/bG3V9qSNDcnUgklrVKkNgvzFsAdFbMuADkMDOYNG3ylMB0ucxGNufKaMR02LCeOvLgnjpsaE8NG9hdwwZ004A+herbK6ruhY1rNLq7qmoy2lZVr03b6rRuc43e2FyjVWt3atXaKq17szbHk5rmLpf8AYU+c/5NJz7frIvRojZdNna+mSZJUl1aQw6++rmNu/VfPvomU3DROz/XhjWHD7+q/NVdx2y4dPT4SBAskrxux6jzSutGn3WJmX10L49+RtK3YrHYky31WlpSKpUaLGm5pKFZXTvT6fTYkSNHJvMQliRp8vRF15nZt7Pbb7poFMd0t7Db/rpK9yx4o1F7JuPHl9004amWek4qlfqRpJk5uu6IxWKfb6nntDdlZWXRYcOGTY5EIlPM7CxJza06+5qke8IwnJNIJP7TCiGixTBvAdD5kKwBsCd28rSFZ7gF3zZTaUvcMBKYCqKmgmggd1d92lWXDuW+92v3yrXT3e9QvW6Yf/OEvH3YxX9tumzMHWb2WUnydHrkoKuXv7tlYPPU9/b1fr1Xy/T6O8UiPQyPG3TVst0qCm+6fOyvTPq65LcNvGLp1ySpvLz8tEgkcpOZJfbweHf3P9TX13+/pKRkXSu8vAOSTCbPNLO/Zbe7+3/WrFlzQmlpabqtY5r4jbJhkW4FL5vtvi3kjOOGavq5723rcDq96tqMvvSzZ7VpW1ZxUdc/580af1pLPKO8vPyD0Wh0kbJOM3L3VWY2JhaLdaqCpXPnzo2MGjXqxCAIzpP0KTMb2Jzr3f0NSfeGYTinqKhosaSW+NcJbYd5C4BOg6McAOyJz7vxxL/PnzV+ktd6wl0/d/kBfejNhK6aulA7dqb1VnVGtfUtMOFxLVEYfmNHevvB82+c8HUmPO2I6d1lAxlFdvvQFPbt9RWTesvDqe+0ufmwXcds/G6ij+SfdVe1h/6Td9pHjhz5j+3btx8j6RJ339HU083siwUFBZWpVGr6kiVL2kd1yQbxePzv7n5rdruZfWD48OGX5yOmSPfo9OxETffCQF88/T35CKfT69Etoi98OMfv1nTqxOll4w70/hUVFX0ikcj/qfGx05lMJvPZTpSoscrKyvGpVGr22LFj10QikcfM7IJ9TdS4+0Z3/3Umk5l01113HRqPxy8qKir6l0jUdETMWwB0Gm1bXQtAh9UwkfiuNPOSk6dNPlGBnSv3M2WWj09xobsvkfxBT9fPYV93+2WuN95ZwxkJNOid9iUXqCCw4CKX7l/+xPMLR00Y29AT7LYtyAp6ftOk3i79bNBVy9bs2jdu3Lh6ST9buXLlHwsy1TcGdTvPDXv0lwq67x6DWV9JN/Tt2/eryWTy4ng8/ug7fRu/m+jjhT2G7ajfvuGon728rSVf+77Yvn37t/v16zdZUmzX9iAILk2lUg+35TauD33pwT4mfS27/eMfOlgD+jT3gBzsq1PGDdHd81drzaaa3dojVvAdSecdyL2DIJhtZkdmt4dheOXIkSMXH8i924PKyspjgyCY4u5TzOyQZl6+xd0fMLO7ly5dOv/cc8/dy7E86GiYtwDo6NgGBeCATJ66sFgFdrJJ4yX7kKTWOComdPcXzOxfYeiLwp3pRxfcVrqpFZ6DFrb50jHnKLC5b/8UfnngFct+J0mbLh17kZnfmDYbO/SK55ZtvnzMFsn6y/XDgVc+d4Ukrf3+2MEFUb0o9x3hm3VFQ25Z+e6JGA2nSJ0h6VOSTpHp3W/QM70Gq+boj6s2fopkWf/MpevULfXYk72W/mmz6qqP3/U6lyfN7dqBVz7329b7jTRWWVl5rJn9y8yyv0B5cefOnWNGjx69D0eHHLjJMxZdZLKbdm0rjAa66/Jx6te7XS1K6nT+8fR6XTcn6wAo90xdbXjEwltOen1/7llRUXFuJBKZk93u7k+uWbNmQj622bWEZDI5piE5c56ZHd6ca919u7v/xczmbN++/R8NCV90McxbAHQUrKwBcEDmzz5xpaSVkn4hSZMvnjdU6j7KgvBoNzvK3A53+aFmNkjuA2XWLdd9XNoh12bJN5j0iptekVvSFS7fVrXthWdu++jOtnxdaBkZ+dpIw/cCHtogSVo1bUx/M/3QpQeHXvHcMklyaYNJ/XfdBlUQ9Zkm6yvXV3ZN1EhS4dDBl0u6RK6Mu/8wTNfPrbPMlu5Bj69GqjZe3eup/5XCtGpHnrFbPN1X/k09l959vCzitbGT/hld/+JU37GmZ1T6vMlmyPS/Gy8bEwy+culvWvlX865EIvF0KpW6Uo0LwL63Z8+esyRd0CaBuC7I/grn1A8MIVHTBia9b7B+99CrenPHLrkDs0i0MPiSpB83937Lly8/NBKJ/Dq7vWHL4PkdLVGTSqWK3f08MztPUsyyk7B74O5VZvZ3d59jZn+Px+PNq/yKTod5C4COgmQNgBY1/6aT10t6tOF/jRSfM7dwyODBhRHLdKsNu4XVma21z2yprtU9LEHvjDwTvqGgoTxa8PYqlj69NVOmfulM+G5dFnNbJ1NcsqGStOmSMR8wt6+5/G+Drlp6T5P3l64bdNXSn+7SdM2my8eeYNJHeyx/YGvtyDP6qHG9DlWXfMyq3/fp0yQ9Gobh9EQi8e1Nl489w6SiwOz/SWqzZI0krV69+qpDDjnkdDM7Lqvrq6lU6q+xWOyvrfn8ydMWfNDMSrLbzzrx4NZ8LBoURAN97EMH6/ZHXtutPTB9SZp5hbTvx9DPnDkz6N69+x8l9c/uc/epiUTi5QOPuPWVl5fHI5HIuQ0JmpLmJGgk1Uh6JAzDOTt27PjLuHHj+NCMJjFvAdBekawB0KZW3nNu3UqpTtJbex2MDm/nuh1v9D10wNs/hDZo3eXHHGNu35L7DcN++vwLuwxdK0kmH7binOJCi+r3Mt/htdaohookufvtoXzRtm1vzW/UGYZPKwg+ajVbu7v7OEmzzWy8JNUddrwy/Ueo/pAx74w+LAiC+5LJ5Dy/98IltvPNIrm3+fnUpaWl6ZUrV34uGo0+Z2a9srr/d9myZceMHj16Q6sFEETOz2465si+OnRIz1Z7JHZ32rFD9Md/vKZw18KlZu8pnT5pQtmsmY/v631OPfXUbnr7yOlscxOJxB8OONBWVF5efnhDgmaKpPc151p3r5M0z93vdvcHioqKmio8DjQL8xYA+UKyBgDQao64/ZWazZf13yKzATINKlD0ZpnW1FeHu23tCM3XBjK527ChicIfyqxEHn5p8LVL38h138FXPl8pqTJXn5sd1LDx6rV4PL5U0oRUKvVZd/9Z2G/48LBf4/IEZnZyptdAD3a+KY92f+JAX/f+KC4uTlVWVs4ws+ztK0N69Ojxv5I+1jpPnhnI7ezsLVCnHzc093C0ikH9uukDIwfoqZVbdmuPWDBF0j4na0444YRqSV+oqKj4e8NWqP7uvrqmpubrLRtxy0ilUiMknd2wzSl7ZdkeuXtaUpmZzampqblv1KhRW/Z6EQAAHQRHdwMAWtvbCRfTqZImhJ6ZOuy653crmmvhOytr9B4z+567PzDwymW/b+6DVn3x8O4mO0+SzHXLO+2xWOz/6uvrE+7+84Zv4P/LXd2X36eCjSlLH3Sktp79q7MqKyu/oDwU4U8kEre5+9+y283so5WVlV/Nbq+srDyksrJy/IE8s3T6pAlm2i0zUxA1fejogw7kttgPk8YObtTmrrO0H38Wi4qK5tbU1IyS9Fgmk/lce0pkLF++fGhlZeU3k8nkQr29CmhWMxI1obs/Lukb7n5wPB4/NRaL/bY9vT4AAFoCK2sAAK3KTW+YVGJSd5c/OPjK5/+SY9RaySRTgbvW1mRqvrI/z+ozov8NZjpY7g/NvnLp7F37SkpK3pL03ZUrV/6mIKz9ZfTNVadGtr6ubi8uUFC1STvHnKeako9IkcIhgXR7Mpn8ehiGU4uKipbs1wvfT9XV1V/u0aPHC2a22yd3M5u1YsWKspKSkhelt0/7CYLgVnf/g6T9Xg0UmJ2R3XZs0QD17M4Uoa19sOQgFURN9en/7oUy09DSixa9r+wXE55p7v2OOeaY1yVNbskY91d5efnAIAjOMrMpZjZROWpJ7YFLetLd56TT6bnFxcVrWylMAADaDWZiAIDW5Vore/tUlrr6uotyj/E3Gv7fLdQXRlxdsbm5j9l06ZhvmNmFLv9P+GbdlJlSzqKsxcXFqY2XjvplYJFTZG+vWAh7DFBQs11B9XaFvQdJkszs+Egk8lQqlfqtpEtjsdjG5sa0P0aPHr2hoqLiK5FI5MFd282sV0FBwR3l5eUfCYLgxiAIPtvQFT+gB7o+nL1u44MlrKrJhx7dIhrz3n76T8XW3dojEZ0uqdnJmnxbsmRJvz59+nwiCIIp7n5KjuPp9+YZd7+7trZ2TkPiCQCALqPNl3gDALqWDZeNiVnoIzKRcNOwK5YvzzVm43cTfRTtPs5Ce2vQNUv/09xnbLp87OfN/XaXllalM5MPu2b5Pm2J2Dj7vOE7jzzpx91WP/vFgtVLoh7trh2Tvqf0sEYHI20Nw/DyZcuW/ercc9vmBJBUKvUbSY1WGDUcRbxrEeJULBbbr4TNxAvKBkV7FzRKQt39ow9oYN/C/bklDtADi97QzQ+s2q3NXY/NnzW+XayQ2ZsVK1b0Ligo+KiZnefuHzazZv1BcvfnG47Zvjsej3eIk6sAAGgNJGsAAB3a5ktHfUoWmSP58p1V9ZMPnbXizebeI5VKjej78GVPRTcmh4c9DtLWs2+RLGdZt+XpdPqikSNHLjjwyPes4UPvUjM7ak/j3D29Zs2aHqWlpenmPqP04sc/lr2C5/BhPfWb/xnb3Fuhhby6fqe+cu1zWa1elX423X/Bgua/x21h8eLFPQYPHnymu08xszMl9WjO9e5e7u5zJd2dSCQqWidKAAA6FrZBAQA6rM0/GHOKAt0l18ra6p2nHDor2exEjSTFYrHVmy8be7FM9wTVbyrY9obC/iNyDT0mGo2WpVKpOZK+E4vFVh/QC9iDkpKSt8rLyz8XjUYXaQ/1PcwsOmzYsCMlJZv7jCAITmj03MPb/ORy7OI9Q3qoT8+oduzcNS9jvYIxkVFaoGfzFliWVCrVLZPJnBYEwRS9fVJZb7N9/w7Q3V8ys7mZTObuoqKi51stUAAAOiiSNQCADmnDZWNiMs2Va02mtvbU4dcnN+3av/nSUZ+qral5fNf21d8vGtgt06Pb4Gufa3QkeMbCINJwSKLVV/9Q0gxJ/Zt4/BRJH62srLwqCILrY7FYbYu9sP+yIAg+6O4ZM9tjMdZIJBLTfiRrzDQmu63kiL7NvQ1akJmp+PA+jY7wNgvGSvlN1pSVlUUPPvjgkxsSNJ+MRCL9mnmL19x9bhiGc9q6cDcAAB0NR3cDADqcsomKBmZ/cleBMvaRIT9fuW7X/k2Xjvm4gsifIz17HbJre49Ij5uDbv76+suObrS1KHD7tCS5e+rIE864QlI8DMPfqolCxZJ6BkFwlbuvSCaTH2mhlybp7W1ZqVRqXhAE1+9LzQ8z278iw65R2U3vPaRXrpFoQ0cNz/Ue+DFtHoikuXPnRioqKialUqnbDjnkkHWRSORhM/uipH1K1Lj7G+7+i3Q6/aFYLHZ4PB7/HxI1AADsHStrAAAdzqjxY74p6f0y1XnUyzZd/t8FIiYVStZfkjJ1tTkKDVsQsYI5m78/9vMDr35u5fofHD0qGkQ/KdMZktcprfMlqeH0p69UVFTcGgTBbDM7PlcsDTVl/ppKpR6ur6+/uLi4OHUgr62ysnKKpFvV9KqeRty92cmaidPK+svs4F3bIoHp0CHNKjeCVnBkzmSNGlW9bkVWWVk5vmEFzdmShkpvr/rZF+6+UdK9mUxmzpw5cxbOnDmzqYQnAABoAskaAEDHY2o4AtwKTRrS1LACz2Qna/7s7gNkNl5Rrdh8+Zg6yQpd/pa53R9mwh8OvmbZbtuJGlYBnJBMJr9oZler4YNrDqdHo9HJlZWVN6TT6atKSkre2p+Xlk6nXygoKHjCzJqzWifW3OdEM8ER2etrDx7YXdEIi27z7T25EmZmR7T2c5PJ5HENRYLPNbND9n7Fbra4+/2S7l66dOljbXVqGgAAnRWnQQEAuiJb+/2xgxQNh1i1bxx23fMb9uWiVCrVNwzDmWY21cya/MLD3d+Q9D/xePyu/Q0wmUyeKOlaMztuH4a/HovF3tOc+5dOe+KsSKB7d20bl+ivqy9oywUcyGVnTVofv/Sp3drcVT9/1rzuUsuuUkmlUmPdfYqkKWZ2eHOudfftZvagu8/Zvn37P8eNG1ffkrEBANCVkawBAKCZksnkSEm/MLOT9zTO3Z9w928lEoll+/usVCp1tqSfas+rZ3zjxo29TjjhhOp9ve+k6U98KzDN3rXtzOOHato5793PSNGSPnnZk3qrevfFKTt3Vg1dfOtp+5RY3JMVK1aUFBQUnGdmU9TMVVnuXmVmfwvDcE4QBA+1UnFtAAC6PLZBAQDQTPF4vFzSKclk8lNmdr2kw3KNM7PxZvZMZWXlr9Pp9OUlJSXNPlo8Fov9uays7IERI0ZcIOmHyr0NywYMGPBeScv3+cbuA5VVg6Rf74LmhodW0q93QaNkTY+CHoMk7Veypry8PB6JRKY0JGiau3yqxt0fdvc5O3bs+Ou4ceN27k8MAABg37ExHQCA/RSPx+/duHHjyDAMfyKppolhkSAIvlFQUJBMJpNfmzlzZrP/7S0tLU3HYrFb6urq3itpprs3qocTiUSaV2Q4sIHZTX17kaxpL/rlei+iYaP3bE8qKiqOSKVS30smk89Go9FKM/uJ9jFR4+517v53SZ/LZDJD4vH4WYlEYg6JGgAA2gbJGgAADsAJJ5xQnUgkfpROp0dKeqCpcWY20Mxu/cxnPrOkoqLiQ/vzrJKSkrdisdiPa2tr3xuG4S3unn6nr7knQpm80ZFDvbpF9icstIKeOd6LMAx6NuceQRDcJ+kaMxu7L+PdPe3u/5T05ZqammHxePwjsVjs/4qKinY057kAAODAkawBAKAFjBw58pVYLPZJdz/V3SuaGmdmYyORyBOVlZV3rFy58uCmxr0jmUwemd12zDHHrE8kEt9Mp9PF7v7nhvs270Qot8LspmiUUnbtRUE01xTNuzXnHu4+dx+GhZIWuPuF7n5wPB4/LRaL/W7UqFE5jr0HAABthWQNAAAtKB6PP7p9+/ZRYRh+x923NzUuCILPRqPRymQy+T9LlizJuf9oyZIlPc2sLJlM5ixkXFxcnIrH4+e4+/Fmtq45cZq8cbImIFnTXkRyvBeRiDVrn5qZzWmiyyUtdveL6+vrR8RisdJ4PH5rIpHYtB+hAgCAVkCyBgCAFjZu3Lj6RCJxfX19fULSH/X2h+NGzKyPmV3bt2/f5eXl5adl9/ft2/cHkt4j6bZly5Y12rb0jng8/lQsFvtBc2J0s0bHLGfCnGEiD3K+F65048amxePxl939P7s0LQnD8Ds1NTWHxWKxD8Xj8V8UFxevPcBQAQBAK+A0KAAAWklJSck6SV8oLy+/NRqNzpb0/lzjzCwRjUYfSaVSD7r7jHg8/nLD9qfvNPQf0aNHjyslTW+p2My9Lvs0qPoMyZr2oj4dNmpz2f4ck31jGIaHmdmceDz+8oFHBgAA2gIrawAAaGUjR47895133nlsGIZfc/c9bTX5uJmtSCaTV0iabWbv1igxs4uSyeRxLRWTS9XZbTW1mVxDkQc1dY2TNaG80Xu2N/F4/K5EInE1iRoAADoWkjUAALSBmTNnholE4raampq4pF9Kaioz0t3MLjOzM7LaAzP77YoVKxrVmtkv5puzm7bvbNYuG7Si7Tsb7VJTRP5mHkIBAAB5QLIGAIA2NGrUqC2xWGxqJpN5n7s/3szLS6LRaLNq0zTJrVGyZltV4wQB8mPbW43fi+r62kbvGQAA6JxI1gAAkAdFRUXPx+PxiWEYftrdV+/rdWb2g5UrVx59wAGEYaPTozZs2Z+SKGhptfUZbavKWuXknqmpW7UxPxEBAIC2RrIGAIA8SiQSd1dXVxdJutrd95otMbOCaDT625kzZx7Qv+Ee2KrstnVvkqxpD9bnfh/WPHPb11j6BABAF0GyBgCAPBs9enRVw9Hbf92X8WZ27Pnnn3/xgTyzprr6ley2NzbVKOT47rxbvTFnHeFGyTUAANB5kawBAKAdqKysHG9mZzfjkisbjvfeL4tvPW2DXLsVrK1Lh3pjU83+3hItZNXanY3a3FWRh1AAAECekKwBACDPZs6cGZjZ7GZe1lPSbQf2ZF+e3fLS2qoDuyUO2Mu53gPT820fCQAAyBeSNQAA5Nn555//NTMb09zrzGxyKpX60v4+16Vl2W0rX9mxv7dDC8n1HoTujd4rAADQeZGsAQAgz8IwDNz9Rkl/dPe/SfqXu5dLWu/udXu5/PqVK1cevH9P9n9nt6xYtX3/boUWsWFLrTZta/SW1/nWzDP5iAcAAORHNN8BAADQ1SUSiZv31L9s2bJeQRAcVFBQMMDdD4pEIge5+0FmNsDdD4pGox+UdF9zn1tf6/8q7L57W2rNW3qrOq3ePZgi5MOzqa2NG92fXXB7KcWEAADoQpiJAQDQzo0ePbpKUpWk11vyvgtvOen1ydMXvWxm7xYqDkPp2eRWnTh6UEs+CvvoPxVbGrW59HgeQgEAAHnENigAALq2R7Ibnlz5Zq5xaGX16VDPVDZeWRPKH85DOAAAII9I1gAA0JWFapQIWPzCm6pPh/mIpkt7pnKrqmoyuze6tm+vKl+cn4gAAEC+kKwBAKALy2xLz5Nrt6rCVTWZnNtx0LoWLN3UqM1Nf33mtq/V5yEcAACQRyRrAADowhbcXlrj0l+y2x95ekM+wumyqqrTWvT85kbt7j4nD+EAAIA8I1kDAEAX5667stueKn9Tm7fv7dRwtJR5z2xUXfbWM9eb61av/Ud+IgIAAPlEsgYAgC7usRvn/UPy3U6aCkPpL/9am6+QuhR31wNP5Phde/jHlfecS8YMAIAuiGQNAABd3swwDPXb7Na//mudauoyuS5AC3py5Rat3ljdqD1jwf/mIRwAANAOkKwBAAAK69K/lnvtrm07qtP62+J1+Qqpy/jTvNcbtbn7vLJZ41fkIRwAANAOkKwBAABacEvpOjfdmd1+92OrVV3L6prW8tTKN1X+2luN2sPQr8tDOAAAoJ0gWQMAACRJYab+WrnvlpnZVpXW3LI1+QqpU8tkXL/9+6uN2l16ruymEyksDABAF0ayBgAASJLKbppU6d54dc2cx1ZrzabGNVVwYB544g2tWrezcUfGf9j20QAAgPaEZA0AAHiXZ+p+4q76XdvqM65f3vdyvkLqlDZtq9Uf/tG4Vo3cn5x/04S/tX1EAACgPSFZAwAA3vXY7MkvSf6L7PYllVu16PlN+QipU7r1L680qgXkLk+bTc9TSAAAoB0hWQMAAHZjVTVXSNqQ3X7z/au0vao+xxVojsUvbNbjS3Mmvu5ccMP4J9s6HgAA0P6QrAEAALuZd9sp2zzMzMhu37y9Tj+7KyV3z0dYncKGLbW67u4Xc/T4FoU132nzgAAAQLtEsgYAADQy/8aT7nT3h7Pbn67YwulQ+ymTcV15R6V2VKcb9YWub8+/6eT1eQgLAAC0QyRrAABATpl0+gLJt2S3/+7hV7Vi1fZ8hNSh/fahV1T+6o7GHa6/PzZrwu/bPiIAANBekawBAAA5LZhdutpDvyC7PQyln/yhQuverMlHWB3So0s26J4FbzRqd9f6ndVVX8pDSAAAoB0jWQMAAJo0/8YT/+yh/zq7/c0d9brk1yu09S0KDu/N0+VbdN2cVK6uUKE+t/jW0xoVcwYAAF0byRoAALBHa9esvUjuT2W3r9lUo0t/s7LREdT4r5Wv7tBP/lChMGzc5x5ePv+m8Y+2fVQAAKC9I1kDAAD2aOU959aFqvuU5K9n9yVXv6Uf/b5ctfUkbLKtWluly36zUrX1OTI18j/Nn3Xi1W0eFAAA6BBI1gAAgL16bNbkNXVheJq7Nmf3PZfapu/dukI7djY+5aireuHl7Zr+y+U5T35y+aNvvL72i5I4Ax0AAORk+UKP45AAACAASURBVA4AAAB0HBNnPHF81DVfpp7ZfYcN7aFrvlaiQf265SO0dmPxC5t11R1J1aVz7X3SknRtfemCW0rfavvIAABAR0GyBgAANMukaU+cboH/xWTR7L4h/Qv10wtKdNjQRrmcLuGhJ9fppj+/pDDHmhmXJ+vqffyi2SdubPvIAABAR0KyBgAANNuk6Ys+aaa7TNY9u697YaBpZx+lye8fko/Q8qK2PqOb71+lh59an3uAe3ldbXjawltOalT3BwAAIBvJGgAAsF9Kpy88KWL2oGT9cvV/+Ngh+tZZR6pbQaStQ2tTr63fqSv/WKlV63bmHuD+ZJWqzvz3rA+/2baRAQCAjopkDQAA2G+lMxaNDqRHTDYsV//hw3rq++fHdeTwXm0dWpt45On1uvn+l1VTl+vEJ8ndH95atfXsZ277aBOZHAAAgMZI1gAAgANy4rceP6KgIPKwmRK5+oNA+sT44frCaYeqZ/dGZW46pFfW7dQv7n1Jy1/e3uQYl27PPFv/1QULSjkmCwAANAvJGgAAcMCOm/pQ397RPreb2SebGjOwb6G+/rHDNXHs4LYMrUVV12Z0xz9f170L1yjMvZhG7qp3acZjs8b/sm2jAwAAnQXJGgAA0FJs8vRFM8zsp5IKmxp09BF99f9Of49GHZWz1E27VJ8O9fBT63XXvNXavL1uDyN9lYeZ8+ffOPHfbRYcAADodEjWAACAFjVxWtmYSBC902TFexo3+qh+Orf0EH2gqL/M2ueUpLo2o4eeWq/7Hl+jDVv3lKSR5H7HjvSObz01+4ym90YBAADsg/Y5MwIAAB1a8TlzCw8eMfxSM12iPayykaT3DOmhMz44TKeMG6y+PQvaKMI9W7W2Sg89uV6PLtmgqprMnge7v5ax8MKyG056qG2iAwAAnR3JGgAA0GomT11YbNFglkyn7m1sQcQ0rmiAJo4ZpOOLB7R5MeK1m2u0cNkmLVi6SS+uqdr7Be61Lt2YqU1fueCW0rdaP0IAANBVkKwBAACtbvLFiz5iEbta0tH7Mj4SmEqO6KMPJAbo6CP6Kn5obxUWBC0a09a36rXyle1a9uI2/adyq17fUL1P17nLTX5PmK77wWOzJ7/UokEBAACIZA0AAGgzM4NJ0yZPCUyXy2xkc66MRkyHDeupIw/uqcOG9tSwgd01bEA3DehTqL69oupeGGl0jburqiajbVX12rStTus21+iNzTVatXanVq2t0ro3a5sVvbtc8gcU+sz5N534fLMuBgAAaAaSNQAAoK3ZydMWnuEWfNtMpS1xw0hgKoiaCqKB3F31aVddOpR7C9zctdPd71C9bph/84RkC9wRAABgj0jWAACAvJn8zUVxFdpXZP45kw3Ldzy7cS2Rh7/bkXnrTk54AgAAbYlkDQAAaAdmBidPm3yiAjtX7mfK7D15CCJ09yWSP+jp+jnUowEAAPlCsgYAALQ7k6cuLFaBnWzSeMk+JGl4KzwmdPcXzOxfYeiLwp3pRxfcVrqpFZ4DAADQLCRrAABAuzf54nlDpe6jLAiPdrOjzO1wlx9qZoPkPlBm3XJd59IOuTZLvsGkV9z0itySrnD5tqptLzxz20d3tvVrAQAA2BuSNQAAoMMrPmdu4ZDBgwsjlulWG3YLqzNba5/ZUl2re87N5Ds2AAAAAAAAAAAAAAAAAAAAAAAAAAAAAAAAAAAAAAAAAAAAAAAAAAAAAAAAAAAAAAAAAAAAAAAAAAAAAAAAAAAAAAAAAAAAAAAAAAAAAAAAAAAAAAAAAAAAAAAAAAAAAAAAAAAAAAAAAAAAAAAAAAAAAAAAAAAAAAAAAAAAAAAAAAAAAAAAAAAAAAAAAAAAAAAAAAAAAAAAAAAAAAAAAAAAAAAAAAAAAAAAAAAAAAAAAAAAAAAAAAAAAAAAAAAAAAAAAAAAAAAAAAAAAAAAAAAAAAAAAAAAAAAAAAAAAAAAAAAAAAAAAAAAAAAAAAAAAAAAAAAAAAAAAAAAAAAAAAAAAAAAAAAAAAAAAAAAAAAAAAAAAAAAAAAAAAAAAAAAAAAAAAAAAAAAAAAAAAAAAAAAAAAAAAAAAAAAAAAAAAAAAAAAAAAAAAAAAAAAAAAAAAAAAAAAAAAAAAAAAAAAAAAAAAAAAAAAAAAAAAAAAAAAAAAAAAAAAAAAAAAAAAAAAAAAAAAAAAAAAAAAAAAAAAAAAAAAAAAAAAAAAAAAAAAAAAAAAAAAAAAAAAAAAAAAAAAAAAAAAAAAAAAAAAAAAAAAAAAAAAAAAAAAAAAAAAAAAAAAAAAAAAAAAAAAAAAAAAAAAAAAAAAAAAAAAAAAAAAAAAAAAAAAAAAAAAAAAAAAAAAAAAAAAAAAAAAAAAAAAAAAAAAAAAAAAAAAAAAAAAAAAAAAAAAAAAAAAAAAAAAAAAAAAAAAAAAAAAAAAAAAAAAAAAAAAAAAAAAAAAAAAAAAAAAAAAAAAAAAAAAAAAAAAAAAAAAAAAAAAAAAAAAAAAAAAAAAAAAAAAAAAAAAAAAAAAAAAAAAAAAAAAAAAAAAAAAAAAAAAAAAAAAAAAAAAAAAAAAAAAAAAAAAAAAAAAAAAAAAAAAAAAAAAAAAAAAAAAAAAAAAAAAAAAAAAAAAAAAAAAAAAAAAAAAAAAAAAAAAAAAAAAAAAAAAAAAAAAAAAAAAAAAAAAAAAAAAAAAAAAAAAAAAAAAAAAAAAAAAAAAAAAAAAAAAAAAAAAAAAAAAAAAAAAAAAAAAAAAAAAAAAAAAAAAAAAAAAAAAAAAAAAAAAAAAAAAAAAAAAAAAAAAAAAAA/H/27jxOrqrO+/jnd6s7KyFAOgsBJIFAQpY2YdAHF0Z4cJtAlEXiiDgDyoAkYW+RmATySCAICUHCotERX+OICyMaQERhBJdRVCQrECFAkNDZgQlL0klXneePU52uunWru7r2qv6+X696wT1V997TueeeqnPu75wjIiIiIiIiIiIiIiIiIiIiIiIiIiIiIiIiIiIiIiIiIiIiIiIiIiIiIiIiIiIiIiIiIiIiIiIiIiIiIiIiIiIiIiIiIiIiIiIiIiIiIiIiIiIiIiIiIiIiIiIiIiIiIiIiIiIiIiIiIiIiIiIiIiIiIiIiIiIiIiIiIiIiIiIiIiIiIiIiIiIiIiIiIiIiIiIiIiIiIiIiIiIiIiIiIiIiIiIiIiIiIiIiIiIiIiIiIiIiIiIiIiIiIiIiIiIiIiIiIiIiIiIiIiIiIiIiIiIiIiIiIiIiIiIiIiIiIiIiIiIiIiIiIiIiIiIiIiIiIiIiIiIiIiIiIiIiIiIiIiIiIiIiIiIiIiIiIiIiIiIiIiIiIiIiIiIiIiIiIiIiIiIiIiIiIiIiIiIiIiIiIiIiIiIiIiIiIiIiIiIiIiIiIiIiIiIiIiIiIiIiIiIiIiIiIiIiIiIiIiIiIiIiIiIiIiIiIiIiIiIiIiIiIiIiIiIiIiIiIiIiIiIiIiIiIiIiIiIiIiIiIiIiIiIiIiIiIiIiIiIiIiIiIiIiIiIiIiIiIiIiIiIiIiIiIiIiIiIiIiIiIiIiIiJS9azSGRAREZGa9I/AxAL2/zWwrkh5ERERESmWTwCHFrD/fcDmIuVFREREpEfuBFwBr8+XP8siIiIi3fo1hf3GeX8xMhEU4yAiIiIiIiIiIlIcDZXOgIiIiNSVR4G/5/C550p0fgP+AdgCvFKic4jUipHAYcCf8U97RUSke78AXsrhcycBo0ucFxEREZEeyTYMalqF8nMo8FV8B40DvlahfIhUk/n4++FV4Abg8MpmR0SkrvyIEg6DEhEREclHtXTWjADuAPaE8vFkmfMhUo1+R/p9sRdYBhxSyUyJiNQJddaIiIhI1amGzprzgDdC5/8LcAbQWMZ8iFSrBvyqJn8g/T7ZCVxYwXxJ1xqAU4EfAmdXOC8i1WQq8FP893zfCucF1FkjIiIiVaiSnTX9gXtC590EfLoM5xapVZ/EzyeVet/8FzCwkpmSNEOBJcBWOq/RryqaI5Hq8kM6743XgbuobKSgOmtERESk6lSqs2Yw8ETonI8ATSU+r0iXHJiDSaHXxErnK+QA4AHS75+/AgdVMlNCDJiJb3ymXpuNwFUVzJf0clVYr10EvED6ffIm/j6pREStOmtERESk6lSis2YQ8KfQ+b6PVreUKuBgogMXej1b6XxFCIBvkn4frcB35Ej5jcf/+6dej3XAP6O6TSqsSuu1AB8pGHXfHFfmvKizRkRERKpOuTtrDFgeOtfP8D/aRCrOwRcjGjXLKp2vLvwn6ffTw/gIDymf9wE7SL8OdwIDKpkpkQ5VXq814le5i5MeZfPRMuZBnTUiIiJSdcrdWfOV0HmeRXNtSBVx8P2IRs3nKp2vLvTFD4FKva+uq2iOepdTgLfp/Ld/Bz+psEjVqJF67QTShxDuAT5TpnOrs0ZERESqTjk7a5qBtpRztFP+UGeRLjn4e0SjZnSl89WN8cBu0u+t91Q0R7n5MPDHlNcNlc1Oj52EX0Y9tXE5taI5EolQQ/Xa+4C36LynEsDpZTivOmtERESk6pSzs+Z/Que4qwTnEMmbg3dFNGg2VjpfObqJ9Pvrr/hhh9Xsn0nP839VNjs9MgxoJb1RqZXspOrUYL32YdIf7LwOjCrxOUvaWaNJq0RERKSanUX6j57dwPwK5UXyZ/gfsPVynrDdwBmhtK0VyEc+bgC+iJ/AG+BY/DCH/6hYjuqXAd8DDk5JW4Zv8Eltqfc6DWqvXnsUuBG4Jrl9AH6p7xPwkWwiIiIivUI5ImsMWBM6/jeLeHwpDwO+AdxW4vMcjF8d5CMlPk89Wkz6ffYc1T15d61G1lxOer43o1W4apHqtOrVF19/pd5nC0p4Pg2DEhERkapTjs6aqRHHn1LE40vpdTRqOq5fqRo3B+OXbXXALuBjJTpPvTqazHvtzIrmqGu12FmzP5krP322ojmSfKhOq34fJv0+exsYUaJz9aZhUPODcTObD8z27rq923ay7MKcQ5jGzbxvSNr+d5zxGt2EkYX3KeT8Uh3mQ3D+7HFZy9XmHet2Hrcs99C4jbPHpZWRQxeu67Zchfcp5PwiIr3IhaHttfinjFI7FpJ+HS/GN3YuLuI5DgYex3c4APQD7gOOxEcuSPeeA54Ajk9JuxD4SWWyU5cuAw5K2X4J+EGF8iL5U51W/R4FnqRzIYIBwNX4e7CmVFV444SW957YZ0C/7dlekwYfclrOx7p8+Zjw/uMvuf+wrvaZeNmDx3R5/kGHLS78r5RymzW3+cT+Df23Z3uNHjo553K19eoJY8L7t355fJflavvcicd0df5Rw6aoXImIZBoK/FMo7aeVyIgU5HtkznEwC1hapOOPJL1RA/4BykzUqOmp5aHtk4FDKpGROnQAcEUo7Zv4yYWltqhOqw3hhQgupAbrs6qKrAlcvNVZ7DvAJw0yIhFcwrJGJ4TFgtgHwmnWyHDg79n22WNuZ1/cEnOchlnmkmSBmw5ckmsepErEXasL+I4Zn8Qyy1UCl3O5CmKNGeWqj/XpslzhYjsTuCUBWcoVKlciIhGmAY2htF/0/DCK2q2wp4ETgV+THoY+C/80elYBxx4JPEZmo+YC4LsFHLdLDmL4FX3645/Y9g/9fwx40mBDqfJQIg/howY6BMBpwB2VyU5duRAYnLLdBvx7Tw+iaPGqUHd1WvIk9Vav/QBYBHTcL/2AS4GrKpajPBSzs2Yg/kLmIw68vmbxtHXAFyZc8cBtQSx4yrC0yB+DplwP6Cw4KWPNQbMux6o9t2Taq8AVR7bcd+NA128jlv4j0fnZpKXGNC1csw74wpZ5U25rwD1FAeUK46RwkosluixXTdevehW4YnNL842N/WIZ5Yr6LVeDyWxo5aoNeLOIeRGR2jM1tL0LH9bcIxNa3ntizPjvbO9P4pDpa+DenI51+fIxsYbG51PTxl9y/+HP3PaJrB32Ey978JigMXgm6/kThy1dU/8d9s/iGzePkb4Kzszkfy+m56udRDVqAGYA384jjz1xMvDLbj5zArXTqOmwFniD9Alvp6LOmmIIL839S2B7Tw8ya27ziWaxrPXZ6KGTp8PKnOqzrVdPGBNr6JNWn7V+efzhI7/2TNb6bPvciceYNWatz0YNm7IUVtR7fQb1V6dB/dVru/DRuJ9PSZtOjXXWFHMY1AJgW56vP6Ye6Olbpq0yx88yzmC5R9YY7sRwWkAsp4mFXlh0xlaMV8PpLrF3Wa7nl+oz/LoVq5yzjHLlgp6UK8soV1iQU7kasWj1VsxllCuLW72Wq5+Sf51Qji8lEalu4fr2r+Sx9Gbg4q0OvuP8xJ4ZihS1m9UeczsdbgnOvZQlg9NzPX+N+xvwIcj4fTUTuB3/RDpXUcMEwDeQvpFvBntgG3552D9keX8veXQsVoEE8OdQ2j/in6hL/o4kc2L0R/M6Uty1ugTfwUXXZ0WKFs/OxXYmXBf1Gb2mPoP6qtOgPuu18H12OPDeSmQkX1U1Z02qRGRhcDlFQIxtuX80Zodn7u66roD2mR9kftY99vTi07L2JEutcBnlylxukTWb5zaPxsgoV5ZjuZoPgXOW9lmHe2zIwhUqVyIi6Y4iczj0mnwOtGbxtHVrbp76hUQ8frLDZcwP0dOo3YzEHKJ219x8yhVv03Y8LrOzqZdF7T6P74R7JZQ+g9wbN4fgGzVHhdKvSB6j5AxWGMw2+ADwSMRHVhjsLkdeSiB8n+0HTKhERurIWRFpWaNjutK0cM26putXfKHdOJkC67N8o8WHLlh5xd7dicj6jN5Vn0Gd1GlQt/XaryPSPlX2XBSgHJ01TwD3d/PK+Ic0Z89GHCun3uI+xDKjH7ycIiAmXD7lCMzSh3TF3a257CtVL6NcWcQ8NlEao6Jq/AFyKlczrp5whFn6UEHnEvVcrv5A9/f+4xXLnYhUs2Mj0grq2FbUbtVYj2/chIdazMAPt+mqcXMIfphAuFFzFbCkWBnsoain0H+MSKsVUb+/o+5HyV14IYtNFFifKVq8qtRbnQb1U69twQ/vTJXzwjLVoBwTDF9DdO9c1xLuBYJw2baceosN+2j0G5ZTBEQQNE5MS3Bu7epbTn0gl32lurVb/IXGULF3OT+FCKLLFV2HwO/buyGzXA1dsLqey9XcHD4zgcxKVEQkHAoO8HKhB03AkwGckZ5a5qhdS/1t02ujdl/EDx94DBiVkn5R8r8zyZzvoePp85hQ+leAm0uQx1wNjEjLNoygFkTdZ1H3o+QmBrw7lLaiOId2T4Kl1WfljhZPrc4c7rGmhSt7Y30G9VWnQX3VayuA1DbYGGB/YGdlstMzVTsMau+ettaMROt+HOakix480Fl0j5nlGFljRlqj3LnEjfR8kiipQu3tezPKVdTKY2EvXz2p4HIF6eUq4VC5EhGJFn7KCLCx0IMqareqbMA3bsJzX1wE3En60+hsjZprSV+9qBIOjUirxSfQHcLDOSD6fpTcHI1fhSbV81EfzIOixatLvdRpUF/1Wvh+M6C5EhnJR9V21qy744wdztGWmmZ0H9rnBtrnLFkpOsdf0t7L4QfV+Bk/3s+ZO2ffPo71a/6+q7eNv6xbhy5ct8M5l1aucN2Xq4Gxhs5yhUsvVzl8sW2dMX4/oLNcwfrHnlupciUiEi2qXu3xyikZEu6FzERF7VbQ3/GNm/B1+SKdjZtDiW7UXAd8tdQZzMHk0PZGi+7wqBVRE9fm+lBKMoWjasAPmylYu8Uz6jNFi1dcPdRpUF/1WtT9FnVfVqWq7awBMGNTKGkwF3yzi6WA5wdBx5Jpzm23RHx2+gG7D+2L9R9wtmGDOrYTJOZx7/R4D7ItVS6jXBmDn7wg+xLT8yEgcB1L8W0nnkgvVzmEjNqQxrPNOsuVIz5v+r2oXImIRBsWkfZ6oQdV1G5VegXfuAk//fwi8F2iGzU34ofZV5TzQwXCQ4Rq9elzhzci0qLuR8lNVKOwKJE1ihavWjVbp0Fd1mtR91vNRNaUY86avDnnWs0sddwfE/uPOGitnywow4SW46ZjdjSAM7szYfFNsZTVBg0bNPKCBwa0Lpv2TrZzmgVf3Hd+eOrpRaf+qOA/RKqLoxVLG0/KYU0TD4K1keVq5rzm6YYvVwkSdwYultbZY2aDWi8YOWDkstbs5crZFzuCH53jqaELVqtciYhkt39E2q5CD7rujjN2TGp5qM2Mvh1puUbtBilRu2a8Z997PYjateQXgaJ2M7yKn6Dz18DYlPR/ifjsImB2RHolvIfMB5+13KgBaMcv0Zv6ECvqfiyGc/DDQfIR7gQZC3y5gLzcCbxZwP7ZZM5zBZmdxnk4dOG6HdvnTm4zs331WT7R4oZ11meKFi+WWq3ToP7qtaj7bVREWlWq6s4asIx/3ERgTUR31lgMmwPgYPeu3W/d3hiLNcRCRW3IQBvR6ieByjDp8vs/hDGlY9sRn416ieuOg9bw1NWJWCxruQpcMAfz5aq9Pbi9wXY3BKHhx7GDhoyA1shytW32lA9ZSrkyEipXIiJd6xvadlCcaMRkdGXqDzUftbvswqhlaMmM2k3MJhZ7tPOAitotklY6GzfHZPnMrcCXypaj7n0gIq2WGzUdwp014fuxWGYCxxfpWBPx0Qn5+j6l6awZHJH2drEOnlGfJaPFj1sWuax2SrS4QUe0eGp9lmu0OIoWz0Et1mlQf/Va1P1Wqg7ooqvuzhrHpvBiZ7EgFtlj3HzlA2diNhHAHHevXzp925iLH+rbGB7cEnPDie6sMRpii1LO/cu1i6b9Kt+sN19x//FYcOxriXfu3rhkesFPAyt1jvpk4eF1xBKJyHK1Y+6UM7HkDOLO3X3wwpXbnr94TN+DDgjNFWdkLVcWY1HK9i+HLFiVc7na3NI8rKGR0YnARgXGKLBBzthgLvHiHrf3hZHXP1vw6ihRdsxpPt4RHLvrne13H7Zko8qWiJRb+PdJolgHVtRuVdsMnAc8EfHe80BLebPTrXCjZjfwVCUyUmTh+62LKQikG1GNwqJ11ihavOrVWp0G9VevRd1vUZ2oVam6O2sC1xpemt5FLLE5/qwf93EWuzEZXPzO3vbd1wGsXzq1bVLLQ2+ZsV/n/tHhypOufOBsw44DcI629j3xi/PJcvOly8e6xsaFGKcDNMQb76EIodvlPkdd819saQILMsrV02eN7+PgRgMcvOMSbdcBHLV0fdv2eZPfMmxfuYoFQWS52jZn8tlmJMuVa0tAt+Vq++xJ4wiCT5nZmZhNBlKaBck7wmL0tRjb505+3Fxi9pDrV0d9CfTYtrnNY82ChWCnG9Dumu4BddaISNmFnwrH8NVfEaISFbVbxUYB2Rp+RwF3A+dSxM67fDlfHt8XSn7KYE8l8lNk4c6ZevibKqWkkTWKFq96NVOnQd3Wa+34/PdJSVNkTTEksNZYKM0syIiAaDh8wAyMIwFwfP3ZW8/c10tsuG2kNKpxQUZ436hz7+5HENyQcuabnr1tWo8m/5p46fLhQZ+G+WDnW8q/a7vtbetqv2o7R68QZI5ddBFzFow4uk9KuXJfH3rDs53lyrGN9E7AjHL10rmj+gWB3dD5GXfTsAWrspar7XPefbqZXYfZhPTMuZVgf3LmduBsHLgTzGwogJmdiMX+uGPOlGuHXL8i7xnkt3xl4vBYrHG+wfmklK0G266yJSKVEFX39MmS3jOK2q34ObIYhZ94M2qOjw6fwzdqPk/lGzfjgQNCaX8o5gmcHyJ0LHC3lfehXLiEl+q3wJeAA/Pc9wTSh4/8gcKGQRW+2ly0qEZh1qiVnlO0eHcqGC1ea3UalKBec36C8tH4f49RwCD8MucvAi8YlOS6h7yDOmuKL3CJViz98VU4smbSRQ8e6AjmGeAcr73ZvuemtM+bbTFfQPwxLTOyZtDQYZcZ9i6/g3vp9fg7Oa9vP7zlPwYOZUiLYS3Q2XjvsHHFM1nGwOeuHOfoVSIiayy01OHLV086kIB5yR1ee/Mt0ssV6eWKiAnZBh1y4GXAvnK1++0dXZYrC4IPAvs6apxzb4I7t2nBqvtSP/fSZZMP2H+QWwZ2VsofcM2WOZMfHX79yh5VqJtbmgc29gtanNFiEWVr/YqNKlsiUgn/G5E2GNha8JEVtVuxc3RhNPAYmY2aW4CPAJNS0v4VP3/R+VT2iX7J5nVwfkLSheCvBVDOazGIzMlFo+7HYvh9AfsODG1vAqpx6eioMtoHP7SkGEdXtHgWFY4Wr8U6DYpUrzkYB3wKOJPMZcDDn30cmG3RQ8WKpU9ou9L/zjmr6s6ahGtvjVn6v20QXmJzYHCNGQcBOEss3HDr6elLDoaeoIV/UI2dtXwkzmbvG3uZSMzK6UnSWT+ONb9r4HkO+6oZB2f93OPz27s9ViXP0QtZnNZwyTfSy9WAxtg1YAcBJBIsHH3ryvRyZW5T6o/9gPTOmm1XTRlJ0Dmzexxm9ag33xEHO6NpwcpHw2+NvnXlG0+fNf6c4WP7HmsdkT9GLIZdB5ycy+F/fBaxk8ZNPs+cfRXj4HAIbYeTHkdlS0QqIapT5oAs6T2iqN3yn6Mbo/E/1t8VSp8P/D9gaPL98SnvdTyFvoDK/eguemdNMkp3PqEoV0oX2RIl/FQditFJ2ntFdXQNoFidNYoWz1AF0eK1WqdBgfWa8x3M15Hy8DlpJfAnYAe+I+cE/L8D+EmY/+jgWoO8r3sXDOgfSttZgvOURFV31rwdd637h/r2XaKzAhp/+f0TzJgFfhnM3W3B0vAxHG6TpfbWWHoF1Ldf4zewZCiUc99bc8u0h7rL16QrHphqsdhNwIRkRM8r4O41GI/Zx/ed2+V/s5XjHL3Vzl2udf9BoaeqKUsdbpr37gkB5ssVrH9j51sZ5Qr/BKdzf9Jnz7e+fMOSIXbO8b1hC1Z2W67Sj8c9TQtWZHTUdJhw7zN7ts9999chuG3fOY3mXI69de7kqTG4CWxCcgaIVzDuxTEeOIUOQQAAIABJREFUY1/ZwjmVLRGplIzQfvzDlucKPbCidst3jhxka9TMAToahtuA/wv8hvQlcM/HP42+iMo0bt4f2t5g0eW2W85HibQkXxnXgsw5nEopKqoir79LgOhG4UDgtaIcXdHi+1RJtHgt12lQeL2Wdt3xK6yda5B23Z3vFF4GnJWSfI2DR63Iw0nxnaPh59LqrCmGDbee/kZzy893YbavN8yCzgooFmu4nY6/wXHJ+qVTM3pMLWNsemcFNOnKBz6LMQ3AObc5EX/7su7ydPSVDzQRxH4C9HPObcYlWtYsnnYP4I6+8oGmvsS2WkfvkOXX2C3HOXqz0beufGP73Cm7zFJ6Wa2zXDU6ux3z5SoR55Kjlq7P7IlPuE0EqQWrs1xtmzP5s0ayXMHmXW/v6bZcAcRd/JHAYu8AtBP/TnefdwnWWvrj4aaNs8cNOXThuh3Z9mm98uimwMyXLdjsEq5l6PUr7wFc65VHN/XtP2ArZsmypY5AEamYqCe2hxXjwIrarZqo3WyNmquAm0NpW/CNm8fxk3J2uBD/NHomZWzcJOdgGBNKzmeoQAy/UsxXIfu1MMoa5Rp1n/UoIkzSZOusKQpFi1dVtHjN1mlQvHotRRw4wyDjuhu84eAc/JxcRyaTY/ionJyuew8MiEgr1dDOoguPSa06zkIRDMkIiOYrf/4ZM04EcHD/msVTfxG9v0tfki75g2ripcuHY7F9UQmOxIynl0zvtpf7ucXTtpvjdue4dVfb62PXLJ72fZI303OLp23HCg9VLcc5ejsLlwvz5WrbnCmfMTNfrhz3D7thRWS5MgtC+7sR4EMvg4B95YpEYsZhS57O6enJsAWrH266bsW8putWzBuxYPVL3X3exXgjnNb/rfYunxqMXPzcdsPdnsDdam+8OXbo9Sv3la2Ri5/b7sxUtkSkGvwtIu3IiLQeezvuMocNdBW1uzs6ajctISJq1/KI2m0etd8qAvuWGQc7xyvOuVtw7uG0cxcYtVvqc+ToCKIbNZeT2ajp0Ipv3IQnPr0IUr53y+P4iLQeNWocTAVWAd/Cd9S8gp/P4uHMj5bVERFpUfej5Cbb/FtFsXNXRH1Wg9HikPh62jl7EC1+8tjJqwJ8nYZL3kcudB+VPlq81us0KEK9FnJPVEdNh+QKU18PJed03XsoaminImuKxZy1Yp1fHGauaeznlw9yZouTk2Tt3uPas0YuWMJtSpvJyvkKyBob7+p4aobjh2sXTftprnlavWjql7r/VGHKcY5ezYeN7itXzrmmbVeNHWTGYv82u9uJZy1XcdymWMpTCOdsOEAs1nBXx9MLHD9sun5VzuWqp4IEo1K7Wx1sblq6vtvKZ8h1K1W2RKTa/TUibXxEWo8parfiUbsdjZrUCA4HXALc3s2+G+kcPpA6cecs/FPcnCJZi+DYiLS/5Lqz88NUfgL0Azbjhz/dY+CS722lM9Sh3J014bkmIPp+lNxErap0BH7+joIpWrwqosXroU6DAuu1pEfoXO2s2+sOrA1tNzkYYn5um2IZHZEWuTR9Nar+yBrSe4ydsyF9h8Su7QjdNee+9rdFn8gahRAnEXr6Zf0ntTz0b5Zc7cDhtux2+a3OIDUtrVyZMSTo029fuXLOfa3L6JaMyBz6b5s7+d8MOz25/5a2XW+XtlwF9uFQys9Kej4RkfLZQOakpu8u1sEVtVuxqN1sjZqL6L5R0+Fl4CR8JEqqS/GRKeUQbtQkgNW57mx+mejbgVuBsQbft+S1SL5XySjX8H32v8C6SmSkTkSVi6JECXZQtHhFo8XrpU6DAus1AIOHDeYlX91ed8i87hR/jq7w0C7wUY01oeoja8DC4X0HQnApAM49t3P71hu72juI00rGsg+pFY+d99ziaduLkVOpHQmjNa2n0nEg5suVwz331sY3uixXLh5vJZbe12lm+8pVImHnjVz8XMnK1dYvjR8B9vl9+YHdbYm9N3S1j4hIjfk18M8p22OBgyjCxJyK2q2IqEZNx+on/97DY71E59PokSnpl+OfRpf67zwmtL3BOp8m7+Og0bI0PKz0eczHQDKHITxOZVenqXVRjcKoxmP+FC1eKfVUp0ER6rU8jAptb7biD1GK6hztUSdUJVV9ZA2hp1/JEN0G53AuHr9gw3fP63Lpu7VfX7EN5+Lph6QfgEuwNNtTM6lvliAccWVAA845124XjP7uhi7L1V03rN3mJ0xLOURHuXIszfb0olhi/frc1nE+f+7EzEOuXxvukRcRqWU/D20b8I/FOLCidsvuSKIbNefR80ZNh/X4xs3mUHoL0OUDlyIYGtoO5wHnV6P5rfONrVrxQch4xBm+D6Vn1pPZ4C1uZ42ixSuh3uo0qEy9Vo7rflRo2wFrSnCekqj6zhrnEhkTZwEY7jtrlnziN90fYX4Csy0RB1775o4tVxWcQalNQeaEbAAJ3HeGLlzRbbmaDwlnRJerja+XtFxtmzvlytQlDh3cPuS6VbmMCxURqSU/J3M4yNTiHLoIUbsZh1TUbhZRjZo48DngPwo89t/wjZvwkLkvA9cXeOxIyRWcwhPE7h/6zP7Ag/gJO29y6cvzVrPw/dUOLK9ERupIAngqlPYPQN+incBC9VE+0eIhihbvUl3VaVCZei25iuLnU5J207m8ebEY8L5Q2jrgrSKfp2Sqv7OGIHOWc9wW97bLORzMORcam05bgvbPdheVI3XMRc2e77a8057oSZhhqFy5tvZE+2e7i8opxPa5Uz4cwNf2nRO3/PbrVlxaqvOJiFTQ68D9obRPUowh3IraLaf5wKEp2+3A2cA9RTr+s/ilXsONyZmh8xaF+UbZtlDyeAfjHAQOPg78HvgQfqjAZ6w2VlMy8JFhKR4ms9EoPRcePtQPeH+xDq5o8bKrqzoNKlav3UbKdQdmWua8PYWaBJ0TbieVbDhfKVR9Z03gMnt7neOSNXed+nqux7DwjzISV69d9MmaGasmJRCxdGvC3CWH37gm53JFqBPQHFcPv2FtycrVljmT3w/uZ5gPUXa4R15/461Pz/dPbURE6tFdoe1hwMcKPaiidsvqQvxTaPA/8j8N/LjI51iLD6fvmM/of4GP4ldaKYXwPCQB8DR+2MAv8A2EPcBZBv9VojwU20mkRwpA5v0n+flJRNpJRTu6osXLrR7rNChjvebgSuCslKTbLbfVo3rq/0ak3VuC85RM1U8w/Hpi18sHsF9Lx7YZO9cuOqVHN4RL2J2u46YKEu+sXXTqN4qcTakxu3a//nK/gUNbOlPczmELVvWoXCUSdqcFvlwZvNN0/cqSlattX2k+NjB7CGMggHPu8V1vb//kUUs3VnLFCBGRUnsMeBI4LiVtJgXOo5EtapceRu2a2cjObdqconajvAOcin+aeTuZ0VLFsgrfmPkJMB34c4nOA7CQzLkWAjrnfNgATLeeL3tbSTND22vxDTQp3Mv48vjelLSPAtcU5ejOtabMD5xMyitaPKU+c23xMkSLW0a0+MpaiBavxzoNylSvOX+Or6UkLcevfFUKHwltrwdWluhcJVH1nTUbl0zftRE/m3m+kuHI+sKRfQ5bsnEXbCyoXCXDQkternbMnjKeGL8kOZbU4X7Tvjtxqv8bRLJzPqx9YjjZ/I9wkVpxLemdMx/HP+HLe4LAwMVbsfR5VJ3jkrUFRu2uUdRuNm/jGx2l9lf8ZJLFXvo1jcGvHVwB3ET6b+k3ge8C15ofxlcrjgZOC6XNR6tAFdMPSe+s+T/AeOCZgo8cd63hFl1e0eLW2eNTvmhxq9Vo8bqq06A89Zrzw/9+RudE5o8An7bSXPdDyIzE/WEJzlNSVd9ZI9KbbZk78UgHj1rHeEvHb9t3J04ZsWj12xXOmtSGCWQuT7iOzOUZRarZQ8CjdD7xM/xTubwnG1bUbl0reaMGwGCJ80/W3wcMwD91/rP5hk2tWUj61Ai/J3rojuTvW8BXSJ8/40KKEFGgaPG6V5Y6DUpbrzk4Fv99PjCZ9DjwSctcSKBYzid9dbu3IWUhgBqhzhqRKrXjquZDseBR8Esvgvuf+Gt7Thlx5zPqqJFcfTAi7Xdlz4VI4S7Ch4QPSG7/E3AGcF8+B1PUrhSD+YbMhkrno0Ad91KHNnwnQrV7kfQ5Lv5aqYzk6C18xMJNKWn/Aswmc2nvHlG0uBRTKeo156PI9l134DfAqQaluu4xfGdNqqVkTqJc9dRZI1KFdlw8Zn/XJ/Yrg1EADvcne+OtqcPuXF8zS81Jly4mfWK1XP0OmNODz5+Q5RiVdCv+6UpP3Z18Se+0HvgScEdK2jeAPwGvViRHIrVvGPDtUNocijE0p/T+TOnn8Ci2O/ATqw5Pbh8AXE4Jl2SuJooW752cX+r8UTqjyn4LnGI+0qVULiB95aw3gUUlPF/JqLNGpMrMh4DB+/3AzA9Vcbhndr21d+phS9fvrHTepGiOILojpTs7evj5qHP8Po/zFlMz+f3tvy52RqTm3Am8Bzg3uT0UPzHhhyjtjz6RetQPP9xhZErajygw4ky69A5+UuFvpqTNwS/5/FJFclQmihbvnZzvMEm57vwPpe+oGQbcEEq7gZ7/hq4K6qwpNoftm5HdmXX52Wo+h1TMrLmTv4qZn4vB8YrtSXzssCVPv9bVPtvnTp5txvkJZ3cOXbAi/x9aztm+CeZceG0BKYO/dfN+zhEEDt5F5jKsr1rlfxD+na7/zgA/mZ5IlC8CI/CTDAP8Az50/xRqc64QkUoYgF/B5v0paY8B51UmO73KMvzEtGcmt/vjh2ecWrEclZiixXsnB/sDvyJ53fGRsFPNDwkspZvxUWsd/pv04Yc1RZ01RTTm4of6mtG3Y9sMG3Xu3f2KuYxnOc4hlbNlzuT3mzHbb7k9rp0zm25avbGrfTa3NA8zowXsIHBBV5/tyvMXj+lrZvvKFmb20rmj+pVy2UZJkwDGFfF4u0mfhwBgaxGPn69zu3l/P9ToluzagNOBe+ls3JwA/DGZ/nyF8iVSK0bj53qanJL2CH41KM0bUh5fwA8HHp3cPgUfYVN3w6EULd47Of/g7Qd0LmjxDL6jptTX/SL8XFAdtgDnUDurjGVQZ00R9W1MvD99Mn0YcGBTM0UcU1uOc0hlvHTuqH4x47tgHRf4kUTMHbF1zruPiPp8gPXD3AgsOBc4CADLf0m9AwYNfH84bdAhg1W2apT5jpmfVjofIiWwG/gkfkWojhVQJgAr8ct83wbsqUzWSkRRu72NZfn/QjQAM/AdAvulpC/FL9fbXqTzSPf+F/g0fjWcjknTFwDbSR8iVfMULd5rfZXOFRtfAT5m0OV1d36y7fOBOy2/4ZjTgdtTtvcCnwU253GsqqHOmiIYc/F/7t+v7+CTA2xJ+L1YQ/DtSVf+fFb8728/8cy90/P+8ViOc0hl7XfoARebWcrwDzslFtgpXe+V/t0TJBI97qzZcfGY/d3+A082CzLKllnw7a1zJs3a9lz8iQn3PqOyJSLVIoGfcPhX+CVxD8c3em7GT+C9CPhPyL8Du1ooard3cdAXOq8FYA76me+kzMdg4Gx8x2bqw59X8ZNwPpTncaUwfwE+DDxIxwM3Py9XI+kNzpqlaPHeyfnhlcnrzh7gTIMur7vz88y04O+FfK775/CTpXfs+xY+uvy/8zhWVVFnTR4mXrp8eNDY8LDD9sPcEMMOzPZZwyYR8JuGwwfGJ7X8fBvG6+ZsN227PrF66ZlZC245ziHVY8fFY/YH+3Khx3E5RNZs+crE4Q1Bw8PObD9zbghmB2Z93GBMilnDb0aMbYhvnzdlG47Xwe22PYlPDOnmC1dEpAwewYdZXwJchf+h9y58dM2ZwImVy1pxKGq318mIcsVPzJ7vtfghnXM8AbyB78y8FU3MXWl/BD6IX9L4MPxNuBQ/p80XqMFlhjsoWrx3cn7i8u/S+YXyCHCES+8oTtUPPw9d53Xv2UOWwcBdwGdS0rbho3qe7MFxqpY6a/KQcNY3MJvsG7g5RtWZxcwXxhEYxBsa+lX6HFI93MD9xpoxpNDjJMy6reDi8UTfhliybOUa6W74smWMACMexFW2RKRa7MIPiboN/4PtPHyDt6YjBhS127skJ+M8Gci4FsC3HcwCnrCeD/H7OfAx4Al8I+r7qJOmmjyLr6++RWen2jRgDX5S1G9T+nk+ik7R4r3WxaQvEnFK8tUTuVz3AfgOni/jH9B0+C2+o3N9D89ZtYo5fm8JcFlE+kfxvWoiImETgLUR6T/Gj+euV1H1ZQKI5XMw5/cbhl9VYkDyv6n/HwOeNNiQb4bLKNsEw/8PmF/mvEjX7sRP5hf2CeCBMuclbCh+Do6aGQbVk4jafZyLOyhJ1G6+55DcOBgOPIyv84YA3V8LiOOfGr+OHxb1ie6GF+CfPPenxudt6CU+iY94GpWS9ib+N8O1FclRHnZcPGZ/Bg96kQIfQjoXP7lpwepfd/WZqGjx7g9M3BmKFi+yZIfzi1Dww+eTDbq67lfiJ+ROvdat+KHR9xR47nz8CD9fTtgHgD8UenBF1oiI1L6T8WHUXTmB2uisESmGmhs+oKjdXqcv6Ssy5SJGx7XwcrkW/5t8SfVbjv8unwH8K3742yA6V42qCYoW77XGUnhHDXT/kOUwOjtq1gHfww8f1Eqi3VgCuIjXRyqZKRGpahOIrjd+VMlMlUFUfRnP92AOpjhY6OB/HLiI1x6X24/6arAf0WVCUTXV506ir9W0SmZKRKROTMIP8fxopTMiUkXeh49AO67SGUn6EdG/haLmH+sxRdaIiNQ4gxX4F86vjhPuJF9RwEoiIiIiUn5r8HNyiEinPyZfvULeS6KJiEhVihof22u+1ERERERE6oE6a0RE6svAiLSCJzgTEREREZHyUWeNiEh9OTQiTZE1IiIiIiI1RJ01IiL1Jby6yEaDVyqSExERERERyYs6a0RE6oTzQ6CODiUrqkZEREREpMaos0ZEpH68h8x6XZ01IiIiIiI1Rp01IiL14wMRaeqsERERERGpMeqsERGpH+HOmt3AU5XIiIiIiIiI5E+dNSIidcCBAe8LJT9lsKcS+RERERERkfyps0ZEpD6MBw4Ipf2hmCdwcLyDGQ76F/O4IiIiIiKSTp01IiL1oWTz1TgY6+C+5PHuAPoW47giIiIiIhJNnTUiIvWh6J01DoY7uAtYC5ye8lZbIccVEREREZGuNVQ6AyIiUhTvD21vMNiUz4EcDARakq/9Ij6yN5/jioiIiIhIbtRZIyJS4xwMA8aEknscVeMgBpwHfBU4ONvnDNp7emwREREREcmdhkGJiNS+4yPSetRZ42AqsAr4Fr6j5hXgFuDhzI+KiIiIiEgpKbJGRKT2HRuR9pdcd3bQBPwE6Adsxg9/usfAJd/bil8aPPlxEREREREpJXXWiIjUvnBnTQJYnevOBtsd3I7/TrjWYGfovTZ8R46IiIiIiJSBOmtERGrfMaHtDQbvhD/koNGyTA5s8KWS5Eyk/Az4B2ALfjifSG82EjgM+DOKjBQRqSmas0ZEpPYNDW1vDn/A+VWdfuvg8vJkSaTsDsVPjv13/DDAWZXNjkhVuAB4AtgI3AAcXtnsiIhIrtRZIyJSw5IrOA0OJe8f+sz+wIP4iYhvcjC2TNkTKYcRwB3Ai8A8fKcNwMkVy5FI9ei4D0YCs4H1wDLgkIrlSEREcqLOGhGRGmYQB7aFksc7GOcgcPBx4PfAh/BDoD5j8Ldy51OkRM4D1gEzgMZk2pPAmcD7KpUpkSpyEvBJOlcIbAD+DXgWuLBSmZJuNQCnAj8Ezq5wXkSqyVTgp8AZQN8K56WmLMGPhQ2/PlLJTIlIVZtAdL3xo0pmqgyi6st4vgdz8IjzKzelvuIOtqZstzn/gz2f4+9KPW6++czRfkSXifklPq/03J1EX6tpZTh3f+Ce0Hk3AZ8uw7lFatUn8cMEU++b/wIGVjJTkmYo/jfCVjqv0a8qmiOR6vJDOu+N14G7qGyk4I+I/i30/mIcXJE1IiK1b2FEWkDnXDYbgA8aLC9flkRKZjDwGPCZlLRHgUnUf0evVDEH5mBS6DWx0vlKsRxoxg+L7XAm8FvgoIrkSDrEgJnAc8BldH5/v4qv30Qqogrrtd/ghz0DHAB8ER9hexWdEbYSQZE1ItJTiqwpQmQN/gCXO9gbiq7Z6eA2BwcWeGxF1kiUSkTWDAL+FDrf99HqllIFHEyMiHJ8ttL5ihAA3yT9PlqBb/hI+Y3H//unXo91wD+juk0qrErrtQAfKRh13xxX5rwoskZERLpmvgPoKPzY9vOBDwOHGFxiPkxUpNYZ8J/Ae1PSlgOfA9orkiORdB+MSPtd2XPRvQR+vprvp6RNxg8viFUkR73X+/BlZHJK2l3AsfjrobpNKq0a67UE/vv/vfjo8kQyfSw+8vajFcpX0VVZb+38YNzM5qxPgNft3baTZRfuzfVo42beNyRt/zvOeA3f05XzPoWcX6rDfAjOnz0ua7navGPdzuOWkfN13Th7XFoZOXThum7LVXifQs4vko354U4bKp0PkRKZDXwiZXsd8Fk6f6SJVNoJEWmVbtR05QvAMfiOAYCP4aMY51UsR73LKcCPgQHJ7V3AdNKHqYlUWjXXa3uBrwC/AO7HRwfuh7+H/hX4QeWyVhxVFVkzoeW9J/YZ0G97ttekwYeclvOxLl8+Jrz/+EvuP6yrfSZe9uAxXZ5/0GGLC/8rpdxmzW0+sX9D/+3ZXqOHTs65XG29esKY8P6tXx7fZbnaPnfiMV2df9SwKSpXIiJdawauTdmO4yNq3q5MdkQiRTVqfl/2XOSuDX8ftaWkzQbeU5ns9MiH8StcdbxuqGx2euwk4Gd0dtTsBT6FOmqk+tRCvfY7/CpRHb8JGvGRg6dXLEdFUlWdNYGLtzr4joMdUe+7hGWNTgiLBbEPhNOskeFd7bPH3E6HW4JzL2XJ4PRczy9VJO5aXYLv4KLLVQKXc7kKYo0Z5aqP9emyXOFiOxOui3KFypWISDfuAvqkbH8Lv0S3SFVw8C4g/PDmVYMs3/1V4xngtpTtGPAN/LDDatYEHJ/yOrqy2emRYaTPteXwnWYPVSxHIhFqrF77I3AasCe5bcB3gFEVy1ERVFVnzZrF09atuXnqFxLx+MkOlxHWbL5izomz4KSMRLMRXe3z3JJpr665+ZQr3qbteFzmsBTnx45KjWlauGZd0/UrvtBunEyB5Qojo1y5WKLLctV0/apXhy5YecXe3YnIcoXKlYhIV84ifaK+3WjC6VpUrsZ/pToZdgNnhF61spT8DcCbKdvH4jsPpPgM+B5wcEraMup/YYV6VO91GtRevfYocGPK9gH4dlbNrhJVVZ01HZ6+Zdoqc/ws4w3LPbLGcCeG0wJiXTaqO7yw6IytGK+G011i77Jczy/VZ/h1K1Y5ZxnlygU9KVeWUa6wIKdyNWLR6q2YyyhXFjeVKxGRaAZcE0r7D2BLBfIi+TN8dNRt3X2wQAcDT1GBlUgNthr8NPT6n3LnI09v4KPVUs2lStsJNe4y0ic/3QJcXaG8SP7qvk6Dmq3XbgCeT9n+P6QPo64pVVsJJyLDm11OERBjW+4fjdnhmbu7roer7DM/yPyse+zpxac9k9v+Ur1cRrkyl1tkzea5zaMxMsqV5Viu5kPgnKV91uEeG7JwhcqVVDvL8v8ipfZPwMRQ2jcqkRHJW0ej5kLgYkrXuDkYvwrIZPxEkx8r0Xnq1TdD20dRB/M9VJn98Z1gqa7Ed5ZJ7VCdVt3agBmhtMuBnB6uV5uq7awxZ1Hrt+cUAdGHWGb0g5fTRZpw+ZQjMOuflhh3t+ayr1S9jHJlllu5aoyKqvEHyKlczbh6whFmpJUr5xIqV1LVHPTFvzqYg36Vyo/0OheGttcCKyqREcnbQtKv48XA0iKf42DgcfyyreDrqPuo0R/nFfIc8EQoLXz/SWEuAw5K2X6JOlitphdSnVb9HiU98GMANRrBVrWdNSTcC5mJllMEhGHRa6ub5RQBEQSN6U/xnFu7+pZTH8hlX6lu7RbPKFcu5zlrguhyRdcTV+/buyGzXA1dsFrlSqrd+yPSmsueC+mNhuIja1L9tBIZkYJ8D9gaSptF8Ro3I/GNmtQJZh0wE9hcpHP0FstD2ycDh1QiI3XoAOCKUNo3gYy5FKXqqU6rDXeFti+kBuuzhu4/Uhl797S19mkIPby17lftmXTRgwc647SoOH3LsTfSLG0sKc4lbsTfJFLj2tv3tjY2pBd7yyFi6+WrJxVcrkgfo0zCoXIlVcv5cO2TgSURb3/b+R8mT1jnrPsixTaNzEkBf9Hzw8wPxs1sPjDbu+v2btvJsgujJn+PNG7mfWnfGevuOOM1uqnLw/sUcv4a9DRwIvBr0r8vZ+GHE8wq4Ngj8cMEwo2aC4DvFnDcLjm/YtIwoD/+iW3/0P/HgCcNNpQqDyXyED5qoEOAX13ljspkp65cCAxO2W4D/r2nB5kPwfmzx2WtzzbvWLfzuGWRi1lE2jh7XFrddOjCdd3WZ+F9Cjl/jaq7Oi15knqr134ALAI67pd+wKXAVRXLUR6qNrJm3R1n7HCOttQ0o/uJYN1A+5wlQ/Sd4y9p7+XQqB4/48f7OXPn7NvHsX7N33dptZ46cejCdTucc2nlCtd9uRoYa+gsV7j0cpXDMKitM8bvB3SWK1j/2HMrVa6kajgY7mCFg+cdvAb8Lz7kNnP+L5gE/AZ4x8EmB884eMrBoeXMs9S9qaHtXeSxXPeElvee2GdAv+3ZXpMGH3Jazse6fPmY8P7jL7k/vKxpmomXPXhMl+cfdNjinv5NNehZfONmUyh9JnA7+c2FFdWoAT9XwbfzOF5PnAy0Ai8Aa4A/4+vEX+DrzXupzfpwLZnzp4TvQ8lPeAWdXwLbe3qQWXObT+zf0H97ttfooZNzrs+2Xj1hTHj/1i+P77I+2z534jFdnX/UsCm9oT6D+qv+NZ/CAAAgAElEQVTToP7qtV1kRuNOr0RGClG1nTUAZhk3wGAu+GYXS2/NDwJ/k4Bz2y0Rn51+wO4ngo31H3C2YYM6thMk5nHv9HgPsi1VLqNcGYOfvCD7km7zISBwM5Ob24kn0stVDhMM25DGs806y5UjPm/6vahcSTXpi5/EbgydTyG6E8N3gh8DTEFz2UhxhecJ+yv0/Ilt4OKtDr7jYEfU+y6R+4qAsSD2gXCaNXY9FHaPuZ0OtwTnXsqSwZr78ZinvwEfgozVNvNp3EQNEwA/d0Q5JqDehl8e9g9Z3t9LHh2LVSCBb6Cl+kd8XS/5OxL/HZnq0byOFHetLsF3cNH1WYLuRyF0CGKNGfVZH+vT9W9aF9uZcF3UZ/Sa+gzqq06D+qzXwvfZ4cB7K5GRfFV1Z41zrjWcNrH/iIOiPgswoeW46ZgdDeDM7oxbPK1RbtigkRc8MKCrc5oFX9x3fnjq6UWn/qjnOZeq5sgoV4c1TcxarmbOa55u+HKVIHGnuVh6uTIb1HrByK7LlbPOcuV4auh1q1WupKoY/N3ACnytr/TfIXXjKDKHqK7J50BrFk9bt+bmqV9IxOMnO1zG/BCW87xl4Cw4KSOxm+jK55ZMe3XNzadc8TZtx+MyO5sc9KYoy+fxnXCvhNJnkHvj5hB8o+aoUPoVyWOUnMEKg9kGHwAeifjICoPd5chLCYTvs/2ACZXISB05KyLtv/M5UNPCNeuarl/xhXbjZAqszzAy6jMXS3RZnzVdv+rVoQtWXrF3dyKyPqN31WdQJ3Ua1G299uuItE+VPRcFqNo5azzLaFQnAmsCtkR9OIbNAXCwe9fut25vjMUaYqHuqCEDbUQrvBh1tkmX3/8hrLPn2xGfjeYUqTsOWsM1ZyIWy1quAhfMwXy5am8Pbm+w3Q1BKIAgdtCQEdAaWa62zZ7yIUspV0ZC5Uqkep1E+modlfQQPoy3Nzo2Iu2ZQg749C3TVjW3/PxnGGekvWG5R9YY7sTwb++AWE7zlr2w6IytzV966FVgVGq6S+xdluv568R6fOPmMeBdKekz8P+4M8n+HXlIcr9wo+YqoufXKoc/AB8Jpf2xEhkpkqjVWI8FVpc7I3UkPDRpEwXWZ8OvW7Fq+9wpP7NQfeaCntRnEaucWpBTfTZi0eqtO+ZNfhUsrT6zuPW2+gzqr06D+qnXtuCHd6Yu8nIaNTRvTXV31jg2hfsjY0EsshJqvvKBMzGbCGCOu9cvnb5tzMUP9W0MD26JueFEd9YYDbFFKef+5dpF036Vb9abr7j/eCw49rXEO3dvXDK94B/bR7bcN6wvfUcHCRtlQWKUIxgUOLchbvZiwrkXnl18ysuFnqP3sPDwOmKJRGS52jF3yplY8gZ37u6DF67c9vzFY/oedEB48muyliuLsShl+5dDFqzKuVxtbmke1tDI6ERgowJjFNggZ2wwl3hxj9v7wsjrny34upfjHCI15Abg+EpnIukwYGOlM1Eh4VBwgILrogQ8GRDqrMHl9CR6bMv9ozHLnMMph6Gw3vwA54ZjqT9s3GNPLz6toEZbjXoRP3zgMdI7ry5K/jeqcdPx9HlMKP0rwM0lyGOuBkakZRtGUAui7rOo+1FyEwPeHUpbUZxDuyfB0uozc7lF1mye2zway5yTznKsz+ZD4JwNT63OHO6xpoUre2N9BvVVp0F91WsrSO+sGYNfRGNnZbLTM9XdWRO41vATLBfxo2r8WT/u4yx2o/+ke2dv++7rANYvndo2qeWht8zYr3P/6EmGJ135wNmGHQfgHG3te+IX55Pl5kuXj3WNjQsxTgdoiDfeQ55PRidd+cA4CD5lxpmYTQaSo4YD/69iRgyImTGp5aHHLdE+e/Utn3gin3P1Ko7WcCdgYEFGuXr6rPF9HNxogIN3XKLtOoCjlq5v2z5v8luG7StXsSD6ScS2OZPPNiNZrlxbwo897dL22ZPGEQSfMrN91z11sLi/9jH6Woztcyc/bi4xe8j1q3t03ctxDhGRAoSfMkIROq7M2bMRQek5PYnuQyzzKbSX05PoCZdPOQKz/mmJcXdrLvvWqQ34xs3jwOiU9IvwX0Mz6GzcZGvUXEv66kWVEDXhZi0+ge4QHs4B0fej5OZoMudze75Ix86IgjLLrT5rjIqq8QfIqT6bcfWEI8xIq8+cS/Tm+gzqp06D+qrXwvebAc3A7yuQlx6r6s6aBNYantHMLMiohBoOHzAD40gAHF9/9tYz90VOGG4bKY1qXJDRYzzq3Lv7EQQ3pJz5pmdvm9ajinTipcuHB30a5oOdbyn/ru22t62r/SKP1fLA6YHFriM8Rti5lQ7+5MztCJyNw+wEYCiAGScSa/jjpCsfvHbN4lO/2tNz9ipB5pw1LmKlsRFH90kpV+7rQ294trNcObaR3gmYUa5eOndUvyCwGzo/424atmBV1nK1fc67Tzez6zDLuO5gf3LmduBsHLgTzCx53e1ELPbHHXOmXDvk+hXdXvdynENEpAiiGgw9XjklQ8K9QBDurbGcnkQb9tHoNyynJ9FB0DgxLcG5tatvOfWBXPatY3+n82n0kSnpHfO8zaBzmEC4UXMdUA3fSZND2xstusOjVkRNXJtTA14ihaNqoEjzu7Vb/IXGUFPO5TxnTRBdn0X8no3cuyGzPhu6YHVvr8+gPuo0qK96Lep+ezfqrClc4BKtWPqkM+HImkkXPXigI5hngHO89mb7npvSPm+2xVJ6NwPL/MIZNHTYZYb5MYbOvfR6/J2cezSHt/zHwKEMaTGsBTob7x02rnimxytXGMEHSemocbg3XcKdu3bxqfelfm7UZT89YFBj32WWMnGZmV0z8YoHH117y6m1GqpWehGRNeEJ2V6+etKBBMxL7vDam2+RXq5IL1dRTyIGHXLgZXSMXXXupd1v7+iyXFkQuu7OvQnu3KYFq9Ku+0uXTT5g/0FuGVjnhHXGNVvmTH50+PUru7zu5TiHSI27FTi40plICi+h25sMi0h7vdCD7t3T1tqnITyMtfvVUyZd9OCBzjgtaqZIy7Eha0Za48i5xI1o/jLwDYCOxk1qBMcXgQH4yS6PDO1zI3BNWXLXBeeHCoSHCNXq0+cOUfVO1P0ouYnqrClKZE17+97Wxob0ppzlECn48tWTCq7PIL0+SzhUn3Wq2ToN6rJei7rfmsueizxVdWdNwrW3xqxPWloQ/lE1MLjGzE8G6SyxcMOtp6d/yYTmvQkPgxo7a/lInM3u+IxLJGblNMfMWT+ONb9r4HkO+6pZFz/sH5/f3u2xuuJcHNwZaxefmrHE34ZbT39j/Fk/Pid2+H7HWkcEiFksCLgOOLmg89Yxi9MaLvkWWupwQGPsGrCDABIJFo6+dWV6uTK3KXWIXkB6Z822q6aMJGDfEt9xmHXYko25D4dzxMHOaFqwMuO6j7515RtPnzX+nOFj+6Zcd2IxrGfXvRznqF6NwHzgXGAw8DtgFvBCJTMlVUErtVWH/SPSCp7/bd0dZ+yY1PJQmxl9O9IsIrIyzA20zwXJoQzO8Rcz3rPvvRwaN+Nn/Hg/Z+4cS35vOMf6NX/f1dtWTenKq/gJOn8NjE1J/5eIzy6Czu/XCnsPmSur1nKjBqAdv0Rv6qyPUfdjMZyDjzLIR7gTZCzw5QLycifwZgH7Z5M5zxWZEd75OHThuh3b505uM7N99Rmu+/psYKzhc9ZRn+H+YlhnfZbDMKitM8bvh792fh9Y/9hzK1WfpavVOg3qr16Lut9GRaRVparurHk77lr3DxUVl+ishMZffv8EM2aB/+Gzuy1YGj6Gw22y1N4aSw/v69uv8RtY8kvIue+tuWXaQ93la9IVD0y1WOwmYEIyoucVcPcajMfs4/vO7YrSw3zPmkWZHTUdnrl3+p6JX3rw60ZwW0pyzfQWVsLOXa51/0GhuZBSvtw2zXv3hADz5QrWv7HzrYxyhZ/Jv3N/0idks758w5I/bpzje8MWrOy2XKUfj3uaFqzIet0n3PvMnu1z3/11Uq67Wc+ueznOUcW+Clydsv1x4JfAJHrv6jsi1aRvaNsB8WIc2IxNpP9QG8wF32xk2YVZImHnB4GfHBKc226JxGxisc6607qfkDPWf8DZhg3q2E6QmMe904vy99SRVjobN8dk+cytwJfKlqPufSAirZYbNR3CnTXh+7FYZlK8Cd0n4qMT8vV9StNZMzgi7e1iHTyjPjMGP3kBjccti1xWm/kQELiZyQeO24mH6rMcJhi2IY1p9ZkjPm/6vcWpn+tMLdZpUH/1WtT9VqoO6KIL95pVlQ23nv4GzqU1nCzoHK4SizXcTkeHk+OS9UunZswPY47Qyj+dPcaTrnzgsxjTAJxzm+Pxty/rLk9HX/lAE7HYT4AJzrnNLhE/Z82iqYevWXTKlbtd4nNpHTTm8uqsSRiPONwCh1vQRvza7j7v4qxNSzBrGjfzvpyX7uttRt+68g3nQg1y6yxXjc72latEnEuOWro+c96hhMtarrbNmfxZI1muYPOut/d0W64A4i7+iIMFDha053LdE6HrDk0bZ4/r8rqX4xw1YkZE2pHAx8qdERGJFH6YlCjWgZ1zGU/ZJvYfkXW59gktx03H7GgAZ3Zn3OJp9b9hg0Ze8MCArs5pFnTMV4CDp55edKoiuKJtBs7L8t7zQEsZ85KLcKNmN/BUJTJSZOH7Lby2quQuqlFYtM4aXGbUwGFNE7PWZzPnNU83fH2WIHGnuVh6fWY2qPWCkV3XZ8466zPHU0OvW636LLtaq9Og/uq1qPstqhO1KlV1ZA2AMzYZHLFvOxkB0Xzlzz+DcSKAg/vXLJ76i+j90yNrOsZiTrx0+XAsti9iwJGY8fSS6a91l5/nFk/b3tzy0O0OGna1vX7t+qXn7Ex9b9KXHmojc9b3Hnn65lMeBh7O9fOO+Bvhfrf24J0ez5XTm5gfxnRE57YvV9vmTPmMdZQrx/3DblgRWa7MgtCXmxsBsOUrE4cHAZ1RTonEjMOWPN1tuQIYtmB1z657LHNcef+32ru87uU4Rw3Yn+w96oeVMyMiklW4nonhHwUXIWLVMho3icCagC1RH45hc/An3r1r91u3N8ZiDbHQo64hA21Eq1+6NcOky+//EMaUjm1HfDaa2yGbUWQfingUcDd++GrROu/y5Xx5fF8o+SmDPZXIT5GFO2fq4W+qlJJG1jhoDc89k4jFstZngQvmYL4+a28Pbm+w3Q1BqNkSO2jICGiNrM+2zZ7yIUupz4yE6rOu1UydBnVbr7Xj8586t0rNRNZUfWeNOWvFSGlUu6axn18+yJktTv5q273HtWeNXLCE25S2JnEyvM8aG+/qmOsGxw/XLpr201zztHrR1KoKVwuCIG3cnXNuc2onkkTwkwyndAK6pm1XjR1kxmL/NrvbiWctV3HcplhKJ6BzfjWQWKzhro65bnD8sOn6VTmXq54KEoxK7aNzsLlp6fqiXvdynKMCdgLbSK6kFlKUFRpEpGBRKyn2yZLeM6G57ABiQSwyYrD5ygfOxGwigDnuXr90+rYxFz/UtzHclI254UR31hgNsUUp5/7l2kXTfpVv1puvuP94LDj2tcQ7d+c0v143jmy5b1hf+o4OEjbKgsQoRzAocG5D3OzFhHMvPLv4lJcLPUcPjMIvZRs1x0eHz+EbNZ+n8o2b8cABobSiTsDv/BChY4G7rbxDdMMlvPD7LtqXgAPz3PcE0oeP/IHChkEVvtpctKhG4TvFO7xtCqfEEonI+mzH3ClnYvhVnJy7++CFK7c9f/GYvgcdEJ50naz1mcVYlLL9yyELVuVcn21uaR7W0MjoRGCjAmMU2CBnbDCXeHGP2/vCyOufLbi+Kcc5eqDW6jQoQb3m/ATlo/H/HqOAQfhlzl8EXjAoxzV5B3XWlIbDtVp6o3hI3yGxa0mu1mHOfe1viz7xUrb94yQ2NaT21pj1n9Ty0L+ZcXry+FvaXOLiUuW/PIIPp26Z/X/2zj28qupM+L93n4Q7KBIColZAFIUkBj97s+1XOzrjDBcVUWzVdrC1WgW8Ea0poFRuarmooWrpfNrpxXZ0agWF0UordtpaqyMQAlLFioVySxAGgSSQs9/vj3VOcs4++yTn5NzD+j1PHtjr7L3WSva737PXu94Lz+dqJgVE1M6qCAOkW4/7CCWLVtUHB8+rjStX3gTDIvSsn1X5TUEmhq7fc7TxSGblypGLPS3pv+/ZGCM3LASWeNr+B+j0IspisaSV//VpOwHYm3LPju7EY63xVpoEGHXVM91UAg+EUgIfOdbSNBdga83Y5vKq1YdE2ipAxksyXD7jhWsEOR9AleaWo8FOfS9U3LZipBYXLyT07lIULH6aTi7ey2e8cDY4V4owCRFTnjUA4Ji/iggBICBCedXqteK2VNcuufRPnRkrCYZhKqd4FzVLgH/E5BML86+Y/EU3kNsd/YzldVCTkHQhmPsNdPp+d4K+xKZJ8Hse00EqpXN7e453AflYOtpPRrthQkvS0XtMhVNHnBh9tumqUd0UHghtdB9Rt3kuwJk1W5sbZlceEqRVnwUcx1ef1c+svEaEkD7TZhc61GcN1eVn4zhXikirvoncQzc6J0B3CdAwq3KtqFs9YH5tUvomG2N0gkLUaZAmvaZwNnAlMInYMuDec9cC1QKZvCfdPMe5/jsnTN4ba3zclfuDcxsAqu8ebNjbrhXdCbIz6okFkMgwFbn+3cUTMmVNzzij7lo1WJCvh48VmjR4bEEu51QIuMLOqDcRpT9i5ErRdw/tONCuXGkwuBOPH7yItMqV68r1Qxa/mzG52nvXqMF47nuzm977no0xcshSjIdNZDWoWaQpganFYkkZP6PMiXHak8JFdsa8FogTsxNddHqvWwhXw1MeeefhSa072ILWE7G4QZ2YpJxDpzzVA8eJ0JnuQ+88OiGpkr1lt60Y5HQrmgNyg0S8s7XIsaQ9HcqqXpjoSGAuMDrqA9X1Cm+o6D5H5WxEvkDI81CECwkUvV4+48X7Ni4ef3+yYybIMMzL+ic87XOA74bmshaz4xsmvAt9I7l76U67sUZhEOb3voHod/RMebb44d1Vh3QYSY9f/AxdvUiXscaJzVmjPhXuBp/VLUKf6SMDF7zTps+UeqKNzzH67IMpQ3s4jixoO0cfKp23Ia4+a5h57kQRmYtIjL4BeUNF96FyNugXRCSkb+RCJPD6vplj7hswf12H+iYbY3SSQtVpkKJeU2Ngjv2egfXAG8A+jCGn9XsGk4T5dYX7xBQASTcC9PS0FUyUQP4bawRPbhAEKFJFCQZv3Paj69tVdnWPrKuvqPpkEJHWd7PWcnUuNfFy3RQKAeRRiciRo0F3at2Sy7fnck6FgLjsito3EhGgCFXVoNw47Efb2pWrxxfU1U+fNSaIECtXSk28XDfpItCj26NE3HfBnXrK/Lq03vdsjJFj/l/ox2KJ5E7Mi1Y+MBti80YdJ8S49mO8V95NtWNH3Z1ItLHd61lTfvOL/RVndqji40cftxx9KOp8kT0SISeOxHrW9B1Yersg5mVd9YP9wSMLE53joKof9x7IgCpBqqBtERVmx7rNSecOE5zPE/ECrejH6uqUusXjn4s8b+jtvzqxb3H35QJXtV4rcm/ZnS+uqVsyPq1hPsRf1MwEwgvDeuAfgNeILoF7A8bAfjO5Wdxc4DneJv5y2yFqvESqQj8x95vYHE6ZxM+rolO/lwXwXxT2BhLKZ9ghPp41AlH67MN7yvvjMDt0wUcfHyJanxGtz/Ap3933lP63E35OVT9oOryvXX0mjkffqH4MOqVk3oYoffPB7ZUn9uury0GuaruYe/fMrFwzaP76dvVNNsboBIWs0yB1vRZ1TzAV1qYIRN0TNUbh5UR8zwD3KqyRNIeTYoyj3tRO1liTLlTdnSKxRasEfbJ26aWvddzDHBdZvQcY4um47uN9e+9O0zRzQtmM1TMiX6ZU3WV1S8Y/mcs5FQw+bvAALvrkwIXrO5SrOeBOE/aIn1ztOJBRuaqfNWYGkfcdlpXM3ZDW+56NMSyWPOUq0ldKNlUe5Pg11vjt2KYlAbirLTsDEu0R7YhG70T3du4N57VTcRdue3hi9H3w5L3xhkGNnLZiCCrV4XPUdacllGPmqmcCFZ/ofb0i90soLNeXtXNaOuyrPVSDoFfULR6/xvvRtocnHhh11TPXBU7vc56Ed+JFAo7DXOCilMaNJt6i5m7ge562PZjFzVpMUs4wN2F2o6eSxcVNKAfDCE9zZ0IFAphKMfdD/PstJkFmtvB7zpLyCLNEEc9YkxYkyE7vak6I1me9igP3hvMpui4Lhz28PlqfeUL7HaKNNfV3jxmCQ3X4OAjTTlu6I/GwPCUIckXJvPUx+mbYw+sPbLpq1HWDRnaP0DcEAkhy+iYbY3RMweo0SJ9eiyAIXCEQc08EDihch8nJdUaoOQBp/54BY6zxkqnQzrST16W7ARTHx71P9+hhTTjJr2p0mWVVml1aru3IKyefKa968WJH9MHwsaqu2LjordtyOaeCwqd0q6ruOdLiJpM82iNX2tzitlzbkVdOKjTMGnOxYxZwZkx0xbK569J637MxhsVisXTAX3zazvBpS5rDQR/977aFDYy6Y+VoEaYBqLK1qcmpiTmf6PeKUELOVrr3KH5CJJTAUPUnG5dMWN3RvMrvfGFsxdA+G3DkhyKcrMp2VV2CalQFP9W0vMA/vXFRrKEmzOZnJx9VcR/xNFekYdwww/Ff1NxB7KImzE7M4sab+PRmiAhvzw5+Bt2kFjUKY4ENwA8xhprtmHwW3oqN2d5hH+7T5vc8WhIjXv6ttHCw0e99tk2f7Zp97mgHMfoMth44eChGn+F9n0Wj9Jl05wkJJWRV5Sel89Z3qM+i++Ppknnr4uqb0c9uPgrR+kYkOX2TjTE6oNB1GqRBr3l42s9QEyZUYSqT3zNh/EI7C8azJu+NNY4GfZQQt258fPz+RPsQbygV7j11iy6rTcf8ckHZnS9eIDjPh0O7FH2lsVmuhjn5kEW8MPB5WXdFbz39gY0JyxUeI6Ao9wxaUJcxudozs/IC0OfDoVeKvrL/wKGr56Qxe3w2xrBYLJYE+B+ftlE+bUmz7eGJB1CN2hUWpy1sIBAoWkbY81i5dWvN2Jh8IaJet/C2nejyGS9cizABTHXGYPBw3MqCYc6a8UIJgcAvgdGqulvd4HUbF409feOicTOa1P1qlIFGtFOLd1d4RdF5is5rJnhfR+drkLqoBpGSs6c+51tlJkn8FjWKSVb6cAfX7sAsbrzVQ6YlcG06Oc+n7c1EL1YTpvJLTLjAbswO8+kCMzDVYTT69KzizTUB/s+jJTH8qir5GcQ6xbCH1x9Q9SSfljZ9VqzSqs/cILeeWbM1Nv+Rq3H1Wf3MymuFkD6D3Y2Hj3aozwCCGnxFYZ7CvJZE9I3r0TdQsqP67Hb1TTbGSJCuoNMgRb0W4hVgXuinw3sCsfdEIR33JBK/0Hbf0vT5SN6HQe13Gz88kT5V4WMRDtYtGvdMMn2oK4+FMk2D4x6pWzT+iTRPM2tU3L7yPALOakIulKqs3R88fNmOmsnZTD5X8DQ27f+wR++BVW0terB03oak5Mp15TFxjFwJHCmZvz5jclX/nYrzHJHVSPi+69rGww2XnVmzI233PRtjWCwFwL+SRhf1FNmT6wnkkG2YpKalEW3npqtzFXZJxIIpvBNdMWPVVxAuBFBYGS+vnYruiqxUKaEwqLLbVgxCAq07oop7y6alkzvMTfHu4gkNFVWrlykUNTbvv29rzXUHIz8rv2t1MxE5xDrDpu+Ne4lYr424KMED3j29FudIqrlTwouayFAbxewk/yDBPj4EvoTJ9xDZz22YjYU7U5xjIngXNS6Q8GaNQINCeBF9n0Ts8oY+S/l+p4D3OftfYEsuJtJF8JOLtHgJhhETxjS87djos/qZY74iYX2mrIyXT1HE8eQH1cEAe75TNshxIouyuLectnRTQrl2SufVJqdvArEhvz0PtbSrb7IxRgJ0FZ0GKeo1ADH3I+F7gn+od7pzdHlDu8B4NRYEeW+s2bF0cuMOWJxKH6GXrYJOJAwwesbzo5DAy4TcJxVe20vD+D1Lv5atco5dBhNruyMluQp96WVcrvZVjxlFgIj7rq+1NLnjk4oXzoMxLNlFTQB6mbdZYncxLNGknMDWkjZ+C3w54ngkcBJpSMwpKjsRIhY3WjLy6yv6qsjiUGnbpqPaEncHWVzdFVVpUk3YgBQXPx7OdYPyi7pFE36V6JxqF41NJgw34ziOMzTyWFV3RxqROoHfoiZc/STZZO8f0JagMzJ33B2YPAmZ/lue4zneJnDEe5JCscRZeEjm59gZehMbhrCW3FanKXT8FoV+i8fOY5IMRxiftaT+7pF9Rcz6SaGphWBcfRZEdwUijM+qMgggECh6PJzrBuUXJfM3JKzPksVxGRppG1bYXVKzNa2hKhkYoyvpNEiDXusEQz3HuyX9IUp+xtGCibDJ+zAoi6Hsrl+d4Ui3NYiUAKjq7/Zqw7g9i752ONdzs2SOPbPKztAAawhn9ld+19Lojhu8qDZt9z0bY1hywmjMl1Hkz7M5nZHFkhyrPMcC/N90dKxEh8KqyoDuAwL3hZP6iuqDf1l06Qfxrg/ienLWSM/yqtXfFGFiqP89TRqcno655g7n4sgjEZ5PobMz8F/UXE/nq/JtxSxudnvaq4AHOtlnogz0HHvngJqqTr9Ts9gqFD4PeCvbe59DS3JsJXbBm15jDdHlu0UY4HTr0arPVPXBwfNq4+ozk2A46vqe9bMqvynIxND1e5obD2dWnzlysaclFX2TjTG6mk6D3Oi1zN/36ATOYIzPGzMwTkawxpoCoGL6L0916L6mtTKE6h+CRw5bQ00XZ9/dFacWSVHbfUf/EPyoOa1GlGyMYckZn/dp+++sz8Ji6TyrMOEgkYxNT9fizVvWHxyTSF313bKR8E8AACAASURBVIMNe9t9MXaCxOQ9QyLDBeT6dxdPaEh9nrlh1F2rBovI18PHCk1u8NiC9q5pB79FTRCTm+XHnZ8lYBLf/gMmZC6SbwPzU+zbl1AFJ2+C2H6ec/oBL2ISdj6k0eV58xnv89UCrMjFRLoQLvC2p+3/AN3TNoB49JHSHzH6TNF3D+040K4+02BsflARadVnrivXD1n8bsb02d67Rg2GaH3T7HZa32RjjC6l0yA3ei1URfHrEU1NtJU3TxcCfNbTtgU4lOZxMoY11uQ5I6b/tJ/26PFrwm5iqm8cad4/dvNjkwtGyCzJs2/6iH7aLfBrkKEAir7BgUNjSx/bnLb7no0xLDnlCz5t1lhjKST2Ays9bZeRjhBub+EBk4CmSBXVYPDGjqpF1j2yrt6Uv47s0uQYUZeaeLluCoUA8qhE5EzRoDu1bsnl2zvZ3Rzg1IjjFuAa4OkUphjJO5hSr97F5FTPuGlBzKKs3tM8SuFsBUfhn4HfA1/EhAp8RQqjmpKA8QyL4CViF42W5PGGD/UALkhX5+Li9fQToAhV1Ra5saMqpY8vqKs3pa8jugjrM6UmXq6bdBHo0S1K3wju1FPm13VW32RjjC6l0yBneu1RonNzTRVTFS+dlENbwu0QGQvnywTWWJPXzHF69jjp54KcA6DK5mDw8NgUY8Ytec4ccDihz89FTOyoopsbDx0bOyCNsbvZGMOSc/yMNb/P+iwsltR43HNcClySaqeqbqxnDCDokxuXXvpaxz3McRGJTQCtWvfxvj13pzq/XFI2Y/UMgavCx6rusrol459MocubCBd5MC/5VwNJJfRPgDqMO304n9H/Av+EqbSSCbx5SBxgEyZs4L8wC4SjwFUC/5mhOaSbLxHtKQCxz5+lc/zSp+1Laevdia1wCuCiTw5cuK5DfTYHXBWfhPaqdR/v2J9RfVY/a8wMkDZ9A8sGzN2Qir7JxhhdUadBFvWamsp3V0U0LRNI630P8Q8+bQWVEsAaa9KNRmboEmnnzA4pq/rU/RJySVVluzQ3XtJRVYmyqlXV5Xeter9sxuoZqYxtyR3TZlXej4hxRVa2S7N7SUfZ9xtmVVbvm135vvlCyo8xLLlDTflI70v338UksLNYColXgbc8bVNT7VRxYhY3iu7Rw5pwEkfV6DwPqjS7tFzbkVdOPlNe9eLFjuiD4WNVXbFx0Vu3pdjtEWA8pqTrlcBzKfYXjw2YxcyHoX//nKFxABb6tDm05XzYBnxeCiuEyPtc1dEFinPkCR8SK4//lLbeNdZYo6p7jrS4ySSl9egzbW5xW67tyCsnFRpmjbnYgTZ9g65YNnddqvomG2N0RZ0GWdJraoxQD0Y0rcBUvsoE/+g53gqsz9BYGcEaa9LIiOmru4u0xaCKIEOnPNWp0otld754gYhWAyh61NWWSbU1k9q1pp5R9VypIFWCDHdE7b0tQPbMrLxAhGpzpEe1RScNeKi23fu+u6qiVIQqU7ax4/uejTEsOacJuMLzc3VOZ2SxdJ77PMf/jNnh6zSOxuZoUOXWjY+P359oH+INpcK9p27RZQVTYcJL2Z0vXiA4zyMSAFD0lcZmuRrmuGno/jBmseENa0s3/4NJJpnRRY2YSmV3YsIfIvkYqAHOE3gzk3NIM2cBl3va5mCrQKWTX3iOPw2MSkvPwVhjjSt66+kPbExYn+ExPotyz6AFdRnTZ3tmVl4A+jxCq77Zf+DQ1XNMjp9CGKNL6TTIjl5TE/73PG2JzF8BrpY03vcITiHWE9f7HOY9eV+6u5DoXuxe4LV/9epfUkGSD9jQKU/1cALyIxDTmfKKaNHwsjtXD/c73xG3hwqDQaZElAxNXEFb8oIPpgztERDa7ju84gZ0+N6Z5/rfd6QHooMRZwqE7ru0f9+zMYYl94jJMVBQMbkWSzusBtbQVjVCMLtynU42vN9t/PBE+lSFj0U4WLdoXFJu7OrKYxp2hXfcI3WLxj/R2fnkmorbV55HwFmNKd2MKmv3Bw9ftqNmsjfBcyGQrpKy7SKwVI2e/SzQC7Pr/GcxC5tCYyHRL7C/xz90x9J5fgh8h+j8GTeRBo+Cxqb9H/boPbCqrUUPls7bkJQ+c115TByjzwSOlMxfnzF9Vv+divMckdVIWN/o2sbDDZedWbMjbfomG2NkkazoNMisXlM4D/N93jvUtBa4TGILCaSLG4iubncYIgoBFAjWWJMGRkz/ab8e3U+4yEGWej8LFDn/Vj5j1bTg3w7/afOzk48m0l+/ktLpIK1lxkRknAQYF/8KB2+8VdCxC+pCo8+pJ04XkYjycjIu4Eg79x3w3HnHddu979kYw2KxWDLAzRiX8F6h43/BeIx1yv18x9LJjTtgcSoTCiURLvgwkdEznh+FBF4mVAlE4bW9NIzfs/RrjTmeWt4jZiGzLdfzSJHwsxSmGWNEyHf+SnSOi//J1UQS5BDwUOgnzNeAamJLeyfFaUt3NMKOlPRZKIlwxvXZvuoxowgQoW/0tZYmd7z5HQpnjK5MJvSaGi+y1nsCvAaMF8jUPQlgjDWR1BCbRDnvscaaTlB224pBTnHRS4r0QXSAIP3jnStIOQ6vFZ3eO1hetaoeYb+oNNHceKlfWNOI6T/tpyLfTinZDYCKXVAXEPumj+gH8u1U+9F2vF6yMYbFYrFkiK3AXcD3I9qeAN4A/p6TGXUByu761Rmi3dYgZrdfVX+3l33j9iz62uFcz82SFUqBf/O0zQQ252AuyfJnshAakma+j0msOih0fCJwBxksyZxP7JlVdobCGgl7Fym/a2lyxw1eVJs2fZONMSzJoabU+RravMp+B4wT4+mSKW4kunLWx8CiDI6XMWzuiU7gqnRHpFKEEe0ZaqIQCYjIYEHOQRgTLCryzWXTvVu/kQIDUp2jusfsgrqA0N59RiKp33dX4hvpsjGGxWKxZJDHgB9FHA/EJCbs7X+6pT0qpv/yVIfua0Q4GQDVPwSPHLaGmuOHHphwhyERbf9Bih5nlnY5AtzraZsJDMvBXLLKvrsrTi2SojZ9g/4h+FFzWo0o2RjDkhxqDCZrIHxP+AOZN9SUAgs8bQuAfRkcM2NYz5pOsPnRS/+GNzYkTWxafOmbmerbkr+UPLA+4/c9G2NYso8aV89SoCcmRKSn5/8B4C0pfFd9iwXgW8BgTJJhgP+Dcd0fR2HmCskJI6b/tJ/26PFrgaEAqL5xpHn/2K2PXXcox1OzZIdemMSoF0S0vQpcn5vpHFcsxySmnRQ67okJzxifsxllmH3TR/TTboFWfaPoG3Lg0NjSx7amTd9kYwxLcij0A35N+HvGeMKOFRMSmEm+h/FaC/MbosMPCwrrWWOxWCyFzUXATuB9YCPGLfw1zAL2OeBZol1BLZZCphmYCLwY0fYF4HVMxQxLh8xxevY46eeCnAOgyuZg8PDYrTXXHcz1zCxZYRhmd/uiiLZXMMYCm9MjO3wD+CDieBzGw6bLMQccTujzcxGMvkE3Nx46NnZAzda06ZtsjGFJDjU2hp+DuSeY0MqxApm+JzdjckGF2QNcR2aqTWUFa6yxWCyWwqYeeAD4Y5zPjwFvZW86FkvGaQIuw+yehRkNrAeqgG65mFRG0QivSJWUPCTLqj51v4QqaamyXZobL9m0dPJH7V+zqrr8rlXvl81YPSOVsS0JI3H+nwpFwK1ALVAZ0V6DkYeUktxakuJ/gauJ/pvPozASOyfFtFmV9yNiKvcp26XZveS0pZva1TcNsyqr982ufL9+1piE9E02xrAkzf20VWzcDlwi0O49UahWeF9NXqfOMBlYFnF8DLgW2N3J/vICa6yxWCyWAkZgnUC1wOcwu6Ne1olZ3FosXQkXuBsTTvBhqK0XxoDzHjAdSCynXJ4zYvrq7iJ0Dx+LIEOnPOWb964jyu588QIRrQZQ9KirLZP8ih1EckbVc6WCVAky3BG1740ZRqE7tN1vQNTkl+ksJ2B2m/8CPAL0CbX/HePRcSvQkkL/ls7xJnAx0QvYx4BpuZlO+tkzs/ICEarNkR7VFp004KHadvXN7qqKUhGqQIZDx/omG2NYkkNNeGXonnAUmCTQ7j1RE85fBQync/aJrwI/ibj2EEa//aYTfeUVNmeNxWKxdB3+CPyjp+31XEzEYskSr2DcrG/FGG9OAj4BPIrJCXFh7qaWHroXuxd431179S+pIMlKOEOnPNXDCciPQExnyiuiRcPL7lw93O98R9weKgwGmSLCSaFrbIL5zHOBT1vS9zuCX9CW4wngAKYqysNkNsmnpWNeBz6PKWl8GuZBr8EYob9BAZYZDvPBlKE9AkKbvoFX3IAO3zvzXH99g/RAdDDiTIGQvumg+mg2xrAkR8iw/CPavrReAYarMcL40QOTh67tnpDUPTkBeBz4SkRbPcarp0t4lVtjjcVisXQd/KrixAuPsli6Co3AgxgDzVcwSVIvAFbnclKpMmL6T/v16H7CRQ6y1PtZoMj5t/IZq6YF/3b4T5ufnXw0kf76lZROB2nN6yMi4yTAuPhXODHxN0HHLmwyRSgZ50VAzP0G/k2Nx8WfxOxUJ8Mq4BLgT5hF1M+wRpp84h2MvvohbUa1CZgcdA9hSqsXXO6VPqeeOF1EIvKIybiAI+3oG/BG/Dmu266+ycYYlqSZTnT+uHGhn2RI5J70whh4vo3ZoAnzO4yhc2uSY+Yt1lhjsVgsXQe/RMLWs8ZyvNAIPBn6GUiBhXaU3bZikFNc9JIifRAdIEjcMC5BynF4rej03sHyqlX1CPtFpYnmxkv9wppGTP9pPxX5dsrJT1TswiZNKAwCXsKEJQ2g/bC9ckzi+KCaXeP9mPDWSzsKL8CEBvwnBZ63oYuzA/gXTC6uhzHVcwZhyqjPwRjw7svZ7JJk3/QR/UC+nWo/2o7XSzbGsCRHyOCc8j2hY2PNDExC7kiduRO4C3g6DePnFdZYY7FYLF2HSs/xDjGJ3SyW442CCx9wVbo7IpXGoJKgWUUkIMaFfDACwaIi39wm3bv1GynGIJAS6h6zC5v00Z1Ynd0RAcL325BILpv/Df1Y8p8VmJCoW4B/xYS/9cVU8CoYtHefkSKp6xtX4huHszGGJWlGkobvGTo21pxGm6FmC8YgXQN8nIaxuzRLAfX58eZPsFgsljCj8dcb/5HLSWUBP30ZTKVDhd5qdl014ueZNMw12/TBXybm5HJSFl8ew/9eTcjlpCwWi6WLUI4J8fynXE/EYskjPovxQDs/1xMJ8R/4vwv55R9LGutZY7FYLF2DTxKbQd+GQFksFovFUphsJD1hJRZLV+J1jqP3W1uuzGKxWLoGn/NpO26+zCwWi8VisVgslq6ENdZYLBZL18BrrGkC3s7FRCwWi8VisVgsFktqWGONxWKxFDhqspF+1tP8didKvFosFovFYrFYLJY8wOassVgslsJnFHCip+2PqXSoUIqpQDE09NMX2Ab8FXhf4MNU+rdYLBaLxWKxWCzxscYai8ViKXzSkq9G4WzgSmASHZSUVVgLVAv8KdlxLBaLxWKxWCwWS/tYY43FYrEUPikZaxQmAnMxpdQjWQ+8AezDGHK+AAwMfXYh8LrCfQL3Jz1ji8VisVgsFovFEhdrrLFYLJbC5wLP8TaBXUlc/3miDTUfA1MEnos8SU2o1XLgqojmexXWSIphVxaLxWKxWCwWi6UNm2DYYrFYCphQbpkRnuZUSnYHgSu8hhoAgQPAdcD7Ec0BjFeOxWKxWCwWi8ViSRPWWGOxWCyFzWd82lIx1jwtsCbeh6EKU494mitSGM9isVgsFovFYrF4sGFQFovFUtic59P2ZpJ9vAIcCf3/yQTOr/MclygMEJPbxmKxWCwWi8VisaSINdZYLBZLYeM11rhAbTIdCLyE+UmUAz5tx5IZ02KxWCwWi8ViscTHhkFZLBZLYXOO53ibtHnJtKJQnMYxh3qOdwscTGP/FovFYrFYLBbLcY011lgsFkthM9BzvNt7gkIf4HcKd6RpzIs9x8+nqV+LxWKxWCwWi8WCNdZYLBZLwaKmEtMJnuZ+nnP6AS9iEhE/pDAyxTEHA1+PaGoCFqTSp8VisVgsFovFYonGGmssFoulQBFTZrve0zxK4WwFR+Gfgd8DX8TklPmKwF9SHPZRoEfE8VSB7Sn2abFYLBaLxWKxWCKwCYYtFoulsNlAdFiSA2zCVGYKh0gdBSYLrEhlIIUZwFURTcsksepRFovFYrFYLBaLJQmsZ43FYrEUNgt92hzaDDXbgM+nwVBzMfBgRNMK4LZU+rRYLBaLxWKxWCz+WGONxWKxFDACvwXuBFo8H30M1ADnCbyZyhgKF2CSCAdCTa8AV4spE26x5BsCnA+cluuJWCx5wBDg05jnwmKxWCwFRJ6FQc1xzp5a0T/ep1uO1R9k+U3HEu3t7KnPDYi6/vtXfARoMtekMr4lP5gDzg3VZ8eVq937thw8fzkJ39cd1WdHycipC7d0KFfea1IZ32LxIrBU4VfAZ4FeGG+aP4sx2KSEwnnAaqB3qGktcJlAc6p9Wyxp5lTgRuD60P8fAr6d0xlZLLnnRuA+YCfw78APgA9zOiOLxWKxJEReGWtGV33qwoDwm3ifl3PK5I3wbEJ93bFiRKCo+L3ItlG3rjx986OX/i3eNWW3v3iOU+xsjju+e1rNRrg1kfEt+cO0WRUXigTiytWwgZWTYX1CcrX3ntEjAkXdouRq57dHnT7kwc1x5aphVtk5IsVx5Wpo6ZgaWGflypISYgw029LZp8Io4GXaKk69BowXaEznOBZLigwGZgPfBIoj2i/KzXQslrwi/BwMAaqBu4CngO8Cf8/VpCwWi8XSMXkVBuVocKfCk2oSY8agrsT1TvAScAKf87ZJMYPau+ao6EFFl6L6QZwJTk50fEseEdSd6vIk6i9XLpqwXDmB4hi56ibd2pUrNHDQ1XbkCitXlvxD4QxgDVASavodME7gcO5mZbHEcD2wBbiFNkPNW8AkjKeZxXK88yXgMuD10HERxrD5DnBTriZl6ZAiYDzwC+CaHM/FYsknxmK8ya8Auud4Lhknr4w1GxdP2LLxe2O/4QaDFykakwtB2hYNHaLifCmmUWRwe9e8u3TC3zd+b9ydh2n+DBoblqJGYVoKjJKFG7eUzF/3jRbhIlKUK4QYudKA265clczf8PeB89bfeazJ9ZUrrFxZ8gw1ISRrgJNDTX/AGmos+UVP4GlMNbKw59du4MvAJ4HnwIaXWiyYfGYrMbnHLge2h9r7Ak8A/0lbmKsl9wwElmLC1l4Argam5HRGFkt+8TWMLvsl5nv/ceCUnM4og+SVsSbMpiUTNojyfMwHkrhnjaAXetscAu0uqsO8v+iKvUisa6i6x5YnOr4l/xg0d90GVYmRK3WSkSuJkSvESUiuBi+q3YtojFxJUKxcWfIGhX7Ar4GhoaY3gLECh3I3K4slihOAV4GvRLStAcqB/8jJjCwWQEEUyj0/ZbmeVwQrgArgxYi2SRjPyZNyMiNLmAAwFXgXuJ22io5/x+g3iyUn5KFeew34a+j/JwLfwnjY3k10KHSXIC+NNQCucWP2oAl5QIysWjkMkdNjL9f2w1VamePEnquvblp8edy8I5ZCQWPkSjQxz5rdsyqGIcTIlSQoV3PAUZWocxV9dcDCdVauLHmBmu+EnwPnhJo2Yww1B3M3K4slir4YY+KnI9qeBv4FaMjJjCyWNkYDtZ6fhHLiZZEDmLCoyI2i84DfYBY+luwzCrPuWUbbPfgLxiA9FJMs3WLJFfmm1x4HzsR416wPtfUBHgQ2YqpBdhny1lgjKu/4NCfkAdGNQKz3gyEhD4jRd4wZjkjPqMagPpzItZa8J0auRBKTq2I/rxrTQUJydcs9o4eLECVXqq6VK0s+cT8mFhiMq/wlAh+1d4FCtcL7CjMyPjvL8Y4APwU+FdG2AvgqsaXrLZZc8Hmftv/O+iw6xsXkq/lZRFslJiw7kJMZHb98FiMjlRFtj2MMaL/A6jZL7slHveZivv8/BSwMHQOMxHje/lOO5pV28tZYg6vvxzZKQh4QgvjfIJGEPCAcpzjatUu1rnbJ+BcSudaS37RIMEauNOGcNU68Bz8xuSqKlauB82qtXFnyAjX5DKpDh0eBSQI7OrimFKgChpPP3yeWrkI1cGnE8RbgWtpe0iyWXPMFn7ZcL2ra4xvA2xHHlwBzcjSX45FxmBCncAhaIzABkzD9SK4mZbF4yGe9dgz4DnAhxmsQjJfNi0SHShcseVW6O5JjR5t3divqEd0oHVftKb/5xf4qXC4+n0mCnjUi0dY4VfcBQBO51pLftLQc21lcFC32koDH1of3lKcsV3isvK5i5coSiQMEOzjneUx+gbSi0AP4EW0Gl1eA4WqMMH70wMj9FNpeMvcnONwaiE3UbbF0QAVwX8RxEONRY5NeW/IJv0XN77M+i8RpxjxHb9NWVaUak5D4zVxNKkEuBuZGHL+KWbQVCl/CfKeHX0qPAVcCq3M2I4vFn0LQa/+N8Qx/BZMwvRjjOdiEqRxVsOStsWbL96/YV161ulmkrSSX0HEiWO0tX3XMQgJV3hThk62fJbCoHnXLM31U9DrBLMtV2brxb422Wk8X4dSFW/Y1zKpsFpG2Um/asVz1DhR9VcJyhb4pSJtcJRAGtfeWUX2A61qvga2vvrveypXFS0feKZnyXpmOif8NMy70kwyJGmscrBeOJXkeB7pFHP8Q39x2FktuUPgEcJqn+e8CH+RiPkmwGXgUuCt0HMBUiTqf/N5QKgE+E3EcU8AhjynFLCTD6zDFGM2socaSVxSYXnsdk8dmFeZ9QTAVI9cB23I4r5TIW2MNgAi7aKtIAnACN/6gmOU3xSnHOcdxTCZ1UG0Q160mEGjLoC4dJ4IN9Ox1jSB9w8cu7myendzRbrelgIiRK+GEt26k+Pzl/mVe54CDo1PNM08DQY9cJZBgWAYUR8mVEpw9+dkOvSgsXZc3MF8gyfJ2x6ckR6j607fT0FWixpr/onNf8us6cY2la3AVJkwvTBM2VKMQEbKz+M/WOF6agCs8bXtzMI/OsABTUSX8nnIexnjw45zNqOsiwE+AkyPalmMr2RUiXV2nQeHptTXAA8C9oeMTMbmfvgD+67x8J6+NNaq6U0QijTWU9Rx8Uh3s8Tt/dNX5kxE5C0BFHnMluCsQkSdNkL5Dbnyh187lE+LGgYo432odH97etGi8VZ5dDWUnEmUE5LSSspOgzleups6umCwYuXJxH3M0sCvycxHpu/PGIb2GLN8ZX65UvhVy1kKVtwfOq7VydXzzi9BPPjCSBJO3d0CixprvpWEsy/GD0PbSFebHxHkPsOQtgvGOOgrcmsFxTsZ4J9yNcYfPGmIWMIXqbn8A4612Z0TbLExCb5sTKr3cTnRY/B7gnhzNxdJ5urxOg4LVawsw+WrCHuOfxoRRz8rZjFIgz13RZae3xXXiJhmWADITQKGpsenQMjcYjFk8DOgdP2Sl/I6VX0QYEz5WgtXktwuopRMoxMpVIBBXrhx1WuWqpcVZ5kpTjFwFThoQV67qq8d8UURa5UpwrVxZ8gaBNwUkDT/W88WSCf4FKPO0PZGLiVg6TXhRcxMm5PLRDI1zMiZvSSUm58olGRqnq/IDz/GZwMRcTKQL04/YBeMM2hKjWgoDq9Pym2ZMku5I7iDxHKN5RV571qDsCnsjhAk4Ad8d4IoZL0xCpAxAlKe21kyuHzF9dffiYs+JAR0E/NWnC6EosChi7JfrFk34dWenXnHnys8gznkfuUee2rF0cmNn+wlzRtVzpd2DxUMdCQwTxx2qOH1R3YHodqe5eUNtzaR2q7ZYIpFd3paA6/rK1b5ZYyYhoYWC6lMnL1xf/970Ed1POtGb/Jq4ciUBFkUcvzxg3oaE5Wp3VUVpUTHDXEeGOsJQkL4qbBN1/3pUj70/ZP47HybaV7tjdJehLgxrHUN1ByrbnRZ3w4CHaq1sWSyWXHGT57gOaxgsNBYSfR+nYxY709M4xsnAWuCs0HEP4DngDGB3GsfpyrwL/InoPDA3Ab/MzXS6JLfTlpQfTEjwz3M0F0vnsTot/1mDyWt3fui4F8aD7faczaiT5LexxtGdeKw1isZ4QIy66pluKoEHQimBjxxraZoLsLVmbHN51epDIvRpu97fqlY+44VrBDkfQJXmlqPBTj1wFbetGKnFxQsRsxtRFCx+GlOKr3N9FQWuRpyrRRjVdrcc81cRAQS69wiWV61eKUF3ae3S8flSSi1/MWFQUTjixMjVpqtGdVN4IBQoekTd5rkAZ9ZsbW6YXXlIkFa5CjiOr1zVz6y8RoSQXGmzm4Aib6guPxvHuVJEJiFSCUQE84WeCAnQXQI0zKpcK+pWD5hf+6eO+o2a16yKkY4GrlZHrxZkVMwYEvoDOYFgw+zKlW6Lu7R0Ya2VLYvFkk0GYjxrIik0d2yLyc9xPSapaphpoX/TsbgZgtl9PiuiTTE5DO2iJjlWEG2suQg4hcJK3puvnEh0mBkYbyYbZlZ4WJ1WGDwO/L+I45swofgFpc/y2ljjIjsDnjYRJ8YDouj0XrcgnAGA8sg7D09q9ZwQtJ6IRTXqxCSDHTrlqR44zoKIkR9659EJ7yUz17LbVgxyuhXNAblBIv6uLXKsOZl+AMqrXrwYZBEi50baFFT1j6Bvq3BQVEYIciFCKSIBgYkacC6vmLHq2trF46yVvj2c2DAo9ak0NvisbhFypY8MXPBOm1wp9UQbAWPk6oMpQ3s4jixoO0cfKp23Ia5cNcw8d6KIzEVkdPTkdD3IGyq6D5WzQb8gIgMBRORCJPD6vplj7hswf939Hf3qDbPGXCzoIkTORUDaEun8UUXeBj0oyggVLhSkFCEgyMRAwLm8fuaYawfOX2dly2KxZIsJmPKbkfxX8t3Mcc6eWtE/3qdbjtUfjF+4IJazpz4X9X2x5ftXfEQHoa3eEX/2RgAAIABJREFUa1IZvwDZBFwI/JboDbNpmP2HaX4XJUi8Rc2NwI9S6Ldd1OxvlAI9MTu2PT3/DwBvSeFVIFmN8RoI42Cqq3w/N9PpUtwEnBBx3Ez0QjIh5oBzQ/XZcfXZ7n1bDsYrmOHHjuqzo3TTqQu3dKjPvNekMn6B0uV0WmiQrqbXfg4sAsLPSw/gNkz+n4Ihr401jro7kei0Ol7PmvKbX+yvOLMFUOWjj1uOPhR1vsgegWGtfUqsZ03fgaW3C/IJc4F+sD94ZKH3nHgMqvpx74EMqBKkCtoW72F2rNucvMISOV+Qc1uPVRtw3S9vXDLhN5GnjZj+0349u/V/RByZYi5DQP591IyV2zcvvvT3SY97vODjWSOmBGQrH95T3h+H2aELPvr4ENFyRbRc4VO+u+8p/W/HlLwD1Q+aDu9rV67EcT4PtBpqVPVj0Ckl8zY8F3neB7dXntivry4HuSriF7h3z8zKNYPmr/9je2OgnI8TIVvQoMHgl0sW1EbJ1r7pI/ppvz6tsoWIOPDve2eeu710/gYrWxaLJRuM9Rw30oly3aOrPnVhQPhNvM/LOWXyRng2ob7uWDEiUFQcZXQfdevK0zc/eunf4l1TdvuL5zjFzua447un1WzMbILKfOAdzOLmVaKr4EwN/Tud5HO5+S1qwOQq+LdOzDEZLgJe7uCcL1A4i5owdZj8KSdGtI3FGmvSwdWe45eBhmQ7mTar4kKRQFx9Nmxg5WRYn5A+23vP6BGBom5R+mznt0edPuTBzXH1WcOssnNEiuPqs6GlY2pgXVfXZ9D1dBp0Pb3WiPHG/XpE22QKzFiT1wmGXW2J8YBwRKOtub2de0VM/KeKu3DbwxOjk3Qpu6IPo401I6etGIJKdevnrjstoRwzVz0TqJix6oZSSt5zROZEhlpFsXZOS4d9tYOiR11XL6v1GGoAttZcd3DjxztuVKW2tVEoDhD4cipjdnUkGOtZI0TLVa/iwL0gJwG4LguHPbw+Wq5Eo+TKIdpYU3/3mCE4tMpVEKadtnRH4uFwShDkCq+hBmDYw+sP7N5y9DpV3o/4BQIBkbkJ928GOdri6mVeQw3AgJqtB7fVr78Rj2w5Ila2LBZLtrjQc/w/dKL0pqPBnQpPKuzz+1zdWM/KeAScwOe8bVIc61kZyVHRg4ouRdW/ZL2jkxMdv8D5C/BFYl3QpwLL8Ma9t88QovM5hJlOdhJQ12PKw8bbIDlGJwyLeYAL/NnT9n+JjpS2JM8Z0FbAJMSaTvUU1J3q8iTqr89cz/tseziB4hh91k26tavP0MBBV9vRZxw3+gy6lk6DrqnXvM/Z6cCncjGRzpLXxprDQY0NV4l4qRp1x8rRIsbVTJWtTU1OTcz5RC+qQ4lgW+neo/gJEfqZk/UnG5dMWN3RvMrvfGFsxdA+G3DkhyKcrMp2VV2C6ktRY2saKv4oP6tbMj6+t8Tym46p8uOoNpEvpDxuF+Zgo49caZtc7Zp97mgHMXIFWw8cPBQjV+A1AmqUXEl3nhCT9R9VflI6b32HchXdH0+XzFsX94t89LObj4L7SNSYQkVSYyg/a88T5/zlHHOJli3BypbFYskKZxJbUn5jZzrauHjClo3fG/sNNxi8SNGY/BBez8r2UHG+FNPo41kZybtLJ/x94/fG3XmY5s+gscYmhV8kOn4X4D2MEW67p/0WEl/cnIJZ1Jzpab8z1EfGEVgnUC3wOfzL6a4TaMrGXDKA9znrQ4TXr6VTXOXTFtc7pj1KFm7cUjJ/3TdahItIUZ8hxOgzDbjt6rOS+Rv+PnDe+juPNbm++ozjS59BF9Fp0GX12m992q7M+ixSIK+NNdsenngA1ShvBHHalFAgULSMcCiXcuvWmrEx+WHE41lDhAdE+YwXrkWYAKCqu4PBwx1miD5rxgslBAK/BEar6m51g9dtXDT29I2Lxs1oUverUQYa0U4Za1yVP6vqElVd4gZbFnR0vkrwXU9T3FhWi/FMUfUkfZY2uSpWaZUrN8itZ9Zsjc075GpcuaqfWXmtEJIr2N14+GhCmceDGnxFYZ7CvBaC93V0vrrUeZpK2osjNtMM/hlYAixxW451KFuolS2LxZITzvNpi+t6nwiblkzYIMrzMR9I4p41gnq9fXAIJFQO9P1FV+xFYhMbqntseaLjdxG2YhY33lCLWzDhNu0tbk7BhAl4FzV3A0vTNcEk8dv0eD3rs0gf7/i0+T2PlsS53HO8ixT12aC56zaoSow+UycZfSYx+gzxL5jhZfCi2r2IxugzCcrxps+g6+k06Dp6bQ/ErJe8z2Nek9c5awBU2CUwvPU45AFRMWPVVxDjIq2wcuPisb5JB1V0l0Q8IxIKgyq7bcUgJPBo63m4t2xaOvmjjubz7uIJDRVVq5cpFDU2779va811ByM/K79rdTMmgVGn2bRo7G/xtwT6IiJDPU1+X7SWCER0F8jwtmMjV/Uzx3xFwnKlrCxdsM5XrkScXdHHOhhgz3fKBjkOrXKF695y2tJNHcoVQOm82peAlzo8MYQGOOBt63mopd0QgZJ5tSnJlqJWtiwWSzbwuoIDfJhqpy685cAV0a2xVSb9GFm1chgip8d8oNp+2EArcxxUByGR7+366qbFl6e0aCtQ/ooJH3gViPyeuTn071Ri8z2Ed59HeNq/g6nwkSt6+7S1nz8uv/F7zvyeR0tiBIBzPW3r0tO1vgUSpc9EE/Os2T2rYhhCjD6TBPXZHHBUZVCkOlP01ZKF649HfQZdS6dB19Jr64CyiOMRmOiHg/6n5xd5b6wRlZ0IEYtqLRn59RV9VWRxqKRy01Ftieu5IK7uioq0DSkhKS5+PJzrBuUXdYsmJFwOtHbR2LuS/kUyiCCfjTxWdG2u5lIwmCTDEUZALam/e2RfERabj2lqIRhXroLorkCEEVBVBgEEAkWPh3PdoPyiZP6GjJWZdVyGRvrGKewuqdmaVsXjlS3Ml4rFYrFkGu8uI8COVDsVlXd89jgT2onuRiB2F9qQ0E706DvGDEekZ1RjUB9O5NouyjbM4mYtkQn7zeJGMLvS4cVNvEXNfURXL8oFp/q0FeIOdBhvOAf4P4+WxDiL2E3cpCrOtkPMBppIYvqs2M+rxnSQkD675Z7Rw0WI0meq7vGsz6Dr6DToWnrN+7wJUAEURMGUvA6DAlCi84uoyoDuAwL3iZjM26L64F8WXRonyRUEcT05a6RnedXqb4owMdT/niYNTs/A1LPCqKpVnwaZ2Nai7x1q2JtLt7lCIUquRBjgdOvRKleq+uDgebVx5cqbYFiEnvWzKr8poXuhqnuaGw9nVq4cudjTEuvenwIN1RWfVmmTLVV97+MdB6xsWSyWbOC3YEi6ckoMrr4f2ygJ7UQL8k/+H0hCO9GOU1wW1aBaV7tk/AuJXNuF+RtmceO9L98CHsO8VJ+K/6JmLnB/pieYAJWe4x3ib/AoFPwS1ya0gLf44vWqARM2kzItEozRZ5pwzhrHX5/RfsL01quLYvXZwHm1x7s+g66h06Br6TW/583vucxL8t6zBsSbDLY/OLcBoPruwYa9D7R3tRNkZ0wOe4kMU5Hr3108IfUXwBxw9u2/GhqA56XNYr/N1ZYrt/3o+kJL/pR1XGFnlKVS6Y8YuVL03UM7DrQrVxoM7iQQbesUkVa5cl25fsjidzMmV3vvGjUYpLUUnUJTs5tADpoE2XVP5VCKJEK2dFvQbbly2I+2WdmyWCzZoNSnbX+qnR472ryzW5Fnk9tbZdKH8ptf7K/C5X6JByTBhawIUYsjVfcBki/t2hXZTlv4QKQHx7eAXphkl2d4rnkAuDcrs2sHNaEC3hChQt19DhMTYo3/82hJDL9FYVo8a1paju0sLopeykkCnoIf3lOesj6DaH3mKlaftVGwOg26pF7ze96SKsqSS/LfWCN4PRgEKFJFCQZv7MgwUffIuvqKqk8GEWk12YQXoOpSEy/XTT5TdtuKQVJcdLcI3wLpBSZvz7EjTV/f8v0rfEv5WaIRl11RfmUiAhShqhqUGzsySjy+oK5++qwxQYRYuVJq4uW6SReBHt0eJcKtVnCnnjK/LmWL957vlA0qChTfrfAtMV8oqLKyKdj09VMXbrGyZbFYskU/n7ZGn7ak2PL9K/aVV61uFqF7uE3oOCGn9pavOm06/k0RPtn6WQKLm1G3PNNHRa8L59BTZevGvzUeb1VT2uPvmASdvwVGRrR/zefcRUB1NiaVAJ8k1ku9kBc1AC2YEr3FEW1+z2M6uA4TDtIZvEaQkcC3U5jLY8DHKVwfj9g8Vx7v7s5y6sIt+xpmVTaLSKs+QzvWZ70DRV9tfWdF3xSkTZ8lEAa195ZRfTD3zlwDW199d73VZ9EUqk6DrqfX/J43b77XvCXvjTWq7k6R2GgtQZ+sXXrpax33MMdFVu/B1K+P7Lju4317707TNDPKqLtWVQbgc6qMcoRzUD7TGveu+hJu8Lsbl1z6pxxPs7BwdKdfcnYXfXLgwvUdytUccKcJe8RPrnYcyKhc1c8aM4OIMpAKy0rmbniyM33t/U5lpePwOYRRwDmofAboKabjl9Dgd0vm11rZslgs2aa751iBYDo6FrMJFPmidgI3/qCY5TfFSdA+x3FMckhQbRDXrSYQWNPWYccJOQM9e10jSN/wsYs7m2cnp+X36ULspG1xc06ccx4G8ilv4Od82gp5URPGa6zxPo/pYirwmTT1VYbxTugsPyMzxpoTfNoOp6vzGH0mnPDWjRSfv9y3rDZzwMHRqaF34AaCHn2WQIJhGVAcpc+U4OzJz6ZHP3cxClGnQdfTa37PW6YM0GmnAHLWODHWMEX36GFNWLBVo/OLqNLs0nJtoYQLFcE9gixzRG4B+VJkgkJVdqsUDR5y4wu9cjnHgkM1Vq5U9xxpcZNRmB650uYWt+XaTIYKNcwac7EDD7aOia5YNnfdbZ3tL+DIPSKyTJBbBPlSZLI4Vd2t4gzeeeMQK1sWiyXbeDeT3HR1rD76v6zn4JPinT+66vzJiJwFoCKPBSUY7fGL9O3oO1jE+Vbr+PD2pkXj/yP5mR8X7Aauj/PZe0BVFueSCN5FTRPwdi4mkma8z1ux71mWRPBbFKbNWIPGeg2cVlIWV59NnV0xWTD6zMV9TDTgiWCQvh2994lKmz5T3h44t9bqs/gUmk6DrqfX/J43PyNqXpL3xhpHgz6Lam7d+Pj4hGPXxRtKhXtP3aLLatMxv2ygLnUKv1HldYUdqLZar8WRKeLwqwH9AtvLZqz6ai7nWVAEY1/WXdFbT39gY+I5ETxGQFHuGbSgLmNytWdm5QWgz4dDrxR9Zf+BQ1fPSWERo+rWKfwGeF3RHSjRsiXyq+6DSrc3zDzXypbFYskm3l3hAH7ukJ0iJhcerhM3ybAEkJlgcoM1Nh1a5gaDMd8TA3rHDx0ov2PlFxHGhI+VYDU2t0M8hgLxFn5nAk+RJ++uauTRWzHxbYGjuZhPmvEaZ7rC75QrMupZoz4hHm4gEFefOeq06rOWFmeZK00x+ixw0oC4+qy+eswXRaRVnwmu1WftUzA6DbqsXmshdv4F41mT92FQ+93GD0+kT6vVUYSDdYvGPZNMH+rKYxouOey4R+oWjX8izdPMKBsXj5sHzGttuHBOUcV5552vTtHdwOUiiAgniciPK6pWj61dNPYarOJsl8am/R/26D0wwpqtB0vnbUhKrlxXHhPHyJXAkZL56zMmV/XfqTjPEVmN0BtAVdc2Hm647MyaHc2p9Fsyf0OUbL16IUUVn6s4Xx3nblEuN7l85CRx5Mf7Zo0ZO2DeOitbFoslG/jptm5x2pND2eU1+wScgG+eh4oZL0xCpAxAlKe21kyuHzF9dfdi71I2oIOAv/p0IRQFFkWM/XLdogm/7uzUK+5c+RnEOe8j98hTO5ZOTjmHzxlVz5V2DxYPdSQwTBx3qOL0RXUHotud5uYNtTWTUi6XngRDMe9qfjk+wnwVs0HxddLobdVJRgEnetr+mM4B1IQInQc8JWnI2ZQEXglP/bnz5y6gfyev/QLR4SN/JLUwqEwVhfBbFB5JX/eyy9sScF1ffbZv1phJCKaKk+pTJy9cX//e9BHdTzrRm3SduPpMAiyKOH55wLwNCeuz3VUVpUXFDHMdGeoIQ0H6qrBN1P3rUT32/pD573yYaF/tjtFdhrowrHUM1R2obHda3A0DHqq1Oq190q7X1CQoH4b5ewwF+mLKnP8VeF8g5fueAEcw7xBhrLEmXexYOrlxByxOpY9QEuGCSyQcl7VzWmrX8ifgitEzXrzEEVkthBL7CF8um7H6rbrFY1P6m3V1Tlu6oxF2pPQ3CiURzrhc7aseM4oALxPanVH0tZYmd7z5HdLLl9bSwtraPwFX7PnOuZcUBVhNhGzVzxrz1sB566xsWSyWTPO/Pm0nAHtT7tknZ5miMTvRo656pptK4IFQSuAjx1qa5gJsrRnbXF61+pAIfdqu908yXD7jhWsEOR9MCHbL0eD0zky54rYVI7W4eCHCRICiYPHTdHLxXnHbipFaFLgaca4WYVTbm6Bj/ioigED3HsHyqtUrJegurV06/r87M1YSDMNUTvEuapYA/wiUR7T9KyZ/0Q3kdvMgY3kd1CQkXQjmfgOdvt+doC+xO/1+z2M6+H0K1/b2HO8C8rF0tJ+MdsOElqSj951e47MjTow+23TVqG4KD4iZ0BF1m+cCnFmztblhduUhQVr1WcBxfPVZ/czKa0QI6TNtdqFDfdZQXX42jnOliExCpBKIKtJrdE6A7hKgYVblWlG3ekCSuRLrZ1WMdDRwtTp6tSCjYsaQ0B/ICQQbZleudFvcpaULa61O8yctek3hbOBKYBKxZcC9564FqgUymSOzm+c413/nhMkbtytL59i0ePzLohpV6s0RFp4144V4LpCWAmLPrLIzNMAawNxP5Xctje64wYtq0xfvHIdBCza8rBpdRtCBhTtnnGVly2KxZBo/o4x3t69TuD5hUCJOzE500em9bhEJlVdVHnnn4UmtO9iC1kedrE5MUs6hU57qgeMsiBj5oXcenZBUyd6y21YMqrhr1eN0K64TaV240yLHkvZ0KK968eLyqlXr6Va8RRznu2ISy6Oqf1R1l7m4C1T1GTT0txcJiDBRA85rFTNWfSXZ8ZJgGP67z3OAGcBFwGbPZ18HlpO20LhOkXZjjcIghceBOtoMNZA5zxY//J6z1I2kxy9+hq705QJ0YsOg1KfC3eCzukXoM31k4IJ32vSZEqXPFGL02QdThvZwHFnQdo4+VDpvfVx91jDz3In7ZlXWSVHRO+I4c8OGGlTXo/xA0QWqPKfapktF5EKcwOv7Zo5JqIR1w6wxF++bVbnekcAWHL4bNtSg+keFZYouQPUZRUM6jYAgEwMB57X6mWOsTvMnJb2mMFGN/noHmEuboWY98ANgAfAcRMnchcDrmrnS5QJtOTlDHMzQWGkn7z1rLB0TDB55PFDUpy1MSiju7vIpYHXuZmVJlX13V5yKOGuAk02L/iH40dFxgx/bnHFDTZjGw8ce79WnW5RsFfXsZWXLYrFkmhjXfoz3yrupduyouxNPlUmvZ035zS/2V5zZAqjy0cctRx+KOl9kj5gXctOnxHrW9B1YersgnzAX6Af7g0cWJjrHQVU/7j2QAVWCVEGbB0+YHes2x6lc1Q4i5wvSVu5YtQHX/fLGJRN+E3naiOk/7dezW/9HxJEp5jIE5N9HzVi5ffPiS1PxhPAjvKj5hKd9JualHsxL/T8ArxFdAvcGzG70zeRml/QCz/E28ZfbDlHjJVIV+om538TmcMokfl4Vnfq9LID/orA38FFaevfxrJHwBl+ID+8p74/D7NAFH318iGh9RrQ+w6d8d99T+t9O+DlV/aDp8L529Zk4zueB0a1jqH4MOqVk3obnIs/74PbKE/v11eUgV7VdzL17ZlauGTR/ffvhN8r5OBJZwr1Bg8EvlyyojdJp+6aP6Kf9+rTqNETEgX/fO/Pc7aXzN1idFk2qei3qvmMqrE0RY6BpRY1ReDkR1W2BexXWSJrDSTHGUa8RrGCMNdazpguwaenkjxT9W1SjOOflaDqWNLBv+oh+2i3wa5ChAIq+wYFDY0sf23wom/M4bemmj4Ao2XJUrWxZLJZM47dje1o6Ona1JWYn2hGN3onu7dwrwkkAKu7CbQ9PPBD1uXqqAXoWuCOnrRiCSnXr5647LaEcM1c9E6iYseqGUkrec0TmRIZaRbF2TkuHfbWDokddVy+r9RhqALbWXHdw48c7blSlLWG+UBwg8OVUxvQh3qLmbtoWNWH2YBY3Xrm4Cfg+Wd6NDuVgGOFp7kyoQEDNAu09zK677/0WkyAzW/g9Z0l5hFmiiGesSQsSjPWsEaL1Wa/iwL0gJwG4LguHPbw+Wp9JdMEMh2hjTf3dY4bg0KrPgjAtqVB8JQhyhddQAzDs4fUHdm85ep0q70f8AoGAyNyE+zeDHG1x9TKvoQZgQM3Wg9vq19+IR6c5IlanRZAuvRZBELjCa6gBEDgAXAcR991EryV53xPCz5MtU6Gdaccaa7oI4n1x9CheS+EwBxxO6PNzEc4BUHRz46FjYwfUbM2JFVjxVL0Sx8qWxWLJNH/xaTsjHR0f9qkGqG5b2MCoO1aOFmEagCpbm5qcmpjzPXoxlJCzle49ip8QCSUwVP3JxiUTOvRGLL/zhbEVQ/tswJEfinCyKttVdQmqL0WNrWnYcVV+VrdkfPzdy+U3HVPlx1FtIl9Iedw2huO/qLkD+F6ca3ZiFjfexKc3A4+mcW6J8BmftqQWNQpjgQ3ADzEetNsx+Sxeij01qwz3aUvZo+04Jl7+rbRwsNFHn2mbPts1+9zRDmL0GWw9cPBQjD4Dr/FZo/SZdOcJCSVkVeUnpfPWJ+VdrfB0ybx1a+J9PvrZzUfBfSRqTKEiqTGUn7XniXP+co65ROs0weo0DynrNQ9PC8S976EKU494mpO67wniF9pZMJ41Ngwq3SjSagtV6ZRVtLxq1TUqOsRx5Vjt4nGPksAXtYqMiBxMXX2rM2Nbcs+0WZX3IzIWAGW7HHUvCXm4xKVhVmW1CDe4Ko+1lwC4fnbl/2/v3qOkrO88j7+/TxU0AmIILbSMWQERE0IjkGwuOrtHVo0Kisk64kZnZtVkmARFx9AYFHZlRrwwwOAEBmcZN/HMuplcNiuEwDEhJpidTExcE0BARok3WKABw0WgudXz3T9+VfRT1bfqrqq+kM/rnD6H56l6Ls1T/e3+3b7f24gZGhmnBs3fUNRny9xGJvv3Txv6bIlIpb3SzL7R5Tjx209+7uDYujUNmJ1Zw25R47KBVCq9jNzfR86925dOapIvxJpUlGocia6dufp2jBsB3H1PnDn6F23d06iZq6uJUt8D+rj7Hjyue3Xxjd8EfNTM1dVVpPZa7q8L8w413mO3X0X43wDEmdNPtfV+t8zr+Wk6O1y1p1CuUZOcweHAvcCyNo7dSePygWQ+iHsIo7ht/l+XSXMzTF8u9mAPy1S+B/QB9hCWP33TwLOv7aVxZL2zO2s+2sw+/d7vuOaqKo0AflmOkw9/csPB/XPHN5glcnJYYzzr5bYMC/EsznDvJUu3N81/FPtuomRAa4xn++aMu93IxjPY03D0ZFE/YxnPrIssdQzgNJmvt/V+j9lseeGG6p0PfnjQhY9ve6/FgyzzK0iFmHb6VJsxDc+8jimmtaKkuJa1jsZqZ20+d0J+m6Rqh0EGLT/39hvezL7mfi67JXXWlNHIGWurzKjKbZthw+74Rp+3n7mzfRnfzWZE2KeIoPYrq99oa0Su9v4fjDA404vu+Ptbfv3KlnZ/A9Ll6ueMu9wsN9XUT/ppbq5uo8zgnrqxg82oC1NcvdXZcuY2w6LQc7537rg32hodqZ9dOwJLfLbc39/6zxv02RKRSnub0GAdnNh3WQvvbTc3dltiBkFuJHrszDWfx7gSwOH72WqSzRzvuy3RW2PZZVBj7ls1BEudGRF14ulblkxtMzfF64tv3D+2bu0yh3TDiQMPb1/6x4eTr9XOWnuC0LDvsC2LJv0E+Emx7zcLy3ATXivl+lktNWq+TEg+WYx3gImExk3yPPcRSt9+pfTbbFNhoyaGxBKLNhjs99CISwMPW2KUN/tayc+7BIU/Z4eAbV1xI2eJ5j4XZZklmGPmu8FGNG6HeLZvzvjPWy6eOd/PVjFt5vioYAa11wDUPzRmSBQlZnjE8fS2Bg9zBs/f9DxNZ4m1yFMcLNx3zpHTreZqqp6/qaSY5rhiWr6S4hqAhWde9HOHps+d8ufoKlzaBWFWY4/QGZ01TwNtJUR9C5jcCfdSUVW94ssLV5b1HVg9FvhVh0+aSj0ydNrq9btW3His5fdYXq+tu08vdT27dL637hjWJ2U8Q2Pmy3VxykfsnXNZc1OSibA+mNdg0R0QcitgHCj2ehH2yK5pQ9cPXbGrxc9Wulcqf0TAfPrE9UWvnf8G8Mk23lPVxusi8vvrJ0Ayp8ClhFhXcmJOc9uFkWjcePWld606180WZ0vbHj/pp1sc0bTYd+dNOvGwbMB69Xoql+sG51ubF934XLH3tGnRpFnt/kYqyLBPJ7cdX1/iKZtr1MTANOC/t/Ncb9E4Gj00sf9+wmh0pf8vP1Kw/bY1jiaf4dDLWmh4WOXvsSP60XQZwnp6UJnbbqi5RmFzjceOC0mGE53PXr3vgUvPNWNxeJnjp8m0GM8y+O5UovPZ3YYApFLpp3K5bnC+Vf3oxqLjWXtFMcOSTSiHPdVlXv5fGNMIn+1SnE0xDcoQ1zqgcFBgj5V/iVJznaPt6oTqSp3RWVO4dq85PTp3zsgZzw7oU3XeVRG2pPC1VDp6unbmmnsy7x59aet3p55s77kNJgw6L1o58P5V07csuWl78rUxs5672LxqoRnX5/Y5rNi86IZnO/adSFfqf+EHZphwg9fDAAASpElEQVTZJY17bHIqsjY6MfNX2kVxXHRnjRkTeg8ZvHLv7IHTBz+xJe+zVT93zMUpSy8Eu75xr6+ofmRjez5bF9E08IuIFGsN+Z01Bvx7YGWpJ3Z8l+U3TgZVDUo9TLb6nrkv+NdFU95q6fgM8e50srfG7JzaurV/liuv7Xj9CY9nlHqfXWV03ZpPgiVKR/sbR/bvbfI3TjtcDPyUpo2aOynII9EO2wmNm/XkJ3iuIzRuZnfwvMU4v2B7T+EbPCQLXufwHYNS/u860x9SsPaN8HMoHbed0OBNJjktb2cN+UmGzRhkvfs8jIV45u4LauZvajGehQTDljz+nH1zx/2ZZWOAu9efbDhW2XgW2dUFe0qO80n7Hxz7STf73Jm1he5vvL/zoGJavq6IaxV97lmXFGw78GoFrlMR5eysaaD5qUzF6DFJfiBMc456pZ93rD/mgwxrcc2jYbVEvJi+qF+mtm7NPowD5nacEw1TNi29udXlLYlzXJNKpbfVzlq7Efxd3PoCI8x9OHbml+ohPF7YcCJaVI7vUTrXezNGDgD7aqnn8XbMrIHsZyvde9v+uePDZwv6YjbCnOHk/mBzDjm+8MChI+39bB2h4zGh08qTi0i3tYawHCQ5A28SZfljzgqTcg6E6D4A3F8/vH/vE60dHWXY1aRJa8nlAnbn64tv3F/6fXa+D//Fc8NSsNIal+G8HfvpP2r3ku5GFxMaHxcm9mWAPwW+WcKtQkhEnWvcJJfMfTV7jTklnr8JD78bCxPEDih4zwDg+4SEnR93WGvNJ83ubiYVbJ8GVnXFjZxFYuDXhI6wnI8R4lrT/DEduYCxK2/U2xmIhXjm+OtHdh5sNZ55JrOLVP64uZmdiWdxbHcOXfx6xeLZ3lmja8DuOnM/cPxEfKqwelKH7Z49bhhpS8Q0fzsTn/6j4c+8rZiW1RVxLVtF8a7EruM0rZpVKgMKZ1RtI7RReoRydtY8lP0668VuVZHZuGymv+IOMktl17TXYJBJp1tci3z00JHr+p3bfyL41WZcg9mo7PETwCbkLulw0tx/687KOD66oJh18dI9eb/+l1oiN0xHxWatdtYcOnXouvN6DZgIXI1xjWGjMBo/WznmJz2U01vZcPTUgmLXKBeY0oFjRERyDhD+MLwlse8mYDqlljI2CnI0YEDaHSeTmdZWx8Tmv/3NvrF1/zaDNWarzDUEPGZpS7luurMx960aYr3SD5jxJbC+EPL2nDp2/K5tf/cfS0n2OI/8Rs1p4HbgOyWcM+k14CrCKHd1Yv/dwFOEBJ5lY5Bx2Ef+KPRohw8TqiZ9BvhroJawVOC2HtJRY8DnCvY9T8gdJaV5jvzOmj7A5YTPbMksZnfeGgUzA9K4u2dsWludEk89tnnfjLnjM4kB4MZ45ixtKddNuaT69P4aiRxNRnz3Hzy6eUep561/aMyQdKrXAw5fsuzMJne+fzxz/K5WExe37ayKadBlcS3vuQN3W6iKV0615P8fQvh57DGUYLgDtn5tyrsU3UvTfm+umHqIMHK4EmD0Ld/pzQV9auiduiAFNXHsh2OzN19b/PIOmBdX6j6k81Q/seFlKviZyrl4wZt5n60tt4zuPXAENb2j9AVEUY27Hz5lJ99c8ehrO+aF0SARka70FPmdNYOBaylxaYZ7vMus6Qpsw7++acmUF9s+w7wYW1tPfm4BcN/8/nt7Hyjl3jrL6FlrxqXgCndGR8ZHcD51pkKW+/PEmb989W+mvFSGS/05oWFzJeGP/P8E/O8ynDdpM2E6/U8IeY0OERoXZW/UZG0kf/p+BGwhVDDJNXZOAlOt58xMmUj+kg4IP39Suu8BhZU6J1Kmzhoi39Xcn5Ax/vXzH9/QZjybB/E9Rr01F892HqxoPNs3d/xMEjHeYVn1IxuLqSLUxN6Hxo2LIq7AGA18BLdPAedYOPHzeOYvqx/dpJjWsk6Law55zx1YZsVVj2qv/9DMvu9W4DoVo86aHiCb6+bd7JdI2Xz0u1v12RKR7uynhLLBH0/su5tSO2uICpdB4Xg9R73oJI7uvtvMhjZuc8I5fXsJy4U6VRpmg91quTZeoq3nzh4sXTN02uq+rRY4KM4x4AbCaOYywmypSthIaMx8D5hKKcUd2vY4TXMtRDQ2aN4mNGjaW/a2K91dsL0Z6HEzxLqpdwifx08k9n0G+K9lObv7rsK+GnevP3Y6bk9S2t0kOmvc/UQmPn17CUuF2rR/7virDRacuSa+atkjG+7r6PlSkc3GuPXMjryY5nuwqGbXtKF9WyusUaSzMaZBJ8U1D9dYkNi1ilD5qhKuKdjeDmyo0LUqokcn9hUREZGz3sMF29cRpjZ3WOSZpp01zr2vPnVDe5K05y+lIp69edFNPabChMdsdnjBnV847MQ9k3vNIrvDIp4bNCC1Y8zMNX9ShssdJTQ6KtWoyXmFkEyyoo0aC6PdX6Hpcrz3gaXAhB7WUTMK+GzBvnmoClQ5fatg+5PA6LKcOeNN4llsfu9FT7xafB5D9/x45swe8tjmisWz+jnjLgdfmVt65fi6AweP3FrKrG73eLPDC8AvHN+Jkx/TzJ6rGjJ4x/45lymmNaMz4pqH5X8raUxkvg641Sozm/8PCDNxkwp/Drs9zawRERGR7mwt8GMaR/yMMCpXmAy1aAfihnc+QP+63LYZhzcvmtyufAMe23LPlX6N4mObF93w9x29n67w6uLJ84H5Z3ZcOS89dsKEj3uUfgD4rBlmxgfN7B/H1q2dtGnRpNvoGY33cpWUbZXBEg8j658m5MN4G/iVhYZNT/M4+QO4/0wYzZfy+QdCbs9k/ow/pwwzChqOH3inT7/z6xr3+OHB8ze2K57FsS23KMQzg2PVj26oWDzb99DYCZHZWox+AO6+vuHo/psuWbqzpITL1Y9uzItpP72S9Ngrxn7co+gBcz4bcvnYBy2yf3xv7vhJg+b/RjGtQCXjmsMEwu/zftld64GbrEyJtpvxRfKr2x2FRCGAHqLiOTJERETkrLQc+HIz+6cAq8t8rZGEKeHJ8rc3U/48Ad1S7ay1DWcSfuLxqwsnF9aiKquPzvzBtVFka43GxD5xTN3mxZMK825IBXiosJpLvBlb03La5XQ9oQGVc4LQqNpawWuWwycInR05rxBiUnc2i5CkNecgYfS/1GU5PcZ7D44fTZoXyXZaOf7i6YZ4cs2iTRWtAlr/0GXXplO2lmRMc+rOn/8bxbRO4GEW2Znnnv33ZKtc9dcUoaMpmQj6CeDBClzr24RlaoWuAP6l1JNrGZSIiIh0d9sJDZ2kvyc0dKTMtiy+4YfmnpdPIzIeHzVzdWFVDenZBgNPF+ybQ/fvqIGwLOQLia/u3lED8HdAfWL7A8D9XXQvna5+7piLPcWPyTXYnZ91RkcNwJDHNv7QPT9HUASP75o5SjGtwjyUOm987vAzKttRAzCN/I6a94FFFbxexaizRkRERHqC5cAzie3zCYkJ+zX/dilFJnMsvxKQ0avK8xKkSs/Wh7DcIVkB6Ns0rVok5XOMpkmF5wDDu+BeOtV7D4y9MG3pH5txQdjjP8/87kSndNTkNBw91SSmpc/pq5hWQR46TH4MuefOz6l8R81g4LGCfY8Rqlr1OOqsERERkZ7iS8Dzie2PESrWnNs1t3P22rJk6u8cz68UaNGELrodKa++wA8IyT5zfgrc2TW383tlBfn5gM4hJG89a703Y+QA7536EdgwAMd/ycEjkwYv33qkM+/jQ0u2/I6C6qeRu2JahTgMAH4EDMvu+iUwyaDSz30hYdZazgvkLz/sUdRZIyIiIj3FCeBzhIZmzr8DfkGomCFlZJ5f8cotv2KM9EjDCaPbVyX2rSOUIm7okjv6/fMF4K3E9mTCDJuzzjyIOK//P5nxEQDHtzYcOTVp0NLth7vifpyCqlcWKaZVgIc+hn+C8NwJSysnGVT6uX8Z+NPEdj3wx1Sm2lSnUDUoERER6UmOAzcRkgXm8th8FNhAKPP9NeBk19xahTh2piSEW4eKQ9TWrbnNzYdGsZ3atHjy1yiiCoqbjUxezGP/vx25trSbtfDvUqSB6cCjQP/E/qU0X65XKucQcCuhGk4uafp8YD/w37rqpirhnrnj/gqzULnP2WEn42uzM1xatH/uuAfN+GLstry1BMD7/su424gZGhmnBs3fUFRMM7eRyZ+o04ZiWmX8FY0VG3cA1xq0+tw9JP/9IrDcOrYccyqwLLF9Crgd2NOBc3UbmlkjIiIiPU0MPAB8Bngnu68vYfrzG8AMYGDX3Fp5jZyxtsqMqty2GTbsjm/0ae2YZpnNiIgWEtmTtV9ZfX1bb6+9/wcjDAblth1/f8uvX9nS7utKuzhUQePzBswbK0N1xHmE0eZ/Bf6Wxo6a/0eY0XEv6qjpCi8DV5PfgF0O3NM1t1N+9XPGXW6Wq77jJ/203zzorzftbO2YPXVjB5tRBzYCvNV2qrnNiCJbiNmTe+eOazOm1c+uHYElYpr7+1v/z28U08rMw/LKXNWlk8DNBq0+dw95ZuqAEXSsf+JPgP+ROPYIIb690IFzdSuaWSMiIiI91TrCNOt7CZ03HwT+DWF2zc3AlV13a+VR1Su+vPBv174Dq8cSquF0TCr1yNBpq9fvWnFjyyWDU5YcocTdp7N+nhr1lXd5M/tKed7fAq5LbB8kVEV5ksom+ZS2/QL4Q+CHwIcIP+hLCZ3QXwD2dd2tleatO4b1SRnPJEplr4tTPmLvnMtGNPf+COuDeQ0W3UGI42AcKPZ6EfbIrmlD1w9dsavFmJbulcqLaZhPn7heHZXllO1YfobGX1rrgBEeOmGa0weoARqfO8U/d0Jn9FPA5xP79hFm9ZwVs6bUWSMiIiI9WQOwgNBB83lCktTLgbVdeVOlGjnj2QF9qs67KsKWFL6WSkdP185cc0/m3aMvbf3u1HYv+TKYMOi8aOXA+1dN37Lkpu3J18bMeu5i86qFZpwZqXZYsXnRDc927DuRYmSTcV4FNHnewNMeZly8ZO1f4rcGuBZ4idCI+p+ok6Y7eY0Qr/6Bxk61G4FXCUlRn6byeT7Krv+FH5hhZok8YjY5Fdnk1o/KX/EXxXHRjXYzJvQeMnjl3tkDpw9+YkteTKufO+bilKUXgiVm3/iK6kc2KqaV3wzy88dNzn61RzHPvS+hg+erhAGanJ8ROjq3N3dQT6TOGhERETkbNABfz36dTw9b2jHmvlVDol7p5x3rj/kgw1pcxmVYLREvpi/ql6mtW7MP44C5HedEw5RNS29udbp54hzXpFLpbbWz1m4Efxe3vsAIcx+Okcq+7RAeL2w4ES0qx/cojRyGECqb9ScsN2tt2V4t8CKQ8TBqfICQu2lKW8sLCEsD/hc9PG/DWW4ncD0hF9eThOo5Qwh5O+YROvAe7rK7a6f3ZowcAPbVUs/j7ZhZA9mYlu69bf/c8SGmQV/MRpgzHLIxzTnk+MIDh44oppVZtsO55OdO2501MwkJuZMxcxchh903y3D9bkWdNSIiInK26XHLB2K3qshsXBhbLjKnrFnKwhTyGgwy6XSLuU2OHjpyXb9z+08Ev9qMazAblT1+AtiE3CUdTpr7b91ZGcdHF2xZMrXVpJDSYVXAuHYekyL3vINictkcyn5J97eKsCRqOvCfCcvfziVU8OoxvF//Sy2RG6ajYrNWG+2HTh267rxeAyYCV2NcY9gojMaYlmN+0uG3wMqGo6cWtJXgWDrsUij9udN2Z82HaOyo2UbokF4KvF+Ga3c75cowLyIiIr9flhMSlxaaAqzu5HuRdhp9y3d6c0GfGnqnLkhBTRz74djszdcWv7wD5vXYMqciZ5FaQtnhF4AfdfG9dHtbbhnde+AIanpH6QuIohp3P3zKTr654tHXdszrwaWbpYlPE6qpPUv3yEvzbUIlqkJXAP9S6snVWSMiIiId0VJnzRsUt+Z8PurUERERke5nOfCxIt43ksbkyEll6azRMigREREpp0vafgsQ8sqIiIiIdDcfBj7R1TfRkTrmIiIiIiIiIiJSIVoGJSIiIh1RC1xUwvEbgR1luhcRERGRcvk0pSVM/jnFLQkXERERERERERERERERERERERERERERERERERERERERERERERERERERERERERERERERERERERERERERERERERERERERERERERERERERERERERERERERERERERERERERERERERERERERERERERERERERERERERERERERERERERERERERERERERERERERERERERERERERERERERERERERERERERERERERERERERERERERERERERERERERERERERERERERERERERERERERERERERERERERERERERERERHpnv4/RpCsmF20amUAAAAASUVORK5CYII=)"
      ],
      "metadata": {
        "id": "AGnJh-K_VE9r"
      }
    },
    {
      "cell_type": "markdown",
      "source": [
        "## 2.tf.variable()"
      ],
      "metadata": {
        "id": "yggf5YD_Z-9l"
      }
    },
    {
      "cell_type": "code",
      "source": [
        "tf.Variable"
      ],
      "metadata": {
        "colab": {
          "base_uri": "https://localhost:8080/"
        },
        "id": "80AUlC78UEb7",
        "outputId": "14099f03-950c-4be3-d4f0-21227fe8f341"
      },
      "execution_count": 8,
      "outputs": [
        {
          "output_type": "execute_result",
          "data": {
            "text/plain": [
              "tensorflow.python.ops.variables.Variable"
            ]
          },
          "metadata": {},
          "execution_count": 8
        }
      ]
    },
    {
      "cell_type": "code",
      "source": [
        "changable_tensor = tf.Variable([1,2,3])\n",
        "changable_tensor"
      ],
      "metadata": {
        "colab": {
          "base_uri": "https://localhost:8080/"
        },
        "id": "7_KSlzsravc_",
        "outputId": "54c6dff7-5b77-4d1b-fc44-5f36ae08428b"
      },
      "execution_count": 9,
      "outputs": [
        {
          "output_type": "execute_result",
          "data": {
            "text/plain": [
              "<tf.Variable 'Variable:0' shape=(3,) dtype=int32, numpy=array([1, 2, 3], dtype=int32)>"
            ]
          },
          "metadata": {},
          "execution_count": 9
        }
      ]
    },
    {
      "cell_type": "code",
      "source": [
        "changable_tensor[0].assign(5)"
      ],
      "metadata": {
        "colab": {
          "base_uri": "https://localhost:8080/"
        },
        "id": "UhZ6MYJzme_R",
        "outputId": "65c122a2-5ed6-466f-e44b-17d7489dc12e"
      },
      "execution_count": 10,
      "outputs": [
        {
          "output_type": "execute_result",
          "data": {
            "text/plain": [
              "<tf.Variable 'UnreadVariable' shape=(3,) dtype=int32, numpy=array([5, 2, 3], dtype=int32)>"
            ]
          },
          "metadata": {},
          "execution_count": 10
        }
      ]
    },
    {
      "cell_type": "markdown",
      "source": [
        "## 3.tf.random()"
      ],
      "metadata": {
        "id": "3gAdYGBGmkeL"
      }
    },
    {
      "cell_type": "code",
      "source": [
        "# create two random but same tensors\n",
        "random1 = tf.random.Generator.from_seed(42) #set seed for reproducibility\n",
        "random1 = random1.normal(shape=(3,2))\n",
        "\n",
        "random2 = tf.random.Generator.from_seed(42)\n",
        "random2 = random2.normal(shape=(3,2))\n",
        "\n",
        "random1, random2, random1 == random2"
      ],
      "metadata": {
        "colab": {
          "base_uri": "https://localhost:8080/"
        },
        "id": "OYuuB7bXme9d",
        "outputId": "e68cee05-3fc0-437d-be61-9aece64d103f"
      },
      "execution_count": 11,
      "outputs": [
        {
          "output_type": "execute_result",
          "data": {
            "text/plain": [
              "(<tf.Tensor: shape=(3, 2), dtype=float32, numpy=\n",
              " array([[-0.7565803 , -0.06854702],\n",
              "        [ 0.07595026, -1.2573844 ],\n",
              "        [-0.23193765, -1.8107855 ]], dtype=float32)>,\n",
              " <tf.Tensor: shape=(3, 2), dtype=float32, numpy=\n",
              " array([[-0.7565803 , -0.06854702],\n",
              "        [ 0.07595026, -1.2573844 ],\n",
              "        [-0.23193765, -1.8107855 ]], dtype=float32)>,\n",
              " <tf.Tensor: shape=(3, 2), dtype=bool, numpy=\n",
              " array([[ True,  True],\n",
              "        [ True,  True],\n",
              "        [ True,  True]])>)"
            ]
          },
          "metadata": {},
          "execution_count": 11
        }
      ]
    },
    {
      "cell_type": "code",
      "source": [
        "#using tensor\n",
        "random3 = torch.rand(2,3)\n",
        "random3, random3.T"
      ],
      "metadata": {
        "colab": {
          "base_uri": "https://localhost:8080/"
        },
        "id": "XU-fim7p1qcx",
        "outputId": "2ed1e402-1337-4364-b723-d37ffb85f630"
      },
      "execution_count": 94,
      "outputs": [
        {
          "output_type": "execute_result",
          "data": {
            "text/plain": [
              "(tensor([[0.3452, 0.8395, 0.4913],\n",
              "         [0.4238, 0.3090, 0.8776]]),\n",
              " tensor([[0.3452, 0.4238],\n",
              "         [0.8395, 0.3090],\n",
              "         [0.4913, 0.8776]]))"
            ]
          },
          "metadata": {},
          "execution_count": 94
        }
      ]
    },
    {
      "cell_type": "markdown",
      "source": [
        "## shuffle the order of elements in tensor"
      ],
      "metadata": {
        "id": "WLcB5lrwnrWN"
      }
    },
    {
      "cell_type": "code",
      "source": [
        "# shuffle\n",
        "not_suffled = tf.constant([[10,7],\n",
        "                           [3,4],\n",
        "                           [2,5]])\n",
        "\n",
        "tf.random.shuffle(not_suffled) #suffled along first dimension ie, row"
      ],
      "metadata": {
        "colab": {
          "base_uri": "https://localhost:8080/"
        },
        "id": "vfw3BktNnJb4",
        "outputId": "725b4ae0-ec32-4a5c-ea33-b927504cba1f"
      },
      "execution_count": 12,
      "outputs": [
        {
          "output_type": "execute_result",
          "data": {
            "text/plain": [
              "<tf.Tensor: shape=(3, 2), dtype=int32, numpy=\n",
              "array([[10,  7],\n",
              "       [ 3,  4],\n",
              "       [ 2,  5]], dtype=int32)>"
            ]
          },
          "metadata": {},
          "execution_count": 12
        }
      ]
    },
    {
      "cell_type": "code",
      "source": [
        "tf.random.set_seed(42) #global level seed\n",
        "tf.random.shuffle(not_suffled,seed=42) #operation level random seed\n",
        "\n",
        "#not shuffled here"
      ],
      "metadata": {
        "colab": {
          "base_uri": "https://localhost:8080/"
        },
        "id": "hS-SBepGo8XE",
        "outputId": "6239b800-c832-4b5f-bddd-8973578ad1bf"
      },
      "execution_count": 13,
      "outputs": [
        {
          "output_type": "execute_result",
          "data": {
            "text/plain": [
              "<tf.Tensor: shape=(3, 2), dtype=int32, numpy=\n",
              "array([[10,  7],\n",
              "       [ 3,  4],\n",
              "       [ 2,  5]], dtype=int32)>"
            ]
          },
          "metadata": {},
          "execution_count": 13
        }
      ]
    },
    {
      "cell_type": "code",
      "source": [
        "#using torch\n"
      ],
      "metadata": {
        "id": "EOlZKuo717Ne"
      },
      "execution_count": 98,
      "outputs": []
    },
    {
      "cell_type": "markdown",
      "source": [
        "## 4.other ways to create tensor"
      ],
      "metadata": {
        "id": "c-OYfLV9qosQ"
      }
    },
    {
      "cell_type": "code",
      "source": [
        "#create tensor of all ones\n",
        "tf.ones([3,3])\n"
      ],
      "metadata": {
        "colab": {
          "base_uri": "https://localhost:8080/"
        },
        "id": "ERDhKPdrpipC",
        "outputId": "703decd7-5ead-438f-e9d4-2d1b27ea5353"
      },
      "execution_count": 14,
      "outputs": [
        {
          "output_type": "execute_result",
          "data": {
            "text/plain": [
              "<tf.Tensor: shape=(3, 3), dtype=float32, numpy=\n",
              "array([[1., 1., 1.],\n",
              "       [1., 1., 1.],\n",
              "       [1., 1., 1.]], dtype=float32)>"
            ]
          },
          "metadata": {},
          "execution_count": 14
        }
      ]
    },
    {
      "cell_type": "code",
      "source": [
        "tf.zeros((3,3))"
      ],
      "metadata": {
        "colab": {
          "base_uri": "https://localhost:8080/"
        },
        "id": "4xq_sOr0qs8X",
        "outputId": "88193dc5-ed97-4ad1-bcd9-d3cb59e497fc"
      },
      "execution_count": 15,
      "outputs": [
        {
          "output_type": "execute_result",
          "data": {
            "text/plain": [
              "<tf.Tensor: shape=(3, 3), dtype=float32, numpy=\n",
              "array([[0., 0., 0.],\n",
              "       [0., 0., 0.],\n",
              "       [0., 0., 0.]], dtype=float32)>"
            ]
          },
          "metadata": {},
          "execution_count": 15
        }
      ]
    },
    {
      "cell_type": "code",
      "source": [
        "# numpy array to tensors\n",
        "import numpy as np\n",
        "\n",
        "numpy_A = np.arange(1,25,dtype=np.int32)\n",
        "print(numpy_A)\n",
        "\n",
        "A = tf.constant(numpy_A)\n",
        "B = tf.constant(numpy_A,shape=(2,3,4))\n",
        "A,B"
      ],
      "metadata": {
        "colab": {
          "base_uri": "https://localhost:8080/"
        },
        "id": "zwNswhT0qs7G",
        "outputId": "6ef274af-0c46-4ce7-a073-eada868ed962"
      },
      "execution_count": 16,
      "outputs": [
        {
          "output_type": "stream",
          "name": "stdout",
          "text": [
            "[ 1  2  3  4  5  6  7  8  9 10 11 12 13 14 15 16 17 18 19 20 21 22 23 24]\n"
          ]
        },
        {
          "output_type": "execute_result",
          "data": {
            "text/plain": [
              "(<tf.Tensor: shape=(24,), dtype=int32, numpy=\n",
              " array([ 1,  2,  3,  4,  5,  6,  7,  8,  9, 10, 11, 12, 13, 14, 15, 16, 17,\n",
              "        18, 19, 20, 21, 22, 23, 24], dtype=int32)>,\n",
              " <tf.Tensor: shape=(2, 3, 4), dtype=int32, numpy=\n",
              " array([[[ 1,  2,  3,  4],\n",
              "         [ 5,  6,  7,  8],\n",
              "         [ 9, 10, 11, 12]],\n",
              " \n",
              "        [[13, 14, 15, 16],\n",
              "         [17, 18, 19, 20],\n",
              "         [21, 22, 23, 24]]], dtype=int32)>)"
            ]
          },
          "metadata": {},
          "execution_count": 16
        }
      ]
    },
    {
      "cell_type": "code",
      "source": [
        "#using torch\n",
        "A_torch = torch.zeros(2,3)\n",
        "B_torch = torch.ones(2,3)\n",
        "\n",
        "A_torch,B_torch\n"
      ],
      "metadata": {
        "colab": {
          "base_uri": "https://localhost:8080/"
        },
        "id": "S7N7cEjq2-NA",
        "outputId": "fe263864-e1ad-4a7b-a76b-7bfd0fa57cd7"
      },
      "execution_count": 101,
      "outputs": [
        {
          "output_type": "execute_result",
          "data": {
            "text/plain": [
              "(tensor([[0., 0., 0.],\n",
              "         [0., 0., 0.]]),\n",
              " tensor([[1., 1., 1.],\n",
              "         [1., 1., 1.]]))"
            ]
          },
          "metadata": {},
          "execution_count": 101
        }
      ]
    },
    {
      "cell_type": "markdown",
      "source": [
        "# 2.Tensor Attribute\n",
        "\n",
        "*   List item\n",
        "*   List item\n",
        "\n"
      ],
      "metadata": {
        "id": "5V0I2qGgsO6M"
      }
    },
    {
      "cell_type": "code",
      "source": [
        "#Rank\n",
        "A = tf.zeros([2,3,4,5])\n",
        "A"
      ],
      "metadata": {
        "colab": {
          "base_uri": "https://localhost:8080/"
        },
        "id": "XaqT6AdasSYo",
        "outputId": "9d96abd7-a8b9-498b-8cd4-ee482311d389"
      },
      "execution_count": 17,
      "outputs": [
        {
          "output_type": "execute_result",
          "data": {
            "text/plain": [
              "<tf.Tensor: shape=(2, 3, 4, 5), dtype=float32, numpy=\n",
              "array([[[[0., 0., 0., 0., 0.],\n",
              "         [0., 0., 0., 0., 0.],\n",
              "         [0., 0., 0., 0., 0.],\n",
              "         [0., 0., 0., 0., 0.]],\n",
              "\n",
              "        [[0., 0., 0., 0., 0.],\n",
              "         [0., 0., 0., 0., 0.],\n",
              "         [0., 0., 0., 0., 0.],\n",
              "         [0., 0., 0., 0., 0.]],\n",
              "\n",
              "        [[0., 0., 0., 0., 0.],\n",
              "         [0., 0., 0., 0., 0.],\n",
              "         [0., 0., 0., 0., 0.],\n",
              "         [0., 0., 0., 0., 0.]]],\n",
              "\n",
              "\n",
              "       [[[0., 0., 0., 0., 0.],\n",
              "         [0., 0., 0., 0., 0.],\n",
              "         [0., 0., 0., 0., 0.],\n",
              "         [0., 0., 0., 0., 0.]],\n",
              "\n",
              "        [[0., 0., 0., 0., 0.],\n",
              "         [0., 0., 0., 0., 0.],\n",
              "         [0., 0., 0., 0., 0.],\n",
              "         [0., 0., 0., 0., 0.]],\n",
              "\n",
              "        [[0., 0., 0., 0., 0.],\n",
              "         [0., 0., 0., 0., 0.],\n",
              "         [0., 0., 0., 0., 0.],\n",
              "         [0., 0., 0., 0., 0.]]]], dtype=float32)>"
            ]
          },
          "metadata": {},
          "execution_count": 17
        }
      ]
    },
    {
      "cell_type": "code",
      "source": [
        "A[0]"
      ],
      "metadata": {
        "colab": {
          "base_uri": "https://localhost:8080/"
        },
        "id": "Y2pmmZ_ouhmT",
        "outputId": "64e3aa2a-fedb-49a5-a826-16ab60aa638d"
      },
      "execution_count": 18,
      "outputs": [
        {
          "output_type": "execute_result",
          "data": {
            "text/plain": [
              "<tf.Tensor: shape=(3, 4, 5), dtype=float32, numpy=\n",
              "array([[[0., 0., 0., 0., 0.],\n",
              "        [0., 0., 0., 0., 0.],\n",
              "        [0., 0., 0., 0., 0.],\n",
              "        [0., 0., 0., 0., 0.]],\n",
              "\n",
              "       [[0., 0., 0., 0., 0.],\n",
              "        [0., 0., 0., 0., 0.],\n",
              "        [0., 0., 0., 0., 0.],\n",
              "        [0., 0., 0., 0., 0.]],\n",
              "\n",
              "       [[0., 0., 0., 0., 0.],\n",
              "        [0., 0., 0., 0., 0.],\n",
              "        [0., 0., 0., 0., 0.],\n",
              "        [0., 0., 0., 0., 0.]]], dtype=float32)>"
            ]
          },
          "metadata": {},
          "execution_count": 18
        }
      ]
    },
    {
      "cell_type": "code",
      "source": [
        "A.shape, A.ndim, tf.size(A)"
      ],
      "metadata": {
        "colab": {
          "base_uri": "https://localhost:8080/"
        },
        "id": "xdQWWA1PuqKK",
        "outputId": "cecdefc8-cb18-4e1b-d1c9-3579cea9f0fc"
      },
      "execution_count": 19,
      "outputs": [
        {
          "output_type": "execute_result",
          "data": {
            "text/plain": [
              "(TensorShape([2, 3, 4, 5]), 4, <tf.Tensor: shape=(), dtype=int32, numpy=120>)"
            ]
          },
          "metadata": {},
          "execution_count": 19
        }
      ]
    },
    {
      "cell_type": "code",
      "source": [
        "2*3*4*5"
      ],
      "metadata": {
        "colab": {
          "base_uri": "https://localhost:8080/"
        },
        "id": "dEctPaeZu1YX",
        "outputId": "b033b30b-fee4-4856-c178-befe6ab57c50"
      },
      "execution_count": 20,
      "outputs": [
        {
          "output_type": "execute_result",
          "data": {
            "text/plain": [
              "120"
            ]
          },
          "metadata": {},
          "execution_count": 20
        }
      ]
    },
    {
      "cell_type": "code",
      "source": [
        "# Get various attributes of our tensor\n",
        "A.dtype, A.ndim, A.shape, A.shape[0], A.shape[-1], tf.size(A), tf.size(A).numpy()"
      ],
      "metadata": {
        "colab": {
          "base_uri": "https://localhost:8080/"
        },
        "id": "SwpGCo3Nu46g",
        "outputId": "f390b25a-8549-4752-c76a-f4cfca462042"
      },
      "execution_count": 21,
      "outputs": [
        {
          "output_type": "execute_result",
          "data": {
            "text/plain": [
              "(tf.float32,\n",
              " 4,\n",
              " TensorShape([2, 3, 4, 5]),\n",
              " 2,\n",
              " 5,\n",
              " <tf.Tensor: shape=(), dtype=int32, numpy=120>,\n",
              " 120)"
            ]
          },
          "metadata": {},
          "execution_count": 21
        }
      ]
    },
    {
      "cell_type": "code",
      "source": [
        "#using torch\n",
        "A_torch.dtype, A_torch.ndim, A_torch.shape, A_torch.shape[0],A_torch.shape[-1],A_torch.size()"
      ],
      "metadata": {
        "colab": {
          "base_uri": "https://localhost:8080/",
          "height": 205
        },
        "id": "jdb13evK3eHI",
        "outputId": "cddb56df-5745-4978-b645-e248e2be7eb0"
      },
      "execution_count": 106,
      "outputs": [
        {
          "output_type": "error",
          "ename": "AttributeError",
          "evalue": "ignored",
          "traceback": [
            "\u001b[0;31m---------------------------------------------------------------------------\u001b[0m",
            "\u001b[0;31mAttributeError\u001b[0m                            Traceback (most recent call last)",
            "\u001b[0;32m<ipython-input-106-632f742841df>\u001b[0m in \u001b[0;36m<cell line: 2>\u001b[0;34m()\u001b[0m\n\u001b[1;32m      1\u001b[0m \u001b[0;31m#using torch\u001b[0m\u001b[0;34m\u001b[0m\u001b[0;34m\u001b[0m\u001b[0m\n\u001b[0;32m----> 2\u001b[0;31m \u001b[0mA_torch\u001b[0m\u001b[0;34m.\u001b[0m\u001b[0mdtype\u001b[0m\u001b[0;34m,\u001b[0m \u001b[0mA_torch\u001b[0m\u001b[0;34m.\u001b[0m\u001b[0mndim\u001b[0m\u001b[0;34m,\u001b[0m \u001b[0mA_torch\u001b[0m\u001b[0;34m.\u001b[0m\u001b[0mshape\u001b[0m\u001b[0;34m,\u001b[0m \u001b[0mA_torch\u001b[0m\u001b[0;34m.\u001b[0m\u001b[0mshape\u001b[0m\u001b[0;34m[\u001b[0m\u001b[0;36m0\u001b[0m\u001b[0;34m]\u001b[0m\u001b[0;34m,\u001b[0m\u001b[0mA_torch\u001b[0m\u001b[0;34m.\u001b[0m\u001b[0mshape\u001b[0m\u001b[0;34m[\u001b[0m\u001b[0;34m-\u001b[0m\u001b[0;36m1\u001b[0m\u001b[0;34m]\u001b[0m\u001b[0;34m,\u001b[0m\u001b[0mtorch\u001b[0m\u001b[0;34m.\u001b[0m\u001b[0msize\u001b[0m\u001b[0;34m(\u001b[0m\u001b[0mA_torch\u001b[0m\u001b[0;34m)\u001b[0m\u001b[0;34m\u001b[0m\u001b[0;34m\u001b[0m\u001b[0m\n\u001b[0m",
            "\u001b[0;31mAttributeError\u001b[0m: module 'torch' has no attribute 'size'"
          ]
        }
      ]
    },
    {
      "cell_type": "markdown",
      "source": [
        "# 3.Indexing tensors\n",
        "\n",
        "just like python list"
      ],
      "metadata": {
        "id": "Rc7G0o_DwZuB"
      }
    },
    {
      "cell_type": "code",
      "source": [
        "# first two elements of each dimension\n",
        "A[:2,:2,:2,:2]"
      ],
      "metadata": {
        "colab": {
          "base_uri": "https://localhost:8080/"
        },
        "id": "0ES9QDw6wZXo",
        "outputId": "0d4c3847-6c43-4888-c51c-e2ccb8e3aa5d"
      },
      "execution_count": 22,
      "outputs": [
        {
          "output_type": "execute_result",
          "data": {
            "text/plain": [
              "<tf.Tensor: shape=(2, 2, 2, 2), dtype=float32, numpy=\n",
              "array([[[[0., 0.],\n",
              "         [0., 0.]],\n",
              "\n",
              "        [[0., 0.],\n",
              "         [0., 0.]]],\n",
              "\n",
              "\n",
              "       [[[0., 0.],\n",
              "         [0., 0.]],\n",
              "\n",
              "        [[0., 0.],\n",
              "         [0., 0.]]]], dtype=float32)>"
            ]
          },
          "metadata": {},
          "execution_count": 22
        }
      ]
    },
    {
      "cell_type": "code",
      "source": [
        "# get first element from each dimension from each index except last one\n",
        "A[:1,:1,:1,:]"
      ],
      "metadata": {
        "colab": {
          "base_uri": "https://localhost:8080/"
        },
        "id": "Ev-Jm1IrzWji",
        "outputId": "13c1301c-ff72-4a75-9fb2-027a7970684d"
      },
      "execution_count": 23,
      "outputs": [
        {
          "output_type": "execute_result",
          "data": {
            "text/plain": [
              "<tf.Tensor: shape=(1, 1, 1, 5), dtype=float32, numpy=array([[[[0., 0., 0., 0., 0.]]]], dtype=float32)>"
            ]
          },
          "metadata": {},
          "execution_count": 23
        }
      ]
    },
    {
      "cell_type": "code",
      "source": [
        "A[:1,:,:1,:1]"
      ],
      "metadata": {
        "colab": {
          "base_uri": "https://localhost:8080/"
        },
        "id": "Jv7q8D9vz358",
        "outputId": "214e1941-b44b-47e5-983a-e31597510310"
      },
      "execution_count": 24,
      "outputs": [
        {
          "output_type": "execute_result",
          "data": {
            "text/plain": [
              "<tf.Tensor: shape=(1, 3, 1, 1), dtype=float32, numpy=\n",
              "array([[[[0.]],\n",
              "\n",
              "        [[0.]],\n",
              "\n",
              "        [[0.]]]], dtype=float32)>"
            ]
          },
          "metadata": {},
          "execution_count": 24
        }
      ]
    },
    {
      "cell_type": "markdown",
      "source": [
        "# 7.Expanding tensor"
      ],
      "metadata": {
        "id": "2fITR14d0AGs"
      }
    },
    {
      "cell_type": "code",
      "source": [
        "rank2_tensor = tf.zeros((2,3))\n",
        "rank2_tensor.shape, rank2_tensor.ndim"
      ],
      "metadata": {
        "colab": {
          "base_uri": "https://localhost:8080/"
        },
        "id": "jsdcNQHy0FO7",
        "outputId": "1c5bfddd-ae59-4fef-a8c4-a7610f8f2296"
      },
      "execution_count": 25,
      "outputs": [
        {
          "output_type": "execute_result",
          "data": {
            "text/plain": [
              "(TensorShape([2, 3]), 2)"
            ]
          },
          "metadata": {},
          "execution_count": 25
        }
      ]
    },
    {
      "cell_type": "code",
      "source": [
        "#get last item of each row of our rank 2 tensor\n",
        "rank2_tensor[:,-1]"
      ],
      "metadata": {
        "colab": {
          "base_uri": "https://localhost:8080/"
        },
        "id": "gHEAOKBG0UrD",
        "outputId": "de751745-4184-4ab2-86c7-6f4bcaae8888"
      },
      "execution_count": 26,
      "outputs": [
        {
          "output_type": "execute_result",
          "data": {
            "text/plain": [
              "<tf.Tensor: shape=(2,), dtype=float32, numpy=array([0., 0.], dtype=float32)>"
            ]
          },
          "metadata": {},
          "execution_count": 26
        }
      ]
    },
    {
      "cell_type": "code",
      "source": [
        "# Add an extra dimension\n",
        "rank_3_tensor = rank2_tensor[..., tf.newaxis] #rank_3_tensor = rank2_tensor[:,:, tf.newaxis]\n",
        "rank_3_tensor"
      ],
      "metadata": {
        "colab": {
          "base_uri": "https://localhost:8080/"
        },
        "id": "9QRadhy304a2",
        "outputId": "2eea004c-c198-48a1-d2b5-0321c48306cb"
      },
      "execution_count": 27,
      "outputs": [
        {
          "output_type": "execute_result",
          "data": {
            "text/plain": [
              "<tf.Tensor: shape=(2, 3, 1), dtype=float32, numpy=\n",
              "array([[[0.],\n",
              "        [0.],\n",
              "        [0.]],\n",
              "\n",
              "       [[0.],\n",
              "        [0.],\n",
              "        [0.]]], dtype=float32)>"
            ]
          },
          "metadata": {},
          "execution_count": 27
        }
      ]
    },
    {
      "cell_type": "code",
      "source": [
        "# Alternative\n",
        "tf.expand_dims(rank2_tensor,axis=-1) # expand final axis"
      ],
      "metadata": {
        "colab": {
          "base_uri": "https://localhost:8080/"
        },
        "id": "PO6U0r1C04ZP",
        "outputId": "e86d2da3-c248-47cd-98d7-736f12ea9986"
      },
      "execution_count": 28,
      "outputs": [
        {
          "output_type": "execute_result",
          "data": {
            "text/plain": [
              "<tf.Tensor: shape=(2, 3, 1), dtype=float32, numpy=\n",
              "array([[[0.],\n",
              "        [0.],\n",
              "        [0.]],\n",
              "\n",
              "       [[0.],\n",
              "        [0.],\n",
              "        [0.]]], dtype=float32)>"
            ]
          },
          "metadata": {},
          "execution_count": 28
        }
      ]
    },
    {
      "cell_type": "code",
      "source": [
        "tf.expand_dims(rank2_tensor,axis=0) # expand 0-axis\n"
      ],
      "metadata": {
        "colab": {
          "base_uri": "https://localhost:8080/"
        },
        "id": "ibyBZXel1x9U",
        "outputId": "c3278c2b-24cb-4aba-d902-b2d42f50d9e5"
      },
      "execution_count": 29,
      "outputs": [
        {
          "output_type": "execute_result",
          "data": {
            "text/plain": [
              "<tf.Tensor: shape=(1, 2, 3), dtype=float32, numpy=\n",
              "array([[[0., 0., 0.],\n",
              "        [0., 0., 0.]]], dtype=float32)>"
            ]
          },
          "metadata": {},
          "execution_count": 29
        }
      ]
    },
    {
      "cell_type": "code",
      "source": [
        "tf.expand_dims(rank2_tensor,axis=1) # expand in middle\n"
      ],
      "metadata": {
        "colab": {
          "base_uri": "https://localhost:8080/"
        },
        "id": "bk7bk2hn14Ap",
        "outputId": "87b1353c-fb3f-4f18-af52-63e279342141"
      },
      "execution_count": 30,
      "outputs": [
        {
          "output_type": "execute_result",
          "data": {
            "text/plain": [
              "<tf.Tensor: shape=(2, 1, 3), dtype=float32, numpy=\n",
              "array([[[0., 0., 0.]],\n",
              "\n",
              "       [[0., 0., 0.]]], dtype=float32)>"
            ]
          },
          "metadata": {},
          "execution_count": 30
        }
      ]
    },
    {
      "cell_type": "code",
      "source": [
        "#reshape tensor\n",
        "tf.reshape(rank2_tensor,shape=(3,2))"
      ],
      "metadata": {
        "colab": {
          "base_uri": "https://localhost:8080/"
        },
        "id": "nb5BoQa68HFR",
        "outputId": "9c407218-832f-483b-af35-6fb50df1ae8e"
      },
      "execution_count": 31,
      "outputs": [
        {
          "output_type": "execute_result",
          "data": {
            "text/plain": [
              "<tf.Tensor: shape=(3, 2), dtype=float32, numpy=\n",
              "array([[0., 0.],\n",
              "       [0., 0.],\n",
              "       [0., 0.]], dtype=float32)>"
            ]
          },
          "metadata": {},
          "execution_count": 31
        }
      ]
    },
    {
      "cell_type": "markdown",
      "source": [
        "# 8.Manipulation"
      ],
      "metadata": {
        "id": "UNCgRRP12i-B"
      }
    },
    {
      "cell_type": "code",
      "source": [
        "# +,-,/,*"
      ],
      "metadata": {
        "id": "Nv95y79y2mHB"
      },
      "execution_count": 32,
      "outputs": []
    },
    {
      "cell_type": "markdown",
      "source": [
        "# 9.Matrix mul (Dot product)"
      ],
      "metadata": {
        "id": "Lrz2stUa5SAj"
      }
    },
    {
      "cell_type": "code",
      "source": [
        "%%timeit\n",
        "A = tf.constant([[1,2],\n",
        "                [3,4],\n",
        "                 [5,6]])\n",
        "tf.matmul(A,tf.transpose(A))#dot product"
      ],
      "metadata": {
        "colab": {
          "base_uri": "https://localhost:8080/"
        },
        "id": "Pshyy25G5VCR",
        "outputId": "3ab575dc-e1af-40df-e417-faed82e8d1de"
      },
      "execution_count": 70,
      "outputs": [
        {
          "output_type": "stream",
          "name": "stdout",
          "text": [
            "598 µs ± 32.5 µs per loop (mean ± std. dev. of 7 runs, 1000 loops each)\n"
          ]
        }
      ]
    },
    {
      "cell_type": "code",
      "source": [
        "%%timeit\n",
        "A@tf.transpose(A) #dot product #tanspose=flip axes"
      ],
      "metadata": {
        "colab": {
          "base_uri": "https://localhost:8080/"
        },
        "id": "JoHlAxJ1683b",
        "outputId": "d43d8649-cd7d-462a-80ea-95befd1c44d4"
      },
      "execution_count": 66,
      "outputs": [
        {
          "output_type": "stream",
          "name": "stdout",
          "text": [
            "523 µs ± 209 µs per loop (mean ± std. dev. of 7 runs, 1000 loops each)\n"
          ]
        }
      ]
    },
    {
      "cell_type": "code",
      "source": [
        "%%timeit\n",
        "tf.tensordot(A,tf.transpose(A),axes=1) #axes=1 is equivalent to matrix multiplication.\n",
        "                                      # axes=0 gives the outer product,"
      ],
      "metadata": {
        "colab": {
          "base_uri": "https://localhost:8080/"
        },
        "id": "sGzCMnTH-Lby",
        "outputId": "9a49eb54-a660-45fd-abc0-385b6e9a7b77"
      },
      "execution_count": 69,
      "outputs": [
        {
          "output_type": "stream",
          "name": "stdout",
          "text": [
            "555 µs ± 40.8 µs per loop (mean ± std. dev. of 7 runs, 1000 loops each)\n"
          ]
        }
      ]
    },
    {
      "cell_type": "code",
      "source": [
        "#transpose and reshape is different\n",
        "A, tf.reshape(A,shape=(2,3)), tf.transpose(A)"
      ],
      "metadata": {
        "colab": {
          "base_uri": "https://localhost:8080/"
        },
        "id": "yYoIOWeAFCz-",
        "outputId": "251e6437-0dd3-456a-a0f0-da15aa1d3fb4"
      },
      "execution_count": 36,
      "outputs": [
        {
          "output_type": "execute_result",
          "data": {
            "text/plain": [
              "(<tf.Tensor: shape=(3, 2), dtype=int32, numpy=\n",
              " array([[1, 2],\n",
              "        [3, 4],\n",
              "        [5, 6]], dtype=int32)>,\n",
              " <tf.Tensor: shape=(2, 3), dtype=int32, numpy=\n",
              " array([[1, 2, 3],\n",
              "        [4, 5, 6]], dtype=int32)>,\n",
              " <tf.Tensor: shape=(2, 3), dtype=int32, numpy=\n",
              " array([[1, 3, 5],\n",
              "        [2, 4, 6]], dtype=int32)>)"
            ]
          },
          "metadata": {},
          "execution_count": 36
        }
      ]
    },
    {
      "cell_type": "markdown",
      "source": [
        "# 10.Change datatype (tf.cast())"
      ],
      "metadata": {
        "id": "YMysd7V2G7ZK"
      }
    },
    {
      "cell_type": "code",
      "source": [
        "B = tf.constant([1.7, 7.4])\n",
        "B.dtype"
      ],
      "metadata": {
        "colab": {
          "base_uri": "https://localhost:8080/"
        },
        "id": "l9lLP2TGFCjp",
        "outputId": "6b5f6ff7-f06f-4a14-b025-63641f5d7dc6"
      },
      "execution_count": 37,
      "outputs": [
        {
          "output_type": "execute_result",
          "data": {
            "text/plain": [
              "tf.float32"
            ]
          },
          "metadata": {},
          "execution_count": 37
        }
      ]
    },
    {
      "cell_type": "code",
      "source": [
        "C = tf.constant([7,10])\n",
        "C.dtype"
      ],
      "metadata": {
        "colab": {
          "base_uri": "https://localhost:8080/"
        },
        "id": "7gIeLELLFChE",
        "outputId": "729b812c-9dd6-4e43-f80f-6d8052d39a06"
      },
      "execution_count": 38,
      "outputs": [
        {
          "output_type": "execute_result",
          "data": {
            "text/plain": [
              "tf.int32"
            ]
          },
          "metadata": {},
          "execution_count": 38
        }
      ]
    },
    {
      "cell_type": "code",
      "source": [
        "#change float32 to float16 (Reduced precision)\n",
        "D = tf.cast(B,dtype=tf.float16)\n",
        "D"
      ],
      "metadata": {
        "colab": {
          "base_uri": "https://localhost:8080/"
        },
        "id": "bKcpBj_oHTyd",
        "outputId": "7e209f76-dedb-4dbf-e98a-400a8cb7f205"
      },
      "execution_count": 39,
      "outputs": [
        {
          "output_type": "execute_result",
          "data": {
            "text/plain": [
              "<tf.Tensor: shape=(2,), dtype=float16, numpy=array([1.7, 7.4], dtype=float16)>"
            ]
          },
          "metadata": {},
          "execution_count": 39
        }
      ]
    },
    {
      "cell_type": "markdown",
      "source": [
        "# 11.Aggregating tensors\n",
        "\n",
        "Aggregating tensors = Condensing them from multiple values down to a smaller amount of values.\n",
        "\n",
        "* abs\n",
        "* min\n",
        "* max\n",
        "* mean\n",
        "* sum\n",
        "* var\n",
        "* std"
      ],
      "metadata": {
        "id": "SizHB9_wInkB"
      }
    },
    {
      "cell_type": "code",
      "source": [
        "# Get absolute values\n",
        "D = tf.constant([-7,-10])\n",
        "tf.abs(D)"
      ],
      "metadata": {
        "colab": {
          "base_uri": "https://localhost:8080/"
        },
        "id": "AEtBZ3wsJFe1",
        "outputId": "c4b11ba3-6d1c-471b-c9d4-f7f9dcdb8723"
      },
      "execution_count": 40,
      "outputs": [
        {
          "output_type": "execute_result",
          "data": {
            "text/plain": [
              "<tf.Tensor: shape=(2,), dtype=int32, numpy=array([ 7, 10], dtype=int32)>"
            ]
          },
          "metadata": {},
          "execution_count": 40
        }
      ]
    },
    {
      "cell_type": "code",
      "source": [
        "#random tensor\n",
        "E = tf.constant(np.random.randint(0,100,50))\n",
        "E, E.shape, E.ndim, tf.size(E)"
      ],
      "metadata": {
        "colab": {
          "base_uri": "https://localhost:8080/"
        },
        "id": "PTLxn1mGM-3j",
        "outputId": "60bf2bb6-8ce9-42bd-e8f3-d17174e3f346"
      },
      "execution_count": 41,
      "outputs": [
        {
          "output_type": "execute_result",
          "data": {
            "text/plain": [
              "(<tf.Tensor: shape=(50,), dtype=int64, numpy=\n",
              " array([22, 28, 43, 26, 43, 32, 99, 36, 79, 42, 22, 35, 90, 64, 82, 71,  3,\n",
              "         9,  6, 40, 51,  6, 81, 12, 35, 42,  6, 73, 88, 95, 94, 14, 86, 39,\n",
              "        76, 47, 88, 89, 85, 33, 52, 13, 73, 87, 78,  9, 86, 48, 31, 53])>,\n",
              " TensorShape([50]),\n",
              " 1,\n",
              " <tf.Tensor: shape=(), dtype=int32, numpy=50>)"
            ]
          },
          "metadata": {},
          "execution_count": 41
        }
      ]
    },
    {
      "cell_type": "code",
      "source": [
        "# min, max, mean, sum\n",
        "tf.reduce_min(E) , tf.reduce_max(E), tf.reduce_mean(E), tf.reduce_sum(E)"
      ],
      "metadata": {
        "colab": {
          "base_uri": "https://localhost:8080/"
        },
        "id": "93QfR06JN1FG",
        "outputId": "3987764e-4152-4939-c577-f6281c5f1996"
      },
      "execution_count": 42,
      "outputs": [
        {
          "output_type": "execute_result",
          "data": {
            "text/plain": [
              "(<tf.Tensor: shape=(), dtype=int64, numpy=3>,\n",
              " <tf.Tensor: shape=(), dtype=int64, numpy=99>,\n",
              " <tf.Tensor: shape=(), dtype=int64, numpy=50>,\n",
              " <tf.Tensor: shape=(), dtype=int64, numpy=2542>)"
            ]
          },
          "metadata": {},
          "execution_count": 42
        }
      ]
    },
    {
      "cell_type": "code",
      "source": [
        "import tensorflow_probability as tfp\n",
        "tfp.stats.variance(E)\n",
        "\n",
        "#method 2\n",
        "tf.math.reduce_variance(tf.cast(E,dtype=tf.float32))"
      ],
      "metadata": {
        "colab": {
          "base_uri": "https://localhost:8080/"
        },
        "id": "6_MmXXjJOR7q",
        "outputId": "440a030a-f802-4868-8ed9-f473e3a1e95e"
      },
      "execution_count": 43,
      "outputs": [
        {
          "output_type": "execute_result",
          "data": {
            "text/plain": [
              "<tf.Tensor: shape=(), dtype=float32, numpy=874.2544>"
            ]
          },
          "metadata": {},
          "execution_count": 43
        }
      ]
    },
    {
      "cell_type": "code",
      "source": [
        "tf.math.reduce_std(tf.cast(E,dtype=tf.float32))"
      ],
      "metadata": {
        "colab": {
          "base_uri": "https://localhost:8080/"
        },
        "id": "MEYjjYzdPIGj",
        "outputId": "c413bb76-4324-4241-a421-b6c713bc9e8d"
      },
      "execution_count": 44,
      "outputs": [
        {
          "output_type": "execute_result",
          "data": {
            "text/plain": [
              "<tf.Tensor: shape=(), dtype=float32, numpy=29.567793>"
            ]
          },
          "metadata": {},
          "execution_count": 44
        }
      ]
    },
    {
      "cell_type": "markdown",
      "source": [
        "# 12.Positional min and max"
      ],
      "metadata": {
        "id": "mthBF28dPllb"
      }
    },
    {
      "cell_type": "code",
      "source": [
        "# create tensor\n",
        "tf.random.set_seed(42)\n",
        "F = tf.random.uniform(shape=[50])\n",
        "F"
      ],
      "metadata": {
        "colab": {
          "base_uri": "https://localhost:8080/"
        },
        "id": "f_41ZsKzPkwK",
        "outputId": "1f72a5e9-b8a0-425e-c59f-9255487bb550"
      },
      "execution_count": 45,
      "outputs": [
        {
          "output_type": "execute_result",
          "data": {
            "text/plain": [
              "<tf.Tensor: shape=(50,), dtype=float32, numpy=\n",
              "array([0.6645621 , 0.44100678, 0.3528825 , 0.46448255, 0.03366041,\n",
              "       0.68467236, 0.74011743, 0.8724445 , 0.22632635, 0.22319686,\n",
              "       0.3103881 , 0.7223358 , 0.13318717, 0.5480639 , 0.5746088 ,\n",
              "       0.8996835 , 0.00946367, 0.5212307 , 0.6345445 , 0.1993283 ,\n",
              "       0.72942245, 0.54583454, 0.10756552, 0.6767061 , 0.6602763 ,\n",
              "       0.33695042, 0.60141766, 0.21062577, 0.8527372 , 0.44062173,\n",
              "       0.9485276 , 0.23752594, 0.81179297, 0.5263394 , 0.494308  ,\n",
              "       0.21612847, 0.8457197 , 0.8718841 , 0.3083862 , 0.6868038 ,\n",
              "       0.23764038, 0.7817228 , 0.9671384 , 0.06870162, 0.79873943,\n",
              "       0.66028714, 0.5871513 , 0.16461694, 0.7381023 , 0.32054043],\n",
              "      dtype=float32)>"
            ]
          },
          "metadata": {},
          "execution_count": 45
        }
      ]
    },
    {
      "cell_type": "code",
      "source": [
        "#Find pos. max\n",
        "tf.argmax(F) # returns index with largest value across axes of a tensor"
      ],
      "metadata": {
        "colab": {
          "base_uri": "https://localhost:8080/"
        },
        "id": "ELoKT9GvPktP",
        "outputId": "ab16e161-a905-4623-f230-9b1b3a923896"
      },
      "execution_count": 46,
      "outputs": [
        {
          "output_type": "execute_result",
          "data": {
            "text/plain": [
              "<tf.Tensor: shape=(), dtype=int64, numpy=42>"
            ]
          },
          "metadata": {},
          "execution_count": 46
        }
      ]
    },
    {
      "cell_type": "code",
      "source": [
        "#Index on our largest value pos\n",
        "F[tf.argmax(F)], tf.reduce_max(F)"
      ],
      "metadata": {
        "colab": {
          "base_uri": "https://localhost:8080/"
        },
        "id": "6MTzfcd0RltQ",
        "outputId": "069f4ece-76ff-4117-e40a-184db25829a0"
      },
      "execution_count": 47,
      "outputs": [
        {
          "output_type": "execute_result",
          "data": {
            "text/plain": [
              "(<tf.Tensor: shape=(), dtype=float32, numpy=0.9671384>,\n",
              " <tf.Tensor: shape=(), dtype=float32, numpy=0.9671384>)"
            ]
          },
          "metadata": {},
          "execution_count": 47
        }
      ]
    },
    {
      "cell_type": "code",
      "source": [
        "assert F[tf.argmax(F)] == tf.reduce_max(F)# test"
      ],
      "metadata": {
        "id": "Fgfka-VTR2KB"
      },
      "execution_count": 48,
      "outputs": []
    },
    {
      "cell_type": "code",
      "source": [
        "# Pos. min\n",
        "tf.argmin(F)"
      ],
      "metadata": {
        "colab": {
          "base_uri": "https://localhost:8080/"
        },
        "id": "fDSZXVV8R8QR",
        "outputId": "8e97462e-40a9-4cd8-c31a-e7c95b5425a0"
      },
      "execution_count": 49,
      "outputs": [
        {
          "output_type": "execute_result",
          "data": {
            "text/plain": [
              "<tf.Tensor: shape=(), dtype=int64, numpy=16>"
            ]
          },
          "metadata": {},
          "execution_count": 49
        }
      ]
    },
    {
      "cell_type": "markdown",
      "source": [
        "# 13.Squeezing a tensor"
      ],
      "metadata": {
        "id": "snQH_on8SR62"
      }
    },
    {
      "cell_type": "code",
      "source": [
        "#squeezing (removing all single dimension)\n",
        "tf.random.set_seed(42)\n",
        "G = tf.constant(tf.random.uniform(shape=[50]),shape=[1,1,1,1,50])\n",
        "G"
      ],
      "metadata": {
        "colab": {
          "base_uri": "https://localhost:8080/"
        },
        "id": "rY4ZH7KcSIbI",
        "outputId": "7196a104-3c91-496e-b788-b3204649e63f"
      },
      "execution_count": 50,
      "outputs": [
        {
          "output_type": "execute_result",
          "data": {
            "text/plain": [
              "<tf.Tensor: shape=(1, 1, 1, 1, 50), dtype=float32, numpy=\n",
              "array([[[[[0.6645621 , 0.44100678, 0.3528825 , 0.46448255, 0.03366041,\n",
              "           0.68467236, 0.74011743, 0.8724445 , 0.22632635, 0.22319686,\n",
              "           0.3103881 , 0.7223358 , 0.13318717, 0.5480639 , 0.5746088 ,\n",
              "           0.8996835 , 0.00946367, 0.5212307 , 0.6345445 , 0.1993283 ,\n",
              "           0.72942245, 0.54583454, 0.10756552, 0.6767061 , 0.6602763 ,\n",
              "           0.33695042, 0.60141766, 0.21062577, 0.8527372 , 0.44062173,\n",
              "           0.9485276 , 0.23752594, 0.81179297, 0.5263394 , 0.494308  ,\n",
              "           0.21612847, 0.8457197 , 0.8718841 , 0.3083862 , 0.6868038 ,\n",
              "           0.23764038, 0.7817228 , 0.9671384 , 0.06870162, 0.79873943,\n",
              "           0.66028714, 0.5871513 , 0.16461694, 0.7381023 , 0.32054043]]]]],\n",
              "      dtype=float32)>"
            ]
          },
          "metadata": {},
          "execution_count": 50
        }
      ]
    },
    {
      "cell_type": "code",
      "source": [
        "G_squeezed = tf.squeeze(G)\n",
        "G_squeezed.shape"
      ],
      "metadata": {
        "colab": {
          "base_uri": "https://localhost:8080/"
        },
        "id": "4dTjUUF4SuqF",
        "outputId": "8da814d3-43b9-4cfa-85fa-16df1bfaf1f6"
      },
      "execution_count": 51,
      "outputs": [
        {
          "output_type": "execute_result",
          "data": {
            "text/plain": [
              "TensorShape([50])"
            ]
          },
          "metadata": {},
          "execution_count": 51
        }
      ]
    },
    {
      "cell_type": "markdown",
      "source": [
        "# 14.One-hot encoding"
      ],
      "metadata": {
        "id": "ukT7bNFqTGYe"
      }
    },
    {
      "cell_type": "code",
      "source": [
        "#create a list of indices\n",
        "some_list = [0,1,2,3]\n",
        "\n",
        "#one hot encode our list of indices\n",
        "tf.one_hot(some_list,depth=4)"
      ],
      "metadata": {
        "colab": {
          "base_uri": "https://localhost:8080/"
        },
        "id": "Q0Wa-n5TTKbP",
        "outputId": "a6c7dfea-0e96-4136-fd8e-1f76acc2ff39"
      },
      "execution_count": 52,
      "outputs": [
        {
          "output_type": "execute_result",
          "data": {
            "text/plain": [
              "<tf.Tensor: shape=(4, 4), dtype=float32, numpy=\n",
              "array([[1., 0., 0., 0.],\n",
              "       [0., 1., 0., 0.],\n",
              "       [0., 0., 1., 0.],\n",
              "       [0., 0., 0., 1.]], dtype=float32)>"
            ]
          },
          "metadata": {},
          "execution_count": 52
        }
      ]
    },
    {
      "cell_type": "code",
      "source": [
        "tf.one_hot(some_list,depth=4,on_value=2,off_value=0)#with onvalues/off values"
      ],
      "metadata": {
        "colab": {
          "base_uri": "https://localhost:8080/"
        },
        "id": "IjLg84jmUaQW",
        "outputId": "3a0699c3-ed92-4ee1-a252-f1654e890c7d"
      },
      "execution_count": 53,
      "outputs": [
        {
          "output_type": "execute_result",
          "data": {
            "text/plain": [
              "<tf.Tensor: shape=(4, 4), dtype=int32, numpy=\n",
              "array([[2, 0, 0, 0],\n",
              "       [0, 2, 0, 0],\n",
              "       [0, 0, 2, 0],\n",
              "       [0, 0, 0, 2]], dtype=int32)>"
            ]
          },
          "metadata": {},
          "execution_count": 53
        }
      ]
    },
    {
      "cell_type": "markdown",
      "source": [
        "# 15.math"
      ],
      "metadata": {
        "id": "CpplJsPgVlPW"
      }
    },
    {
      "cell_type": "code",
      "source": [
        "#square,log,sqrt\n",
        "H = tf.range(1,10)\n",
        "tf.square(H), tf.math.log(tf.cast(H,dtype=tf.float32)) , tf.sqrt(tf.cast(H,dtype=tf.float32))"
      ],
      "metadata": {
        "colab": {
          "base_uri": "https://localhost:8080/"
        },
        "id": "WgakA8E4U0u2",
        "outputId": "5e0c2b41-634d-4e9e-f50f-0c1aba8d5304"
      },
      "execution_count": 54,
      "outputs": [
        {
          "output_type": "execute_result",
          "data": {
            "text/plain": [
              "(<tf.Tensor: shape=(9,), dtype=int32, numpy=array([ 1,  4,  9, 16, 25, 36, 49, 64, 81], dtype=int32)>,\n",
              " <tf.Tensor: shape=(9,), dtype=float32, numpy=\n",
              " array([0.       , 0.6931472, 1.0986123, 1.3862944, 1.609438 , 1.7917595,\n",
              "        1.9459102, 2.0794415, 2.1972246], dtype=float32)>,\n",
              " <tf.Tensor: shape=(9,), dtype=float32, numpy=\n",
              " array([1.       , 1.4142135, 1.7320508, 2.       , 2.2360678, 2.4494896,\n",
              "        2.6457512, 2.828427 , 3.       ], dtype=float32)>)"
            ]
          },
          "metadata": {},
          "execution_count": 54
        }
      ]
    },
    {
      "cell_type": "markdown",
      "source": [
        "# 16.Tensor and numpy"
      ],
      "metadata": {
        "id": "yTPhic_vVs12"
      }
    },
    {
      "cell_type": "code",
      "source": [
        "#Tensorflow interacts with numpy array\n",
        "J = tf.constant(np.array([3.,7.,10.]))\n",
        "J"
      ],
      "metadata": {
        "colab": {
          "base_uri": "https://localhost:8080/"
        },
        "id": "tba_vxbLVnva",
        "outputId": "9914941f-8cca-48df-876b-dca47ac1e152"
      },
      "execution_count": 55,
      "outputs": [
        {
          "output_type": "execute_result",
          "data": {
            "text/plain": [
              "<tf.Tensor: shape=(3,), dtype=float64, numpy=array([ 3.,  7., 10.])>"
            ]
          },
          "metadata": {},
          "execution_count": 55
        }
      ]
    },
    {
      "cell_type": "code",
      "source": [
        "J.numpy()[0]"
      ],
      "metadata": {
        "colab": {
          "base_uri": "https://localhost:8080/"
        },
        "id": "oku27scAWa-M",
        "outputId": "10f6e7f6-8de3-4539-ad5e-3b71cfce0c06"
      },
      "execution_count": 56,
      "outputs": [
        {
          "output_type": "execute_result",
          "data": {
            "text/plain": [
              "3.0"
            ]
          },
          "metadata": {},
          "execution_count": 56
        }
      ]
    },
    {
      "cell_type": "code",
      "source": [
        "# tensor to numpy array\n",
        "np.array(J)"
      ],
      "metadata": {
        "colab": {
          "base_uri": "https://localhost:8080/"
        },
        "id": "sUl6Eqi1VnsY",
        "outputId": "b39335fd-b27f-4b4f-c263-c618875aa639"
      },
      "execution_count": 57,
      "outputs": [
        {
          "output_type": "execute_result",
          "data": {
            "text/plain": [
              "array([ 3.,  7., 10.])"
            ]
          },
          "metadata": {},
          "execution_count": 57
        }
      ]
    },
    {
      "cell_type": "code",
      "source": [
        "#be cautious!- different data types\n",
        "tensor_using_numpy = tf.constant(np.array([3.,7.,10.]))\n",
        "tensor_using_list = tf.constant([3.,7.,10.])\n",
        "tensor_using_numpy.dtype, tensor_using_list.dtype"
      ],
      "metadata": {
        "colab": {
          "base_uri": "https://localhost:8080/"
        },
        "id": "VXjLMsmJW4dm",
        "outputId": "3970e651-bb5f-42f0-93d5-65f201bfbb1b"
      },
      "execution_count": 58,
      "outputs": [
        {
          "output_type": "execute_result",
          "data": {
            "text/plain": [
              "(tf.float64, tf.float32)"
            ]
          },
          "metadata": {},
          "execution_count": 58
        }
      ]
    }
  ]
}
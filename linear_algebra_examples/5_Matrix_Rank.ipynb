{
  "nbformat": 4,
  "nbformat_minor": 0,
  "metadata": {
    "colab": {
      "provenance": [],
      "toc_visible": true
    },
    "kernelspec": {
      "name": "python3",
      "display_name": "Python 3"
    },
    "language_info": {
      "name": "python"
    }
  },
  "cells": [
    {
      "cell_type": "markdown",
      "source": [
        "## Import"
      ],
      "metadata": {
        "id": "rMgdelgB9AR6"
      }
    },
    {
      "cell_type": "code",
      "execution_count": null,
      "metadata": {
        "id": "8Znn9Fq9818k"
      },
      "outputs": [],
      "source": [
        "import numpy as np\n",
        "import matplotlib.pyplot as plt\n",
        "import math"
      ]
    },
    {
      "cell_type": "markdown",
      "source": [
        "## Compute rank"
      ],
      "metadata": {
        "id": "lZDXdsc-9HHe"
      }
    },
    {
      "cell_type": "code",
      "source": [
        "# create random matrix\n",
        "A = np.random.randint(1,5,(5,4))\n",
        "ranka = np.linalg.matrix_rank(A)\n",
        "print(A)\n",
        "print(ranka)\n",
        "\n",
        "# create a matrix with last two column repeated\n",
        "B = A\n",
        "B[:,-1] = B[:,-2] # rank reducing method\n",
        "rankb = np.linalg.matrix_rank(B)\n",
        "print(B)\n",
        "print(rankb)\n"
      ],
      "metadata": {
        "colab": {
          "base_uri": "https://localhost:8080/"
        },
        "id": "SDow8k5w9CGn",
        "outputId": "bbf6357b-eddb-42fe-ba5d-a0393414c052"
      },
      "execution_count": null,
      "outputs": [
        {
          "output_type": "stream",
          "name": "stdout",
          "text": [
            "[[1 3 2 4]\n",
            " [3 3 3 2]\n",
            " [3 1 1 2]\n",
            " [2 2 2 4]\n",
            " [2 2 4 3]]\n",
            "4\n",
            "[[1 3 2 2]\n",
            " [3 3 3 3]\n",
            " [3 1 1 1]\n",
            " [2 2 2 2]\n",
            " [2 2 4 4]]\n",
            "3\n"
          ]
        }
      ]
    },
    {
      "cell_type": "code",
      "source": [
        "# adding noise to a rank deficient matrix\n",
        "\n",
        "A = np.round(10*np.random.randn(4,4))\n",
        "\n",
        "#reduce rank\n",
        "A[:,-1] = A[:,-2]\n",
        "\n",
        "#noise level\n",
        "noiseamp = 0.001\n",
        "\n",
        "# add the noise\n",
        "B = A + noiseamp * np.random.randn(4,4)\n",
        "\n",
        "#print rank\n",
        "print('rank (w/o noise) = ',np.linalg.matrix_rank(A))\n",
        "print('rank (with noise) = ',np.linalg.matrix_rank(B))\n"
      ],
      "metadata": {
        "colab": {
          "base_uri": "https://localhost:8080/"
        },
        "id": "pvZypwwr-TPZ",
        "outputId": "b91ceb64-c015-4ea2-b01b-7dcda8b2907d"
      },
      "execution_count": null,
      "outputs": [
        {
          "output_type": "stream",
          "name": "stdout",
          "text": [
            "rank (w/o noise) =  3\n",
            "rank (with noise) =  4\n"
          ]
        }
      ]
    },
    {
      "cell_type": "markdown",
      "source": [
        "### code challenge: reduced rank matrix via mat mul"
      ],
      "metadata": {
        "id": "8MOvid4GnuVo"
      }
    },
    {
      "cell_type": "code",
      "source": [
        "#create a matrix with rank 4\n",
        "A = np.random.randn(10,4)\n",
        "B = np.random.randn(4,10)\n",
        "C = A@B\n",
        "print(C.shape)\n",
        "print(np.linalg.matrix_rank(C))\n",
        "\n",
        "\n",
        "#size \n",
        "m = 10\n",
        "n = 10\n",
        "r = 5 #change\n",
        "\n",
        "A = np.random.randn(m,r) @ np.random.randn(r,n)\n",
        "print(A.shape)\n",
        "print(np.linalg.matrix_rank(A))#rank = min(m,n,r)\n"
      ],
      "metadata": {
        "colab": {
          "base_uri": "https://localhost:8080/"
        },
        "id": "VUyZcyxAnzYe",
        "outputId": "5835bce5-8a2b-403a-cbdc-73b1c033a093"
      },
      "execution_count": null,
      "outputs": [
        {
          "output_type": "stream",
          "name": "stdout",
          "text": [
            "(10, 10)\n",
            "4\n",
            "(10, 10)\n",
            "5\n"
          ]
        }
      ]
    },
    {
      "cell_type": "markdown",
      "source": [
        "### Code challenge: Scaler multiplication and rank"
      ],
      "metadata": {
        "id": "64LMcfVxpeOL"
      }
    },
    {
      "cell_type": "code",
      "source": [
        "#test whether matrix rank is invariant to scaler multiplication ===> correct with one exception: mul by zero\n",
        "\n",
        "#create two matrices\n",
        "A = np.round(10*np.random.randn(5,5)) #Full rank matrix\n",
        "B = np.round(10*np.random.randn(5,5)) #Reduced rank matrix\n",
        "B[:,-2] = B[:,-1]\n",
        "\n",
        "\n",
        "#create some scaler \n",
        "l = np.random.randint(1,10,1) # only 0 can change rank ===> \n",
        "\n",
        "#print rank\n",
        "print(np.linalg.matrix_rank(A))\n",
        "print(np.linalg.matrix_rank(B))\n",
        "print(np.linalg.matrix_rank(l*A))\n",
        "print(np.linalg.matrix_rank(l*B)) #conclusion: with scaler mult. rank is unchanged. (ie, dimension is unchanged)\n",
        "                                    # vector only stretch or compress, it doesnt change direction\n",
        "\n",
        "#check whether rank(l*A) == (l*rank(A))\n",
        "print(np.linalg.matrix_rank(l*A) == (l*np.linalg.matrix_rank(A))) #False"
      ],
      "metadata": {
        "id": "frhtXF9Kpjik",
        "colab": {
          "base_uri": "https://localhost:8080/"
        },
        "outputId": "611149be-8a25-49da-ce57-e87054e1f8fe"
      },
      "execution_count": null,
      "outputs": [
        {
          "output_type": "stream",
          "name": "stdout",
          "text": [
            "5\n",
            "4\n",
            "5\n",
            "4\n",
            "[False]\n"
          ]
        }
      ]
    },
    {
      "cell_type": "markdown",
      "source": [
        "## Rank of A^TA and AA^T"
      ],
      "metadata": {
        "id": "CDk_X3ei_PRu"
      }
    },
    {
      "cell_type": "code",
      "source": [
        "# matrix sizes\n",
        "m = 14\n",
        "n =  3\n",
        "\n",
        "# create matrices\n",
        "A = np.round( 10*np.random.randn(m,n) )\n",
        "print(np.linalg.matrix_rank(A))\n",
        "\n",
        "\n",
        "AtA = A.T@A\n",
        "AAt = A@A.T\n",
        "\n",
        "print(AtA.shape)\n",
        "print(AAt.shape)\n",
        "\n",
        "print(np.linalg.matrix_rank(AtA))\n",
        "print(np.linalg.matrix_rank(AAt))\n",
        "\n",
        "#conclusion: rank doesnot change "
      ],
      "metadata": {
        "colab": {
          "base_uri": "https://localhost:8080/"
        },
        "id": "348P19Ab_RJU",
        "outputId": "c38af26b-095e-4e9c-cb70-00d4f5181cf6"
      },
      "execution_count": null,
      "outputs": [
        {
          "output_type": "stream",
          "name": "stdout",
          "text": [
            "3\n",
            "(3, 3)\n",
            "(14, 14)\n",
            "3\n",
            "3\n"
          ]
        }
      ]
    },
    {
      "cell_type": "markdown",
      "source": [
        "### code challenge: rank of multiplied and summed matrices"
      ],
      "metadata": {
        "id": "R8pD6QNTZwnp"
      }
    },
    {
      "cell_type": "code",
      "source": [
        "#rules: rank(A*B) <= min(rank(A),rank(B))\n",
        "#       rank(A+B) <= rank(A) + rank(B)\n",
        "\n",
        "A =np.round(10*np.random.randn(2,5))\n",
        "B = np.random.randint(1,21,(2,5))\n",
        "AtA = A.T@A #symmetric matrix (2*2)\n",
        "BtB = B.T@B\n",
        "print(A.T.shape)\n",
        "print(B)\n",
        "\n",
        "print(np.linalg.matrix_rank(AtA)) # 5x5 matrix\n",
        "print(np.linalg.matrix_rank(BtB))\n",
        "\n",
        "print((AtA + BtB).shape)\n",
        "print(np.linalg.matrix_rank(AtA @ BtB)) # 5x5 matrix\n",
        "print(np.linalg.matrix_rank(AtA + BtB)) # 5x5 matrix\n",
        "\n",
        "print(np.linalg.matrix_rank(AtA @ BtB) <= min(np.linalg.matrix_rank(AtA),np.linalg.matrix_rank(BtB))) # True\n",
        "print(np.linalg.matrix_rank(AtA+BtB) <= np.linalg.matrix_rank(AtA) + np.linalg.matrix_rank(BtB)) # True"
      ],
      "metadata": {
        "colab": {
          "base_uri": "https://localhost:8080/"
        },
        "id": "BfUzja9yZ4UA",
        "outputId": "5d2ce98f-5020-446d-8eb7-81ac11e186a7"
      },
      "execution_count": null,
      "outputs": [
        {
          "output_type": "stream",
          "name": "stdout",
          "text": [
            "(5, 2)\n",
            "[[14  4 20  4 20]\n",
            " [ 6 13 14  4  3]]\n",
            "2\n",
            "2\n",
            "(5, 5)\n",
            "2\n",
            "4\n",
            "True\n",
            "True\n"
          ]
        }
      ]
    },
    {
      "cell_type": "markdown",
      "source": [
        "## Making a matrix full-rank by \"shifting\""
      ],
      "metadata": {
        "id": "HkBjTJ6bAA7B"
      }
    },
    {
      "cell_type": "code",
      "source": [
        "#size\n",
        "m = 30\n",
        "\n",
        "# square symmetric matrix \n",
        "A = np.random.randn(m,m)\n",
        "A = np.round(10 * A.T@A)\n",
        "\n",
        "#reduce the rank\n",
        "A[:,-1] = A[:,-2]\n",
        "\n",
        "# shift amount\n",
        "l = 0.01\n",
        "\n",
        "#new matrix\n",
        "B = A + l*np.eye(m,m)\n",
        "\n",
        "#print\n",
        "print(np.linalg.matrix_rank(A))\n",
        "print(np.linalg.matrix_rank(B))\n"
      ],
      "metadata": {
        "colab": {
          "base_uri": "https://localhost:8080/"
        },
        "id": "QZamxBY_AE4f",
        "outputId": "68219589-9549-44ca-9832-8ae14b7dcdd6"
      },
      "execution_count": null,
      "outputs": [
        {
          "output_type": "stream",
          "name": "stdout",
          "text": [
            "29\n",
            "30\n"
          ]
        }
      ]
    },
    {
      "cell_type": "markdown",
      "source": [
        "### code challenge: is this vector in span of this set?"
      ],
      "metadata": {
        "id": "-9a5JN1riTIZ"
      }
    },
    {
      "cell_type": "code",
      "source": [
        "# determine whether this vector\n",
        "v = np.array([[1,2,3,4]]).T #column vector banako\n",
        "\n",
        "# sapan of this set?\n",
        "S = np.vstack([[4,3,6,2],[0,4,0,1]]).T # matrix with columns\n",
        "T = np.vstack([[1,2,2,2],[0,0,1,2]]).T\n",
        "print(v.shape)\n",
        "print(S)\n",
        "print(T)\n",
        "\n",
        "Sv = np.concatenate((S,v), axis=1)\n",
        "Tv = np.concatenate((T,v),axis=1)\n",
        "print(Sv)\n",
        "print(Tv)\n",
        "\n",
        "print(np.linalg.matrix_rank(Sv)) # Rank increased:hence, v is not spanned in the set(v is adding new info into matrix)\n",
        "print(np.linalg.matrix_rank(Tv)) # Rank is constant:hence, v is spanned in the set"
      ],
      "metadata": {
        "colab": {
          "base_uri": "https://localhost:8080/"
        },
        "id": "L2RHT7xQiZsi",
        "outputId": "10b8539e-f0d8-40d1-cb17-7b6e51f6c873"
      },
      "execution_count": null,
      "outputs": [
        {
          "output_type": "stream",
          "name": "stdout",
          "text": [
            "(4, 1)\n",
            "[[4 0]\n",
            " [3 4]\n",
            " [6 0]\n",
            " [2 1]]\n",
            "[[1 0]\n",
            " [2 0]\n",
            " [2 1]\n",
            " [2 2]]\n",
            "[[4 0 1]\n",
            " [3 4 2]\n",
            " [6 0 3]\n",
            " [2 1 4]]\n",
            "[[1 0 1]\n",
            " [2 0 2]\n",
            " [2 1 3]\n",
            " [2 2 4]]\n",
            "3\n",
            "2\n"
          ]
        }
      ]
    }
  ]
}
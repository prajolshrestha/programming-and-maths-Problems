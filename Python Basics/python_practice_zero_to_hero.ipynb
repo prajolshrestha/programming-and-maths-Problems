{
  "nbformat": 4,
  "nbformat_minor": 0,
  "metadata": {
    "colab": {
      "provenance": [],
      "toc_visible": true
    },
    "kernelspec": {
      "name": "python3",
      "display_name": "Python 3"
    },
    "language_info": {
      "name": "python"
    }
  },
  "cells": [
    {
      "cell_type": "markdown",
      "source": [
        "## Class"
      ],
      "metadata": {
        "id": "XuBhHr2dU6IP"
      }
    },
    {
      "cell_type": "code",
      "execution_count": null,
      "metadata": {
        "id": "FwLsbIyemAf1"
      },
      "outputs": [],
      "source": [
        "# class\n",
        "class human:\n",
        "      # constructor\n",
        "      def __init__(self, name, age, sex, height): # self refers to new instance that is being created.\n",
        "          # instance variable (attribute)\n",
        "          self.name = name\n",
        "          self.age = age\n",
        "          self.sex = sex\n",
        "          self.height = height\n",
        "\n",
        "      # method\n",
        "      def greet(self):\n",
        "          return print(f\"Hello I am {self.name} and I am {self.age} years old {self.sex}. And, I am {self.height}.\")\n",
        "\n",
        "      def eat(self, food):\n",
        "        return print(f\"I am happy for the {food} from you. I am eating {food} ...\")"
      ]
    },
    {
      "cell_type": "code",
      "source": [
        "# new Instance of class human\n",
        "name = input(\"Please enter human's name:\")\n",
        "age = input(\"Please enter human's age:\")\n",
        "sex = input(\"Please enter human's sex:\")\n",
        "height = input(\"Please enter human's height:\")\n",
        "human = human(name,age, sex, height)"
      ],
      "metadata": {
        "id": "EKneehXBmoPX",
        "colab": {
          "base_uri": "https://localhost:8080/"
        },
        "outputId": "dfc9105b-1a85-461e-9f39-ad25bcd1f507"
      },
      "execution_count": null,
      "outputs": [
        {
          "name": "stdout",
          "output_type": "stream",
          "text": [
            "Please enter your name:prajol\n",
            "Please enter your age:27\n",
            "Please enter your sex:male\n",
            "Please enter your height:5 feet\n"
          ]
        }
      ]
    },
    {
      "cell_type": "code",
      "source": [
        "human.name\n"
      ],
      "metadata": {
        "colab": {
          "base_uri": "https://localhost:8080/",
          "height": 35
        },
        "id": "w4k357yB7zZa",
        "outputId": "627a5b93-f85c-42ba-ff03-85a0cbeeda25"
      },
      "execution_count": null,
      "outputs": [
        {
          "output_type": "execute_result",
          "data": {
            "text/plain": [
              "'prajol'"
            ],
            "application/vnd.google.colaboratory.intrinsic+json": {
              "type": "string"
            }
          },
          "metadata": {},
          "execution_count": 3
        }
      ]
    },
    {
      "cell_type": "code",
      "source": [
        "# call greet method on prajol object\n",
        "human.greet()"
      ],
      "metadata": {
        "colab": {
          "base_uri": "https://localhost:8080/"
        },
        "id": "fC3GB8aSm2bx",
        "outputId": "bae0de2f-c186-4b25-d09e-0b3c3d554e91"
      },
      "execution_count": null,
      "outputs": [
        {
          "output_type": "stream",
          "name": "stdout",
          "text": [
            "Hello I am prajol and I am 27 years old male. And, I am 5 feet.\n"
          ]
        }
      ]
    },
    {
      "cell_type": "code",
      "source": [
        "human.eat('sheep meat')"
      ],
      "metadata": {
        "colab": {
          "base_uri": "https://localhost:8080/"
        },
        "id": "6D9baZqdFx_W",
        "outputId": "15db012c-da97-4419-fc0a-4436cac4a56e"
      },
      "execution_count": null,
      "outputs": [
        {
          "output_type": "stream",
          "name": "stdout",
          "text": [
            "I am happy for the sheep meat from you. I am eating sheep meat ...\n"
          ]
        }
      ]
    },
    {
      "cell_type": "code",
      "source": [
        "import numpy as np\n",
        "obs = np.empty(7,dtype=int)\n",
        "print(obs)\n",
        "\n"
      ],
      "metadata": {
        "colab": {
          "base_uri": "https://localhost:8080/"
        },
        "id": "pwr3LfFMDUvz",
        "outputId": "3e817a62-4d1a-494c-9ba6-7b9d3d10d292"
      },
      "execution_count": null,
      "outputs": [
        {
          "output_type": "stream",
          "name": "stdout",
          "text": [
            "[       55777584               0               0               0\n",
            "               0               0 140548509794304]\n"
          ]
        }
      ]
    },
    {
      "cell_type": "code",
      "source": [
        "True + True + True # True = 1"
      ],
      "metadata": {
        "colab": {
          "base_uri": "https://localhost:8080/"
        },
        "id": "dQuVbsjq_y-A",
        "outputId": "18dafb77-0af1-4579-883c-1daccbed1ec5"
      },
      "execution_count": null,
      "outputs": [
        {
          "output_type": "execute_result",
          "data": {
            "text/plain": [
              "3"
            ]
          },
          "metadata": {},
          "execution_count": 10
        }
      ]
    },
    {
      "cell_type": "markdown",
      "source": [
        "## Enumerate function (built-in)"
      ],
      "metadata": {
        "id": "-AK1JF6tSdkT"
      }
    },
    {
      "cell_type": "code",
      "source": [
        "#string,list,tuples,dict,sets ===> used for storing collections of items\n",
        "\n",
        "#example 1 -- loop over a list and access both the index and the value of each item\n",
        "word = 'apple'\n",
        "for index, char in enumerate(word):\n",
        "    print(char == 'p')\n",
        "\n",
        "subjects = ['math', 'science', 'bio']\n",
        "for index, value in enumerate(subjects):\n",
        "    print(index, value)\n",
        "\n",
        "#example 2 -- create a dictionary from a list, where the keys are the indices of the list and the values are the items in the list\n",
        "list_to_dict = {index:value for index, value in enumerate(subjects)}\n",
        "print(list_to_dict)\n",
        "\n",
        "#example 3 -- modify a list by replacing each item with its index\n",
        "my_list = ['apple', 'banana', 'cherry']\n",
        "for index, _ in enumerate(my_list):\n",
        "    my_list[index] = index\n",
        "print(my_list)\n"
      ],
      "metadata": {
        "colab": {
          "base_uri": "https://localhost:8080/"
        },
        "id": "-kzx7uRAOzSU",
        "outputId": "67c43c14-cca3-4da5-f2f4-3ff6d26b3174"
      },
      "execution_count": null,
      "outputs": [
        {
          "output_type": "stream",
          "name": "stdout",
          "text": [
            "False\n",
            "True\n",
            "True\n",
            "False\n",
            "False\n",
            "0 math\n",
            "1 science\n",
            "2 bio\n",
            "{0: 'math', 1: 'science', 2: 'bio'}\n",
            "[0, 1, 2]\n"
          ]
        }
      ]
    },
    {
      "cell_type": "markdown",
      "source": [
        "## map(built-in )"
      ],
      "metadata": {
        "id": "Or1xQiftek91"
      }
    },
    {
      "cell_type": "code",
      "source": [
        "#function in Python to apply a function to each element of a list\n",
        "\n",
        "#example 1 -- Applying a function to every element of a list:\n",
        "def square(x):\n",
        "   return x**2\n",
        "\n",
        "numbers =[1,2,3,4]\n",
        "squared_numbers = list(map(square,numbers))\n",
        "print(squared_numbers)\n"
      ],
      "metadata": {
        "colab": {
          "base_uri": "https://localhost:8080/"
        },
        "id": "d9xpVKm5era2",
        "outputId": "d33ce00d-da79-43da-aecc-1dc4cf763fca"
      },
      "execution_count": null,
      "outputs": [
        {
          "output_type": "stream",
          "name": "stdout",
          "text": [
            "[1, 4, 9, 16]\n"
          ]
        }
      ]
    },
    {
      "cell_type": "code",
      "source": [
        "#example 2 -- Converting data types\n",
        "\n",
        "def convert_to_int(string):\n",
        "  return int(string)\n",
        "\n",
        "string_numbers = ['1','2','3']\n",
        "int_numbers = list(map(convert_to_int,string_numbers))\n",
        "int_numbers"
      ],
      "metadata": {
        "colab": {
          "base_uri": "https://localhost:8080/"
        },
        "id": "CLIAXp_7CMD-",
        "outputId": "9d163615-baa5-45a4-d607-1e6dba045504"
      },
      "execution_count": null,
      "outputs": [
        {
          "output_type": "execute_result",
          "data": {
            "text/plain": [
              "[1, 2, 3]"
            ]
          },
          "metadata": {},
          "execution_count": 12
        }
      ]
    },
    {
      "cell_type": "code",
      "source": [
        "#example 3 -- filtering a list\n",
        "\n",
        "def is_even(x):\n",
        "  return x % 2 == 0\n",
        "\n",
        "numbers = [1,2,3,4,5,6]\n",
        "even_numbers = list(filter(is_even,numbers))\n",
        "even_numbers"
      ],
      "metadata": {
        "colab": {
          "base_uri": "https://localhost:8080/"
        },
        "id": "cjonJzW9EkSB",
        "outputId": "59956a7e-1e5a-4aca-ab73-7dab34c0ae1c"
      },
      "execution_count": null,
      "outputs": [
        {
          "output_type": "execute_result",
          "data": {
            "text/plain": [
              "[2, 4, 6]"
            ]
          },
          "metadata": {},
          "execution_count": 17
        }
      ]
    },
    {
      "cell_type": "code",
      "source": [
        "#example 4 -- combine two or more list\n",
        "def add(x,y):\n",
        "  return x + y\n",
        "\n",
        "list1 = [1,2,3]\n",
        "list2 = [4,5,6]\n",
        "sums = list(map(add,list1,list2))\n",
        "sums"
      ],
      "metadata": {
        "colab": {
          "base_uri": "https://localhost:8080/"
        },
        "id": "SzESZmGNFKf-",
        "outputId": "14cb0380-d634-42e9-aa0c-c6eee82973f5"
      },
      "execution_count": null,
      "outputs": [
        {
          "output_type": "execute_result",
          "data": {
            "text/plain": [
              "[5, 7, 9]"
            ]
          },
          "metadata": {},
          "execution_count": 18
        }
      ]
    },
    {
      "cell_type": "code",
      "source": [
        "#example 5 -- generate sequence of values\n",
        "def multiply_by_two(x):\n",
        "  return x * 2\n",
        "\n",
        "doubles = list(map(multiply_by_two, range(1,6))) #can be done with list, tuple, set\n",
        "doubles"
      ],
      "metadata": {
        "colab": {
          "base_uri": "https://localhost:8080/"
        },
        "id": "hxIkrkMrGG9K",
        "outputId": "b6a8c7af-3411-47f3-df60-664cea228a5e"
      },
      "execution_count": null,
      "outputs": [
        {
          "output_type": "execute_result",
          "data": {
            "text/plain": [
              "{2, 4, 6, 8, 10}"
            ]
          },
          "metadata": {},
          "execution_count": 27
        }
      ]
    },
    {
      "cell_type": "code",
      "source": [
        "# example 6 -- create dict\n",
        "keys = ['a', 'b', 'c']\n",
        "values = [1,2,3]\n",
        "\n",
        "dictonary = dict(map(lambda x,y: (x,y), keys, values))\n",
        "dictonary"
      ],
      "metadata": {
        "colab": {
          "base_uri": "https://localhost:8080/"
        },
        "id": "LlDhBrSGGl9D",
        "outputId": "c0d81258-951d-4456-9635-e9c263300fe4"
      },
      "execution_count": null,
      "outputs": [
        {
          "output_type": "execute_result",
          "data": {
            "text/plain": [
              "{'a': 1, 'b': 2, 'c': 3}"
            ]
          },
          "metadata": {},
          "execution_count": 25
        }
      ]
    },
    {
      "cell_type": "code",
      "source": [
        "# example 7: create sets\n",
        "def convert_to_uppercase(string):\n",
        "  return string.upper()\n",
        "\n",
        "words=['apple', 'banana', 'cherry']\n",
        "uppercase_words = set(map(convert_to_uppercase,words))\n",
        "uppercase_words"
      ],
      "metadata": {
        "colab": {
          "base_uri": "https://localhost:8080/"
        },
        "id": "6kZGXLwvHp6t",
        "outputId": "49e0ea3e-d136-4972-97c3-b20fc58d135b"
      },
      "execution_count": null,
      "outputs": [
        {
          "output_type": "execute_result",
          "data": {
            "text/plain": [
              "{'APPLE', 'BANANA', 'CHERRY'}"
            ]
          },
          "metadata": {},
          "execution_count": 26
        }
      ]
    },
    {
      "cell_type": "markdown",
      "source": [
        "## Lambda"
      ],
      "metadata": {
        "id": "oYkjnxz4IgKL"
      }
    },
    {
      "cell_type": "markdown",
      "source": [
        "\n",
        "\n",
        "```\n",
        "lambda functions are a concise way to\n",
        "define small anonymous functions in Python,\n",
        " and they can be useful in many situations\n",
        " where you need to define a function \"on the fly\"\n",
        " for a specific purpose.\n",
        "```\n",
        "\n"
      ],
      "metadata": {
        "id": "Ri3oZNZ_IinU"
      }
    },
    {
      "cell_type": "code",
      "source": [
        "#example 1 : basic lambda function\n",
        "double = lambda x: x*2\n",
        "double(5)"
      ],
      "metadata": {
        "colab": {
          "base_uri": "https://localhost:8080/"
        },
        "id": "Y2ncFEcKIypF",
        "outputId": "34680b26-c288-4d0d-8280-e082f7134915"
      },
      "execution_count": null,
      "outputs": [
        {
          "output_type": "execute_result",
          "data": {
            "text/plain": [
              "10"
            ]
          },
          "metadata": {},
          "execution_count": 28
        }
      ]
    },
    {
      "cell_type": "code",
      "source": [
        "#example 2: lambda with map()\n",
        "numbers = [1,2,3,4,5]\n",
        "squared_numbers = list(map(lambda x : x**2 , numbers))\n",
        "squared_numbers"
      ],
      "metadata": {
        "colab": {
          "base_uri": "https://localhost:8080/"
        },
        "id": "trGahrRtJCKw",
        "outputId": "8a354170-032f-40fa-912e-f6ce3ed5c16e"
      },
      "execution_count": null,
      "outputs": [
        {
          "output_type": "execute_result",
          "data": {
            "text/plain": [
              "[1, 4, 9, 16, 25]"
            ]
          },
          "metadata": {},
          "execution_count": 32
        }
      ]
    },
    {
      "cell_type": "code",
      "source": [
        "#example 3: lambda with filter()\n",
        "numbers = [1,2,3,4,5,6]\n",
        "even_numbers_with_filter = list(filter(lambda x: x % 2 == 0, numbers))\n",
        "even_numbers_with_map = list(map(lambda x: x % 2 == 0, numbers))\n",
        "\n",
        "even_numbers_with_filter, even_numbers_with_map"
      ],
      "metadata": {
        "colab": {
          "base_uri": "https://localhost:8080/"
        },
        "id": "tZheYvp0JYDW",
        "outputId": "c1e6c49a-d49a-4c0a-c487-b90fd94f7d14"
      },
      "execution_count": null,
      "outputs": [
        {
          "output_type": "execute_result",
          "data": {
            "text/plain": [
              "([2, 4, 6], [False, True, False, True, False, True])"
            ]
          },
          "metadata": {},
          "execution_count": 36
        }
      ]
    },
    {
      "cell_type": "code",
      "source": [
        "# example 4: lambda with reduce()\n",
        "from functools import reduce\n",
        "numbers = [1,2,3,4,5,6]\n",
        "product = reduce(lambda x,y : x*y, numbers)\n",
        "product"
      ],
      "metadata": {
        "colab": {
          "base_uri": "https://localhost:8080/"
        },
        "id": "l54oHRAiJ9vw",
        "outputId": "194ac92a-5a79-4d25-b48f-898927e7a538"
      },
      "execution_count": null,
      "outputs": [
        {
          "output_type": "execute_result",
          "data": {
            "text/plain": [
              "720"
            ]
          },
          "metadata": {},
          "execution_count": 38
        }
      ]
    },
    {
      "cell_type": "code",
      "source": [
        "#example 5: lambda with sort\n",
        "\n",
        "# Sort the list in ascending order and return None.\n",
        "\n",
        "# The sort is in-place (i.e. the list itself is modified) and stable (i.e. the\n",
        "# order of two equal elements is maintained).\n",
        "\n",
        "# If a key function is given, apply it once to each list item and sort them,\n",
        "# ascending or descending, according to their function values.\n",
        "\n",
        "# The reverse flag can be set to sort in descending order.\n",
        "students =[('Alice',25),('Bob',20),('Charlie',30)]\n",
        "students.sort(key = lambda x : x[1])\n",
        "students"
      ],
      "metadata": {
        "colab": {
          "base_uri": "https://localhost:8080/"
        },
        "id": "SaQeoM-eLse-",
        "outputId": "6dea3c92-bcd2-4448-9020-6cf6274f7ea6"
      },
      "execution_count": null,
      "outputs": [
        {
          "output_type": "execute_result",
          "data": {
            "text/plain": [
              "[('Bob', 20), ('Alice', 25), ('Charlie', 30)]"
            ]
          },
          "metadata": {},
          "execution_count": 42
        }
      ]
    },
    {
      "cell_type": "markdown",
      "source": [
        "## Miscellaneous"
      ],
      "metadata": {
        "id": "CeDKGYxKTtDp"
      }
    },
    {
      "cell_type": "code",
      "source": [
        "#iterate over two lists in parallel,\n",
        "#filter some elements based on condition\n",
        "#and calculate sum of remaining elements\n",
        "\n",
        "#Two lists of numbers\n",
        "list1 = [2,5,7,1,9,10]\n",
        "list2 = [3,6,8,4,0,10]\n",
        "\n",
        "# Loop over lists in parallel and filter out odd numbers\n",
        "result = []\n",
        "for i, (x,y) in enumerate(zip(list1,list2)):\n",
        "    if x % 2 == 0 and y % 2 == 0:#check even numbers\n",
        "       result.append(x*y)\n",
        "       print(result)\n",
        "       print(f\"The {i}th item even, which is {x,y}\")\n",
        "\n",
        "# sum\n",
        "total = sum(result)\n",
        "print(total)\n",
        "\n",
        "print(list(zip(list1,list2)))"
      ],
      "metadata": {
        "colab": {
          "base_uri": "https://localhost:8080/"
        },
        "id": "tuxt3LseNPQQ",
        "outputId": "a6231102-cb9d-469c-c24d-df4544d453b8"
      },
      "execution_count": null,
      "outputs": [
        {
          "output_type": "stream",
          "name": "stdout",
          "text": [
            "[100]\n",
            "The 5th item even, which is (10, 10)\n",
            "100\n",
            "[(2, 3), (5, 6), (7, 8), (1, 4), (9, 0), (10, 10)]\n"
          ]
        }
      ]
    },
    {
      "cell_type": "code",
      "source": [
        "#example 2\n",
        "\n",
        "#two list of numbers\n",
        "list1 = [1,2,3,4,5]\n",
        "list2 = [6,7,8,9,10]\n",
        "\n",
        "# filter out odd numbers\n",
        "filtered_list1 = list(filter(lambda x: x%2 == 0, list1))\n",
        "filtered_list2 = list(filter(lambda x: x%2 == 0, list2))\n",
        "\n",
        "print(filtered_list1, filtered_list2)\n",
        "\n",
        "#create a new list that contains products of the filtered elements\n",
        "products = list(map(lambda x: x[0] * x[1],zip(filtered_list1,filtered_list2)))\n",
        "products_with_list_comp = [x[0] * x[1] for x in zip(filtered_list1,filtered_list2)]\n",
        "print(products)\n",
        "print(products_with_list_comp)\n",
        "\n",
        "#loop over product list and print each element\n",
        "for i, product in enumerate(products):\n",
        "  print(f\"The {i}th  item is {product}\")"
      ],
      "metadata": {
        "colab": {
          "base_uri": "https://localhost:8080/"
        },
        "id": "kIpZzBGfTSAX",
        "outputId": "c436e6e6-0ddb-4dff-9c68-e72d42b46931"
      },
      "execution_count": null,
      "outputs": [
        {
          "output_type": "stream",
          "name": "stdout",
          "text": [
            "[2, 4] [6, 8, 10]\n",
            "[12, 32]\n",
            "[12, 32]\n",
            "The 0th  item is 12\n",
            "The 1th  item is 32\n"
          ]
        }
      ]
    },
    {
      "cell_type": "code",
      "source": [
        "#list comprehension\n",
        "[print(f\"The {i}th product is {product}\") for i,product in enumerate(map(lambda x : x[0] * x[1], zip(filtered_list1, filtered_list2)))]"
      ],
      "metadata": {
        "colab": {
          "base_uri": "https://localhost:8080/"
        },
        "id": "FnJvc1jIX_B6",
        "outputId": "1b0ab62f-fee8-4376-9e9e-fd2351c20414"
      },
      "execution_count": null,
      "outputs": [
        {
          "output_type": "stream",
          "name": "stdout",
          "text": [
            "The 0th product is 12\n",
            "The 1th product is 32\n"
          ]
        },
        {
          "output_type": "execute_result",
          "data": {
            "text/plain": [
              "[None, None]"
            ]
          },
          "metadata": {},
          "execution_count": 67
        }
      ]
    }
  ]
}